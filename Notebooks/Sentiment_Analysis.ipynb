{
 "cells": [
  {
   "cell_type": "code",
   "execution_count": 50,
   "id": "initial_id",
   "metadata": {
    "collapsed": true,
    "ExecuteTime": {
     "end_time": "2024-06-14T14:42:56.626198200Z",
     "start_time": "2024-06-14T14:42:56.376255400Z"
    }
   },
   "outputs": [],
   "source": [
    "import csv\n",
    "import pandas as pd\n",
    "import numpy as np"
   ]
  },
  {
   "cell_type": "code",
   "execution_count": 51,
   "outputs": [],
   "source": [
    "# Read the csv file\n",
    "dfins_en = pd.read_csv(\"C:/Users/I6240624/Documents/BISS/Master Thesis/Code/DarianOthmanMasterThesis/Sentiment_English/sampleinsen_real_with_sentiment.csv\", delimiter=\";\")\n",
    "dfins_en[\"Sentiment\"] = dfins_en[\"Sentiment\"].replace({1: 0.5, 2: 1})\n",
    "dftt_en = pd.read_csv(\"C:/Users/I6240624/Documents/BISS/Master Thesis/Code/DarianOthmanMasterThesis/Sentiment_English/sampletten_real_with_sentiment.csv\", delimiter=\";\")\n",
    "dftt_en[\"Sentiment\"] = dftt_en[\"Sentiment\"].replace({1: 0.5, 2: 1})\n",
    "dfyt_en = pd.read_csv(\"C:/Users/I6240624/Documents/BISS/Master Thesis/Code/DarianOthmanMasterThesis/Sentiment_English/sampleyten_real_with_sentiment.csv\", delimiter=\";\")\n",
    "dfyt_en[\"Sentiment\"] = dfyt_en[\"Sentiment\"].replace({1: 0.5, 2: 1})"
   ],
   "metadata": {
    "collapsed": false,
    "ExecuteTime": {
     "end_time": "2024-06-14T14:42:56.735548600Z",
     "start_time": "2024-06-14T14:42:56.391877800Z"
    }
   },
   "id": "2aeaf83f0e12bbc9"
  },
  {
   "cell_type": "code",
   "execution_count": 52,
   "outputs": [],
   "source": [
    "dfins_nl = pd.read_csv(\"C:/Users/I6240624/Documents/BISS/Master Thesis/Code/DarianOthmanMasterThesis/Sentiment_Dutch/sampleinsnl_real_with_sentiment.csv\", delimiter=\";\")\n",
    "dftt_nl = pd.read_csv(\"C:/Users/I6240624/Documents/BISS/Master Thesis/Code/DarianOthmanMasterThesis/Sentiment_Dutch/samplettnl_real_with_sentiment.csv\", delimiter=\";\")\n",
    "dfyt_nl = pd.read_csv(\"C:/Users/I6240624/Documents/BISS/Master Thesis/Code/DarianOthmanMasterThesis/Sentiment_Dutch/sampleytnl_real_with_sentiment.csv\", delimiter=\";\")"
   ],
   "metadata": {
    "collapsed": false,
    "ExecuteTime": {
     "end_time": "2024-06-14T14:42:56.751169Z",
     "start_time": "2024-06-14T14:42:56.532470100Z"
    }
   },
   "id": "fa60c5a1f89a046c"
  },
  {
   "cell_type": "code",
   "execution_count": 53,
   "outputs": [],
   "source": [
    "insen_ca = pd.read_csv(\"C:/Users/I6240624/Documents/BISS/Master Thesis/Code/DarianOthmanMasterThesis/Sentiment_English/Content_Aware_t=1_P=1_Instagram_English_with_sentiment.csv\", delimiter=\";\")\n",
    "insen_ca[\"Sentiment\"] = insen_ca[\"Sentiment\"].replace({1: 0.5, 2: 1})\n",
    "tten_ca = pd.read_csv(\"C:/Users/I6240624/Documents/BISS/Master Thesis/Code/DarianOthmanMasterThesis/Sentiment_English/Content_Aware_t=1_P=1_TikTok_English_with_sentiment.csv\", delimiter=\";\")\n",
    "tten_ca[\"Sentiment\"] = tten_ca[\"Sentiment\"].replace({1: 0.5, 2: 1})\n",
    "yten_ca = pd.read_csv(\"C:/Users/I6240624/Documents/BISS/Master Thesis/Code/DarianOthmanMasterThesis/Sentiment_English/Content_Aware_t=1_P=1_YouTube_English_with_sentiment.csv\", delimiter=\";\")\n",
    "yten_ca[\"Sentiment\"] = yten_ca[\"Sentiment\"].replace({1: 0.5, 2: 1})"
   ],
   "metadata": {
    "collapsed": false,
    "ExecuteTime": {
     "end_time": "2024-06-14T14:42:56.891767100Z",
     "start_time": "2024-06-14T14:42:56.673062300Z"
    }
   },
   "id": "271d6bae91dc9177"
  },
  {
   "cell_type": "code",
   "execution_count": 54,
   "outputs": [],
   "source": [
    "insnl_gen = pd.read_csv(\"C:/Users/I6240624/Documents/BISS/Master Thesis/Code/DarianOthmanMasterThesis/Sentiment_Dutch/Generic_t=1_P=1_Instagram_Dutch_with_sentiment.csv\", delimiter=\";\")\n",
    "ttnl_gen = pd.read_csv(\"C:/Users/I6240624/Documents/BISS/Master Thesis/Code/DarianOthmanMasterThesis/Sentiment_Dutch/Generic_t=1_P=1_TikTok_Dutch_with_sentiment.csv\", delimiter=\";\")\n",
    "ytnl_gen = pd.read_csv(\"C:/Users/I6240624/Documents/BISS/Master Thesis/Code/DarianOthmanMasterThesis/Sentiment_Dutch/Generic_t=1_P=1_YouTube_Dutch_with_sentiment.csv\", delimiter=\";\")"
   ],
   "metadata": {
    "collapsed": false,
    "ExecuteTime": {
     "end_time": "2024-06-14T14:42:57.047699600Z",
     "start_time": "2024-06-14T14:42:56.876143100Z"
    }
   },
   "id": "9499dfc6992fa6cd"
  },
  {
   "cell_type": "code",
   "execution_count": 55,
   "outputs": [],
   "source": [
    "insen_gen = pd.read_csv(\"C:/Users/I6240624/Documents/BISS/Master Thesis/Code/DarianOthmanMasterThesis/Sentiment_English/Generic_t=1_P=1_Instagram_English_with_sentiment.csv\", delimiter=\";\")\n",
    "insen_gen[\"Sentiment\"] = insen_gen[\"Sentiment\"].replace({1: 0.5, 2: 1})\n",
    "tten_gen = pd.read_csv(\"C:/Users/I6240624/Documents/BISS/Master Thesis/Code/DarianOthmanMasterThesis/Sentiment_English/Generic_t=1_P=1_TikTok_English_with_sentiment.csv\", delimiter=\";\")\n",
    "tten_gen[\"Sentiment\"] = tten_gen[\"Sentiment\"].replace({1: 0.5, 2: 1})\n",
    "yten_gen = pd.read_csv(\"C:/Users/I6240624/Documents/BISS/Master Thesis/Code/DarianOthmanMasterThesis/Sentiment_English/Generic_t=1_P=1_YouTube_English_with_sentiment.csv\", delimiter=\";\")\n",
    "yten_gen[\"Sentiment\"] = yten_gen[\"Sentiment\"].replace({1: 0.5, 2: 1})"
   ],
   "metadata": {
    "collapsed": false,
    "ExecuteTime": {
     "end_time": "2024-06-14T14:42:57.282019200Z",
     "start_time": "2024-06-14T14:42:57.047699600Z"
    }
   },
   "id": "9e7b736c2533017a"
  },
  {
   "cell_type": "code",
   "execution_count": 56,
   "outputs": [],
   "source": [
    "insnl_ca = pd.read_csv(\"C:/Users/I6240624/Documents/BISS/Master Thesis/Code/DarianOthmanMasterThesis/Sentiment_Dutch/Content_Aware_t=1_P=1_Instagram_Dutch_with_sentiment.csv\", delimiter=\";\")\n",
    "ttnl_ca = pd.read_csv(\"C:/Users/I6240624/Documents/BISS/Master Thesis/Code/DarianOthmanMasterThesis/Sentiment_Dutch/Content_Aware_t=1_P=1_TikTok_Dutch_with_sentiment.csv\", delimiter=\";\")\n",
    "ytnl_ca = pd.read_csv(\"C:/Users/I6240624/Documents/BISS/Master Thesis/Code/DarianOthmanMasterThesis/Sentiment_Dutch/Content_Aware_t=1_P=1_YouTube_Dutch_with_sentiment.csv\", delimiter=\";\")"
   ],
   "metadata": {
    "collapsed": false,
    "ExecuteTime": {
     "end_time": "2024-06-14T14:42:57.422612200Z",
     "start_time": "2024-06-14T14:42:57.266397900Z"
    }
   },
   "id": "91a47aa27f431b48"
  },
  {
   "cell_type": "code",
   "execution_count": 57,
   "outputs": [
    {
     "data": {
      "text/plain": "  DataFrame  Mean Sentiment\n0  insen_ca        0.966667\n1   tten_ca        0.862895\n2   yten_ca        0.956113",
      "text/html": "<div>\n<style scoped>\n    .dataframe tbody tr th:only-of-type {\n        vertical-align: middle;\n    }\n\n    .dataframe tbody tr th {\n        vertical-align: top;\n    }\n\n    .dataframe thead th {\n        text-align: right;\n    }\n</style>\n<table border=\"1\" class=\"dataframe\">\n  <thead>\n    <tr style=\"text-align: right;\">\n      <th></th>\n      <th>DataFrame</th>\n      <th>Mean Sentiment</th>\n    </tr>\n  </thead>\n  <tbody>\n    <tr>\n      <th>0</th>\n      <td>insen_ca</td>\n      <td>0.966667</td>\n    </tr>\n    <tr>\n      <th>1</th>\n      <td>tten_ca</td>\n      <td>0.862895</td>\n    </tr>\n    <tr>\n      <th>2</th>\n      <td>yten_ca</td>\n      <td>0.956113</td>\n    </tr>\n  </tbody>\n</table>\n</div>"
     },
     "execution_count": 57,
     "metadata": {},
     "output_type": "execute_result"
    }
   ],
   "source": [
    "# Calculate the mean sentiment values\n",
    "mean_insen_ca = np.mean(insen_ca[\"Sentiment\"])\n",
    "mean_tten_ca = np.mean(tten_ca[\"Sentiment\"])\n",
    "mean_yten_ca = np.mean(yten_ca[\"Sentiment\"])\n",
    "\n",
    "# Create a DataFrame to store these mean values\n",
    "data = {\n",
    "    \"DataFrame\": [\"insen_ca\", \"tten_ca\", \"yten_ca\"],\n",
    "    \"Mean Sentiment\": [mean_insen_ca, mean_tten_ca, mean_yten_ca]\n",
    "}\n",
    "\n",
    "mean_sentiment_df = pd.DataFrame(data)\n",
    "mean_sentiment_df"
   ],
   "metadata": {
    "collapsed": false,
    "ExecuteTime": {
     "end_time": "2024-06-14T14:42:57.485097600Z",
     "start_time": "2024-06-14T14:42:57.422612200Z"
    }
   },
   "id": "8b7c48f835c22b37"
  },
  {
   "cell_type": "code",
   "execution_count": 58,
   "outputs": [
    {
     "data": {
      "text/plain": "   DataFrame  Mean Sentiment\n0  insen_gen        0.960000\n1   tten_gen        0.906788\n2   yten_gen        0.946203",
      "text/html": "<div>\n<style scoped>\n    .dataframe tbody tr th:only-of-type {\n        vertical-align: middle;\n    }\n\n    .dataframe tbody tr th {\n        vertical-align: top;\n    }\n\n    .dataframe thead th {\n        text-align: right;\n    }\n</style>\n<table border=\"1\" class=\"dataframe\">\n  <thead>\n    <tr style=\"text-align: right;\">\n      <th></th>\n      <th>DataFrame</th>\n      <th>Mean Sentiment</th>\n    </tr>\n  </thead>\n  <tbody>\n    <tr>\n      <th>0</th>\n      <td>insen_gen</td>\n      <td>0.960000</td>\n    </tr>\n    <tr>\n      <th>1</th>\n      <td>tten_gen</td>\n      <td>0.906788</td>\n    </tr>\n    <tr>\n      <th>2</th>\n      <td>yten_gen</td>\n      <td>0.946203</td>\n    </tr>\n  </tbody>\n</table>\n</div>"
     },
     "execution_count": 58,
     "metadata": {},
     "output_type": "execute_result"
    }
   ],
   "source": [
    "# Calculate the mean sentiment values\n",
    "mean_insen_gen = np.mean(insen_gen[\"Sentiment\"])\n",
    "mean_tten_gen = np.mean(tten_gen[\"Sentiment\"])\n",
    "mean_yten_gen = np.mean(yten_gen[\"Sentiment\"])\n",
    "\n",
    "# Create a DataFrame to store these mean values\n",
    "data = {\n",
    "    \"DataFrame\": [\"insen_gen\", \"tten_gen\", \"yten_gen\"],\n",
    "    \"Mean Sentiment\": [mean_insen_gen, mean_tten_gen, mean_yten_gen]\n",
    "}\n",
    "\n",
    "mean_sentiment_df = pd.DataFrame(data)\n",
    "mean_sentiment_df"
   ],
   "metadata": {
    "collapsed": false,
    "ExecuteTime": {
     "end_time": "2024-06-14T14:42:57.641316800Z",
     "start_time": "2024-06-14T14:42:57.485097600Z"
    }
   },
   "id": "5c0a73b8f4ec1e98"
  },
  {
   "cell_type": "code",
   "execution_count": 59,
   "outputs": [
    {
     "data": {
      "text/plain": "  DataFrame  Mean Sentiment\n0  dfins_en        0.817183\n1   dftt_en        0.732767\n2   dfyt_en        0.771728",
      "text/html": "<div>\n<style scoped>\n    .dataframe tbody tr th:only-of-type {\n        vertical-align: middle;\n    }\n\n    .dataframe tbody tr th {\n        vertical-align: top;\n    }\n\n    .dataframe thead th {\n        text-align: right;\n    }\n</style>\n<table border=\"1\" class=\"dataframe\">\n  <thead>\n    <tr style=\"text-align: right;\">\n      <th></th>\n      <th>DataFrame</th>\n      <th>Mean Sentiment</th>\n    </tr>\n  </thead>\n  <tbody>\n    <tr>\n      <th>0</th>\n      <td>dfins_en</td>\n      <td>0.817183</td>\n    </tr>\n    <tr>\n      <th>1</th>\n      <td>dftt_en</td>\n      <td>0.732767</td>\n    </tr>\n    <tr>\n      <th>2</th>\n      <td>dfyt_en</td>\n      <td>0.771728</td>\n    </tr>\n  </tbody>\n</table>\n</div>"
     },
     "execution_count": 59,
     "metadata": {},
     "output_type": "execute_result"
    }
   ],
   "source": [
    "# Calculate the mean sentiment values\n",
    "mean_dfins_en = np.mean(dfins_en[\"Sentiment\"])\n",
    "mean_dftt_en = np.mean(dftt_en[\"Sentiment\"])\n",
    "mean_dfyt_en = np.mean(dfyt_en[\"Sentiment\"])\n",
    "\n",
    "# Create a DataFrame to store these mean values\n",
    "data = {\n",
    "    \"DataFrame\": [\"dfins_en\", \"dftt_en\", \"dfyt_en\"],\n",
    "    \"Mean Sentiment\": [mean_dfins_en, mean_dftt_en, mean_dfyt_en]\n",
    "}\n",
    "\n",
    "mean_sentiment_df = pd.DataFrame(data)\n",
    "mean_sentiment_df"
   ],
   "metadata": {
    "collapsed": false,
    "ExecuteTime": {
     "end_time": "2024-06-14T14:42:57.844390400Z",
     "start_time": "2024-06-14T14:42:57.547582500Z"
    }
   },
   "id": "af6b709f025627f7"
  },
  {
   "cell_type": "code",
   "execution_count": 60,
   "outputs": [
    {
     "data": {
      "text/plain": "  DataFrame  Mean Sentiment\n0  dfins_nl        0.934066\n1   dftt_nl        0.918082\n2   dfyt_nl        0.996004",
      "text/html": "<div>\n<style scoped>\n    .dataframe tbody tr th:only-of-type {\n        vertical-align: middle;\n    }\n\n    .dataframe tbody tr th {\n        vertical-align: top;\n    }\n\n    .dataframe thead th {\n        text-align: right;\n    }\n</style>\n<table border=\"1\" class=\"dataframe\">\n  <thead>\n    <tr style=\"text-align: right;\">\n      <th></th>\n      <th>DataFrame</th>\n      <th>Mean Sentiment</th>\n    </tr>\n  </thead>\n  <tbody>\n    <tr>\n      <th>0</th>\n      <td>dfins_nl</td>\n      <td>0.934066</td>\n    </tr>\n    <tr>\n      <th>1</th>\n      <td>dftt_nl</td>\n      <td>0.918082</td>\n    </tr>\n    <tr>\n      <th>2</th>\n      <td>dfyt_nl</td>\n      <td>0.996004</td>\n    </tr>\n  </tbody>\n</table>\n</div>"
     },
     "execution_count": 60,
     "metadata": {},
     "output_type": "execute_result"
    }
   ],
   "source": [
    "# Calculate the mean sentiment values\n",
    "mean_dfins_nl = np.mean(dfins_nl[\"Sentiment\"])\n",
    "mean_dftt_nl = np.mean(dftt_nl[\"Sentiment\"])\n",
    "mean_dfyt_nl = np.mean(dfyt_nl[\"Sentiment\"])\n",
    "\n",
    "# Create a DataFrame to store these mean values\n",
    "data = {\n",
    "    \"DataFrame\": [\"dfins_nl\", \"dftt_nl\", \"dfyt_nl\"],\n",
    "    \"Mean Sentiment\": [mean_dfins_nl, mean_dftt_nl, mean_dfyt_nl]\n",
    "}\n",
    "\n",
    "mean_sentiment_df = pd.DataFrame(data)\n",
    "mean_sentiment_df"
   ],
   "metadata": {
    "collapsed": false,
    "ExecuteTime": {
     "end_time": "2024-06-14T14:42:57.844390400Z",
     "start_time": "2024-06-14T14:42:57.610067Z"
    }
   },
   "id": "b9371430c0d5f189"
  },
  {
   "cell_type": "code",
   "execution_count": 61,
   "outputs": [
    {
     "data": {
      "text/plain": "  DataFrame  Mean Sentiment\n0  insnl_ca        0.985965\n1   ttnl_ca        0.957529\n2   ytnl_ca        0.996970",
      "text/html": "<div>\n<style scoped>\n    .dataframe tbody tr th:only-of-type {\n        vertical-align: middle;\n    }\n\n    .dataframe tbody tr th {\n        vertical-align: top;\n    }\n\n    .dataframe thead th {\n        text-align: right;\n    }\n</style>\n<table border=\"1\" class=\"dataframe\">\n  <thead>\n    <tr style=\"text-align: right;\">\n      <th></th>\n      <th>DataFrame</th>\n      <th>Mean Sentiment</th>\n    </tr>\n  </thead>\n  <tbody>\n    <tr>\n      <th>0</th>\n      <td>insnl_ca</td>\n      <td>0.985965</td>\n    </tr>\n    <tr>\n      <th>1</th>\n      <td>ttnl_ca</td>\n      <td>0.957529</td>\n    </tr>\n    <tr>\n      <th>2</th>\n      <td>ytnl_ca</td>\n      <td>0.996970</td>\n    </tr>\n  </tbody>\n</table>\n</div>"
     },
     "execution_count": 61,
     "metadata": {},
     "output_type": "execute_result"
    }
   ],
   "source": [
    "# Calculate the mean sentiment values\n",
    "mean_insnl_ca = np.mean(insnl_ca[\"Sentiment\"])\n",
    "mean_ttnl_ca = np.mean(ttnl_ca[\"Sentiment\"])\n",
    "mean_ytnl_ca = np.mean(ytnl_ca[\"Sentiment\"])\n",
    "\n",
    "# Create a DataFrame to store these mean values\n",
    "data = {\n",
    "    \"DataFrame\": [\"insnl_ca\", \"ttnl_ca\", \"ytnl_ca\"],\n",
    "    \"Mean Sentiment\": [mean_insnl_ca, mean_ttnl_ca, mean_ytnl_ca]\n",
    "}\n",
    "\n",
    "mean_sentiment_df = pd.DataFrame(data)\n",
    "mean_sentiment_df"
   ],
   "metadata": {
    "collapsed": false,
    "ExecuteTime": {
     "end_time": "2024-06-14T14:42:57.891251900Z",
     "start_time": "2024-06-14T14:42:57.656931500Z"
    }
   },
   "id": "b567292701c4c003"
  },
  {
   "cell_type": "code",
   "execution_count": 62,
   "outputs": [
    {
     "data": {
      "text/plain": "   DataFrame  Mean Sentiment\n0  insnl_gen        0.978531\n1   ttnl_gen        0.957351\n2   ytnl_gen        0.997602",
      "text/html": "<div>\n<style scoped>\n    .dataframe tbody tr th:only-of-type {\n        vertical-align: middle;\n    }\n\n    .dataframe tbody tr th {\n        vertical-align: top;\n    }\n\n    .dataframe thead th {\n        text-align: right;\n    }\n</style>\n<table border=\"1\" class=\"dataframe\">\n  <thead>\n    <tr style=\"text-align: right;\">\n      <th></th>\n      <th>DataFrame</th>\n      <th>Mean Sentiment</th>\n    </tr>\n  </thead>\n  <tbody>\n    <tr>\n      <th>0</th>\n      <td>insnl_gen</td>\n      <td>0.978531</td>\n    </tr>\n    <tr>\n      <th>1</th>\n      <td>ttnl_gen</td>\n      <td>0.957351</td>\n    </tr>\n    <tr>\n      <th>2</th>\n      <td>ytnl_gen</td>\n      <td>0.997602</td>\n    </tr>\n  </tbody>\n</table>\n</div>"
     },
     "execution_count": 62,
     "metadata": {},
     "output_type": "execute_result"
    }
   ],
   "source": [
    "# Calculate the mean sentiment values\n",
    "mean_insnl_gen = np.mean(insnl_gen[\"Sentiment\"])\n",
    "mean_ttnl_gen = np.mean(ttnl_gen[\"Sentiment\"])\n",
    "mean_ytnl_gen = np.mean(ytnl_gen[\"Sentiment\"])\n",
    "\n",
    "# Create a DataFrame to store these mean values\n",
    "data = {\n",
    "    \"DataFrame\": [\"insnl_gen\", \"ttnl_gen\", \"ytnl_gen\"],\n",
    "    \"Mean Sentiment\": [mean_insnl_gen, mean_ttnl_gen, mean_ytnl_gen]\n",
    "}\n",
    "\n",
    "mean_sentiment_df = pd.DataFrame(data)\n",
    "mean_sentiment_df"
   ],
   "metadata": {
    "collapsed": false,
    "ExecuteTime": {
     "end_time": "2024-06-14T14:42:58.195554800Z",
     "start_time": "2024-06-14T14:42:57.719417600Z"
    }
   },
   "id": "15bc90761e94081e"
  }
 ],
 "metadata": {
  "kernelspec": {
   "display_name": "Python 3",
   "language": "python",
   "name": "python3"
  },
  "language_info": {
   "codemirror_mode": {
    "name": "ipython",
    "version": 2
   },
   "file_extension": ".py",
   "mimetype": "text/x-python",
   "name": "python",
   "nbconvert_exporter": "python",
   "pygments_lexer": "ipython2",
   "version": "2.7.6"
  }
 },
 "nbformat": 4,
 "nbformat_minor": 5
}
