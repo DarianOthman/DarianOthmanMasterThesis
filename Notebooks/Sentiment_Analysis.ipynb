{
 "cells": [
  {
   "cell_type": "code",
   "execution_count": 18,
   "id": "initial_id",
   "metadata": {
    "collapsed": true,
    "ExecuteTime": {
     "end_time": "2024-06-13T22:15:03.049320800Z",
     "start_time": "2024-06-13T22:15:03.034736600Z"
    }
   },
   "outputs": [],
   "source": [
    "import csv\n",
    "import pandas as pd\n",
    "import numpy as np"
   ]
  },
  {
   "cell_type": "code",
   "execution_count": 20,
   "outputs": [],
   "source": [
    "# Read the csv file\n",
    "dfins_en = pd.read_csv(\"C:/Users/I6240624/Documents/BISS/Master Thesis/Code/DarianOthmanMasterThesis/Sentiment_English/sampleinsen_real_with_sentiment.csv\", delimiter=\";\")\n",
    "dfins_en[\"Sentiment\"] = dfins_en[\"Sentiment\"].replace({1: 0.5, 2: 1})\n",
    "dftt_en = pd.read_csv(\"C:/Users/I6240624/Documents/BISS/Master Thesis/Code/DarianOthmanMasterThesis/Sentiment_English/sampletten_real_with_sentiment.csv\", delimiter=\";\")\n",
    "dftt_en[\"Sentiment\"] = dftt_en[\"Sentiment\"].replace({1: 0.5, 2: 1})\n",
    "dfyt_en = pd.read_csv(\"C:/Users/I6240624/Documents/BISS/Master Thesis/Code/DarianOthmanMasterThesis/Sentiment_English/sampleyten_real_with_sentiment.csv\", delimiter=\";\")\n",
    "dfyt_en[\"Sentiment\"] = dfyt_en[\"Sentiment\"].replace({1: 0.5, 2: 1})"
   ],
   "metadata": {
    "collapsed": false,
    "ExecuteTime": {
     "end_time": "2024-06-13T22:15:39.079498Z",
     "start_time": "2024-06-13T22:15:39.009692900Z"
    }
   },
   "id": "2aeaf83f0e12bbc9"
  },
  {
   "cell_type": "code",
   "execution_count": 21,
   "outputs": [],
   "source": [
    "insen_ca = pd.read_csv(\"C:/Users/I6240624/Documents/BISS/Master Thesis/Code/DarianOthmanMasterThesis/Sentiment_English/Content_Aware_t=1_P=1_Instagram_English_with_sentiment.csv\", delimiter=\";\")\n",
    "insen_ca[\"Sentiment\"] = insen_ca[\"Sentiment\"].replace({1: 0.5, 2: 1})\n",
    "tten_ca = pd.read_csv(\"C:/Users/I6240624/Documents/BISS/Master Thesis/Code/DarianOthmanMasterThesis/Sentiment_English/Content_Aware_t=1_P=1_TikTok_English_with_sentiment.csv\", delimiter=\";\")\n",
    "tten_ca[\"Sentiment\"] = tten_ca[\"Sentiment\"].replace({1: 0.5, 2: 1})\n",
    "yten_ca = pd.read_csv(\"C:/Users/I6240624/Documents/BISS/Master Thesis/Code/DarianOthmanMasterThesis/Sentiment_English/Content_Aware_t=1_P=1_YouTube_English_with_sentiment.csv\", delimiter=\";\")\n",
    "yten_ca[\"Sentiment\"] = yten_ca[\"Sentiment\"].replace({1: 0.5, 2: 1})"
   ],
   "metadata": {
    "collapsed": false,
    "ExecuteTime": {
     "end_time": "2024-06-13T22:17:07.941776100Z",
     "start_time": "2024-06-13T22:17:07.711864900Z"
    }
   },
   "id": "271d6bae91dc9177"
  },
  {
   "cell_type": "code",
   "execution_count": 22,
   "outputs": [],
   "source": [
    "insen_gen = pd.read_csv(\"C:/Users/I6240624/Documents/BISS/Master Thesis/Code/DarianOthmanMasterThesis/Sentiment_English/Generic_t=1_P=1_Instagram_English_with_sentiment.csv\", delimiter=\";\")\n",
    "insen_gen[\"Sentiment\"] = insen_gen[\"Sentiment\"].replace({1: 0.5, 2: 1})\n",
    "tten_gen = pd.read_csv(\"C:/Users/I6240624/Documents/BISS/Master Thesis/Code/DarianOthmanMasterThesis/Sentiment_English/Generic_t=1_P=1_TikTok_English_with_sentiment.csv\", delimiter=\";\")\n",
    "tten_gen[\"Sentiment\"] = tten_gen[\"Sentiment\"].replace({1: 0.5, 2: 1})\n",
    "yten_gen = pd.read_csv(\"C:/Users/I6240624/Documents/BISS/Master Thesis/Code/DarianOthmanMasterThesis/Sentiment_English/Generic_t=1_P=1_YouTube_English_with_sentiment.csv\", delimiter=\";\")\n",
    "yten_gen[\"Sentiment\"] = yten_gen[\"Sentiment\"].replace({1: 0.5, 2: 1})"
   ],
   "metadata": {
    "collapsed": false,
    "ExecuteTime": {
     "end_time": "2024-06-13T22:17:43.399789800Z",
     "start_time": "2024-06-13T22:17:43.289782800Z"
    }
   },
   "id": "9e7b736c2533017a"
  },
  {
   "cell_type": "code",
   "execution_count": 24,
   "outputs": [
    {
     "data": {
      "text/plain": "  DataFrame  Mean Sentiment\n0  insen_ca        0.966667\n1   tten_ca        0.862895\n2   yten_ca        0.956113",
      "text/html": "<div>\n<style scoped>\n    .dataframe tbody tr th:only-of-type {\n        vertical-align: middle;\n    }\n\n    .dataframe tbody tr th {\n        vertical-align: top;\n    }\n\n    .dataframe thead th {\n        text-align: right;\n    }\n</style>\n<table border=\"1\" class=\"dataframe\">\n  <thead>\n    <tr style=\"text-align: right;\">\n      <th></th>\n      <th>DataFrame</th>\n      <th>Mean Sentiment</th>\n    </tr>\n  </thead>\n  <tbody>\n    <tr>\n      <th>0</th>\n      <td>insen_ca</td>\n      <td>0.966667</td>\n    </tr>\n    <tr>\n      <th>1</th>\n      <td>tten_ca</td>\n      <td>0.862895</td>\n    </tr>\n    <tr>\n      <th>2</th>\n      <td>yten_ca</td>\n      <td>0.956113</td>\n    </tr>\n  </tbody>\n</table>\n</div>"
     },
     "execution_count": 24,
     "metadata": {},
     "output_type": "execute_result"
    }
   ],
   "source": [
    "# Calculate the mean sentiment values\n",
    "mean_insen_ca = np.mean(insen_ca[\"Sentiment\"])\n",
    "mean_tten_ca = np.mean(tten_ca[\"Sentiment\"])\n",
    "mean_yten_ca = np.mean(yten_ca[\"Sentiment\"])\n",
    "\n",
    "# Create a DataFrame to store these mean values\n",
    "data = {\n",
    "    \"DataFrame\": [\"insen_ca\", \"tten_ca\", \"yten_ca\"],\n",
    "    \"Mean Sentiment\": [mean_insen_ca, mean_tten_ca, mean_yten_ca]\n",
    "}\n",
    "\n",
    "mean_sentiment_df = pd.DataFrame(data)\n",
    "mean_sentiment_df"
   ],
   "metadata": {
    "collapsed": false,
    "ExecuteTime": {
     "end_time": "2024-06-13T22:19:55.869975100Z",
     "start_time": "2024-06-13T22:19:55.834997400Z"
    }
   },
   "id": "8b7c48f835c22b37"
  },
  {
   "cell_type": "code",
   "execution_count": 25,
   "outputs": [
    {
     "data": {
      "text/plain": "   DataFrame  Mean Sentiment\n0  insen_gen        0.960000\n1   tten_gen        0.906788\n2   yten_gen        0.946203",
      "text/html": "<div>\n<style scoped>\n    .dataframe tbody tr th:only-of-type {\n        vertical-align: middle;\n    }\n\n    .dataframe tbody tr th {\n        vertical-align: top;\n    }\n\n    .dataframe thead th {\n        text-align: right;\n    }\n</style>\n<table border=\"1\" class=\"dataframe\">\n  <thead>\n    <tr style=\"text-align: right;\">\n      <th></th>\n      <th>DataFrame</th>\n      <th>Mean Sentiment</th>\n    </tr>\n  </thead>\n  <tbody>\n    <tr>\n      <th>0</th>\n      <td>insen_gen</td>\n      <td>0.960000</td>\n    </tr>\n    <tr>\n      <th>1</th>\n      <td>tten_gen</td>\n      <td>0.906788</td>\n    </tr>\n    <tr>\n      <th>2</th>\n      <td>yten_gen</td>\n      <td>0.946203</td>\n    </tr>\n  </tbody>\n</table>\n</div>"
     },
     "execution_count": 25,
     "metadata": {},
     "output_type": "execute_result"
    }
   ],
   "source": [
    "# Calculate the mean sentiment values\n",
    "mean_insen_gen = np.mean(insen_gen[\"Sentiment\"])\n",
    "mean_tten_gen = np.mean(tten_gen[\"Sentiment\"])\n",
    "mean_yten_gen = np.mean(yten_gen[\"Sentiment\"])\n",
    "\n",
    "# Create a DataFrame to store these mean values\n",
    "data = {\n",
    "    \"DataFrame\": [\"insen_gen\", \"tten_gen\", \"yten_gen\"],\n",
    "    \"Mean Sentiment\": [mean_insen_gen, mean_tten_gen, mean_yten_gen]\n",
    "}\n",
    "\n",
    "mean_sentiment_df = pd.DataFrame(data)\n",
    "mean_sentiment_df"
   ],
   "metadata": {
    "collapsed": false,
    "ExecuteTime": {
     "end_time": "2024-06-13T22:20:19.869781900Z",
     "start_time": "2024-06-13T22:20:19.819676600Z"
    }
   },
   "id": "5c0a73b8f4ec1e98"
  },
  {
   "cell_type": "code",
   "execution_count": 26,
   "outputs": [
    {
     "data": {
      "text/plain": "  DataFrame  Mean Sentiment\n0  dfins_en        0.817183\n1   dftt_en        0.732767\n2   dfyt_en        0.771728",
      "text/html": "<div>\n<style scoped>\n    .dataframe tbody tr th:only-of-type {\n        vertical-align: middle;\n    }\n\n    .dataframe tbody tr th {\n        vertical-align: top;\n    }\n\n    .dataframe thead th {\n        text-align: right;\n    }\n</style>\n<table border=\"1\" class=\"dataframe\">\n  <thead>\n    <tr style=\"text-align: right;\">\n      <th></th>\n      <th>DataFrame</th>\n      <th>Mean Sentiment</th>\n    </tr>\n  </thead>\n  <tbody>\n    <tr>\n      <th>0</th>\n      <td>dfins_en</td>\n      <td>0.817183</td>\n    </tr>\n    <tr>\n      <th>1</th>\n      <td>dftt_en</td>\n      <td>0.732767</td>\n    </tr>\n    <tr>\n      <th>2</th>\n      <td>dfyt_en</td>\n      <td>0.771728</td>\n    </tr>\n  </tbody>\n</table>\n</div>"
     },
     "execution_count": 26,
     "metadata": {},
     "output_type": "execute_result"
    }
   ],
   "source": [
    "# Calculate the mean sentiment values\n",
    "mean_dfins_en = np.mean(dfins_en[\"Sentiment\"])\n",
    "mean_dftt_en = np.mean(dftt_en[\"Sentiment\"])\n",
    "mean_dfyt_en = np.mean(dfyt_en[\"Sentiment\"])\n",
    "\n",
    "# Create a DataFrame to store these mean values\n",
    "data = {\n",
    "    \"DataFrame\": [\"dfins_en\", \"dftt_en\", \"dfyt_en\"],\n",
    "    \"Mean Sentiment\": [mean_dfins_en, mean_dftt_en, mean_dfyt_en]\n",
    "}\n",
    "\n",
    "mean_sentiment_df = pd.DataFrame(data)\n",
    "mean_sentiment_df"
   ],
   "metadata": {
    "collapsed": false,
    "ExecuteTime": {
     "end_time": "2024-06-13T22:20:35.089884100Z",
     "start_time": "2024-06-13T22:20:35.040131900Z"
    }
   },
   "id": "af6b709f025627f7"
  }
 ],
 "metadata": {
  "kernelspec": {
   "display_name": "Python 3",
   "language": "python",
   "name": "python3"
  },
  "language_info": {
   "codemirror_mode": {
    "name": "ipython",
    "version": 2
   },
   "file_extension": ".py",
   "mimetype": "text/x-python",
   "name": "python",
   "nbconvert_exporter": "python",
   "pygments_lexer": "ipython2",
   "version": "2.7.6"
  }
 },
 "nbformat": 4,
 "nbformat_minor": 5
}
