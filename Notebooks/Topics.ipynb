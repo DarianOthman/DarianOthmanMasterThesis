{
 "nbformat": 4,
 "nbformat_minor": 0,
 "metadata": {
  "colab": {
   "provenance": []
  },
  "kernelspec": {
   "name": "python3",
   "language": "python",
   "display_name": "Python 3 (ipykernel)"
  },
  "language_info": {
   "name": "python"
  }
 },
 "cells": [
  {
   "cell_type": "code",
   "source": [
    "!pip install pandas\n",
    "!pip install bertopic\n",
    "!pip install nltk\n",
    "!pip install cohere\n",
    "!pip install tiktoken\n",
    "!pip install tweet-preprocessor\n"
   ],
   "metadata": {
    "colab": {
     "base_uri": "https://localhost:8080/"
    },
    "id": "DnuJ_C2twkoY",
    "outputId": "eac8a02a-8a05-4bbb-b132-7330d9137c16",
    "ExecuteTime": {
     "end_time": "2024-05-18T14:57:15.108543200Z",
     "start_time": "2024-05-18T14:56:54.806035400Z"
    }
   },
   "execution_count": 3,
   "outputs": [
    {
     "name": "stdout",
     "output_type": "stream",
     "text": [
      "Requirement already satisfied: pandas in c:\\users\\i6240624\\documents\\biss\\master thesis\\code\\venv\\lib\\site-packages (2.2.0)\n",
      "Requirement already satisfied: numpy<2,>=1.22.4 in c:\\users\\i6240624\\documents\\biss\\master thesis\\code\\venv\\lib\\site-packages (from pandas) (1.26.3)\n",
      "Requirement already satisfied: python-dateutil>=2.8.2 in c:\\users\\i6240624\\documents\\biss\\master thesis\\code\\venv\\lib\\site-packages (from pandas) (2.8.2)\n",
      "Requirement already satisfied: pytz>=2020.1 in c:\\users\\i6240624\\documents\\biss\\master thesis\\code\\venv\\lib\\site-packages (from pandas) (2023.3.post1)\n",
      "Requirement already satisfied: tzdata>=2022.7 in c:\\users\\i6240624\\documents\\biss\\master thesis\\code\\venv\\lib\\site-packages (from pandas) (2023.4)\n",
      "Requirement already satisfied: six>=1.5 in c:\\users\\i6240624\\documents\\biss\\master thesis\\code\\venv\\lib\\site-packages (from python-dateutil>=2.8.2->pandas) (1.16.0)\n",
      "Requirement already satisfied: bertopic in c:\\users\\i6240624\\documents\\biss\\master thesis\\code\\venv\\lib\\site-packages (0.16.1)\n",
      "Requirement already satisfied: numpy>=1.20.0 in c:\\users\\i6240624\\documents\\biss\\master thesis\\code\\venv\\lib\\site-packages (from bertopic) (1.26.3)\n",
      "Requirement already satisfied: hdbscan>=0.8.29 in c:\\users\\i6240624\\documents\\biss\\master thesis\\code\\venv\\lib\\site-packages (from bertopic) (0.8.33)\n",
      "Requirement already satisfied: umap-learn>=0.5.0 in c:\\users\\i6240624\\documents\\biss\\master thesis\\code\\venv\\lib\\site-packages (from bertopic) (0.5.6)\n",
      "Requirement already satisfied: pandas>=1.1.5 in c:\\users\\i6240624\\documents\\biss\\master thesis\\code\\venv\\lib\\site-packages (from bertopic) (2.2.0)\n",
      "Requirement already satisfied: scikit-learn>=0.22.2.post1 in c:\\users\\i6240624\\documents\\biss\\master thesis\\code\\venv\\lib\\site-packages (from bertopic) (1.4.1.post1)\n",
      "Requirement already satisfied: tqdm>=4.41.1 in c:\\users\\i6240624\\documents\\biss\\master thesis\\code\\venv\\lib\\site-packages (from bertopic) (4.66.2)\n",
      "Requirement already satisfied: sentence-transformers>=0.4.1 in c:\\users\\i6240624\\documents\\biss\\master thesis\\code\\venv\\lib\\site-packages (from bertopic) (2.7.0)\n",
      "Requirement already satisfied: plotly>=4.7.0 in c:\\users\\i6240624\\documents\\biss\\master thesis\\code\\venv\\lib\\site-packages (from bertopic) (5.18.0)\n",
      "Requirement already satisfied: cython<3,>=0.27 in c:\\users\\i6240624\\documents\\biss\\master thesis\\code\\venv\\lib\\site-packages (from hdbscan>=0.8.29->bertopic) (0.29.37)\n",
      "Requirement already satisfied: scipy>=1.0 in c:\\users\\i6240624\\documents\\biss\\master thesis\\code\\venv\\lib\\site-packages (from hdbscan>=0.8.29->bertopic) (1.12.0)\n",
      "Requirement already satisfied: joblib>=1.0 in c:\\users\\i6240624\\documents\\biss\\master thesis\\code\\venv\\lib\\site-packages (from hdbscan>=0.8.29->bertopic) (1.3.2)\n",
      "Requirement already satisfied: python-dateutil>=2.8.2 in c:\\users\\i6240624\\documents\\biss\\master thesis\\code\\venv\\lib\\site-packages (from pandas>=1.1.5->bertopic) (2.8.2)\n",
      "Requirement already satisfied: pytz>=2020.1 in c:\\users\\i6240624\\documents\\biss\\master thesis\\code\\venv\\lib\\site-packages (from pandas>=1.1.5->bertopic) (2023.3.post1)\n",
      "Requirement already satisfied: tzdata>=2022.7 in c:\\users\\i6240624\\documents\\biss\\master thesis\\code\\venv\\lib\\site-packages (from pandas>=1.1.5->bertopic) (2023.4)\n",
      "Requirement already satisfied: tenacity>=6.2.0 in c:\\users\\i6240624\\documents\\biss\\master thesis\\code\\venv\\lib\\site-packages (from plotly>=4.7.0->bertopic) (8.2.3)\n",
      "Requirement already satisfied: packaging in c:\\users\\i6240624\\documents\\biss\\master thesis\\code\\venv\\lib\\site-packages (from plotly>=4.7.0->bertopic) (23.2)\n",
      "Requirement already satisfied: threadpoolctl>=2.0.0 in c:\\users\\i6240624\\documents\\biss\\master thesis\\code\\venv\\lib\\site-packages (from scikit-learn>=0.22.2.post1->bertopic) (3.3.0)\n",
      "Requirement already satisfied: transformers<5.0.0,>=4.34.0 in c:\\users\\i6240624\\documents\\biss\\master thesis\\code\\venv\\lib\\site-packages (from sentence-transformers>=0.4.1->bertopic) (4.40.2)\n",
      "Requirement already satisfied: torch>=1.11.0 in c:\\users\\i6240624\\documents\\biss\\master thesis\\code\\venv\\lib\\site-packages (from sentence-transformers>=0.4.1->bertopic) (2.3.0+cu118)\n",
      "Requirement already satisfied: huggingface-hub>=0.15.1 in c:\\users\\i6240624\\documents\\biss\\master thesis\\code\\venv\\lib\\site-packages (from sentence-transformers>=0.4.1->bertopic) (0.23.0)\n",
      "Requirement already satisfied: Pillow in c:\\users\\i6240624\\documents\\biss\\master thesis\\code\\venv\\lib\\site-packages (from sentence-transformers>=0.4.1->bertopic) (10.2.0)\n",
      "Requirement already satisfied: colorama in c:\\users\\i6240624\\documents\\biss\\master thesis\\code\\venv\\lib\\site-packages (from tqdm>=4.41.1->bertopic) (0.4.6)\n",
      "Requirement already satisfied: numba>=0.51.2 in c:\\users\\i6240624\\documents\\biss\\master thesis\\code\\venv\\lib\\site-packages (from umap-learn>=0.5.0->bertopic) (0.59.1)\n",
      "Requirement already satisfied: pynndescent>=0.5 in c:\\users\\i6240624\\documents\\biss\\master thesis\\code\\venv\\lib\\site-packages (from umap-learn>=0.5.0->bertopic) (0.5.12)\n",
      "Requirement already satisfied: filelock in c:\\users\\i6240624\\documents\\biss\\master thesis\\code\\venv\\lib\\site-packages (from huggingface-hub>=0.15.1->sentence-transformers>=0.4.1->bertopic) (3.13.1)\n",
      "Requirement already satisfied: fsspec>=2023.5.0 in c:\\users\\i6240624\\documents\\biss\\master thesis\\code\\venv\\lib\\site-packages (from huggingface-hub>=0.15.1->sentence-transformers>=0.4.1->bertopic) (2024.3.1)\n",
      "Requirement already satisfied: pyyaml>=5.1 in c:\\users\\i6240624\\documents\\biss\\master thesis\\code\\venv\\lib\\site-packages (from huggingface-hub>=0.15.1->sentence-transformers>=0.4.1->bertopic) (6.0.1)\n",
      "Requirement already satisfied: requests in c:\\users\\i6240624\\documents\\biss\\master thesis\\code\\venv\\lib\\site-packages (from huggingface-hub>=0.15.1->sentence-transformers>=0.4.1->bertopic) (2.31.0)\n",
      "Requirement already satisfied: typing-extensions>=3.7.4.3 in c:\\users\\i6240624\\documents\\biss\\master thesis\\code\\venv\\lib\\site-packages (from huggingface-hub>=0.15.1->sentence-transformers>=0.4.1->bertopic) (4.9.0)\n",
      "Requirement already satisfied: llvmlite<0.43,>=0.42.0dev0 in c:\\users\\i6240624\\documents\\biss\\master thesis\\code\\venv\\lib\\site-packages (from numba>=0.51.2->umap-learn>=0.5.0->bertopic) (0.42.0)\n",
      "Requirement already satisfied: six>=1.5 in c:\\users\\i6240624\\documents\\biss\\master thesis\\code\\venv\\lib\\site-packages (from python-dateutil>=2.8.2->pandas>=1.1.5->bertopic) (1.16.0)\n",
      "Requirement already satisfied: sympy in c:\\users\\i6240624\\documents\\biss\\master thesis\\code\\venv\\lib\\site-packages (from torch>=1.11.0->sentence-transformers>=0.4.1->bertopic) (1.12)\n",
      "Requirement already satisfied: networkx in c:\\users\\i6240624\\documents\\biss\\master thesis\\code\\venv\\lib\\site-packages (from torch>=1.11.0->sentence-transformers>=0.4.1->bertopic) (3.2.1)\n",
      "Requirement already satisfied: jinja2 in c:\\users\\i6240624\\documents\\biss\\master thesis\\code\\venv\\lib\\site-packages (from torch>=1.11.0->sentence-transformers>=0.4.1->bertopic) (3.1.3)\n",
      "Requirement already satisfied: mkl<=2021.4.0,>=2021.1.1 in c:\\users\\i6240624\\documents\\biss\\master thesis\\code\\venv\\lib\\site-packages (from torch>=1.11.0->sentence-transformers>=0.4.1->bertopic) (2021.4.0)\n",
      "Requirement already satisfied: regex!=2019.12.17 in c:\\users\\i6240624\\documents\\biss\\master thesis\\code\\venv\\lib\\site-packages (from transformers<5.0.0,>=4.34.0->sentence-transformers>=0.4.1->bertopic) (2023.12.25)\n",
      "Requirement already satisfied: tokenizers<0.20,>=0.19 in c:\\users\\i6240624\\documents\\biss\\master thesis\\code\\venv\\lib\\site-packages (from transformers<5.0.0,>=4.34.0->sentence-transformers>=0.4.1->bertopic) (0.19.1)\n",
      "Requirement already satisfied: safetensors>=0.4.1 in c:\\users\\i6240624\\documents\\biss\\master thesis\\code\\venv\\lib\\site-packages (from transformers<5.0.0,>=4.34.0->sentence-transformers>=0.4.1->bertopic) (0.4.3)\n",
      "Requirement already satisfied: intel-openmp==2021.* in c:\\users\\i6240624\\documents\\biss\\master thesis\\code\\venv\\lib\\site-packages (from mkl<=2021.4.0,>=2021.1.1->torch>=1.11.0->sentence-transformers>=0.4.1->bertopic) (2021.4.0)\n",
      "Requirement already satisfied: tbb==2021.* in c:\\users\\i6240624\\documents\\biss\\master thesis\\code\\venv\\lib\\site-packages (from mkl<=2021.4.0,>=2021.1.1->torch>=1.11.0->sentence-transformers>=0.4.1->bertopic) (2021.11.0)\n",
      "Requirement already satisfied: MarkupSafe>=2.0 in c:\\users\\i6240624\\documents\\biss\\master thesis\\code\\venv\\lib\\site-packages (from jinja2->torch>=1.11.0->sentence-transformers>=0.4.1->bertopic) (2.1.4)\n",
      "Requirement already satisfied: charset-normalizer<4,>=2 in c:\\users\\i6240624\\documents\\biss\\master thesis\\code\\venv\\lib\\site-packages (from requests->huggingface-hub>=0.15.1->sentence-transformers>=0.4.1->bertopic) (3.3.2)\n",
      "Requirement already satisfied: idna<4,>=2.5 in c:\\users\\i6240624\\documents\\biss\\master thesis\\code\\venv\\lib\\site-packages (from requests->huggingface-hub>=0.15.1->sentence-transformers>=0.4.1->bertopic) (3.6)\n",
      "Requirement already satisfied: urllib3<3,>=1.21.1 in c:\\users\\i6240624\\documents\\biss\\master thesis\\code\\venv\\lib\\site-packages (from requests->huggingface-hub>=0.15.1->sentence-transformers>=0.4.1->bertopic) (2.1.0)\n",
      "Requirement already satisfied: certifi>=2017.4.17 in c:\\users\\i6240624\\documents\\biss\\master thesis\\code\\venv\\lib\\site-packages (from requests->huggingface-hub>=0.15.1->sentence-transformers>=0.4.1->bertopic) (2023.11.17)\n",
      "Requirement already satisfied: mpmath>=0.19 in c:\\users\\i6240624\\documents\\biss\\master thesis\\code\\venv\\lib\\site-packages (from sympy->torch>=1.11.0->sentence-transformers>=0.4.1->bertopic) (1.3.0)\n",
      "Requirement already satisfied: nltk in c:\\users\\i6240624\\documents\\biss\\master thesis\\code\\venv\\lib\\site-packages (3.8.1)\n",
      "Requirement already satisfied: click in c:\\users\\i6240624\\documents\\biss\\master thesis\\code\\venv\\lib\\site-packages (from nltk) (8.1.7)\n",
      "Requirement already satisfied: joblib in c:\\users\\i6240624\\documents\\biss\\master thesis\\code\\venv\\lib\\site-packages (from nltk) (1.3.2)\n",
      "Requirement already satisfied: regex>=2021.8.3 in c:\\users\\i6240624\\documents\\biss\\master thesis\\code\\venv\\lib\\site-packages (from nltk) (2023.12.25)\n",
      "Requirement already satisfied: tqdm in c:\\users\\i6240624\\documents\\biss\\master thesis\\code\\venv\\lib\\site-packages (from nltk) (4.66.2)\n",
      "Requirement already satisfied: colorama in c:\\users\\i6240624\\documents\\biss\\master thesis\\code\\venv\\lib\\site-packages (from click->nltk) (0.4.6)\n",
      "Requirement already satisfied: cohere in c:\\users\\i6240624\\documents\\biss\\master thesis\\code\\venv\\lib\\site-packages (5.3.5)\n",
      "Requirement already satisfied: fastavro<2.0.0,>=1.9.4 in c:\\users\\i6240624\\documents\\biss\\master thesis\\code\\venv\\lib\\site-packages (from cohere) (1.9.4)\n",
      "Requirement already satisfied: httpx>=0.21.2 in c:\\users\\i6240624\\documents\\biss\\master thesis\\code\\venv\\lib\\site-packages (from cohere) (0.27.0)\n",
      "Requirement already satisfied: httpx-sse<0.5.0,>=0.4.0 in c:\\users\\i6240624\\documents\\biss\\master thesis\\code\\venv\\lib\\site-packages (from cohere) (0.4.0)\n",
      "Requirement already satisfied: pydantic>=1.9.2 in c:\\users\\i6240624\\documents\\biss\\master thesis\\code\\venv\\lib\\site-packages (from cohere) (2.6.3)\n",
      "Requirement already satisfied: requests<3.0.0,>=2.0.0 in c:\\users\\i6240624\\documents\\biss\\master thesis\\code\\venv\\lib\\site-packages (from cohere) (2.31.0)\n",
      "Requirement already satisfied: tokenizers<0.20,>=0.19 in c:\\users\\i6240624\\documents\\biss\\master thesis\\code\\venv\\lib\\site-packages (from cohere) (0.19.1)\n",
      "Requirement already satisfied: types-requests<3.0.0,>=2.0.0 in c:\\users\\i6240624\\documents\\biss\\master thesis\\code\\venv\\lib\\site-packages (from cohere) (2.31.0.20240406)\n",
      "Requirement already satisfied: typing_extensions>=4.0.0 in c:\\users\\i6240624\\documents\\biss\\master thesis\\code\\venv\\lib\\site-packages (from cohere) (4.9.0)\n",
      "Requirement already satisfied: anyio in c:\\users\\i6240624\\documents\\biss\\master thesis\\code\\venv\\lib\\site-packages (from httpx>=0.21.2->cohere) (4.2.0)\n",
      "Requirement already satisfied: certifi in c:\\users\\i6240624\\documents\\biss\\master thesis\\code\\venv\\lib\\site-packages (from httpx>=0.21.2->cohere) (2023.11.17)\n",
      "Requirement already satisfied: httpcore==1.* in c:\\users\\i6240624\\documents\\biss\\master thesis\\code\\venv\\lib\\site-packages (from httpx>=0.21.2->cohere) (1.0.4)\n",
      "Requirement already satisfied: idna in c:\\users\\i6240624\\documents\\biss\\master thesis\\code\\venv\\lib\\site-packages (from httpx>=0.21.2->cohere) (3.6)\n",
      "Requirement already satisfied: sniffio in c:\\users\\i6240624\\documents\\biss\\master thesis\\code\\venv\\lib\\site-packages (from httpx>=0.21.2->cohere) (1.3.0)\n",
      "Requirement already satisfied: h11<0.15,>=0.13 in c:\\users\\i6240624\\documents\\biss\\master thesis\\code\\venv\\lib\\site-packages (from httpcore==1.*->httpx>=0.21.2->cohere) (0.14.0)\n",
      "Requirement already satisfied: annotated-types>=0.4.0 in c:\\users\\i6240624\\documents\\biss\\master thesis\\code\\venv\\lib\\site-packages (from pydantic>=1.9.2->cohere) (0.6.0)\n",
      "Requirement already satisfied: pydantic-core==2.16.3 in c:\\users\\i6240624\\documents\\biss\\master thesis\\code\\venv\\lib\\site-packages (from pydantic>=1.9.2->cohere) (2.16.3)\n",
      "Requirement already satisfied: charset-normalizer<4,>=2 in c:\\users\\i6240624\\documents\\biss\\master thesis\\code\\venv\\lib\\site-packages (from requests<3.0.0,>=2.0.0->cohere) (3.3.2)\n",
      "Requirement already satisfied: urllib3<3,>=1.21.1 in c:\\users\\i6240624\\documents\\biss\\master thesis\\code\\venv\\lib\\site-packages (from requests<3.0.0,>=2.0.0->cohere) (2.1.0)\n",
      "Requirement already satisfied: huggingface-hub<1.0,>=0.16.4 in c:\\users\\i6240624\\documents\\biss\\master thesis\\code\\venv\\lib\\site-packages (from tokenizers<0.20,>=0.19->cohere) (0.23.0)\n",
      "Requirement already satisfied: filelock in c:\\users\\i6240624\\documents\\biss\\master thesis\\code\\venv\\lib\\site-packages (from huggingface-hub<1.0,>=0.16.4->tokenizers<0.20,>=0.19->cohere) (3.13.1)\n",
      "Requirement already satisfied: fsspec>=2023.5.0 in c:\\users\\i6240624\\documents\\biss\\master thesis\\code\\venv\\lib\\site-packages (from huggingface-hub<1.0,>=0.16.4->tokenizers<0.20,>=0.19->cohere) (2024.3.1)\n",
      "Requirement already satisfied: packaging>=20.9 in c:\\users\\i6240624\\documents\\biss\\master thesis\\code\\venv\\lib\\site-packages (from huggingface-hub<1.0,>=0.16.4->tokenizers<0.20,>=0.19->cohere) (23.2)\n",
      "Requirement already satisfied: pyyaml>=5.1 in c:\\users\\i6240624\\documents\\biss\\master thesis\\code\\venv\\lib\\site-packages (from huggingface-hub<1.0,>=0.16.4->tokenizers<0.20,>=0.19->cohere) (6.0.1)\n",
      "Requirement already satisfied: tqdm>=4.42.1 in c:\\users\\i6240624\\documents\\biss\\master thesis\\code\\venv\\lib\\site-packages (from huggingface-hub<1.0,>=0.16.4->tokenizers<0.20,>=0.19->cohere) (4.66.2)\n",
      "Requirement already satisfied: exceptiongroup>=1.0.2 in c:\\users\\i6240624\\documents\\biss\\master thesis\\code\\venv\\lib\\site-packages (from anyio->httpx>=0.21.2->cohere) (1.2.0)\n",
      "Requirement already satisfied: colorama in c:\\users\\i6240624\\documents\\biss\\master thesis\\code\\venv\\lib\\site-packages (from tqdm>=4.42.1->huggingface-hub<1.0,>=0.16.4->tokenizers<0.20,>=0.19->cohere) (0.4.6)\n",
      "Requirement already satisfied: tiktoken in c:\\users\\i6240624\\documents\\biss\\master thesis\\code\\venv\\lib\\site-packages (0.6.0)\n",
      "Requirement already satisfied: regex>=2022.1.18 in c:\\users\\i6240624\\documents\\biss\\master thesis\\code\\venv\\lib\\site-packages (from tiktoken) (2023.12.25)\n",
      "Requirement already satisfied: requests>=2.26.0 in c:\\users\\i6240624\\documents\\biss\\master thesis\\code\\venv\\lib\\site-packages (from tiktoken) (2.31.0)\n",
      "Requirement already satisfied: charset-normalizer<4,>=2 in c:\\users\\i6240624\\documents\\biss\\master thesis\\code\\venv\\lib\\site-packages (from requests>=2.26.0->tiktoken) (3.3.2)\n",
      "Requirement already satisfied: idna<4,>=2.5 in c:\\users\\i6240624\\documents\\biss\\master thesis\\code\\venv\\lib\\site-packages (from requests>=2.26.0->tiktoken) (3.6)\n",
      "Requirement already satisfied: urllib3<3,>=1.21.1 in c:\\users\\i6240624\\documents\\biss\\master thesis\\code\\venv\\lib\\site-packages (from requests>=2.26.0->tiktoken) (2.1.0)\n",
      "Requirement already satisfied: certifi>=2017.4.17 in c:\\users\\i6240624\\documents\\biss\\master thesis\\code\\venv\\lib\\site-packages (from requests>=2.26.0->tiktoken) (2023.11.17)\n",
      "Requirement already satisfied: tweet-preprocessor in c:\\users\\i6240624\\documents\\biss\\master thesis\\code\\venv\\lib\\site-packages (0.6.0)\n"
     ]
    }
   ]
  },
  {
   "cell_type": "code",
   "source": [
    "import nltk\n",
    "nltk.download('stopwords')\n",
    "nltk.download('wordnet')\n",
    "nltk.download('omw-1.4')"
   ],
   "metadata": {
    "colab": {
     "base_uri": "https://localhost:8080/"
    },
    "id": "dzn_Gi6R-QE6",
    "outputId": "780c7d49-78b0-432b-dc9f-0677d76db543",
    "ExecuteTime": {
     "end_time": "2024-05-18T14:57:15.149031100Z",
     "start_time": "2024-05-18T14:57:15.114212600Z"
    }
   },
   "execution_count": 4,
   "outputs": [
    {
     "name": "stderr",
     "output_type": "stream",
     "text": [
      "[nltk_data] Downloading package stopwords to\n",
      "[nltk_data]     C:\\Users\\I6240624\\AppData\\Roaming\\nltk_data...\n",
      "[nltk_data]   Package stopwords is already up-to-date!\n",
      "[nltk_data] Downloading package wordnet to\n",
      "[nltk_data]     C:\\Users\\I6240624\\AppData\\Roaming\\nltk_data...\n",
      "[nltk_data]   Package wordnet is already up-to-date!\n",
      "[nltk_data] Downloading package omw-1.4 to\n",
      "[nltk_data]     C:\\Users\\I6240624\\AppData\\Roaming\\nltk_data...\n",
      "[nltk_data]   Package omw-1.4 is already up-to-date!\n"
     ]
    },
    {
     "data": {
      "text/plain": "True"
     },
     "execution_count": 4,
     "metadata": {},
     "output_type": "execute_result"
    }
   ]
  },
  {
   "cell_type": "code",
   "source": [
    "import os\n",
    "import re\n",
    "import pandas as pd\n",
    "from sklearn.feature_extraction.text import TfidfVectorizer\n",
    "from bertopic import BERTopic\n",
    "from nltk.corpus import stopwords\n",
    "import preprocessor as p\n",
    "\n",
    "p.set_options(p.OPT.URL)\n",
    "\n",
    "standard_stop_words = stopwords.words('english')\n",
    "\n",
    "def clean_text(text):\n",
    "    text = p.clean(text)\n",
    "\n",
    "    text = re.sub(r'\\d+', '', text)\n",
    "\n",
    "    words = text.split()\n",
    "    filtered_words = [word for word in words if word.lower() not in standard_stop_words]\n",
    "\n",
    "    return ' '.join(filtered_words)\n",
    "\n",
    "vectorizer_model = TfidfVectorizer(stop_words=standard_stop_words, ngram_range=(1, 3))\n",
    "\n",
    "model = BERTopic(embedding_model=\"all-MiniLM-L6-v2\", vectorizer_model=vectorizer_model, calculate_probabilities=False, nr_topics=\"auto\")\n",
    "\n",
    "path = \"C:/Users/I6240624/Documents/BISS/Master Thesis/Code/DarianOthmanMasterThesis/Generation/\"\n",
    "all_files = [os.path.join(path, file) for file in os.listdir(path) if file.endswith('.csv')]\n",
    "\n",
    "for file in all_files:\n",
    "    df = pd.read_csv(file ,sep=';', header=None)\n",
    "    df = df.dropna(subset=[0])\n",
    "    df[0] = df[0].apply(clean_text)\n",
    "\n",
    "    documents = df[0].tolist()\n",
    "    topics, _ = model.fit_transform(documents)\n",
    "\n",
    "    df['Topic'] = topics\n",
    "    topic_counts = df['Topic'].value_counts()\n",
    "    print(f\"\\nTopics in file: {file}\")\n",
    "    print(topic_counts)\n",
    "\n",
    "    topic_info = model.get_topic_info()\n",
    "    for index, row in topic_info.iterrows():\n",
    "        if row['Topic'] != -1:\n",
    "            words = model.get_topic(row['Topic'])\n",
    "            df[\"words\"]=str([word for word, _ in words])\n",
    "            print(f\"Topic {row['Topic']}: {len(words)} words, representative words: {[word for word, _ in words]}\")\n",
    "    \n",
    "            \n",
    "\n",
    "    new_file_name = os.path.basename(file)[:-4] + '_with_topics.csv'\n",
    "    new_file_path = os.path.join(path, new_file_name)\n",
    "    df.to_csv(new_file_path, sep=\";\", index=False)\n",
    "    print(f\"Processed file saved: {new_file_path}\")\n"
   ],
   "metadata": {
    "id": "oafJNzrU3XI9",
    "colab": {
     "base_uri": "https://localhost:8080/"
    },
    "outputId": "62660501-9e25-4b59-9733-de16903f6206",
    "ExecuteTime": {
     "end_time": "2024-05-18T17:35:06.319308800Z",
     "start_time": "2024-05-18T17:34:35.882915800Z"
    }
   },
   "execution_count": 12,
   "outputs": [
    {
     "name": "stdout",
     "output_type": "stream",
     "text": [
      "\n",
      "Topics in file: C:/Users/I6240624/Documents/BISS/Master Thesis/Code/DarianOthmanMasterThesis/Generation/Content_Aware_t=1_P=1_Instagram_Dutch.csv\n",
      "Topic\n",
      "-1     337\n",
      " 0     109\n",
      " 1      57\n",
      " 2      56\n",
      " 3      45\n",
      " 4      38\n",
      " 5      28\n",
      " 6      25\n",
      " 7      24\n",
      " 8      22\n",
      " 9      21\n",
      " 10     21\n",
      " 11     20\n",
      " 12     15\n",
      " 13     14\n",
      " 14     13\n",
      " 15     10\n",
      "Name: count, dtype: int64\n",
      "Topic 0: 10 words, representative words: ['het', 'ik', 'de', 'een', 'en', 'van', 'mijn', 'te', 'ze', 'aan']\n",
      "Topic 1: 10 words, representative words: ['video', 'youtube', 'vlog', 'bellingatv com', 'familievloggers', 'de', 'link', 'mijn', 'op', 'bellingatv']\n",
      "Topic 2: 10 words, representative words: ['recept', 'foodie', 'een', 'vegan', 'smoothie', 'heerlijke', 'de dag', 'met', 'met een', 'het recept']\n",
      "Topic 3: 10 words, representative words: ['day', 'feeling', 'adventures', 'new', 'happy', 'love', 'amazing', 'together', 'days', 'winter']\n",
      "Topic 4: 10 words, representative words: ['squad', 'met', 'squadgoals', 'feesten', 'quality time', 'quality', 'time met', 'quality time met', 'time', 'met de squad']\n",
      "Topic 5: 10 words, representative words: ['outfit', 'fashionista', 'fashion', 'giveaway', 'en', 'korting', 'de', 'collectie', 'van', 'mystyleglam']\n",
      "Topic 6: 10 words, representative words: ['workout', 'sportschool', 'de sportschool', 'de', 'sporten', 'het', 'energiek', 'en', 'fitfam', 'een']\n",
      "Topic 7: 10 words, representative words: ['week', 'weekend', 'de', 'deze week', 'weekendvibes', 'te', 'de tinafestival', 'naar de tinafestival', 'tinafestival', 'paris waar']\n",
      "Topic 8: 10 words, representative words: ['netflix', 'netflixandchill', 'serie', 'film', 'en netflix', 'bingewatchen', 'bingewatching', 'favoriete serie', 'ik', 'en']\n",
      "Topic 9: 10 words, representative words: ['roadtrip', 'roadtrip naar', 'spontane roadtrip', 'bergen', 'de bergen', 'roadtrip naar de', 'spontane', 'de', 'adventuretime', 'naar']\n",
      "Topic 10: 10 words, representative words: ['foto', 'fotoshoot', 'camera', 'de', 'flits', 'ik', 'een', 'foto van', 'maar', 'al']\n",
      "Topic 11: 10 words, representative words: ['nieuwe', 'nieuwe avonturen', 'op naar nieuwe', 'naar nieuwe', 'naar nieuwe avonturen', 'avonturen', 'verandering', 'avonturen op', 'nieuwe avonturen op', 'nies']\n",
      "Topic 12: 10 words, representative words: ['spotify', 'music', 'concert', 'ontspoord', 'yasss', 'op spotify', 'luister', 'naar het', 'livemusic', 'yasss yasss']\n",
      "Topic 13: 10 words, representative words: ['op avontuur met', 'met', 'op avontuur', 'gehad', 'zwitserland zomer vibes', 'jasperroodzant en', 'jansmitcom opnames', 'jansmitcom opnames leukedag', 'jasperroodzant', 'joelfrijhoff al jaar']\n",
      "Topic 14: 10 words, representative words: ['relaxen', 'de super', 'te relaxen', 'relaxmodus', 'koffie', 'kat', 'selfcare', 'super', 'kaarsen en bubbels', 'whiskers ja deze']\n",
      "Topic 15: 10 words, representative words: ['wanderlust', 'wanderlust van', 'avontuur', 'geheim', 'herinneringen', 'liefde', 'gemaakt met mijn', 'heb nederland doorkruist', 'lang meegaan', 'geheimproject mysterieus']\n",
      "Processed file saved: C:/Users/I6240624/Documents/BISS/Master Thesis/Code/DarianOthmanMasterThesis/Generation/Content_Aware_t=1_P=1_Instagram_Dutch_with_topics.csv\n"
     ]
    }
   ]
  },
  {
   "cell_type": "code",
   "execution_count": 13,
   "outputs": [
    {
     "data": {
      "text/plain": "    Topic  Count                                               Name  \\\n0      -1    337                                 -1_de_een_mijn_van   \n1       0    109                                    0_het_ik_de_een   \n2       1     57                1_video_youtube_vlog_bellingatv com   \n3       2     56                          2_recept_foodie_een_vegan   \n4       3     45                       3_day_feeling_adventures_new   \n5       4     38                     4_squad_met_squadgoals_feesten   \n6       5     28              5_outfit_fashionista_fashion_giveaway   \n7       6     25            6_workout_sportschool_de sportschool_de   \n8       7     24                        7_week_weekend_de_deze week   \n9       8     22               8_netflix_netflixandchill_serie_film   \n10      9     21  9_roadtrip_roadtrip naar_spontane roadtrip_bergen   \n11     10     21                        10_foto_fotoshoot_camera_de   \n12     11     20  11_nieuwe_nieuwe avonturen_op naar nieuwe_naar...   \n13     12     15                 12_spotify_music_concert_ontspoord   \n14     13     14           13_op avontuur met_met_op avontuur_gehad   \n15     14     13          14_relaxen_de super_te relaxen_relaxmodus   \n16     15     10       15_wanderlust_wanderlust van_avontuur_geheim   \n\n                                       Representation  \\\n0    [de, een, mijn, van, het, voor, en, met, ik, op]   \n1      [het, ik, de, een, en, van, mijn, te, ze, aan]   \n2   [video, youtube, vlog, bellingatv com, familie...   \n3   [recept, foodie, een, vegan, smoothie, heerlij...   \n4   [day, feeling, adventures, new, happy, love, a...   \n5   [squad, met, squadgoals, feesten, quality time...   \n6   [outfit, fashionista, fashion, giveaway, en, k...   \n7   [workout, sportschool, de sportschool, de, spo...   \n8   [week, weekend, de, deze week, weekendvibes, t...   \n9   [netflix, netflixandchill, serie, film, en net...   \n10  [roadtrip, roadtrip naar, spontane roadtrip, b...   \n11  [foto, fotoshoot, camera, de, flits, ik, een, ...   \n12  [nieuwe, nieuwe avonturen, op naar nieuwe, naa...   \n13  [spotify, music, concert, ontspoord, yasss, op...   \n14  [op avontuur met, met, op avontuur, gehad, zwi...   \n15  [relaxen, de super, te relaxen, relaxmodus, ko...   \n16  [wanderlust, wanderlust van, avontuur, geheim,...   \n\n                                  Representative_Docs  \n0   [De dozen beginnen zich op te stapelen en het ...  \n1   [OMG ik kan het haast niet geloven - hebben ee...  \n2   [Mijn broer en ik hebben iets grappigs uitgepr...  \n3   [Zin iets hartigs? Probeer deze gehakttaart! P...  \n4   [Excited upcoming event @zaraofficial next Sat...  \n5   [Quality time met oom Piet en onze neefjes het...  \n6   [OMGGG, ik heb zo'n toffe giveaway voor jullie...  \n7   [Wat denk jij, bij wie zal de geheimzinnige be...  \n8   [Het weer zo'n productieve week! Ik heb eindel...  \n9   [Overal om heen zie ik mensen floreren en hier...  \n10  [WHAAAAAAAAAAAAA! Spontane roadtrip naar de be...  \n11  [Ik kan niet kiezen: Disneyland de Efteling? 🎢...  \n12  [Op naar nieuwe avonturen! Welk land staat er ...  \n13  [😍Het concert een geweldige ervaring voor Alex...  \n14  [Zo'n geweldige tijd gehad op de set met @jans...  \n15  [Na een drukke schooldag het heerlijk om even ...  \n16  [Overstijg de grenzen van het onbekende met mi...  ",
      "text/html": "<div>\n<style scoped>\n    .dataframe tbody tr th:only-of-type {\n        vertical-align: middle;\n    }\n\n    .dataframe tbody tr th {\n        vertical-align: top;\n    }\n\n    .dataframe thead th {\n        text-align: right;\n    }\n</style>\n<table border=\"1\" class=\"dataframe\">\n  <thead>\n    <tr style=\"text-align: right;\">\n      <th></th>\n      <th>Topic</th>\n      <th>Count</th>\n      <th>Name</th>\n      <th>Representation</th>\n      <th>Representative_Docs</th>\n    </tr>\n  </thead>\n  <tbody>\n    <tr>\n      <th>0</th>\n      <td>-1</td>\n      <td>337</td>\n      <td>-1_de_een_mijn_van</td>\n      <td>[de, een, mijn, van, het, voor, en, met, ik, op]</td>\n      <td>[De dozen beginnen zich op te stapelen en het ...</td>\n    </tr>\n    <tr>\n      <th>1</th>\n      <td>0</td>\n      <td>109</td>\n      <td>0_het_ik_de_een</td>\n      <td>[het, ik, de, een, en, van, mijn, te, ze, aan]</td>\n      <td>[OMG ik kan het haast niet geloven - hebben ee...</td>\n    </tr>\n    <tr>\n      <th>2</th>\n      <td>1</td>\n      <td>57</td>\n      <td>1_video_youtube_vlog_bellingatv com</td>\n      <td>[video, youtube, vlog, bellingatv com, familie...</td>\n      <td>[Mijn broer en ik hebben iets grappigs uitgepr...</td>\n    </tr>\n    <tr>\n      <th>3</th>\n      <td>2</td>\n      <td>56</td>\n      <td>2_recept_foodie_een_vegan</td>\n      <td>[recept, foodie, een, vegan, smoothie, heerlij...</td>\n      <td>[Zin iets hartigs? Probeer deze gehakttaart! P...</td>\n    </tr>\n    <tr>\n      <th>4</th>\n      <td>3</td>\n      <td>45</td>\n      <td>3_day_feeling_adventures_new</td>\n      <td>[day, feeling, adventures, new, happy, love, a...</td>\n      <td>[Excited upcoming event @zaraofficial next Sat...</td>\n    </tr>\n    <tr>\n      <th>5</th>\n      <td>4</td>\n      <td>38</td>\n      <td>4_squad_met_squadgoals_feesten</td>\n      <td>[squad, met, squadgoals, feesten, quality time...</td>\n      <td>[Quality time met oom Piet en onze neefjes het...</td>\n    </tr>\n    <tr>\n      <th>6</th>\n      <td>5</td>\n      <td>28</td>\n      <td>5_outfit_fashionista_fashion_giveaway</td>\n      <td>[outfit, fashionista, fashion, giveaway, en, k...</td>\n      <td>[OMGGG, ik heb zo'n toffe giveaway voor jullie...</td>\n    </tr>\n    <tr>\n      <th>7</th>\n      <td>6</td>\n      <td>25</td>\n      <td>6_workout_sportschool_de sportschool_de</td>\n      <td>[workout, sportschool, de sportschool, de, spo...</td>\n      <td>[Wat denk jij, bij wie zal de geheimzinnige be...</td>\n    </tr>\n    <tr>\n      <th>8</th>\n      <td>7</td>\n      <td>24</td>\n      <td>7_week_weekend_de_deze week</td>\n      <td>[week, weekend, de, deze week, weekendvibes, t...</td>\n      <td>[Het weer zo'n productieve week! Ik heb eindel...</td>\n    </tr>\n    <tr>\n      <th>9</th>\n      <td>8</td>\n      <td>22</td>\n      <td>8_netflix_netflixandchill_serie_film</td>\n      <td>[netflix, netflixandchill, serie, film, en net...</td>\n      <td>[Overal om heen zie ik mensen floreren en hier...</td>\n    </tr>\n    <tr>\n      <th>10</th>\n      <td>9</td>\n      <td>21</td>\n      <td>9_roadtrip_roadtrip naar_spontane roadtrip_bergen</td>\n      <td>[roadtrip, roadtrip naar, spontane roadtrip, b...</td>\n      <td>[WHAAAAAAAAAAAAA! Spontane roadtrip naar de be...</td>\n    </tr>\n    <tr>\n      <th>11</th>\n      <td>10</td>\n      <td>21</td>\n      <td>10_foto_fotoshoot_camera_de</td>\n      <td>[foto, fotoshoot, camera, de, flits, ik, een, ...</td>\n      <td>[Ik kan niet kiezen: Disneyland de Efteling? 🎢...</td>\n    </tr>\n    <tr>\n      <th>12</th>\n      <td>11</td>\n      <td>20</td>\n      <td>11_nieuwe_nieuwe avonturen_op naar nieuwe_naar...</td>\n      <td>[nieuwe, nieuwe avonturen, op naar nieuwe, naa...</td>\n      <td>[Op naar nieuwe avonturen! Welk land staat er ...</td>\n    </tr>\n    <tr>\n      <th>13</th>\n      <td>12</td>\n      <td>15</td>\n      <td>12_spotify_music_concert_ontspoord</td>\n      <td>[spotify, music, concert, ontspoord, yasss, op...</td>\n      <td>[😍Het concert een geweldige ervaring voor Alex...</td>\n    </tr>\n    <tr>\n      <th>14</th>\n      <td>13</td>\n      <td>14</td>\n      <td>13_op avontuur met_met_op avontuur_gehad</td>\n      <td>[op avontuur met, met, op avontuur, gehad, zwi...</td>\n      <td>[Zo'n geweldige tijd gehad op de set met @jans...</td>\n    </tr>\n    <tr>\n      <th>15</th>\n      <td>14</td>\n      <td>13</td>\n      <td>14_relaxen_de super_te relaxen_relaxmodus</td>\n      <td>[relaxen, de super, te relaxen, relaxmodus, ko...</td>\n      <td>[Na een drukke schooldag het heerlijk om even ...</td>\n    </tr>\n    <tr>\n      <th>16</th>\n      <td>15</td>\n      <td>10</td>\n      <td>15_wanderlust_wanderlust van_avontuur_geheim</td>\n      <td>[wanderlust, wanderlust van, avontuur, geheim,...</td>\n      <td>[Overstijg de grenzen van het onbekende met mi...</td>\n    </tr>\n  </tbody>\n</table>\n</div>"
     },
     "execution_count": 13,
     "metadata": {},
     "output_type": "execute_result"
    }
   ],
   "source": [
    "topic_info"
   ],
   "metadata": {
    "collapsed": false,
    "ExecuteTime": {
     "end_time": "2024-05-18T17:41:14.223844300Z",
     "start_time": "2024-05-18T17:41:14.152321700Z"
    }
   }
  }
 ]
}
