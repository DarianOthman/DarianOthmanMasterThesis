{
 "cells": [
  {
   "cell_type": "code",
   "execution_count": null,
   "id": "initial_id",
   "metadata": {
    "collapsed": true
   },
   "outputs": [],
   "source": [
    "import pandas as pd\n",
    "import sys\n",
    "sys.path.append(r'C:\\Users\\I6240624\\Documents\\BISS\\Master Thesis\\Code\\DarianOthmanMasterThesis\\Functions')\n",
    "import Influencer_Characteristics as ic\n",
    "import File_Opening as fo\n",
    "import matplotlib.pyplot as plt"
   ]
  },
  {
   "cell_type": "code",
   "execution_count": null,
   "outputs": [],
   "source": [
    "dfins_en = fo.read_data(r'C:\\Users\\I6240624\\Documents\\BISS\\Master Thesis\\Data\\icwsm_dutch_data\\Ins_lingua_en_disclosed_ad.csv')\n",
    "ic.ad_column(dfins_en, \"caption\")\n",
    "dfins_en_ad = dfins_en[dfins_en[\"ad\"] == 1]\n",
    "dfins_nl = fo.read_data(r'C:\\Users\\I6240624\\Documents\\BISS\\Master Thesis\\Data\\icwsm_dutch_data\\Ins_lingua_nl_disclosed_ad.csv')\n",
    "ic.ad_column_dutch(dfins_nl,\"caption\")\n",
    "dfins_nl_ad = dfins_nl[dfins_nl[\"ad\"] == 1]\n",
    "dftt_en = fo.read_data(r'C:\\Users\\I6240624\\Documents\\BISS\\Master Thesis\\Data\\icwsm_dutch_data\\TikTok_lingua_en_disclosed_ad.csv')\n",
    "ic.ad_column(dftt_en,\"video_description\")\n",
    "dftt_en_ad = dftt_en[dftt_en[\"ad\"] == 1]\n",
    "dftt_nl = fo.read_data(r'C:\\Users\\I6240624\\Documents\\BISS\\Master Thesis\\Data\\icwsm_dutch_data\\TikTok_lingua_nl_disclosed_ad.csv')\n",
    "ic.ad_column_dutch(dftt_nl,\"video_description\")\n",
    "dftt_nl_ad = dftt_nl[dftt_nl[\"ad\"] == 1]\n",
    "dfyt_en = fo.read_data(r'C:\\Users\\I6240624\\Documents\\BISS\\Master Thesis\\Data\\icwsm_dutch_data\\Youtube_lingua_en_disclosed_ad.csv')\n",
    "ic.ad_column(dfyt_en,\"description_video\")\n",
    "dfyt_en_ad = dfyt_en[dfyt_en[\"ad\"] == 1]\n",
    "dfyt_nl = fo.read_data(r'C:\\Users\\I6240624\\Documents\\BISS\\Master Thesis\\Data\\icwsm_dutch_data\\Youtube_lingua_nl_disclosed_ad.csv')\n",
    "ic.ad_column_dutch(dfyt_nl,\"description_video\")\n",
    "dfyt_nl_ad = dfyt_nl[dfyt_nl[\"ad\"] == 1]"
   ],
   "metadata": {
    "collapsed": false
   },
   "id": "ab5dbb8995ae530d"
  },
  {
   "cell_type": "code",
   "execution_count": null,
   "outputs": [],
   "source": [
    "# Open Agnostic t1 p1 English\n",
    "yten= fo.read_data_ai('C:/Users/I6240624/Documents/BISS/Master Thesis/Code/DarianOthmanMasterThesis/Generic_t=1_p=1_YouTube.csv')\n",
    "ic.ad_column(yten, 0)\n",
    "yten_ad = yten[yten[\"ad\"] == 1]\n",
    "tten= fo.read_data_ai('C:/Users/I6240624/Documents/BISS/Master Thesis/Code/DarianOthmanMasterThesis/Generic_t=1_p=1_TikTok.csv')\n",
    "ic.ad_column(tten, 0)\n",
    "tten_ad = tten[tten[\"ad\"] == 1]\n",
    "insen= fo.read_data_ai('C:/Users/I6240624/Documents/BISS/Master Thesis/Code/DarianOthmanMasterThesis/Generic_t=1_p=1_Instagram.csv')\n",
    "ic.ad_column(insen, 0)\n",
    "insen_ad = insen[insen[\"ad\"] == 1]"
   ],
   "metadata": {
    "collapsed": false
   },
   "id": "e3279a40c6019fd1"
  },
  {
   "cell_type": "code",
   "execution_count": null,
   "outputs": [],
   "source": [
    "# Open Agnostic t1 p1 Dutch\n",
    "ytnl= fo.read_data_ai('C:/Users/I6240624/Documents/BISS/Master Thesis/Code/DarianOthmanMasterThesis/Generic_t=1_p=1_YouTube_Dutch.csv')\n",
    "ic.ad_column(ytnl, 0)\n",
    "ytnl_ad = ytnl[ytnl[\"ad\"] == 1]\n",
    "ttnl= fo.read_data_ai('C:/Users/I6240624/Documents/BISS/Master Thesis/Code/DarianOthmanMasterThesis/Generic_t=1_p=1_TikTok_Dutch.csv')\n",
    "ic.ad_column_dutch(ttnl, 0)\n",
    "ttnl_ad = ttnl[ttnl[\"ad\"] == 1]\n",
    "insnl= fo.read_data_ai('C:/Users/I6240624/Documents/BISS/Master Thesis/Code/DarianOthmanMasterThesis/Generic_t=1_p=1_Instagram_Dutch.csv')\n",
    "ic.ad_column_dutch(insnl, 0)\n",
    "insnl_ad = insnl[insnl[\"ad\"] == 1]"
   ],
   "metadata": {
    "collapsed": false
   },
   "id": "92f8ffcb941fb989"
  },
  {
   "cell_type": "code",
   "execution_count": null,
   "outputs": [],
   "source": [
    "insinf_en = fo.get_unique_values(dfins_en, \"username\")\n",
    "insinf_nl = fo.get_unique_values(dfins_nl, \"username\")\n",
    "ttinf_en = fo.get_unique_values(dftt_en, \"username\")\n",
    "ttinf_nl = fo.get_unique_values(dftt_nl, \"username\")\n",
    "ytinf_en = fo.get_unique_values(dfyt_en, \"channel_title\")\n",
    "ytinf_nl = fo.get_unique_values(dfyt_nl, \"channel_title\")"
   ],
   "metadata": {
    "collapsed": false
   },
   "id": "73df47f3d4774d5b"
  },
  {
   "cell_type": "code",
   "execution_count": null,
   "outputs": [],
   "source": [
    "dfyt_en[\"video_id\"].to_csv('dfyt_en_index_ad.csv', index=False)\n",
    "dfyt_nl[\"video_id\"].to_csv('dfyt_nl_index_ad.csv', index=False)\n",
    "dftt_en[\"id\"].to_csv('dftt_en_index_ad.csv', index=False)\n",
    "dftt_nl[\"id\"].to_csv('dftt_nl_index_ad.csv', index=False)\n",
    "dfins_en[\"ct_id\"].to_csv('dfins_en_index_ad.csv', index=False)\n",
    "dfins_nl[\"ct_id\"].to_csv('dfins_nl_index_ad.csv', index=False)"
   ],
   "metadata": {
    "collapsed": false
   },
   "id": "80e7787548653ad7"
  },
  {
   "cell_type": "code",
   "execution_count": null,
   "outputs": [],
   "source": [
    "ic.find_common_elements_and_plot(insinf_en, ttinf_en, ytinf_en, \"Instagram\", \"TikTok\", \"YouTube\",\"Intersectionality of English Influencers\")\n",
    "ic.find_common_elements_and_plot(insinf_nl, ttinf_nl, ytinf_nl, \"Instagram\", \"TikTok\", \"YouTube\",\"Intersectionality of Dutch Influencers\")"
   ],
   "metadata": {
    "collapsed": false
   },
   "id": "5f11f560a08dbe55"
  },
  {
   "cell_type": "code",
   "execution_count": null,
   "outputs": [],
   "source": [
    "common_usernames = insinf_en.intersection(ttinf_en, ytinf_en)\n",
    "b=dfyt_en.loc[dfyt_en['channel_title'].isin(common_usernames)]\n",
    "username_counts = b['channel_title'].value_counts()\n",
    "\n",
    "# Create a mask for usernames that appear at least 10 times\n",
    "mask = username_counts[b['channel_title']].values >= 5\n",
    "\n",
    "# Filter the DataFrame\n",
    "result = b.loc[mask]\n",
    "result\n",
    "username_counts = result['channel_title'].value_counts()\n",
    "\n",
    "# Get the top 10 usernames with the most rows\n",
    "top_10_usernames = username_counts.head(10)\n",
    "top_10_usernames"
   ],
   "metadata": {
    "collapsed": false
   },
   "id": "643e53e0d8196c26"
  },
  {
   "cell_type": "code",
   "execution_count": null,
   "outputs": [],
   "source": [
    "a=ic.get_common_elements(insinf_en, ttinf_en, ytinf_en, insinf_nl, ttinf_nl, ytinf_nl)\n",
    "ic.plot_common_in_languages(insinf_en, ttinf_en, ytinf_en, insinf_nl, ttinf_nl, ytinf_nl)"
   ],
   "metadata": {
    "collapsed": false
   },
   "id": "14439bebca7696ea"
  },
  {
   "cell_type": "code",
   "execution_count": null,
   "outputs": [],
   "source": [
    "b=dfins_en.loc[dfins_en['username'].isin(a)]\n",
    "b"
   ],
   "metadata": {
    "collapsed": false
   },
   "id": "76ada3b7e03db8e9"
  },
  {
   "cell_type": "code",
   "execution_count": null,
   "outputs": [],
   "source": [
    "b=ic.filter_rows_by_count(dfyt_nl, \"channel_title\", 5)\n",
    "b=b.loc[b['channel_title'].isin(a)]\n",
    "b = b['channel_title'].value_counts()\n",
    "\n",
    "# Get the top 10 usernames with the most rows\n",
    "top_10_usernames = b.head(10)\n",
    "top_10_usernames"
   ],
   "metadata": {
    "collapsed": false
   },
   "id": "5e6bec13f4382898"
  },
  {
   "cell_type": "code",
   "execution_count": null,
   "outputs": [],
   "source": [
    "b"
   ],
   "metadata": {
    "collapsed": false
   },
   "id": "ff3d339f7d62d4a"
  },
  {
   "cell_type": "code",
   "execution_count": null,
   "outputs": [],
   "source": [
    "b=dfyt_en.loc[dfyt_en['channel_title'].isin(a)]\n",
    "username_counts = b['channel_title'].value_counts()\n",
    "\n",
    "# Create a mask for usernames that appear at least 10 times\n",
    "mask = username_counts[b['channel_title']].values >= 10\n",
    "\n",
    "# Filter the DataFrame\n",
    "result = b.loc[mask]\n",
    "result"
   ],
   "metadata": {
    "collapsed": false
   },
   "id": "ced8c0e353ee17fb"
  },
  {
   "cell_type": "code",
   "execution_count": null,
   "outputs": [],
   "source": [
    "ic.plot_instances_by_week(dfins_en,\"date\", \"Instagram Posting English\")\n",
    "ic.plot_instances_by_week(dfins_nl,\"date\", \"Instagram Posting Dutch\")\n",
    "ic.plot_instances_by_week(dftt_en,\"create_time\", \"TikTok Posting English\")\n",
    "ic.plot_instances_by_week(dftt_nl,\"create_time\", \"TikTok Posting Dutch\")\n",
    "ic.plot_instances_by_week(dfyt_en,\"published_at_video\", \"YouTube Posting English\")\n",
    "ic.plot_instances_by_week(dfyt_nl,\"published_at_video\", \"YouTube Posting Dutch\")"
   ],
   "metadata": {
    "collapsed": false
   },
   "id": "75c8dc5b4a77ea8c"
  },
  {
   "cell_type": "code",
   "execution_count": null,
   "outputs": [],
   "source": [
    "ic.plot_instances_together(dfins_en,dftt_en,dfyt_en,\"date\",\"create_time\",\"published_at_video\",\"Instagram\",\"TikTok\",\"YouTube\",\"Evolution of Posting per Week English\")\n",
    "ic.plot_instances_together(dfins_nl,dftt_nl,dfyt_nl,\"date\",\"create_time\",\"published_at_video\",\"Instagram\",\"TikTok\",\"YouTube\",\"Evolution of Posting per Week Dutch\")"
   ],
   "metadata": {
    "collapsed": false
   },
   "id": "6af0dfbe694dad68"
  },
  {
   "cell_type": "code",
   "execution_count": null,
   "outputs": [],
   "source": [
    "timediffins_en = ic.calculate_time_between_posts(dfins_en, \"username\", \"date\")\n",
    "timediffins_nl = ic.calculate_time_between_posts(dfins_nl, \"username\", \"date\")\n",
    "timedifftt_en = ic.calculate_time_between_posts(dftt_en, \"username\", \"create_time\")\n",
    "timedifftt_nl = ic.calculate_time_between_posts(dftt_nl, \"username\", \"create_time\")\n",
    "timediffyt_en = ic.calculate_time_between_posts(dfyt_en, \"channel_title\", \"published_at_video\")\n",
    "timediffyt_nl = ic.calculate_time_between_posts(dfyt_nl, \"channel_title\", \"published_at_video\")"
   ],
   "metadata": {
    "collapsed": false
   },
   "id": "357725b4a4d9d7e0"
  },
  {
   "cell_type": "code",
   "execution_count": null,
   "outputs": [],
   "source": [
    "ic.plot_time_between_posts(timediffyt_en, timedifftt_en, timediffins_en, \"YouTube\", \"TikTok\", \"Instagram\", \"Time Between Posts English\")\n",
    "ic.plot_time_between_posts(timediffyt_nl, timedifftt_nl, timediffins_nl, \"YouTube\", \"TikTok\", \"Instagram\", \"Time Between Posts Dutch\")"
   ],
   "metadata": {
    "collapsed": false
   },
   "id": "cf24f2bd3a6cb1b5"
  },
  {
   "cell_type": "code",
   "execution_count": null,
   "outputs": [],
   "source": [
    "unihasins_en=len(ic.get_unique_hashtags(dfins_en, \"hastag\"))\n",
    "unihasins_nl=len(ic.get_unique_hashtags(dfins_nl, \"hastag\"))\n",
    "unihastt_en=len(ic.get_unique_hashtags(dftt_en, \"hashtag_names\"))\n",
    "unihastt_nl=len(ic.get_unique_hashtags(dftt_nl, \"hashtag_names\"))\n",
    "unihasyt_en=len(ic.get_unique_hashtags(dfyt_en, \"tags\"))\n",
    "unihasyt_nl=len(ic.get_unique_hashtags(dfyt_nl, \"tags\"))\n",
    "\n",
    "# Data\n",
    "platforms = ['Instagram English', 'Instagram Dutch', 'TikTok English', 'TikTok Dutch', 'YouTube English', 'YouTube Dutch']\n",
    "unique_counts = [unihasins_en, unihasins_nl, unihastt_en, unihastt_nl, unihasyt_en, unihasyt_nl]\n",
    "\n",
    "# Create bar plot\n",
    "plt.figure(figsize=(10, 6))\n",
    "plt.bar(platforms, unique_counts, color='skyblue')\n",
    "plt.xlabel('Platforms')\n",
    "plt.ylabel('Number of Unique Hashtags')\n",
    "plt.title('Number of Unique Hashtags per Platform')\n",
    "plt.xticks(rotation=45, ha='right')  # Rotate x-axis labels for better readability\n",
    "plt.tight_layout()\n",
    "\n",
    "plt.show()\n"
   ],
   "metadata": {
    "collapsed": false
   },
   "id": "7e6d80029dfaa5b3"
  },
  {
   "cell_type": "code",
   "execution_count": null,
   "outputs": [],
   "source": [
    "unitagins_en=len(ic.get_unique_hashtags(dfins_en, \"tagged_user\"))\n",
    "unitagins_nl=len(ic.get_unique_hashtags(dfins_nl, \"tagged_user\"))\n",
    "unitagtt_en=len(ic.get_unique_hashtags(dftt_en, \"tagged_user\"))\n",
    "unitagtt_nl=len(ic.get_unique_hashtags(dftt_nl, \"tagged_user\"))\n",
    "unitagyt_en=len(ic.get_unique_hashtags(dfyt_en, \"tagged_user\"))\n",
    "unitagyt_nl=len(ic.get_unique_hashtags(dfyt_nl, \"tagged_user\"))\n",
    "\n",
    "# Data\n",
    "platforms = ['Instagram English', 'Instagram Dutch', 'TikTok English', 'TikTok Dutch', 'YouTube English', 'YouTube Dutch']\n",
    "unique_counts = [unitagins_en, unitagins_nl, unitagtt_en, unitagtt_nl, unitagyt_en, unitagyt_nl]\n",
    "\n",
    "# Create bar plot\n",
    "plt.figure(figsize=(10, 6))\n",
    "plt.bar(platforms, unique_counts, color='skyblue')\n",
    "plt.xlabel('Platforms')\n",
    "plt.ylabel('Number of Unique Hashtags')\n",
    "plt.title('Number of Unique Hashtags per Platform')\n",
    "plt.xticks(rotation=45, ha='right')  # Rotate x-axis labels for better readability\n",
    "plt.tight_layout()\n",
    "\n",
    "# Display the plot\n",
    "plt.show()\n"
   ],
   "metadata": {
    "collapsed": false
   },
   "id": "8ecc81afd45da144"
  },
  {
   "cell_type": "code",
   "execution_count": null,
   "outputs": [],
   "source": [
    "ic.draw_hashtag_network(dfins_en, \"hastag\", \"English Instagram Hashtag Network\", edge_weight=0.2)\n",
    "ic.draw_hashtag_network(dfins_nl, \"hastag\", \"Dutch Instagram Hashtag Network\", edge_weight=0.2)\n",
    "ic.draw_hashtag_network(dftt_en, \"hastag\", \"English TikTok Hashtag Network\", edge_weight=0.2)\n",
    "ic.draw_hashtag_network(dftt_nl, \"hastag\", \"Dutch TikTok Hashtag Network\", edge_weight=0.2)\n",
    "ic.draw_hashtag_network(dfyt_en, \"hastag\", \"English YouTube Hashtag Network\", edge_weight=0.2)\n",
    "ic.draw_hashtag_network(dfyt_nl, \"hastag\", \"Dutch YouTube Hashtag Network\", edge_weight=0.2)"
   ],
   "metadata": {
    "collapsed": false
   },
   "id": "6a5acef973ffa9c7"
  },
  {
   "cell_type": "code",
   "execution_count": null,
   "outputs": [],
   "source": [
    "ic.draw_tag_network(dfins_en, \"tagged_user\", \"English Instagram Tag Network\", edge_weight=0.2)\n",
    "ic.draw_tag_network(dfins_nl, \"tagged_user\", \"Dutch Instagram Tag Network\", edge_weight=0.2)\n",
    "ic.draw_tag_network(dftt_en, \"tagged_user\", \"English TikTok Tag Network\", edge_weight=0.2)\n",
    "ic.draw_tag_network(dftt_nl, \"tagged_user\", \"Dutch TikTok Tag Network\", edge_weight=0.2)\n",
    "ic.draw_tag_network(dfyt_en, \"tagged_user\", \"English YouTube Tag Network\", edge_weight=0.2)\n",
    "ic.draw_tag_network(dfyt_nl, \"tagged_user\", \"Dutch YouTube Tag Network\", edge_weight=0.2)"
   ],
   "metadata": {
    "collapsed": false
   },
   "id": "aa838867a4b18c05"
  },
  {
   "cell_type": "code",
   "execution_count": null,
   "outputs": [],
   "source": [
    "# English Instagram\n",
    "infcharins_en = pd.DataFrame()\n",
    "infcharins_en[\"username\"] = dfins_en[\"username\"].unique()\n",
    "ic.calculate_post_count(dfins_en, infcharins_en, \"username\")\n",
    "ic.calculate_avg_hashtag_per_post(dfins_en, infcharins_en, \"username\", \"caption_hashtags\")\n",
    "ic.calculate_sd_hashtag_per_post(dfins_en, infcharins_en, \"username\", \"caption_hashtags\")\n",
    "ic.calculate_avg_tag_per_post(dfins_en, infcharins_en, \"username\", \"tagged_users\")\n",
    "ic.calculate_sd_tag_per_post(dfins_en, infcharins_en, \"username\", \"tagged_users\")\n",
    "ic.calculate_avg_caption_length_per_user(dfins_en, infcharins_en, \"username\", \"caption\")\n",
    "ic.calculate_sd_caption_length_per_user(dfins_en, infcharins_en, \"username\", \"caption\")\n",
    "\n",
    "# Dutch Instagram\n",
    "infcharins_nl = pd.DataFrame()\n",
    "infcharins_nl[\"username\"] = dfins_nl[\"username\"].unique()\n",
    "ic.calculate_post_count(dfins_nl, infcharins_nl, \"username\")\n",
    "ic.calculate_avg_hashtag_per_post(dfins_nl, infcharins_nl, \"username\", \"caption_hashtags\")\n",
    "ic.calculate_sd_hashtag_per_post(dfins_nl, infcharins_nl, \"username\", \"caption_hashtags\")\n",
    "ic.calculate_avg_tag_per_post(dfins_nl, infcharins_nl, \"username\", \"tagged_users\")\n",
    "ic.calculate_sd_tag_per_post(dfins_nl, infcharins_nl, \"username\", \"tagged_users\")\n",
    "ic.calculate_avg_caption_length_per_user(dfins_nl, infcharins_nl, \"username\", \"caption\")\n",
    "ic.calculate_sd_caption_length_per_user(dfins_nl, infcharins_nl, \"username\", \"caption\")\n",
    "\n",
    "# English TikTok\n",
    "infchartt_en = pd.DataFrame()\n",
    "infchartt_en[\"username\"] = dftt_en[\"username\"].unique()\n",
    "ic.calculate_post_count(dftt_en, infchartt_en, \"username\")\n",
    "ic.calculate_avg_hashtag_per_post(dftt_en, infchartt_en, \"username\", \"hashtag_names\")\n",
    "ic.calculate_sd_hashtag_per_post(dftt_en, infchartt_en, \"username\", \"hashtag_names\")\n",
    "ic.calculate_avg_tag_per_post(dftt_en, infchartt_en, \"username\", \"tagged_user\")\n",
    "ic.calculate_sd_tag_per_post(dftt_en, infchartt_en, \"username\", \"tagged_user\")\n",
    "ic.calculate_avg_caption_length_per_user(dftt_en, infchartt_en, \"username\", \"video_description\")\n",
    "ic.calculate_sd_caption_length_per_user(dftt_en, infchartt_en, \"username\", \"video_description\")\n",
    "\n",
    "# Dutch TikTok\n",
    "infchartt_nl = pd.DataFrame()\n",
    "infchartt_nl[\"username\"] = dftt_nl[\"username\"].unique()\n",
    "ic.calculate_post_count(dftt_nl, infchartt_nl, \"username\")\n",
    "ic.calculate_avg_hashtag_per_post(dftt_nl, infchartt_nl, \"username\", \"hashtag_names\")\n",
    "ic.calculate_sd_hashtag_per_post(dftt_nl, infchartt_nl, \"username\", \"hashtag_names\")\n",
    "ic.calculate_avg_tag_per_post(dftt_nl, infchartt_nl, \"username\", \"tagged_user\")\n",
    "ic.calculate_sd_tag_per_post(dftt_nl, infchartt_nl, \"username\", \"tagged_user\")\n",
    "ic.calculate_avg_caption_length_per_user(dftt_nl, infchartt_nl, \"username\", \"video_description\")\n",
    "ic.calculate_sd_caption_length_per_user(dftt_nl, infchartt_nl, \"username\", \"video_description\")\n",
    "\n",
    "# English YouTube\n",
    "infcharyt_en = pd.DataFrame()\n",
    "infcharyt_en[\"username\"] = dfyt_en[\"channel_title\"].unique()\n",
    "ic.calculate_post_count(dfyt_en, infcharyt_en, \"channel_title\")\n",
    "ic.calculate_avg_hashtag_per_post(dfyt_en, infcharyt_en, \"channel_title\", \"tags\")\n",
    "ic.calculate_sd_hashtag_per_post(dfyt_en, infcharyt_en, \"channel_title\", \"tags\")\n",
    "ic.calculate_avg_tag_per_post(dfyt_en, infcharyt_en, \"channel_title\", \"tagged_user\")\n",
    "ic.calculate_sd_tag_per_post(dfyt_en, infcharyt_en, \"channel_title\", \"tagged_user\")\n",
    "ic.calculate_avg_caption_length_per_user(dfyt_en, infcharyt_en, \"channel_title\", \"description_video\")\n",
    "ic.calculate_sd_caption_length_per_user(dfyt_en, infcharyt_en, \"channel_title\", \"description_video\")\n",
    "\n",
    "# Dutch YouTube\n",
    "infcharyt_nl = pd.DataFrame()\n",
    "infcharyt_nl[\"username\"] = dfyt_nl[\"channel_title\"].unique()\n",
    "ic.calculate_post_count(dfyt_nl, infcharyt_nl, \"channel_title\")\n",
    "ic.calculate_avg_hashtag_per_post(dfyt_nl, infcharyt_nl, \"channel_title\", \"tags\")\n",
    "ic.calculate_sd_hashtag_per_post(dfyt_nl, infcharyt_nl, \"channel_title\", \"tags\")\n",
    "ic.calculate_avg_tag_per_post(dfyt_nl, infcharyt_nl, \"channel_title\", \"tagged_user\")\n",
    "ic.calculate_sd_tag_per_post(dfyt_nl, infcharyt_nl, \"channel_title\", \"tagged_user\")\n",
    "ic.calculate_avg_caption_length_per_user(dfyt_nl, infcharyt_nl, \"channel_title\", \"description_video\")\n",
    "ic.calculate_sd_caption_length_per_user(dfyt_nl, infcharyt_nl, \"channel_title\", \"description_video\")"
   ],
   "metadata": {
    "collapsed": false
   },
   "id": "ba6218b8fc2eff81"
  }
 ],
 "metadata": {
  "kernelspec": {
   "display_name": "Python 3",
   "language": "python",
   "name": "python3"
  },
  "language_info": {
   "codemirror_mode": {
    "name": "ipython",
    "version": 2
   },
   "file_extension": ".py",
   "mimetype": "text/x-python",
   "name": "python",
   "nbconvert_exporter": "python",
   "pygments_lexer": "ipython2",
   "version": "2.7.6"
  }
 },
 "nbformat": 4,
 "nbformat_minor": 5
}
