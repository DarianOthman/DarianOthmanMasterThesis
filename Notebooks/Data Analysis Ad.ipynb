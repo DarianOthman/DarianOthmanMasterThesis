{
 "cells": [
  {
   "cell_type": "code",
   "execution_count": 26,
   "id": "initial_id",
   "metadata": {
    "collapsed": true,
    "ExecuteTime": {
     "end_time": "2024-06-13T14:48:27.542255400Z",
     "start_time": "2024-06-13T14:48:27.232763800Z"
    }
   },
   "outputs": [],
   "source": [
    "import pandas as pd\n",
    "import sys\n",
    "sys.path.append(r'C:\\Users\\I6240624\\Documents\\BISS\\Master Thesis\\Code\\DarianOthmanMasterThesis\\Functions')\n",
    "import Influencer_Characteristics as ic\n",
    "import File_Opening as fo\n",
    "import matplotlib.pyplot as plt"
   ]
  },
  {
   "cell_type": "code",
   "execution_count": 28,
   "outputs": [],
   "source": [
    "dfins_en = fo.read_data(r'C:/Users/I6240624/Documents/BISS/Master Thesis/Code/DarianOthmanMasterThesis/Real_Data_English/sampleinsen.csv')\n",
    "ic.ad_column(dfins_en, \"caption\")\n",
    "dfins_en_ad = dfins_en[dfins_en[\"ad\"] == 1]\n",
    "dfins_nl = fo.read_data(r'C:/Users/I6240624/Documents/BISS/Master Thesis/Code/DarianOthmanMasterThesis/Real_Data_Dutch/sampleinsnl.csv')\n",
    "ic.ad_column_dutch(dfins_nl,\"caption\")\n",
    "dfins_nl_ad = dfins_nl[dfins_nl[\"ad\"] == 1]\n",
    "dftt_en = fo.read_data(r'C:/Users/I6240624/Documents/BISS/Master Thesis/Code/DarianOthmanMasterThesis/Real_Data_English/sampletten.csv')\n",
    "ic.ad_column(dftt_en,\"caption\")\n",
    "dftt_en_ad = dftt_en[dftt_en[\"ad\"] == 1]\n",
    "dftt_nl = fo.read_data(r'C:/Users/I6240624/Documents/BISS/Master Thesis/Code/DarianOthmanMasterThesis/Real_Data_Dutch/samplettnl.csv')\n",
    "ic.ad_column_dutch(dftt_nl,\"caption\")\n",
    "dftt_nl_ad = dftt_nl[dftt_nl[\"ad\"] == 1]\n",
    "dfyt_en = fo.read_data(r'C:/Users/I6240624/Documents/BISS/Master Thesis/Code/DarianOthmanMasterThesis/Real_Data_English/sampleyten.csv')\n",
    "ic.ad_column(dfyt_en,\"caption\")\n",
    "dfyt_en_ad = dfyt_en[dfyt_en[\"ad\"] == 1]\n",
    "dfyt_nl = fo.read_data(r'C:/Users/I6240624/Documents/BISS/Master Thesis/Code/DarianOthmanMasterThesis/Real_Data_Dutch/sampleytnl.csv')\n",
    "ic.ad_column_dutch(dfyt_nl,\"caption\")\n",
    "dfyt_nl_ad = dfyt_nl[dfyt_nl[\"ad\"] == 1]"
   ],
   "metadata": {
    "collapsed": false,
    "ExecuteTime": {
     "end_time": "2024-06-13T14:48:27.673901700Z",
     "start_time": "2024-06-13T14:48:27.365643900Z"
    }
   },
   "id": "ab5dbb8995ae530d"
  },
  {
   "cell_type": "code",
   "execution_count": 29,
   "outputs": [
    {
     "data": {
      "text/plain": "{'dfyt_en_ad': {'#ad': 53, 'spon': 51, 'merch': 49},\n 'dfyt_nl_ad': {'merch': 73, 'spon': 23, 'sponsor': 20},\n 'dftt_en_ad': {'#ad': 7, 'partner': 4, 'gift': 4},\n 'dftt_nl_ad': {'#ad': 27, 'partner': 2, '#partner': 1},\n 'dfins_en_ad': {'#ad': 15, 'partner': 8, 'gift': 6},\n 'dfins_nl_ad': {'#ad': 18, 'partner': 9, '#partner': 6}}"
     },
     "execution_count": 29,
     "metadata": {},
     "output_type": "execute_result"
    }
   ],
   "source": [
    "top_keywords = {}\n",
    "\n",
    "# Function to get top 3 keywords from dataframe\n",
    "def get_top_keywords(df):\n",
    "    return df['keyword'].apply(lambda x: x.split(',')).explode().value_counts().head(3).to_dict()\n",
    "\n",
    "# Populate dictionary with results\n",
    "top_keywords['dfyt_en_ad'] = get_top_keywords(dfyt_en_ad)\n",
    "top_keywords['dfyt_nl_ad'] = get_top_keywords(dfyt_nl_ad)\n",
    "top_keywords['dftt_en_ad'] = get_top_keywords(dftt_en_ad)\n",
    "top_keywords['dftt_nl_ad'] = get_top_keywords(dftt_nl_ad)\n",
    "top_keywords['dfins_en_ad'] = get_top_keywords(dfins_en_ad)\n",
    "top_keywords['dfins_nl_ad'] = get_top_keywords(dfins_nl_ad)\n",
    "top_keywords"
   ],
   "metadata": {
    "collapsed": false,
    "ExecuteTime": {
     "end_time": "2024-06-13T14:48:27.800532800Z",
     "start_time": "2024-06-13T14:48:27.609035300Z"
    }
   },
   "id": "28b61a3e7f1aaf05"
  },
  {
   "cell_type": "code",
   "execution_count": 30,
   "outputs": [
    {
     "data": {
      "text/plain": "    Ratio Name  Value\n0  dfins_en_ad  0.032\n1  dfins_nl_ad  0.039\n2   dftt_en_ad  0.015\n3   dftt_nl_ad  0.030\n4   dfyt_en_ad  0.158\n5   dfyt_nl_ad  0.109",
      "text/html": "<div>\n<style scoped>\n    .dataframe tbody tr th:only-of-type {\n        vertical-align: middle;\n    }\n\n    .dataframe tbody tr th {\n        vertical-align: top;\n    }\n\n    .dataframe thead th {\n        text-align: right;\n    }\n</style>\n<table border=\"1\" class=\"dataframe\">\n  <thead>\n    <tr style=\"text-align: right;\">\n      <th></th>\n      <th>Ratio Name</th>\n      <th>Value</th>\n    </tr>\n  </thead>\n  <tbody>\n    <tr>\n      <th>0</th>\n      <td>dfins_en_ad</td>\n      <td>0.032</td>\n    </tr>\n    <tr>\n      <th>1</th>\n      <td>dfins_nl_ad</td>\n      <td>0.039</td>\n    </tr>\n    <tr>\n      <th>2</th>\n      <td>dftt_en_ad</td>\n      <td>0.015</td>\n    </tr>\n    <tr>\n      <th>3</th>\n      <td>dftt_nl_ad</td>\n      <td>0.030</td>\n    </tr>\n    <tr>\n      <th>4</th>\n      <td>dfyt_en_ad</td>\n      <td>0.158</td>\n    </tr>\n    <tr>\n      <th>5</th>\n      <td>dfyt_nl_ad</td>\n      <td>0.109</td>\n    </tr>\n  </tbody>\n</table>\n</div>"
     },
     "execution_count": 30,
     "metadata": {},
     "output_type": "execute_result"
    }
   ],
   "source": [
    "# Calculate the ratios\n",
    "ratios = {\n",
    "    'dfins_en_ad': len(dfins_en_ad) / len(dfins_en),\n",
    "    'dfins_nl_ad': len(dfins_nl_ad) / len(dfins_nl),\n",
    "    'dftt_en_ad': len(dftt_en_ad) / len(dftt_en),\n",
    "    'dftt_nl_ad':  len(dftt_nl_ad) / len(dftt_nl),\n",
    "    'dfyt_en_ad': len(dfyt_en_ad) / len(dfyt_en),\n",
    "    'dfyt_nl_ad': len(dfyt_nl_ad) / len(dfyt_nl)\n",
    "}\n",
    "\n",
    "# Create a DataFrame\n",
    "df_ratios_real = pd.DataFrame(list(ratios.items()), columns=['Ratio Name', 'Value'])\n",
    "df_ratios_real"
   ],
   "metadata": {
    "collapsed": false,
    "ExecuteTime": {
     "end_time": "2024-06-13T14:48:27.836385900Z",
     "start_time": "2024-06-13T14:48:27.648639Z"
    }
   },
   "id": "b745fe826ba66eae"
  },
  {
   "cell_type": "code",
   "execution_count": 31,
   "outputs": [],
   "source": [
    "# Open Agnostic t1 p1 English\n",
    "yten= fo.read_data_ai('C:/Users/I6240624/Documents/BISS/Master Thesis/Data/AI_Generation/Generic_t=1_p=1_YouTube.csv')\n",
    "ic.ad_column(yten, 0)\n",
    "yten_ad = yten[yten[\"ad\"] == 1]\n",
    "tten= fo.read_data_ai('C:/Users/I6240624/Documents/BISS/Master Thesis/Data/AI_Generation/Generic_t=1_p=1_TikTok.csv')\n",
    "ic.ad_column(tten, 0)\n",
    "tten_ad = tten[tten[\"ad\"] == 1]\n",
    "insen= fo.read_data_ai('C:/Users/I6240624/Documents/BISS/Master Thesis/Data/AI_Generation/Generic_t=1_p=1_Instagram.csv')\n",
    "ic.ad_column(insen, 0)\n",
    "insen_ad = insen[insen[\"ad\"] == 1]"
   ],
   "metadata": {
    "collapsed": false,
    "ExecuteTime": {
     "end_time": "2024-06-13T14:48:28.008799600Z",
     "start_time": "2024-06-13T14:48:27.679744800Z"
    }
   },
   "id": "e3279a40c6019fd1"
  },
  {
   "cell_type": "code",
   "execution_count": 32,
   "outputs": [],
   "source": [
    "# Open Agnostic t1 p1 Dutch\n",
    "ytnl= fo.read_data_ai('C:/Users/I6240624/Documents/BISS/Master Thesis/Data/AI_Generation/Generic_t=1_p=1_YouTube_Dutch.csv')\n",
    "ic.ad_column(ytnl, 0)\n",
    "ytnl_ad = ytnl[ytnl[\"ad\"] == 1]\n",
    "ttnl= fo.read_data_ai('C:/Users/I6240624/Documents/BISS/Master Thesis/Data/AI_Generation/Generic_t=1_p=1_TikTok_Dutch.csv')\n",
    "ic.ad_column_dutch(ttnl, 0)\n",
    "ttnl_ad = ttnl[ttnl[\"ad\"] == 1]\n",
    "insnl= fo.read_data_ai('C:/Users/I6240624/Documents/BISS/Master Thesis/Data/AI_Generation/Generic_t=1_p=1_Instagram_Dutch.csv')\n",
    "ic.ad_column_dutch(insnl, 0)\n",
    "insnl_ad = insnl[insnl[\"ad\"] == 1]"
   ],
   "metadata": {
    "collapsed": false,
    "ExecuteTime": {
     "end_time": "2024-06-13T14:48:28.093632600Z",
     "start_time": "2024-06-13T14:48:27.786681500Z"
    }
   },
   "id": "92f8ffcb941fb989"
  },
  {
   "cell_type": "code",
   "execution_count": 33,
   "outputs": [
    {
     "data": {
      "text/plain": "  Ratio Name     Value\n0   insen_ad  0.028019\n1   insnl_ad  0.024096\n2    tten_ad  0.034582\n3    ttnl_ad  0.020833\n4    yten_ad  0.053606\n5    ytnl_ad  0.090305",
      "text/html": "<div>\n<style scoped>\n    .dataframe tbody tr th:only-of-type {\n        vertical-align: middle;\n    }\n\n    .dataframe tbody tr th {\n        vertical-align: top;\n    }\n\n    .dataframe thead th {\n        text-align: right;\n    }\n</style>\n<table border=\"1\" class=\"dataframe\">\n  <thead>\n    <tr style=\"text-align: right;\">\n      <th></th>\n      <th>Ratio Name</th>\n      <th>Value</th>\n    </tr>\n  </thead>\n  <tbody>\n    <tr>\n      <th>0</th>\n      <td>insen_ad</td>\n      <td>0.028019</td>\n    </tr>\n    <tr>\n      <th>1</th>\n      <td>insnl_ad</td>\n      <td>0.024096</td>\n    </tr>\n    <tr>\n      <th>2</th>\n      <td>tten_ad</td>\n      <td>0.034582</td>\n    </tr>\n    <tr>\n      <th>3</th>\n      <td>ttnl_ad</td>\n      <td>0.020833</td>\n    </tr>\n    <tr>\n      <th>4</th>\n      <td>yten_ad</td>\n      <td>0.053606</td>\n    </tr>\n    <tr>\n      <th>5</th>\n      <td>ytnl_ad</td>\n      <td>0.090305</td>\n    </tr>\n  </tbody>\n</table>\n</div>"
     },
     "execution_count": 33,
     "metadata": {},
     "output_type": "execute_result"
    }
   ],
   "source": [
    "ratios_ai = {\n",
    "    'insen_ad': len(insen_ad) / len(insen),\n",
    "    'insnl_ad': len(insnl_ad) / len(insnl),\n",
    "    'tten_ad': len(tten_ad) / len(tten),\n",
    "    'ttnl_ad':  len(ttnl_ad) / len(ttnl),\n",
    "    'yten_ad': len(yten_ad) / len(yten),\n",
    "    'ytnl_ad': len(ytnl_ad) / len(ytnl)\n",
    "}\n",
    "\n",
    "# Create a DataFrame\n",
    "df_ratios_ai = pd.DataFrame(list(ratios_ai.items()), columns=['Ratio Name', 'Value'])\n",
    "df_ratios_ai"
   ],
   "metadata": {
    "collapsed": false,
    "ExecuteTime": {
     "end_time": "2024-06-13T14:48:28.143625700Z",
     "start_time": "2024-06-13T14:48:27.916756100Z"
    }
   },
   "id": "4c1c291530632910"
  },
  {
   "cell_type": "code",
   "execution_count": 34,
   "outputs": [],
   "source": [
    "# Open Content Aware t1 p1 English\n",
    "yten_ca= fo.read_data_ai('C:/Users/I6240624/Documents/BISS/Master Thesis/Data/AI_Generation/Content_Aware_t=1_p=1_YouTube.csv')\n",
    "ic.ad_column(yten_ca, 0)\n",
    "yten_ca_ad = yten_ca[yten_ca[\"ad\"] == 1]\n",
    "tten_ca= fo.read_data_ai('C:/Users/I6240624/Documents/BISS/Master Thesis/Data/AI_Generation/Content_Aware_t=1_p=1_TikTok.csv')\n",
    "ic.ad_column(tten_ca, 0)\n",
    "tten_ca_ad = tten_ca[tten_ca[\"ad\"] == 1]\n",
    "insen_ca= fo.read_data_ai('C:/Users/I6240624/Documents/BISS/Master Thesis/Data/AI_Generation/Content_Aware_t=1_p=1_Instagram.csv')\n",
    "ic.ad_column(insen_ca, 0)\n",
    "insen_ca_ad = insen_ca[insen_ca[\"ad\"] == 1]"
   ],
   "metadata": {
    "collapsed": false,
    "ExecuteTime": {
     "end_time": "2024-06-13T14:48:28.274938500Z",
     "start_time": "2024-06-13T14:48:27.945998900Z"
    }
   },
   "id": "e245e5f60a72d9b5"
  },
  {
   "cell_type": "code",
   "execution_count": 35,
   "outputs": [
    {
     "data": {
      "text/plain": "{'yten_ad': {'merch': 25, '#ad': 20, 'spon': 9},\n 'ytnl_ad': {'merch': 58, 'sponsor': 9, 'spon': 9},\n 'tten_ad': {'#ad': 24, 'spon': 7, 'partner': 5},\n 'ttnl_ad': {'partner': 8, '#ad': 7, 'spon': 3},\n 'insen_ad': {'#ad': 21, 'partner': 2, '#collab': 2},\n 'insnl_ad': {'#ad': 9, 'spon': 5, '#spon': 2}}"
     },
     "execution_count": 35,
     "metadata": {},
     "output_type": "execute_result"
    }
   ],
   "source": [
    "top_keywords = {}\n",
    "\n",
    "top_keywords['yten_ad'] = get_top_keywords(yten_ad)\n",
    "top_keywords['ytnl_ad'] = get_top_keywords(ytnl_ad)\n",
    "top_keywords['tten_ad'] = get_top_keywords(tten_ad)\n",
    "top_keywords['ttnl_ad'] = get_top_keywords(ttnl_ad)\n",
    "top_keywords['insen_ad'] = get_top_keywords(insen_ad)\n",
    "top_keywords['insnl_ad'] = get_top_keywords(insnl_ad)\n",
    "top_keywords"
   ],
   "metadata": {
    "collapsed": false,
    "ExecuteTime": {
     "end_time": "2024-06-13T14:48:33.234012700Z",
     "start_time": "2024-06-13T14:48:33.172064100Z"
    }
   },
   "id": "925e2cb7ebdc4769"
  },
  {
   "cell_type": "code",
   "execution_count": 36,
   "outputs": [],
   "source": [
    "# Open Content Aware t1 p1 Dutch\n",
    "ytnl_ca= fo.read_data_ai('C:/Users/I6240624/Documents/BISS/Master Thesis/Data/AI_Generation/Content_Aware_t=1_p=1_YouTube_Dutch.csv')\n",
    "ic.ad_column(ytnl_ca, 0)\n",
    "ytnl_ca_ad = ytnl_ca[ytnl_ca[\"ad\"] == 1]\n",
    "ttnl_ca= fo.read_data_ai('C:/Users/I6240624/Documents/BISS/Master Thesis/Data/AI_Generation/Content_Aware_t=1_p=1_TikTok_Dutch.csv')\n",
    "ic.ad_column_dutch(ttnl_ca, 0)\n",
    "ttnl_ca_ad = ttnl_ca[ttnl_ca[\"ad\"] == 1]\n",
    "insnl_ca= fo.read_data_ai('C:/Users/I6240624/Documents/BISS/Master Thesis/Data/AI_Generation/Content_Aware_t=1_p=1_Instagram_Dutch.csv')\n",
    "ic.ad_column_dutch(insnl_ca, 0)\n",
    "insnl_ca_ad = insnl_ca[insnl_ca[\"ad\"] == 1]"
   ],
   "metadata": {
    "collapsed": false,
    "ExecuteTime": {
     "end_time": "2024-06-13T14:53:28.350602700Z",
     "start_time": "2024-06-13T14:53:28.246405Z"
    }
   },
   "id": "6e0ac89b496cf50e"
  },
  {
   "cell_type": "code",
   "execution_count": 20,
   "outputs": [
    {
     "data": {
      "text/plain": "    Ratio Name     Value\n0  insen_ca_ad  0.047481\n1  insnl_ca_ad  0.035141\n2   tten_ca_ad  0.035749\n3   ttnl_ca_ad  0.022923\n4   yten_ca_ad  0.068817\n5   ytnl_ca_ad  0.083048",
      "text/html": "<div>\n<style scoped>\n    .dataframe tbody tr th:only-of-type {\n        vertical-align: middle;\n    }\n\n    .dataframe tbody tr th {\n        vertical-align: top;\n    }\n\n    .dataframe thead th {\n        text-align: right;\n    }\n</style>\n<table border=\"1\" class=\"dataframe\">\n  <thead>\n    <tr style=\"text-align: right;\">\n      <th></th>\n      <th>Ratio Name</th>\n      <th>Value</th>\n    </tr>\n  </thead>\n  <tbody>\n    <tr>\n      <th>0</th>\n      <td>insen_ca_ad</td>\n      <td>0.047481</td>\n    </tr>\n    <tr>\n      <th>1</th>\n      <td>insnl_ca_ad</td>\n      <td>0.035141</td>\n    </tr>\n    <tr>\n      <th>2</th>\n      <td>tten_ca_ad</td>\n      <td>0.035749</td>\n    </tr>\n    <tr>\n      <th>3</th>\n      <td>ttnl_ca_ad</td>\n      <td>0.022923</td>\n    </tr>\n    <tr>\n      <th>4</th>\n      <td>yten_ca_ad</td>\n      <td>0.068817</td>\n    </tr>\n    <tr>\n      <th>5</th>\n      <td>ytnl_ca_ad</td>\n      <td>0.083048</td>\n    </tr>\n  </tbody>\n</table>\n</div>"
     },
     "execution_count": 20,
     "metadata": {},
     "output_type": "execute_result"
    }
   ],
   "source": [
    "ratios_ai_dutch = {\n",
    "    'insen_ca_ad': len(insen_ca_ad) / len(insen_ca),\n",
    "    'insnl_ca_ad': len(insnl_ca_ad) / len(insnl_ca),\n",
    "    'tten_ca_ad': len(tten_ca_ad) / len(tten_ca),\n",
    "    'ttnl_ca_ad':  len(ttnl_ca_ad) / len(ttnl_ca),\n",
    "    'yten_ca_ad': len(yten_ca_ad) / len(yten_ca),\n",
    "    'ytnl_ca_ad': len(ytnl_ca_ad) / len(ytnl_ca)\n",
    "}\n",
    "\n",
    "# Create a DataFrame\n",
    "df_ratios_ai_dutch = pd.DataFrame(list(ratios_ai_dutch.items()), columns=['Ratio Name', 'Value'])\n",
    "df_ratios_ai_dutch"
   ],
   "metadata": {
    "collapsed": false,
    "ExecuteTime": {
     "end_time": "2024-06-13T11:23:06.047814900Z",
     "start_time": "2024-06-13T11:23:05.530202500Z"
    }
   },
   "id": "7dc8b7b3eac1e30a"
  },
  {
   "cell_type": "code",
   "execution_count": 37,
   "outputs": [
    {
     "data": {
      "text/plain": "{'yten_ca_ad': {'merch': 33, '#ad': 18, 'spon': 13},\n 'ytnl_ca_ad': {'merch': 125, 'spon': 46, 'sponsor': 33},\n 'tten_ca_ad': {'#ad': 27, 'partner': 6, 'spon': 5},\n 'ttnl_ca_ad': {'#ad': 16, 'partner': 6, '#partner': 1},\n 'insen_ca_ad': {'#ad': 37, 'partner': 4, 'spon': 4},\n 'insnl_ca_ad': {'#ad': 16, 'partner': 8, 'spon': 7}}"
     },
     "execution_count": 37,
     "metadata": {},
     "output_type": "execute_result"
    }
   ],
   "source": [
    "top_keywords = {}\n",
    "\n",
    "top_keywords['yten_ca_ad'] = get_top_keywords(yten_ca_ad)\n",
    "top_keywords['ytnl_ca_ad'] = get_top_keywords(ytnl_ca_ad)\n",
    "top_keywords['tten_ca_ad'] = get_top_keywords(tten_ca_ad)\n",
    "top_keywords['ttnl_ca_ad'] = get_top_keywords(ttnl_ca_ad)\n",
    "top_keywords['insen_ca_ad'] = get_top_keywords(insen_ca_ad)\n",
    "top_keywords['insnl_ca_ad'] = get_top_keywords(insnl_ca_ad)\n",
    "top_keywords"
   ],
   "metadata": {
    "collapsed": false,
    "ExecuteTime": {
     "end_time": "2024-06-13T14:53:33.755359600Z",
     "start_time": "2024-06-13T14:53:33.656143500Z"
    }
   },
   "id": "21033ea127ba9939"
  },
  {
   "cell_type": "code",
   "execution_count": null,
   "outputs": [],
   "source": [
    "insinf_en = fo.get_unique_values(dfins_en, \"username\")\n",
    "insinf_nl = fo.get_unique_values(dfins_nl, \"username\")\n",
    "ttinf_en = fo.get_unique_values(dftt_en, \"username\")\n",
    "ttinf_nl = fo.get_unique_values(dftt_nl, \"username\")\n",
    "ytinf_en = fo.get_unique_values(dfyt_en, \"channel_title\")\n",
    "ytinf_nl = fo.get_unique_values(dfyt_nl, \"channel_title\")"
   ],
   "metadata": {
    "collapsed": false
   },
   "id": "73df47f3d4774d5b"
  },
  {
   "cell_type": "code",
   "execution_count": null,
   "outputs": [],
   "source": [
    "dfyt_en[\"video_id\"].to_csv('dfyt_en_index_ad.csv', index=False)\n",
    "dfyt_nl[\"video_id\"].to_csv('dfyt_nl_index_ad.csv', index=False)\n",
    "dftt_en[\"id\"].to_csv('dftt_en_index_ad.csv', index=False)\n",
    "dftt_nl[\"id\"].to_csv('dftt_nl_index_ad.csv', index=False)\n",
    "dfins_en[\"ct_id\"].to_csv('dfins_en_index_ad.csv', index=False)\n",
    "dfins_nl[\"ct_id\"].to_csv('dfins_nl_index_ad.csv', index=False)"
   ],
   "metadata": {
    "collapsed": false
   },
   "id": "80e7787548653ad7"
  }
 ],
 "metadata": {
  "kernelspec": {
   "display_name": "Python 3",
   "language": "python",
   "name": "python3"
  },
  "language_info": {
   "codemirror_mode": {
    "name": "ipython",
    "version": 2
   },
   "file_extension": ".py",
   "mimetype": "text/x-python",
   "name": "python",
   "nbconvert_exporter": "python",
   "pygments_lexer": "ipython2",
   "version": "2.7.6"
  }
 },
 "nbformat": 4,
 "nbformat_minor": 5
}
