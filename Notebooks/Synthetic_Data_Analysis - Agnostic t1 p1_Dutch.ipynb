{
 "cells": [
  {
   "cell_type": "code",
   "execution_count": 1,
   "outputs": [],
   "source": [
    "import sys\n",
    "import pandas as pd\n",
    "sys.path.append(r'C:\\Users\\I6240624\\Documents\\BISS\\Master Thesis\\Code\\DarianOthmanMasterThesis\\Functions')\n",
    "import Influencer_Characteristics as ic\n",
    "import File_Opening as fo"
   ],
   "metadata": {
    "collapsed": false,
    "ExecuteTime": {
     "end_time": "2024-05-13T08:49:26.481022500Z",
     "start_time": "2024-05-13T08:49:25.049085800Z"
    }
   },
   "id": "b172ec81bce0850b"
  },
  {
   "cell_type": "code",
   "execution_count": 2,
   "outputs": [],
   "source": [
    "dftt_en= fo.read_data(r'C:/Users/I6240624/Documents/BISS/Master Thesis/Data/AI_Generation/samplettnl.csv')\n",
    "dfins_en= fo.read_data(r'C:/Users/I6240624/Documents/BISS/Master Thesis/Data/AI_Generation/sampleinsnl.csv')\n",
    "dfyt_en = fo.read_data(r'C:/Users/I6240624/Documents/BISS/Master Thesis/Data/AI_Generation/sampleytnl.csv')"
   ],
   "metadata": {
    "collapsed": false,
    "ExecuteTime": {
     "end_time": "2024-05-13T08:49:26.547660100Z",
     "start_time": "2024-05-13T08:49:26.490799900Z"
    }
   },
   "id": "58a08324955408b0"
  },
  {
   "cell_type": "code",
   "execution_count": 3,
   "outputs": [],
   "source": [
    "#dfins_en = fo.read_data(r'C:\\Users\\I6240624\\Documents\\BISS\\Master Thesis\\Code\\DarianOthmanMasterThesis\\Notebooks\\sampleins.csv')\n",
    "#dftt_en = fo.read_data(r'C:\\Users\\I6240624\\Documents\\BISS\\Master Thesis\\Code\\DarianOthmanMasterThesis\\samplett.csv')\n",
    "#dfyt_en = fo.read_data(r'C:\\Users\\I6240624\\Documents\\BISS\\Master Thesis\\Code\\DarianOthmanMasterThesis\\sampleyt.csv')"
   ],
   "metadata": {
    "collapsed": false,
    "ExecuteTime": {
     "end_time": "2024-05-13T08:49:26.563149200Z",
     "start_time": "2024-05-13T08:49:26.547660100Z"
    }
   },
   "id": "6639c279d9bd3dfd"
  },
  {
   "cell_type": "code",
   "execution_count": 4,
   "outputs": [],
   "source": [
    "# Open the data\n",
    "yten= fo.read_data_ai('C:/Users/I6240624/Documents/BISS/Master Thesis/Data/AI_Generation/Generic_t=1_p=1_YouTube_Dutch.csv')\n",
    "tten= fo.read_data_ai('C:/Users/I6240624/Documents/BISS/Master Thesis/Data/AI_Generation/Generic_t=1_p=1_TikTok_Dutch.csv')\n",
    "insen= fo.read_data_ai('C:/Users/I6240624/Documents/BISS/Master Thesis/Data/AI_Generation/Generic_t=1_p=1_Instagram_Dutch.csv')"
   ],
   "metadata": {
    "collapsed": false,
    "ExecuteTime": {
     "end_time": "2024-05-13T08:49:26.594390700Z",
     "start_time": "2024-05-13T08:49:26.563149200Z"
    }
   },
   "id": "e45bec438f576527"
  },
  {
   "cell_type": "code",
   "execution_count": null,
   "outputs": [],
   "source": [
    "# Applying the functions to the first column of the 'tten' dataset\n",
    "tten['mentions'] = tten[0].apply(lambda x: ic.extract_mentions(x))\n",
    "tten['urls'] = tten[0].apply(lambda x: ic.extract_urls(x))\n",
    "tten['hashtags'] = tten[0].apply(lambda x: ic.extract_hashtags(x))\n",
    "tten['emojis'] = tten[0].apply(lambda x: ic.extract_emojis(x))\n",
    "\n",
    "insen['mentions'] = insen[0].apply(lambda x: ic.extract_mentions(x))\n",
    "insen['urls'] = insen[0].apply(lambda x: ic.extract_urls(x))\n",
    "insen['hashtags'] = insen[0].apply(lambda x: ic.extract_hashtags(x))\n",
    "insen['emojis'] = insen[0].apply(lambda x: ic.extract_emojis(x))\n",
    "\n",
    "yten['mentions'] = yten[0].apply(lambda x: ic.extract_mentions(x))\n",
    "yten['urls'] = yten[0].apply(lambda x: ic.extract_urls(x))\n",
    "yten['hashtags'] = yten[0].apply(lambda x: ic.extract_hashtags(x))\n",
    "yten['emojis'] = yten[0].apply(lambda x: ic.extract_emojis(x))"
   ],
   "metadata": {
    "collapsed": false
   },
   "id": "7d78bb74453e8194"
  },
  {
   "cell_type": "code",
   "execution_count": null,
   "outputs": [],
   "source": [
    "columns_to_split = ['mentions', 'hashtags', 'urls', 'emojis']\n",
    "\n",
    "tten=ic.split_columns(tten, columns_to_split)\n",
    "\n",
    "yten=ic.split_columns(yten, columns_to_split)\n",
    "\n",
    "insen=ic.split_columns(insen, columns_to_split)"
   ],
   "metadata": {
    "collapsed": false
   },
   "id": "f02fb069ccea50f7"
  },
  {
   "cell_type": "code",
   "execution_count": null,
   "outputs": [],
   "source": [
    "dfins_en['mentions'] = dfins_en[\"caption\"].apply(lambda x: ic.extract_mentions(x))\n",
    "dfins_en['urls'] = dfins_en[\"caption\"].apply(lambda x: ic.extract_urls(x))\n",
    "dfins_en['hashtags'] = dfins_en[\"caption\"].apply(lambda x: ic.extract_hashtags(x))\n",
    "dfins_en['emojis'] = dfins_en[\"caption\"].apply(lambda x: ic.extract_emojis(x))\n",
    "\n",
    "dftt_en['mentions'] = dftt_en[\"video_description\"].apply(lambda x: ic.extract_mentions(x))\n",
    "dftt_en['urls'] = dftt_en[\"video_description\"].apply(lambda x: ic.extract_urls(x))\n",
    "dftt_en['hashtags'] = dftt_en[\"video_description\"].apply(lambda x: ic.extract_hashtags(x))\n",
    "dftt_en['emojis'] = dftt_en[\"video_description\"].apply(lambda x: ic.extract_emojis(x))\n",
    "\n",
    "dfyt_en['mentions'] = dfyt_en[\"description_video\"].apply(lambda x: ic.extract_mentions(x))\n",
    "dfyt_en['urls'] = dfyt_en[\"description_video\"].apply(lambda x: ic.extract_urls(x))\n",
    "dfyt_en['hashtags'] = dfyt_en[\"description_video\"].apply(lambda x: ic.extract_hashtags(x))\n",
    "dfyt_en['emojis'] = dfyt_en[\"description_video\"].apply(lambda x: ic.extract_emojis(x))"
   ],
   "metadata": {
    "collapsed": false
   },
   "id": "15930d70846bd7c8"
  },
  {
   "cell_type": "code",
   "execution_count": null,
   "outputs": [],
   "source": [
    "columns_to_split = ['mentions', 'hashtags', 'urls', 'emojis']\n",
    "\n",
    "dfins_en=ic.split_columns(dfins_en, columns_to_split)\n",
    "\n",
    "dftt_en=ic.split_columns(dftt_en, columns_to_split)\n",
    "\n",
    "dfyt_en=ic.split_columns(dfyt_en, columns_to_split)"
   ],
   "metadata": {
    "collapsed": false
   },
   "id": "97b02f655bd9d1a7"
  },
  {
   "cell_type": "code",
   "execution_count": null,
   "outputs": [],
   "source": [
    "dfyt_en=dfyt_en.rename(columns={'description_video': 'caption'})\n",
    "\n",
    "dftt_en=dftt_en.rename(columns={'video_description': 'caption'})\n",
    "\n",
    "insen=insen.rename(columns={0: 'caption'})\n",
    "\n",
    "yten=yten.rename(columns={0: 'caption'})\n",
    "\n",
    "tten=tten.rename(columns={0: 'caption'})"
   ],
   "metadata": {
    "collapsed": false
   },
   "id": "3c01374bdeb1c56b"
  },
  {
   "cell_type": "code",
   "execution_count": null,
   "outputs": [],
   "source": [
    "dfins_en['mentions_count'] = dfins_en['mentions'].apply(lambda x: len(x))\n",
    "dfins_en['hashtags_count'] = dfins_en['hashtags'].apply(lambda x: len(x))\n",
    "dfins_en['urls_count'] = dfins_en['urls'].apply(lambda x: len(x))\n",
    "dfins_en['emojis_count'] = dfins_en['emojis'].apply(lambda x: len(x))\n",
    "dfins_en['caption_length'] = dfins_en['caption'].apply(lambda x: len(x))\n",
    "\n",
    "dftt_en['mentions_count'] = dftt_en['mentions'].apply(lambda x: len(x))\n",
    "dftt_en['hashtags_count'] = dftt_en['hashtags'].apply(lambda x: len(x))\n",
    "dftt_en['urls_count'] = dftt_en['urls'].apply(lambda x: len(x))\n",
    "dftt_en['emojis_count'] = dftt_en['emojis'].apply(lambda x: len(x))\n",
    "dftt_en['caption_length'] = dftt_en['caption'].apply(lambda x: len(x))\n",
    "\n",
    "dfyt_en['mentions_count'] = dfyt_en['mentions'].apply(lambda x: len(x))\n",
    "dfyt_en['hashtags_count'] = dfyt_en['hashtags'].apply(lambda x: len(x))\n",
    "dfyt_en['urls_count'] = dfyt_en['urls'].apply(lambda x: len(x))\n",
    "dfyt_en['emojis_count'] = dfyt_en['emojis'].apply(lambda x: len(x))\n",
    "dfyt_en['caption_length'] = dfyt_en['caption'].apply(lambda x: len(x))\n",
    "\n",
    "tten['mentions_count'] = tten['mentions'].apply(lambda x: len(x))\n",
    "tten['hashtags_count'] = tten['hashtags'].apply(lambda x: len(x))\n",
    "tten['urls_count'] = tten['urls'].apply(lambda x: len(x))\n",
    "tten['emojis_count'] = tten['emojis'].apply(lambda x: len(x))\n",
    "tten['caption_length'] = tten['caption'].apply(lambda x: len(x))\n",
    "\n",
    "yten['mentions_count'] = yten['mentions'].apply(lambda x: len(x))\n",
    "yten['hashtags_count'] = yten['hashtags'].apply(lambda x: len(x))\n",
    "yten['urls_count'] = yten['urls'].apply(lambda x: len(x))\n",
    "yten['emojis_count'] = yten['emojis'].apply(lambda x: len(x))\n",
    "yten['caption_length'] = yten['caption'].apply(lambda x: len(x))\n",
    "\n",
    "insen['mentions_count'] = insen['mentions'].apply(lambda x: len(x))\n",
    "insen['hashtags_count'] = insen['hashtags'].apply(lambda x: len(x))\n",
    "insen['urls_count'] = insen['urls'].apply(lambda x: len(x))\n",
    "insen['emojis_count'] = insen['emojis'].apply(lambda x: len(x))\n",
    "insen['caption_length'] = insen['caption'].apply(lambda x: len(x))\n"
   ],
   "metadata": {
    "collapsed": false
   },
   "id": "ef5398388c21b9ee"
  },
  {
   "cell_type": "code",
   "execution_count": null,
   "outputs": [],
   "source": [
    "# Call the function to get the DataFrame\n",
    "hashtag_unique = ic.get_unique_counts(dfins_en, dftt_en, dfyt_en, \"hashtags\")\n",
    "mention_unique = ic.get_unique_counts(dfins_en, dftt_en, dfyt_en, \"mentions\")\n",
    "url_unique = ic.get_unique_counts(dfins_en, dftt_en, dfyt_en, \"urls\")\n",
    "emoji_unique = ic.get_unique_counts(dfins_en, dftt_en, dfyt_en, \"emojis\")\n",
    "df_unique_real = pd.concat([hashtag_unique, mention_unique, url_unique, emoji_unique], axis=1)\n",
    "#df_unique_real"
   ],
   "metadata": {
    "collapsed": false
   },
   "id": "e79bed588b4ca592"
  },
  {
   "cell_type": "code",
   "execution_count": null,
   "outputs": [],
   "source": [
    "hashtag_unique = ic.get_unique_counts(insen, tten, yten,  \"hashtags\")\n",
    "mention_unique = ic.get_unique_counts(insen, tten, yten,  \"mentions\")\n",
    "url_unique = ic.get_unique_counts(insen, tten, yten,  \"urls\")\n",
    "emoji_unique = ic.get_unique_counts(insen, tten, yten,  \"emojis\")\n",
    "df_unique_ai = pd.concat([hashtag_unique, mention_unique, url_unique, emoji_unique], axis=1)\n",
    "#df_unique_ai"
   ],
   "metadata": {
    "collapsed": false
   },
   "id": "444a222fa1f732b1"
  },
  {
   "cell_type": "code",
   "execution_count": null,
   "outputs": [],
   "source": [
    "hashtag_avg = ic.get_avg_counts(insen, tten, yten, \"hashtags\")\n",
    "url_avg = ic.get_avg_counts(insen, tten, yten, \"urls\")\n",
    "mention_avg = ic.get_avg_counts(insen, tten, yten, \"mentions\")\n",
    "emoji_avg = ic.get_avg_counts(insen, tten, yten, \"emojis\")\n",
    "df_avg_ai = pd.concat([hashtag_avg, mention_avg, url_avg, emoji_avg], axis=1)\n",
    "#df_avg_ai"
   ],
   "metadata": {
    "collapsed": false
   },
   "id": "8050cf60e16a87f6"
  },
  {
   "cell_type": "code",
   "execution_count": null,
   "outputs": [],
   "source": [
    "hashtag_avg = ic.get_avg_counts(dfins_en, dftt_en, dfyt_en, \"hashtags\")\n",
    "mention_avg = ic.get_avg_counts(dfins_en, dftt_en, dfyt_en, \"mentions\")\n",
    "url_avg = ic.get_avg_counts(dfins_en, dftt_en, dfyt_en, \"urls\")\n",
    "emoji_avg = ic.get_avg_counts(dfins_en, dftt_en, dfyt_en, \"emojis\")\n",
    "df_avg_real = pd.concat([hashtag_avg, mention_avg, url_avg, emoji_avg], axis=1)\n",
    "#df_avg_real"
   ],
   "metadata": {
    "collapsed": false
   },
   "id": "c9467c64d66a924f"
  },
  {
   "cell_type": "code",
   "execution_count": null,
   "outputs": [],
   "source": [
    "hashtag_avg = ic.get_percentage_counts_total(insen, tten, yten,dfins_en, dftt_en, dfyt_en, \"hashtags\")\n",
    "mention_avg = ic.get_percentage_counts_total(insen, tten, yten,dfins_en, dftt_en, dfyt_en, \"mentions\")\n",
    "url_avg = ic.get_percentage_counts_total(insen, tten, yten,dfins_en, dftt_en, dfyt_en, \"urls\")\n",
    "emoji_avg = ic.get_percentage_counts_total(insen, tten, yten,dfins_en, dftt_en, dfyt_en, \"emojis\")\n",
    "df_comp = pd.concat([hashtag_avg, mention_avg, url_avg, emoji_avg], axis=1)\n",
    "#df_comp"
   ],
   "metadata": {
    "collapsed": false
   },
   "id": "69eea3194ede1c32"
  },
  {
   "cell_type": "code",
   "execution_count": null,
   "outputs": [],
   "source": [
    "# Plot the unique values\n",
    "#ic.plot_unique(insen,tten,yten,dfins_en,dftt_en,dfyt_en,\"urls\")\n",
    "#ic.plot_unique(insen,tten,yten,dfins_en,dftt_en,dfyt_en,\"mentions\")\n",
    "#ic.plot_unique(insen,tten,yten,dfins_en,dftt_en,dfyt_en,\"hashtags\")\n",
    "#ic.plot_unique(insen,tten,yten,dfins_en,dftt_en,dfyt_en,\"emojis\")"
   ],
   "metadata": {
    "collapsed": false
   },
   "id": "d48a323daec27397"
  },
  {
   "cell_type": "code",
   "execution_count": null,
   "outputs": [],
   "source": [
    "ic.draw_network(dfins_en, \"hashtags\", \"C:/Users/I6240624/Documents/BISS/Master Thesis/Code/Gephi/Instagram_Dutch_Real_Agnostic_Hashtags.graphml\")\n",
    "ic.draw_network(dftt_en, \"hashtags\", \"C:/Users/I6240624/Documents/BISS/Master Thesis/Code/Gephi/TikTok_Dutch_Real_Agnostic_Hashtags.graphml\")\n",
    "ic.draw_network(dfyt_en, \"hashtags\", \"C:/Users/I6240624/Documents/BISS/Master Thesis/Code/Gephi/YouTube_Dutch_Real_Agnostic_Hashtags.graphml\")\n",
    "ic.draw_network(insen, \"hashtags\", \"C:/Users/I6240624/Documents/BISS/Master Thesis/Code/Gephi/Instagram_Dutch_AI_Agnostic_Hashtags.graphml\")\n",
    "ic.draw_network(tten, \"hashtags\", \"C:/Users/I6240624/Documents/BISS/Master Thesis/Code/Gephi/TikTok_Dutch_AI_Agnostic_Hashtags.graphml\")\n",
    "ic.draw_network(yten, \"hashtags\", \"C:/Users/I6240624/Documents/BISS/Master Thesis/Code/Gephi/YouTube_Dutch_AI_Agnostic_Hashtags.graphml\")"
   ],
   "metadata": {
    "collapsed": false
   },
   "id": "1325aae14eb5c081"
  },
  {
   "cell_type": "code",
   "execution_count": null,
   "outputs": [],
   "source": [
    "ic.draw_network(dfins_en, \"mentions\", \"C:/Users/I6240624/Documents/BISS/Master Thesis/Code/Gephi/Instagram_Dutch_Real_Agnostic_Mentions.graphml\")\n",
    "ic.draw_network(dftt_en, \"mentions\", \"C:/Users/I6240624/Documents/BISS/Master Thesis/Code/Gephi/TikTok_Dutch_Real_Agnostic_Mentions.graphml\")\n",
    "ic.draw_network(dfyt_en, \"mentions\", \"C:/Users/I6240624/Documents/BISS/Master Thesis/Code/Gephi/YouTube_Dutch_Real_Agnostic_Mentions.graphml\")\n",
    "ic.draw_network(insen, \"mentions\", \"C:/Users/I6240624/Documents/BISS/Master Thesis/Code/Gephi/Instagram_Dutch_AI_Agnostic_Mentions.graphml\")\n",
    "ic.draw_network(tten, \"mentions\", \"C:/Users/I6240624/Documents/BISS/Master Thesis/Code/Gephi/TikTok_Dutch_AI_Agnostic_Mentions.graphml\")\n",
    "ic.draw_network(yten, \"mentions\", \"C:/Users/I6240624/Documents/BISS/Master Thesis/Code/Gephi/YouTube_Dutch_AI_Agnostic_Mentions.graphml\")"
   ],
   "metadata": {
    "collapsed": false
   },
   "id": "6c25dd94fd2cd978"
  },
  {
   "cell_type": "code",
   "execution_count": null,
   "outputs": [],
   "source": [
    "ic.draw_network(dfins_en, \"urls\", \"C:/Users/I6240624/Documents/BISS/Master Thesis/Code/Gephi/Instagram_Dutch_Real_Agnostic_URL.graphml\")\n",
    "ic.draw_network(dftt_en, \"urls\", \"C:/Users/I6240624/Documents/BISS/Master Thesis/Code/Gephi/TikTok_Dutch_Real_Agnostic_URL.graphml\")\n",
    "ic.draw_network(dfyt_en, \"urls\", \"C:/Users/I6240624/Documents/BISS/Master Thesis/Code/Gephi/YouTube_Dutch_Real_Agnostic_URL.graphml\")\n",
    "ic.draw_network(insen, \"urls\", \"C:/Users/I6240624/Documents/BISS/Master Thesis/Code/Gephi/Instagram_Dutch_AI_Agnostic_URL.graphml\")\n",
    "ic.draw_network(tten, \"urls\", \"C:/Users/I6240624/Documents/BISS/Master Thesis/Code/Gephi/TikTok_Dutch_AI_Agnostic_URL.graphml\")\n",
    "ic.draw_network(yten, \"urls\", \"C:/Users/I6240624/Documents/BISS/Master Thesis/Code/Gephi/YouTube_Dutch_AI_Agnostic_URL.graphml\")"
   ],
   "metadata": {
    "collapsed": false
   },
   "id": "1aaef0fee2fd70b5"
  },
  {
   "cell_type": "code",
   "execution_count": null,
   "outputs": [],
   "source": [
    "ic.draw_network(dfins_en, \"emojis\", \"C:/Users/I6240624/Documents/BISS/Master Thesis/Code/Gephi/Instagram_Dutch_Real_Agnostic_Emojis.graphml\")\n",
    "ic.draw_network(dftt_en, \"emojis\", \"C:/Users/I6240624/Documents/BISS/Master Thesis/Code/Gephi/TikTok_Dutch_Real_Agnostic_Emojis.graphml\")\n",
    "ic.draw_network(dfyt_en, \"emojis\", \"C:/Users/I6240624/Documents/BISS/Master Thesis/Code/Gephi/YouTube_Dutch_Real_Agnostic_Emojis.graphml\")\n",
    "ic.draw_network(insen, \"emojis\", \"C:/Users/I6240624/Documents/BISS/Master Thesis/Code/Gephi/Instagram_Dutch_AI_Agnostic_Emojis.graphml\")\n",
    "ic.draw_network(tten, \"emojis\", \"C:/Users/I6240624/Documents/BISS/Master Thesis/Code/Gephi/TikTok_Dutch_AI_Agnostic_Emojis.graphml\")\n",
    "ic.draw_network(yten, \"emojis\", \"C:/Users/I6240624/Documents/BISS/Master Thesis/Code/Gephi/YouTube_Dutch_AI_Agnostic_Emojis.graphml\")"
   ],
   "metadata": {
    "collapsed": false
   },
   "id": "83ad81db6f39e90"
  },
  {
   "cell_type": "code",
   "execution_count": null,
   "outputs": [],
   "source": [
    "# Save the data\n",
    "tten.to_csv(r'C:\\Users\\I6240624\\Documents\\BISS\\Master Thesis\\Data\\ttenchar_cat1p1.csv', index=False)\n",
    "#yten.to_csv(r'C:\\Users\\I6240624\\Documents\\BISS\\Master Thesis\\Data\\ytenchar_cat1p1.csv', index=False)\n",
    "#insen.to_csv(r'C:\\Users\\I6240624\\Documents\\BISS\\Master Thesis\\Data\\insenchar_cat1p1.csv', index=False)"
   ],
   "metadata": {
    "collapsed": false
   },
   "id": "269d84e8683770f8"
  }
 ],
 "metadata": {
  "kernelspec": {
   "display_name": "Python 3",
   "language": "python",
   "name": "python3"
  },
  "language_info": {
   "codemirror_mode": {
    "name": "ipython",
    "version": 2
   },
   "file_extension": ".py",
   "mimetype": "text/x-python",
   "name": "python",
   "nbconvert_exporter": "python",
   "pygments_lexer": "ipython2",
   "version": "2.7.6"
  }
 },
 "nbformat": 4,
 "nbformat_minor": 5
}
