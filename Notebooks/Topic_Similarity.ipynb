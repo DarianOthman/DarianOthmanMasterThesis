{
  "nbformat": 4,
  "nbformat_minor": 0,
  "metadata": {
    "colab": {
      "provenance": []
    },
    "kernelspec": {
      "name": "python3",
      "display_name": "Python 3"
    },
    "language_info": {
      "name": "python"
    }
  },
  "cells": [
    {
      "cell_type": "code",
      "source": [
        "import csv\n",
        "import ast\n",
        "import requests\n",
        "import numpy as np\n",
        "import time\n",
        "from scipy.spatial.distance import cosine\n",
        "\n",
        "api_key = \"**********************************\"\n",
        "\n",
        "def get_embeddings(text):\n",
        "\n",
        "    headers = {\"Authorization\": f\"Bearer {api_key}\"}\n",
        "    data = {\n",
        "        \"input\": text,\n",
        "        \"model\": \"text-embedding-3-large\"\n",
        "    }\n",
        "    response = requests.post(\"https://api.openai.com/v1/embeddings\", headers=headers, json=data)\n",
        "    if response.status_code == 200:\n",
        "        embedding = response.json()['data'][0]['embedding']\n",
        "        return np.array(embedding)\n",
        "    else:\n",
        "        print(f\"Error with text: {text[:30]}... Status code: {response.status_code}\")\n",
        "        return None\n",
        "\n",
        "def cosine_similarity(vec1, vec2):\n",
        "    return 1 - cosine(vec1, vec2)\n",
        "\n",
        "import csv\n",
        "\n",
        "file_path = '/content/InfluencersSyntheticVsRealTopics.csv'\n",
        "topics = []\n",
        "\n",
        "with open(file_path, newline='', encoding='utf-8') as csvfile:\n",
        "    csv_reader = csv.reader(csvfile)\n",
        "    for row in csv_reader:\n",
        "        platform, topic_info = row[0], row[1]\n",
        "        topic_index, keywords_str = topic_info.split(':', 1)\n",
        "        keywords_list_str = keywords_str[keywords_str.find('['):keywords_str.rfind(']')+1]\n",
        "        try:\n",
        "            topic_keywords = ast.literal_eval(keywords_list_str.strip())\n",
        "        except SyntaxError as e:\n",
        "            print(f\"Error parsing keywords for topic {topic_index}: {e}\")\n",
        "            topic_keywords = []\n",
        "        topics.append((platform, topic_index.strip(), \" \".join(topic_keywords)))\n",
        "\n",
        "\n",
        "for i, (platform, topic_index, topic_text) in enumerate(topics):\n",
        "    embedding = get_embeddings(topic_text)\n",
        "    if embedding is not None:\n",
        "        topics[i] += (embedding,)\n",
        "    time.sleep(0.1)\n",
        "\n",
        "visited_pairs = set()\n",
        "\n",
        "\n",
        "\n",
        "import numpy as np\n",
        "from scipy.spatial.distance import cosine\n",
        "\n",
        "\n",
        "def cosine_similarity(vec1, vec2):\n",
        "    return 1 - cosine(vec1, vec2)\n",
        "\n",
        "num_topics = len(topics)\n",
        "similarity_matrix = np.zeros((num_topics, num_topics))\n",
        "\n",
        "# Calculate similarity between all pairs of topics\n",
        "for i in range(num_topics):\n",
        "    for j in range(i, num_topics):\n",
        "        if i == j:\n",
        "            similarity_matrix[i][j] = 1.0\n",
        "        else:\n",
        "            similarity = cosine_similarity(topics[i][-1], topics[j][-1])\n",
        "            similarity_matrix[i][j] = similarity_matrix[j][i] = similarity\n",
        "\n",
        "for i in range(num_topics):\n",
        "    for j in range(i + 1, num_topics):\n",
        "        platform_i = topics[i][0]\n",
        "        platform_j = topics[j][0]\n",
        "\n",
        "# print(similarity_matrix)\n",
        "\n"
      ],
      "metadata": {
        "id": "t5aDbdB8WHXc"
      },
      "execution_count": null,
      "outputs": []
    },
    {
      "cell_type": "code",
      "source": [
        "import numpy as np\n",
        "from scipy.spatial.distance import cosine\n",
        "import pandas as pd\n",
        "\n",
        "\n",
        "\n",
        "topic_identifiers = [f\"{topic[0]}: {topic[1]}\" for topic in topics]\n",
        "df_similarity = pd.DataFrame(similarity_matrix, index=topic_identifiers, columns=topic_identifiers)\n",
        "\n",
        "excel_file_path = '/content/InfluencersSyntheticVsRealTopics_similarity_matrix.xlsx'\n",
        "df_similarity.to_excel(excel_file_path, sheet_name='Similarity')\n",
        "\n",
        "print(f\"Similarity matrix has been saved to {excel_file_path}.\")\n"
      ],
      "metadata": {
        "colab": {
          "base_uri": "https://localhost:8080/"
        },
        "id": "1TiG0JDTq5mn",
        "outputId": "a247b310-435c-4b60-edb4-58ed83575367"
      },
      "execution_count": null,
      "outputs": [
        {
          "output_type": "stream",
          "name": "stdout",
          "text": [
            "Similarity matrix has been saved to /content/InfluencersSyntheticVsRealTopics_similarity_matrix.xlsx.\n"
          ]
        }
      ]
    }
  ]
}