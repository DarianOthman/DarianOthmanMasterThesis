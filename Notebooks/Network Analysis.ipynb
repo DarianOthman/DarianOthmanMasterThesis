{
 "cells": [
  {
   "cell_type": "code",
   "execution_count": 2,
   "id": "initial_id",
   "metadata": {
    "collapsed": true,
    "ExecuteTime": {
     "end_time": "2024-06-16T16:47:19.384297400Z",
     "start_time": "2024-06-16T16:47:12.590507Z"
    }
   },
   "outputs": [
    {
     "name": "stdout",
     "output_type": "stream",
     "text": [
      "Requirement already satisfied: python-louvain in c:\\users\\i6240624\\documents\\biss\\master thesis\\code\\venv\\lib\\site-packages (0.16)\n",
      "Requirement already satisfied: networkx in c:\\users\\i6240624\\documents\\biss\\master thesis\\code\\venv\\lib\\site-packages (from python-louvain) (3.2.1)\n",
      "Requirement already satisfied: numpy in c:\\users\\i6240624\\documents\\biss\\master thesis\\code\\venv\\lib\\site-packages (from python-louvain) (1.26.3)\n"
     ]
    }
   ],
   "source": [
    "!pip install python-louvain"
   ]
  },
  {
   "cell_type": "code",
   "execution_count": 6,
   "outputs": [],
   "source": [
    "import networkx as nx\n",
    "from tabulate import tabulate  # for table formatting\n",
    "\n",
    "# Assuming louvain_communities is defined elsewhere or imported\n",
    "\n",
    "def louvain_communities(graph):\n",
    "    # Example of how a louvain_communities function might be defined\n",
    "    # This is a hypothetical example and should match your implementation\n",
    "    # or the implementation you are referring to.\n",
    "    import community\n",
    "    partition = community.best_partition(graph)\n",
    "    return partition\n",
    "\n",
    "def calculate_graph_metrics(file_path):\n",
    "    # Load your GraphML file into a NetworkX graph object\n",
    "    G = nx.read_graphml(file_path)\n",
    "    \n",
    "    # Number of nodes and edges\n",
    "    num_nodes = G.number_of_nodes()\n",
    "    num_edges = G.number_of_edges()\n",
    "    \n",
    "    # Average clustering coefficient\n",
    "    try:\n",
    "        avg_clustering = nx.average_clustering(G)\n",
    "    except:\n",
    "        avg_clustering = 0.0\n",
    "    \n",
    "    # Number of connected components\n",
    "    num_connected_components = nx.number_connected_components(G)\n",
    "    \n",
    "    # Graph density\n",
    "    density = nx.density(G)\n",
    "    \n",
    "    # Get communities using louvain_communities function\n",
    "    partition = nx.community.louvain_communities(G)\n",
    "    \n",
    "    try:\n",
    "    # Modularity using Louvain method\n",
    "        modularity = nx.community.modularity(G, partition)\n",
    "    except:\n",
    "        modularity = 0.0\n",
    "    \n",
    "    # Format results into a table\n",
    "    table = [\n",
    "        [\"Number of Nodes\", num_nodes],\n",
    "        [\"Number of Edges\", num_edges],\n",
    "        [\"Graph Density\", density],\n",
    "        [\"Modularity\", modularity],\n",
    "        [\"Average Clustering Coefficient\", avg_clustering],\n",
    "        [\"Number of Connected Components\", num_connected_components]\n",
    "    ]\n",
    "    \n",
    "    # Display the table\n",
    "    headers = [\"Metric\", \"Value\"]\n",
    "    print(tabulate(table, headers=headers, tablefmt=\"grid\"))"
   ],
   "metadata": {
    "collapsed": false,
    "ExecuteTime": {
     "end_time": "2024-06-16T17:01:28.538254Z",
     "start_time": "2024-06-16T17:01:28.522629600Z"
    }
   },
   "id": "83b835b9784e21a"
  },
  {
   "cell_type": "code",
   "execution_count": null,
   "outputs": [],
   "source": [
    "# YouTube\n",
    "yt_dutch_real_aware_emojis_table = calculate_graph_metrics(\"C:/Users/I6240624/Documents/BISS/Master Thesis/Code/Gephi/YouTube_Dutch_Real_Aware_Emojis.graphml\")\n",
    "yt_dutch_ai_aware_emojis_table = calculate_graph_metrics(\"C:/Users/I6240624/Documents/BISS/Master Thesis/Code/Gephi/YouTube_Dutch_AI_Aware_Emojis.graphml\")\n",
    "yt_dutch_ai_agnostic_emojis_table = calculate_graph_metrics(\"C:/Users/I6240624/Documents/BISS/Master Thesis/Code/Gephi/YouTube_Dutch_AI_Agnostic_Emojis.graphml\")\n",
    "\n",
    "yt_dutch_real_aware_hashtags_table = calculate_graph_metrics(\"C:/Users/I6240624/Documents/BISS/Master Thesis/Code/Gephi/YouTube_Dutch_Real_Aware_Hashtags.graphml\")\n",
    "yt_dutch_ai_aware_hashtags_table = calculate_graph_metrics(\"C:/Users/I6240624/Documents/BISS/Master Thesis/Code/Gephi/YouTube_Dutch_AI_Aware_Hashtags.graphml\")\n",
    "yt_dutch_ai_agnostic_hashtags_table = calculate_graph_metrics(\"C:/Users/I6240624/Documents/BISS/Master Thesis/Code/Gephi/YouTube_Dutch_AI_Agnostic_Hashtags.graphml\")\n",
    "\n",
    "yt_dutch_real_aware_mentions_table = calculate_graph_metrics(\"C:/Users/I6240624/Documents/BISS/Master Thesis/Code/Gephi/YouTube_Dutch_Real_Aware_Mentions.graphml\")\n",
    "yt_dutch_ai_aware_mentions_table = calculate_graph_metrics(\"C:/Users/I6240624/Documents/BISS/Master Thesis/Code/Gephi/YouTube_Dutch_AI_Aware_Mentions.graphml\")\n",
    "yt_dutch_ai_agnostic_mentions_table = calculate_graph_metrics(\"C:/Users/I6240624/Documents/BISS/Master Thesis/Code/Gephi/YouTube_Dutch_AI_Agnostic_Mentions.graphml\")\n",
    "\n",
    "yt_dutch_real_aware_urls_table = calculate_graph_metrics(\"C:/Users/I6240624/Documents/BISS/Master Thesis/Code/Gephi/YouTube_Dutch_Real_Aware_URL.graphml\")\n",
    "yt_dutch_ai_aware_urls_table = calculate_graph_metrics(\"C:/Users/I6240624/Documents/BISS/Master Thesis/Code/Gephi/YouTube_Dutch_AI_Aware_URL.graphml\")\n",
    "yt_dutch_ai_agnostic_urls_table = calculate_graph_metrics(\"C:/Users/I6240624/Documents/BISS/Master Thesis/Code/Gephi/YouTube_Dutch_AI_Agnostic_URL.graphml\")\n",
    "\n",
    "# TikTok\n",
    "tt_dutch_real_aware_emojis_table = calculate_graph_metrics(\"C:/Users/I6240624/Documents/BISS/Master Thesis/Code/Gephi/TikTok_Dutch_Real_Aware_Emojis.graphml\")\n",
    "tt_dutch_ai_aware_emojis_table = calculate_graph_metrics(\"C:/Users/I6240624/Documents/BISS/Master Thesis/Code/Gephi/TikTok_Dutch_AI_Aware_Emojis.graphml\")\n",
    "tt_dutch_ai_agnostic_emojis_table = calculate_graph_metrics(\"C:/Users/I6240624/Documents/BISS/Master Thesis/Code/Gephi/TikTok_Dutch_AI_Agnostic_Emojis.graphml\")\n",
    "\n",
    "tt_dutch_real_aware_hashtags_table = calculate_graph_metrics(\"C:/Users/I6240624/Documents/BISS/Master Thesis/Code/Gephi/TikTok_Dutch_Real_Aware_Hashtags.graphml\")\n",
    "tt_dutch_ai_aware_hashtags_table = calculate_graph_metrics(\"C:/Users/I6240624/Documents/BISS/Master Thesis/Code/Gephi/TikTok_Dutch_AI_Aware_Hashtags.graphml\")\n",
    "tt_dutch_ai_agnostic_hashtags_table = calculate_graph_metrics(\"C:/Users/I6240624/Documents/BISS/Master Thesis/Code/Gephi/TikTok_Dutch_AI_Agnostic_Hashtags.graphml\")\n",
    "\n",
    "tt_dutch_real_aware_mentions_table = calculate_graph_metrics(\"C:/Users/I6240624/Documents/BISS/Master Thesis/Code/Gephi/TikTok_Dutch_Real_Aware_Mentions.graphml\")\n",
    "tt_dutch_ai_aware_mentions_table = calculate_graph_metrics(\"C:/Users/I6240624/Documents/BISS/Master Thesis/Code/Gephi/TikTok_Dutch_AI_Aware_Mentions.graphml\")\n",
    "tt_dutch_ai_agnostic_mentions_table = calculate_graph_metrics(\"C:/Users/I6240624/Documents/BISS/Master Thesis/Code/Gephi/TikTok_Dutch_AI_Agnostic_Mentions.graphml\")\n",
    "\n",
    "tt_dutch_real_aware_urls_table = calculate_graph_metrics(\"C:/Users/I6240624/Documents/BISS/Master Thesis/Code/Gephi/TikTok_Dutch_Real_Aware_URL.graphml\")\n",
    "tt_dutch_ai_aware_urls_table = calculate_graph_metrics(\"C:/Users/I6240624/Documents/BISS/Master Thesis/Code/Gephi/TikTok_Dutch_AI_Aware_URL.graphml\")\n",
    "tt_dutch_ai_agnostic_urls_table = calculate_graph_metrics(\"C:/Users/I6240624/Documents/BISS/Master Thesis/Code/Gephi/TikTok_Dutch_AI_Agnostic_URL.graphml\")\n",
    "\n",
    "# Instagram\n",
    "ins_dutch_real_aware_emojis_table = calculate_graph_metrics(\"C:/Users/I6240624/Documents/BISS/Master Thesis/Code/Gephi/Instagram_Dutch_Real_Aware_Emojis.graphml\")\n",
    "ins_dutch_ai_aware_emojis_table = calculate_graph_metrics(\"C:/Users/I6240624/Documents/BISS/Master Thesis/Code/Gephi/Instagram_Dutch_AI_Aware_Emojis.graphml\")\n",
    "ins_dutch_ai_agnostic_emojis_table = calculate_graph_metrics(\"C:/Users/I6240624/Documents/BISS/Master Thesis/Code/Gephi/Instagram_Dutch_AI_Agnostic_Emojis.graphml\")\n",
    "\n",
    "ins_dutch_real_aware_hashtags_table = calculate_graph_metrics(\"C:/Users/I6240624/Documents/BISS/Master Thesis/Code/Gephi/Instagram_Dutch_Real_Aware_Hashtags.graphml\")\n",
    "ins_dutch_ai_aware_hashtags_table = calculate_graph_metrics(\"C:/Users/I6240624/Documents/BISS/Master Thesis/Code/Gephi/Instagram_Dutch_AI_Aware_Hashtags.graphml\")\n",
    "ins_dutch_ai_agnostic_hashtags_table = calculate_graph_metrics(\"C:/Users/I6240624/Documents/BISS/Master Thesis/Code/Gephi/Instagram_Dutch_AI_Agnostic_Hashtags.graphml\")\n",
    "\n",
    "ins_dutch_real_aware_mentions_table = calculate_graph_metrics(\"C:/Users/I6240624/Documents/BISS/Master Thesis/Code/Gephi/Instagram_Dutch_Real_Aware_Mentions.graphml\")\n",
    "ins_dutch_ai_aware_mentions_table = calculate_graph_metrics(\"C:/Users/I6240624/Documents/BISS/Master Thesis/Code/Gephi/Instagram_Dutch_AI_Aware_Mentions.graphml\")\n",
    "ins_dutch_ai_agnostic_mentions_table = calculate_graph_metrics(\"C:/Users/I6240624/Documents/BISS/Master Thesis/Code/Gephi/Instagram_Dutch_AI_Agnostic_Mentions.graphml\")\n",
    "\n",
    "ins_dutch_real_aware_urls_table = calculate_graph_metrics(\"C:/Users/I6240624/Documents/BISS/Master Thesis/Code/Gephi/Instagram_Dutch_Real_Aware_URL.graphml\")\n",
    "ins_dutch_ai_aware_urls_table = calculate_graph_metrics(\"C:/Users/I6240624/Documents/BISS/Master Thesis/Code/Gephi/Instagram_Dutch_AI_Aware_URL.graphml\")\n",
    "ins_dutch_ai_agnostic_urls_table = calculate_graph_metrics(\"C:/Users/I6240624/Documents/BISS/Master Thesis/Code/Gephi/Instagram_Dutch_AI_Agnostic_URL.graphml\")\n"
   ],
   "metadata": {
    "collapsed": false
   },
   "id": "680c921f53e43119"
  },
  {
   "cell_type": "code",
   "execution_count": null,
   "outputs": [],
   "source": [
    "TikTok_english_real_aware_hashtags_table = calculate_graph_metrics(\"C:/Users/I6240624/Documents/BISS/Master Thesis/Code/Gephi/TikTok_English_Real_Aware_Hashtags.graphml\")\n",
    "TikTok_dutch_real_aware_hashtags_table = calculate_graph_metrics(\"C:/Users/I6240624/Documents/BISS/Master Thesis/Code/Gephi/TikTok_Dutch_Real_Aware_Hashtags.graphml\")\n",
    "TikTok_english_ai_agnostic_hashtags_table = calculate_graph_metrics(\"C:/Users/I6240624/Documents/BISS/Master Thesis/Code/Gephi/TikTok_English_AI_Agnostic_Hashtags.graphml\")\n",
    "TikTok_dutch_ai_agnostic_hashtags_table = calculate_graph_metrics(\"C:/Users/I6240624/Documents/BISS/Master Thesis/Code/Gephi/TikTok_Dutch_AI_Agnostic_Hashtags.graphml\")\n",
    "TikTok_english_ai_aware_hashtags_table = calculate_graph_metrics(\"C:/Users/I6240624/Documents/BISS/Master Thesis/Code/Gephi/TikTok_English_AI_Aware_Hashtags.graphml\")\n",
    "TikTok_dutch_ai_aware_hashtags_table = calculate_graph_metrics(\"C:/Users/I6240624/Documents/BISS/Master Thesis/Code/Gephi/TikTok_Dutch_AI_Aware_Hashtags.graphml\")\n",
    "\n",
    "TikTok_english_real_aware_mentions_table = calculate_graph_metrics(\"C:/Users/I6240624/Documents/BISS/Master Thesis/Code/Gephi/TikTok_English_Real_Aware_Mentions.graphml\")\n",
    "TikTok_dutch_real_aware_mentions_table = calculate_graph_metrics(\"C:/Users/I6240624/Documents/BISS/Master Thesis/Code/Gephi/TikTok_Dutch_Real_Aware_Mentions.graphml\")\n",
    "TikTok_english_ai_agnostic_mentions_table = calculate_graph_metrics(\"C:/Users/I6240624/Documents/BISS/Master Thesis/Code/Gephi/TikTok_English_AI_Agnostic_Mentions.graphml\")\n",
    "TikTok_dutch_ai_agnostic_mentions_table = calculate_graph_metrics(\"C:/Users/I6240624/Documents/BISS/Master Thesis/Code/Gephi/TikTok_Dutch_AI_Agnostic_Mentions.graphml\")\n",
    "TikTok_english_ai_aware_mentions_table = calculate_graph_metrics(\"C:/Users/I6240624/Documents/BISS/Master Thesis/Code/Gephi/TikTok_English_AI_Aware_Mentions.graphml\")\n",
    "TikTok_dutch_ai_aware_mentions_table = calculate_graph_metrics(\"C:/Users/I6240624/Documents/BISS/Master Thesis/Code/Gephi/TikTok_Dutch_AI_Aware_Mentions.graphml\")\n",
    "\n",
    "TikTok_english_real_aware_urls_table = calculate_graph_metrics(\"C:/Users/I6240624/Documents/BISS/Master Thesis/Code/Gephi/TikTok_English_Real_Aware_URL.graphml\")\n",
    "TikTok_dutch_real_aware_urls_table = calculate_graph_metrics(\"C:/Users/I6240624/Documents/BISS/Master Thesis/Code/Gephi/TikTok_Dutch_Real_Aware_URL.graphml\")\n",
    "TikTok_english_ai_agnostic_urls_table = calculate_graph_metrics(\"C:/Users/I6240624/Documents/BISS/Master Thesis/Code/Gephi/TikTok_English_AI_Agnostic_URL.graphml\")\n",
    "TikTok_dutch_ai_agnostic_urls_table = calculate_graph_metrics(\"C:/Users/I6240624/Documents/BISS/Master Thesis/Code/Gephi/TikTok_Dutch_AI_Agnostic_URL.graphml\")\n",
    "TikTok_english_ai_aware_urls_table = calculate_graph_metrics(\"C:/Users/I6240624/Documents/BISS/Master Thesis/Code/Gephi/TikTok_English_AI_Aware_URL.graphml\")\n",
    "TikTok_dutch_ai_aware_urls_table = calculate_graph_metrics(\"C:/Users/I6240624/Documents/BISS/Master Thesis/Code/Gephi/TikTok_Dutch_AI_Aware_URL.graphml\")\n",
    "\n",
    "TikTok_english_real_aware_emojis_table = calculate_graph_metrics(\"C:/Users/I6240624/Documents/BISS/Master Thesis/Code/Gephi/TikTok_English_Real_Aware_Emojis.graphml\")\n",
    "TikTok_dutch_real_aware_emojis_table = calculate_graph_metrics(\"C:/Users/I6240624/Documents/BISS/Master Thesis/Code/Gephi/TikTok_Dutch_Real_Aware_Emojis.graphml\")\n",
    "TikTok_english_ai_agnostic_emojis_table = calculate_graph_metrics(\"C:/Users/I6240624/Documents/BISS/Master Thesis/Code/Gephi/TikTok_English_AI_Agnostic_Emojis.graphml\")\n",
    "TikTok_dutch_ai_agnostic_emojis_table = calculate_graph_metrics(\"C:/Users/I6240624/Documents/BISS/Master Thesis/Code/Gephi/TikTok_Dutch_AI_Agnostic_Emojis.graphml\")\n",
    "TikTok_english_ai_aware_emojis_table = calculate_graph_metrics(\"C:/Users/I6240624/Documents/BISS/Master Thesis/Code/Gephi/TikTok_English_AI_Aware_Emojis.graphml\")\n",
    "TikTok_dutch_ai_aware_emojis_table = calculate_graph_metrics(\"C:/Users/I6240624/Documents/BISS/Master Thesis/Code/Gephi/TikTok_Dutch_AI_Aware_Emojis.graphml\")"
   ],
   "metadata": {
    "collapsed": false
   },
   "id": "588d24d8f3f73906"
  }
 ],
 "metadata": {
  "kernelspec": {
   "display_name": "Python 3",
   "language": "python",
   "name": "python3"
  },
  "language_info": {
   "codemirror_mode": {
    "name": "ipython",
    "version": 2
   },
   "file_extension": ".py",
   "mimetype": "text/x-python",
   "name": "python",
   "nbconvert_exporter": "python",
   "pygments_lexer": "ipython2",
   "version": "2.7.6"
  }
 },
 "nbformat": 4,
 "nbformat_minor": 5
}
