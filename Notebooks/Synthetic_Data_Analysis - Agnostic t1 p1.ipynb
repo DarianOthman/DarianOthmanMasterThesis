{
 "cells": [
  {
   "cell_type": "code",
   "execution_count": 1,
   "outputs": [],
   "source": [
    "import sys\n",
    "import pandas as pd\n",
    "sys.path.append(r'C:\\Users\\I6240624\\Documents\\BISS\\Master Thesis\\Code\\DarianOthmanMasterThesis\\Functions')\n",
    "import Influencer_Characteristics as ic\n",
    "import File_Opening as fo"
   ],
   "metadata": {
    "collapsed": false,
    "ExecuteTime": {
     "end_time": "2024-05-17T13:38:26.308374200Z",
     "start_time": "2024-05-17T13:38:20.467133300Z"
    }
   },
   "id": "b172ec81bce0850b"
  },
  {
   "cell_type": "code",
   "execution_count": 5,
   "outputs": [],
   "source": [
    "dfins_en = fo.read_data(r'C:/Users/I6240624/Documents/BISS/Master Thesis/Data/AI_Generation/sampleins.csv')\n",
    "dftt_en = fo.read_data(r'C:/Users/I6240624/Documents/BISS/Master Thesis/Data/AI_Generation/samplett.csv')\n",
    "dfyt_en = fo.read_data(r'C:/Users/I6240624/Documents/BISS/Master Thesis/Data/AI_Generation/sampleyt.csv')"
   ],
   "metadata": {
    "collapsed": false,
    "ExecuteTime": {
     "end_time": "2024-05-13T15:36:22.007325500Z",
     "start_time": "2024-05-13T15:36:21.736867300Z"
    }
   },
   "id": "6639c279d9bd3dfd"
  },
  {
   "cell_type": "code",
   "execution_count": 5,
   "outputs": [],
   "source": [
    "# Open the data\n",
    "yten= fo.read_data_ai('C:/Users/I6240624/Documents/BISS/Master Thesis/Code/DarianOthmanMasterThesis/Generic_t=1_p=1_YouTube_English.csv')\n",
    "tten= fo.read_data_ai('C:/Users/I6240624/Documents/BISS/Master Thesis/Data/AI_Generation/Generic_t=1_p=1_TikTok.csv')\n",
    "insen= fo.read_data_ai('C:/Users/I6240624/Documents/BISS/Master Thesis/Data/AI_Generation/Generic_t=1_p=1_Instagram.csv')"
   ],
   "metadata": {
    "collapsed": false,
    "ExecuteTime": {
     "end_time": "2024-05-17T13:39:43.233730700Z",
     "start_time": "2024-05-17T13:39:43.131014400Z"
    }
   },
   "id": "e45bec438f576527"
  },
  {
   "cell_type": "code",
   "execution_count": 6,
   "outputs": [
    {
     "data": {
      "text/plain": "                                                    0   \\\n0    🔥🔥NEW MERCH ALERT🔥🔥 Check out our latest PMX s...   \n1    🌟 EPIC StarCraft 2 showdown alert! Watch as Se...   \n2    🦠🧪 Level up your StarCraft 2 gameplay with Zer...   \n3    New Batman x Fortnite Comic Series Collaborati...   \n4    Check out this mind-blowing stand up waterslid...   \n..                                                 ...   \n952  Did you know the recording for this video last...   \n953  🚨 Attention Gamers! 🚨 Don't miss out on the la...   \n954  Just found the most EPIC loot in Minecraft Dun...   \n955  Witness the intense battle between pros in a C...   \n956  🍬 Unveiling the rarest candies in Candy Crush ...   \n\n                                                    1   \\\n0                                     superlicious rub   \n1                                the top SC2 pro gamer   \n2                                                 None   \n3     2021 with bonus digital items. Don't miss out...   \n4     Germany. Experience the thrill of this unique...   \n..                                                 ...   \n952   Track: Tobu - Hope. Listen to it here: https:...   \n953                                           BenSound   \n954   subscribe to my channel now! http://bit.ly/Ga...   \n955                                               None   \n956                                               None   \n\n                                                    2   \\\n0                                       BoombastiQ rub   \n1                          battles it out against Clem   \n2                                                 None   \n3                                                 None   \n4                                                 None   \n..                                                 ...   \n952                                               None   \n953   and Myuuji. Licensed under Creative Commons: ...   \n954                                               None   \n955                                               None   \n956                                               None   \n\n                                                    3     4     5     6   \\\n0     and leather aprons! Get them while they're ho...  None  None  None   \n1     one of the best Terran players in the world. ...  None  None  None   \n2                                                 None  None  None  None   \n3                                                 None  None  None  None   \n4                                                 None  None  None  None   \n..                                                 ...   ...   ...   ...   \n952                                               None  None  None  None   \n953                                               None  None  None  None   \n954                                               None  None  None  None   \n955                                               None  None  None  None   \n956                                               None  None  None  None   \n\n       7     8     9     10    11  \n0    None  None  None  None  None  \n1    None  None  None  None  None  \n2    None  None  None  None  None  \n3    None  None  None  None  None  \n4    None  None  None  None  None  \n..    ...   ...   ...   ...   ...  \n952  None  None  None  None  None  \n953  None  None  None  None  None  \n954  None  None  None  None  None  \n955  None  None  None  None  None  \n956  None  None  None  None  None  \n\n[957 rows x 12 columns]",
      "text/html": "<div>\n<style scoped>\n    .dataframe tbody tr th:only-of-type {\n        vertical-align: middle;\n    }\n\n    .dataframe tbody tr th {\n        vertical-align: top;\n    }\n\n    .dataframe thead th {\n        text-align: right;\n    }\n</style>\n<table border=\"1\" class=\"dataframe\">\n  <thead>\n    <tr style=\"text-align: right;\">\n      <th></th>\n      <th>0</th>\n      <th>1</th>\n      <th>2</th>\n      <th>3</th>\n      <th>4</th>\n      <th>5</th>\n      <th>6</th>\n      <th>7</th>\n      <th>8</th>\n      <th>9</th>\n      <th>10</th>\n      <th>11</th>\n    </tr>\n  </thead>\n  <tbody>\n    <tr>\n      <th>0</th>\n      <td>🔥🔥NEW MERCH ALERT🔥🔥 Check out our latest PMX s...</td>\n      <td>superlicious rub</td>\n      <td>BoombastiQ rub</td>\n      <td>and leather aprons! Get them while they're ho...</td>\n      <td>None</td>\n      <td>None</td>\n      <td>None</td>\n      <td>None</td>\n      <td>None</td>\n      <td>None</td>\n      <td>None</td>\n      <td>None</td>\n    </tr>\n    <tr>\n      <th>1</th>\n      <td>🌟 EPIC StarCraft 2 showdown alert! Watch as Se...</td>\n      <td>the top SC2 pro gamer</td>\n      <td>battles it out against Clem</td>\n      <td>one of the best Terran players in the world. ...</td>\n      <td>None</td>\n      <td>None</td>\n      <td>None</td>\n      <td>None</td>\n      <td>None</td>\n      <td>None</td>\n      <td>None</td>\n      <td>None</td>\n    </tr>\n    <tr>\n      <th>2</th>\n      <td>🦠🧪 Level up your StarCraft 2 gameplay with Zer...</td>\n      <td>None</td>\n      <td>None</td>\n      <td>None</td>\n      <td>None</td>\n      <td>None</td>\n      <td>None</td>\n      <td>None</td>\n      <td>None</td>\n      <td>None</td>\n      <td>None</td>\n      <td>None</td>\n    </tr>\n    <tr>\n      <th>3</th>\n      <td>New Batman x Fortnite Comic Series Collaborati...</td>\n      <td>2021 with bonus digital items. Don't miss out...</td>\n      <td>None</td>\n      <td>None</td>\n      <td>None</td>\n      <td>None</td>\n      <td>None</td>\n      <td>None</td>\n      <td>None</td>\n      <td>None</td>\n      <td>None</td>\n      <td>None</td>\n    </tr>\n    <tr>\n      <th>4</th>\n      <td>Check out this mind-blowing stand up waterslid...</td>\n      <td>Germany. Experience the thrill of this unique...</td>\n      <td>None</td>\n      <td>None</td>\n      <td>None</td>\n      <td>None</td>\n      <td>None</td>\n      <td>None</td>\n      <td>None</td>\n      <td>None</td>\n      <td>None</td>\n      <td>None</td>\n    </tr>\n    <tr>\n      <th>...</th>\n      <td>...</td>\n      <td>...</td>\n      <td>...</td>\n      <td>...</td>\n      <td>...</td>\n      <td>...</td>\n      <td>...</td>\n      <td>...</td>\n      <td>...</td>\n      <td>...</td>\n      <td>...</td>\n      <td>...</td>\n    </tr>\n    <tr>\n      <th>952</th>\n      <td>Did you know the recording for this video last...</td>\n      <td>Track: Tobu - Hope. Listen to it here: https:...</td>\n      <td>None</td>\n      <td>None</td>\n      <td>None</td>\n      <td>None</td>\n      <td>None</td>\n      <td>None</td>\n      <td>None</td>\n      <td>None</td>\n      <td>None</td>\n      <td>None</td>\n    </tr>\n    <tr>\n      <th>953</th>\n      <td>🚨 Attention Gamers! 🚨 Don't miss out on the la...</td>\n      <td>BenSound</td>\n      <td>and Myuuji. Licensed under Creative Commons: ...</td>\n      <td>None</td>\n      <td>None</td>\n      <td>None</td>\n      <td>None</td>\n      <td>None</td>\n      <td>None</td>\n      <td>None</td>\n      <td>None</td>\n      <td>None</td>\n    </tr>\n    <tr>\n      <th>954</th>\n      <td>Just found the most EPIC loot in Minecraft Dun...</td>\n      <td>subscribe to my channel now! http://bit.ly/Ga...</td>\n      <td>None</td>\n      <td>None</td>\n      <td>None</td>\n      <td>None</td>\n      <td>None</td>\n      <td>None</td>\n      <td>None</td>\n      <td>None</td>\n      <td>None</td>\n      <td>None</td>\n    </tr>\n    <tr>\n      <th>955</th>\n      <td>Witness the intense battle between pros in a C...</td>\n      <td>None</td>\n      <td>None</td>\n      <td>None</td>\n      <td>None</td>\n      <td>None</td>\n      <td>None</td>\n      <td>None</td>\n      <td>None</td>\n      <td>None</td>\n      <td>None</td>\n      <td>None</td>\n    </tr>\n    <tr>\n      <th>956</th>\n      <td>🍬 Unveiling the rarest candies in Candy Crush ...</td>\n      <td>None</td>\n      <td>None</td>\n      <td>None</td>\n      <td>None</td>\n      <td>None</td>\n      <td>None</td>\n      <td>None</td>\n      <td>None</td>\n      <td>None</td>\n      <td>None</td>\n      <td>None</td>\n    </tr>\n  </tbody>\n</table>\n<p>957 rows × 12 columns</p>\n</div>"
     },
     "execution_count": 6,
     "metadata": {},
     "output_type": "execute_result"
    }
   ],
   "source": [
    "yten"
   ],
   "metadata": {
    "collapsed": false,
    "ExecuteTime": {
     "end_time": "2024-05-17T13:39:45.266374200Z",
     "start_time": "2024-05-17T13:39:45.225233200Z"
    }
   },
   "id": "f06e3e96f3722c04"
  },
  {
   "cell_type": "code",
   "execution_count": null,
   "outputs": [],
   "source": [
    "# Applying the functions to the first column of the 'tten' dataset\n",
    "tten['mentions'] = tten[0].apply(lambda x: ic.extract_mentions(x))\n",
    "tten['urls'] = tten[0].apply(lambda x: ic.extract_urls(x))\n",
    "tten['hashtags'] = tten[0].apply(lambda x: ic.extract_hashtags(x))\n",
    "tten['emojis'] = tten[0].apply(lambda x: ic.extract_emojis(x))\n",
    "\n",
    "\n",
    "insen['mentions'] = insen[0].apply(lambda x: ic.extract_mentions(x))\n",
    "insen['urls'] = insen[0].apply(lambda x: ic.extract_urls(x))\n",
    "insen['hashtags'] = insen[0].apply(lambda x: ic.extract_hashtags(x))\n",
    "insen['emojis'] = insen[0].apply(lambda x: ic.extract_emojis(x))\n",
    "\n",
    "yten['mentions'] = yten[0].apply(lambda x: ic.extract_mentions(x))\n",
    "yten['urls'] = yten[0].apply(lambda x: ic.extract_urls(x))\n",
    "yten['hashtags'] = yten[0].apply(lambda x: ic.extract_hashtags(x))\n",
    "yten['emojis'] = yten[0].apply(lambda x: ic.extract_emojis(x))"
   ],
   "metadata": {
    "collapsed": false
   },
   "id": "7d78bb74453e8194"
  },
  {
   "cell_type": "code",
   "execution_count": null,
   "outputs": [],
   "source": [
    "columns_to_split = ['mentions', 'hashtags', 'urls', 'emojis']\n",
    "\n",
    "tten=ic.split_columns(tten, columns_to_split)\n",
    "\n",
    "yten=ic.split_columns(yten, columns_to_split)\n",
    "\n",
    "insen=ic.split_columns(insen, columns_to_split)"
   ],
   "metadata": {
    "collapsed": false
   },
   "id": "f02fb069ccea50f7"
  },
  {
   "cell_type": "code",
   "execution_count": null,
   "outputs": [],
   "source": [
    "dfins_en['mentions'] = dfins_en[\"caption\"].apply(lambda x: ic.extract_mentions(x))\n",
    "dfins_en['urls'] = dfins_en[\"caption\"].apply(lambda x: ic.extract_urls(x))\n",
    "dfins_en['hashtags'] = dfins_en[\"caption\"].apply(lambda x: ic.extract_hashtags(x))\n",
    "dfins_en['emojis'] = dfins_en[\"caption\"].apply(lambda x: ic.extract_emojis(x))\n",
    "\n",
    "dftt_en['mentions'] = dftt_en[\"video_description\"].apply(lambda x: ic.extract_mentions(x))\n",
    "dftt_en['urls'] = dftt_en[\"video_description\"].apply(lambda x: ic.extract_urls(x))\n",
    "dftt_en['hashtags'] = dftt_en[\"video_description\"].apply(lambda x: ic.extract_hashtags(x))\n",
    "dftt_en['emojis'] = dftt_en[\"video_description\"].apply(lambda x: ic.extract_emojis(x))\n",
    "\n",
    "dfyt_en['mentions'] = dfyt_en[\"description_video\"].apply(lambda x: ic.extract_mentions(x))\n",
    "dfyt_en['urls'] = dfyt_en[\"description_video\"].apply(lambda x: ic.extract_urls(x))\n",
    "dfyt_en['hashtags'] = dfyt_en[\"description_video\"].apply(lambda x: ic.extract_hashtags(x))\n",
    "dfyt_en['emojis'] = dfyt_en[\"description_video\"].apply(lambda x: ic.extract_emojis(x))"
   ],
   "metadata": {
    "collapsed": false
   },
   "id": "15930d70846bd7c8"
  },
  {
   "cell_type": "code",
   "execution_count": null,
   "outputs": [],
   "source": [
    "columns_to_split = ['mentions', 'hashtags', 'urls', 'emojis']\n",
    "\n",
    "dfins_en=ic.split_columns(dfins_en, columns_to_split)\n",
    "\n",
    "dftt_en=ic.split_columns(dftt_en, columns_to_split)\n",
    "\n",
    "dfyt_en=ic.split_columns(dfyt_en, columns_to_split)"
   ],
   "metadata": {
    "collapsed": false
   },
   "id": "97b02f655bd9d1a7"
  },
  {
   "cell_type": "code",
   "execution_count": null,
   "outputs": [],
   "source": [
    "dfyt_en=dfyt_en.rename(columns={'description_video': 'caption'})\n",
    "\n",
    "dftt_en=dftt_en.rename(columns={'video_description': 'caption'})\n",
    "\n",
    "insen=insen.rename(columns={0: 'caption'})\n",
    "\n",
    "yten=yten.rename(columns={0: 'caption'})\n",
    "\n",
    "tten=tten.rename(columns={0: 'caption'})"
   ],
   "metadata": {
    "collapsed": false
   },
   "id": "3c01374bdeb1c56b"
  },
  {
   "cell_type": "code",
   "execution_count": null,
   "outputs": [],
   "source": [
    "dfins_en['mentions_count'] = dfins_en['mentions'].apply(lambda x: len(x))\n",
    "dfins_en['hashtags_count'] = dfins_en['hashtags'].apply(lambda x: len(x))\n",
    "dfins_en['urls_count'] = dfins_en['urls'].apply(lambda x: len(x))\n",
    "dfins_en['emojis_count'] = dfins_en['emojis'].apply(lambda x: len(x))\n",
    "dfins_en['caption_length'] = dfins_en['caption'].apply(lambda x: len(x))\n",
    "\n",
    "dftt_en['mentions_count'] = dftt_en['mentions'].apply(lambda x: len(x))\n",
    "dftt_en['hashtags_count'] = dftt_en['hashtags'].apply(lambda x: len(x))\n",
    "dftt_en['urls_count'] = dftt_en['urls'].apply(lambda x: len(x))\n",
    "dftt_en['emojis_count'] = dftt_en['emojis'].apply(lambda x: len(x))\n",
    "dftt_en['caption_length'] = dftt_en['caption'].apply(lambda x: len(x))\n",
    "\n",
    "dfyt_en['mentions_count'] = dfyt_en['mentions'].apply(lambda x: len(x))\n",
    "dfyt_en['hashtags_count'] = dfyt_en['hashtags'].apply(lambda x: len(x))\n",
    "dfyt_en['urls_count'] = dfyt_en['urls'].apply(lambda x: len(x))\n",
    "dfyt_en['emojis_count'] = dfyt_en['emojis'].apply(lambda x: len(x))\n",
    "dfyt_en['caption_length'] = dfyt_en['caption'].apply(lambda x: len(x))\n",
    "\n",
    "tten['mentions_count'] = tten['mentions'].apply(lambda x: len(x))\n",
    "tten['hashtags_count'] = tten['hashtags'].apply(lambda x: len(x))\n",
    "tten['urls_count'] = tten['urls'].apply(lambda x: len(x))\n",
    "tten['emojis_count'] = tten['emojis'].apply(lambda x: len(x))\n",
    "tten['caption_length'] = tten['caption'].apply(lambda x: len(x))\n",
    "\n",
    "yten['mentions_count'] = yten['mentions'].apply(lambda x: len(x))\n",
    "yten['hashtags_count'] = yten['hashtags'].apply(lambda x: len(x))\n",
    "yten['urls_count'] = yten['urls'].apply(lambda x: len(x))\n",
    "yten['emojis_count'] = yten['emojis'].apply(lambda x: len(x))\n",
    "yten['caption_length'] = yten['caption'].apply(lambda x: len(x))\n",
    "\n",
    "insen['mentions_count'] = insen['mentions'].apply(lambda x: len(x))\n",
    "insen['hashtags_count'] = insen['hashtags'].apply(lambda x: len(x))\n",
    "insen['urls_count'] = insen['urls'].apply(lambda x: len(x))\n",
    "insen['emojis_count'] = insen['emojis'].apply(lambda x: len(x))\n",
    "insen['caption_length'] = insen['caption'].apply(lambda x: len(x))\n"
   ],
   "metadata": {
    "collapsed": false
   },
   "id": "ef5398388c21b9ee"
  },
  {
   "cell_type": "code",
   "execution_count": null,
   "outputs": [],
   "source": [
    "# Call the function to get the DataFrame\n",
    "hashtag_unique = ic.get_unique_counts(dfins_en, dftt_en, dfyt_en, \"hashtags\")\n",
    "mention_unique = ic.get_unique_counts(dfins_en, dftt_en, dfyt_en, \"mentions\")\n",
    "url_unique = ic.get_unique_counts(dfins_en, dftt_en, dfyt_en, \"urls\")\n",
    "emoji_unique = ic.get_unique_counts(dfins_en, dftt_en, dfyt_en, \"emojis\")\n",
    "df_unique_real = pd.concat([hashtag_unique, mention_unique, url_unique, emoji_unique], axis=1)\n",
    "#df_unique_real"
   ],
   "metadata": {
    "collapsed": false
   },
   "id": "e79bed588b4ca592"
  },
  {
   "cell_type": "code",
   "execution_count": null,
   "outputs": [],
   "source": [
    "hashtag_unique = ic.get_unique_counts(insen, tten, yten,  \"hashtags\")\n",
    "mention_unique = ic.get_unique_counts(insen, tten, yten,  \"mentions\")\n",
    "url_unique = ic.get_unique_counts(insen, tten, yten,  \"urls\")\n",
    "emoji_unique = ic.get_unique_counts(insen, tten, yten,  \"emojis\")\n",
    "df_unique_ai = pd.concat([hashtag_unique, mention_unique, url_unique, emoji_unique], axis=1)\n",
    "#df_unique_ai"
   ],
   "metadata": {
    "collapsed": false
   },
   "id": "444a222fa1f732b1"
  },
  {
   "cell_type": "code",
   "execution_count": null,
   "outputs": [],
   "source": [
    "hashtag_avg = ic.get_avg_counts(insen, tten, yten, \"hashtags\")\n",
    "url_avg = ic.get_avg_counts(insen, tten, yten, \"urls\")\n",
    "mention_avg = ic.get_avg_counts(insen, tten, yten, \"mentions\")\n",
    "emoji_avg = ic.get_avg_counts(insen, tten, yten, \"emojis\")\n",
    "df_avg_ai = pd.concat([hashtag_avg, mention_avg, url_avg, emoji_avg], axis=1)\n",
    "#df_avg_ai"
   ],
   "metadata": {
    "collapsed": false
   },
   "id": "8050cf60e16a87f6"
  },
  {
   "cell_type": "code",
   "execution_count": null,
   "outputs": [],
   "source": [
    "hashtag_avg = ic.get_avg_counts(dfins_en, dftt_en, dfyt_en, \"hashtags\")\n",
    "mention_avg = ic.get_avg_counts(dfins_en, dftt_en, dfyt_en, \"mentions\")\n",
    "url_avg = ic.get_avg_counts(dfins_en, dftt_en, dfyt_en, \"urls\")\n",
    "emoji_avg = ic.get_avg_counts(dfins_en, dftt_en, dfyt_en, \"emojis\")\n",
    "df_avg_real = pd.concat([hashtag_avg, mention_avg, url_avg, emoji_avg], axis=1)\n",
    "#df_avg_real"
   ],
   "metadata": {
    "collapsed": false
   },
   "id": "c9467c64d66a924f"
  },
  {
   "cell_type": "code",
   "execution_count": null,
   "outputs": [],
   "source": [
    "hashtag_avg = ic.get_percentage_counts_total(insen, tten, yten,dfins_en, dftt_en, dfyt_en, \"hashtags\")\n",
    "mention_avg = ic.get_percentage_counts_total(insen, tten, yten,dfins_en, dftt_en, dfyt_en, \"mentions\")\n",
    "url_avg = ic.get_percentage_counts_total(insen, tten, yten,dfins_en, dftt_en, dfyt_en, \"urls\")\n",
    "emoji_avg = ic.get_percentage_counts_total(insen, tten, yten,dfins_en, dftt_en, dfyt_en, \"emojis\")\n",
    "df_comp = pd.concat([hashtag_avg, mention_avg, url_avg, emoji_avg], axis=1)\n",
    "#df_comp"
   ],
   "metadata": {
    "collapsed": false
   },
   "id": "69eea3194ede1c32"
  },
  {
   "cell_type": "code",
   "execution_count": null,
   "outputs": [],
   "source": [
    "# Plot the unique values\n",
    "#ic.plot_unique(insen,tten,yten,dfins_en,dftt_en,dfyt_en,\"urls\")\n",
    "#ic.plot_unique(insen,tten,yten,dfins_en,dftt_en,dfyt_en,\"mentions\")\n",
    "#ic.plot_unique(insen,tten,yten,dfins_en,dftt_en,dfyt_en,\"hashtags\")\n",
    "#ic.plot_unique(insen,tten,yten,dfins_en,dftt_en,dfyt_en,\"emojis\")"
   ],
   "metadata": {
    "collapsed": false
   },
   "id": "d48a323daec27397"
  },
  {
   "cell_type": "code",
   "execution_count": null,
   "outputs": [],
   "source": [
    "ic.draw_network(dfins_en, \"hashtags\", \"C:/Users/I6240624/Documents/BISS/Master Thesis/Code/Gephi/Instagram_English_Real_Agnostic_Hashtags.graphml\")\n",
    "ic.draw_network(dftt_en, \"hashtags\", \"C:/Users/I6240624/Documents/BISS/Master Thesis/Code/Gephi/TikTok_English_Real_Agnostic_Hashtags.graphml\")\n",
    "ic.draw_network(dfyt_en, \"hashtags\", \"C:/Users/I6240624/Documents/BISS/Master Thesis/Code/Gephi/YouTube_English_Real_Agnostic_Hashtags.graphml\")\n",
    "ic.draw_network(insen, \"hashtags\", \"C:/Users/I6240624/Documents/BISS/Master Thesis/Code/Gephi/Instagram_English_AI_Agnostic_Hashtags.graphml\")\n",
    "ic.draw_network(tten, \"hashtags\", \"C:/Users/I6240624/Documents/BISS/Master Thesis/Code/Gephi/TikTok_English_AI_Agnostic_Hashtags.graphml\")\n",
    "ic.draw_network(yten, \"hashtags\", \"C:/Users/I6240624/Documents/BISS/Master Thesis/Code/Gephi/YouTube_English_AI_Agnostic_Hashtags.graphml\")"
   ],
   "metadata": {
    "collapsed": false
   },
   "id": "aac697e917d96f6c"
  },
  {
   "cell_type": "code",
   "execution_count": null,
   "outputs": [],
   "source": [
    "ic.draw_network(dfins_en, \"mentions\", \"C:/Users/I6240624/Documents/BISS/Master Thesis/Code/Gephi/Instagram_English_Real_Agnostic_Mentions.graphml\")\n",
    "ic.draw_network(dftt_en, \"mentions\", \"C:/Users/I6240624/Documents/BISS/Master Thesis/Code/Gephi/TikTok_English_Real_Agnostic_Mentions.graphml\")\n",
    "ic.draw_network(dfyt_en, \"mentions\", \"C:/Users/I6240624/Documents/BISS/Master Thesis/Code/Gephi/YouTube_English_Real_Agnostic_Mentions.graphml\")\n",
    "ic.draw_network(insen, \"mentions\", \"C:/Users/I6240624/Documents/BISS/Master Thesis/Code/Gephi/Instagram_English_AI_Agnostic_Mentions.graphml\")\n",
    "ic.draw_network(tten, \"mentions\", \"C:/Users/I6240624/Documents/BISS/Master Thesis/Code/Gephi/TikTok_English_AI_Agnostic_Mentions.graphml\")\n",
    "ic.draw_network(yten, \"mentions\", \"C:/Users/I6240624/Documents/BISS/Master Thesis/Code/Gephi/YouTube_English_AI_Agnostic_Mentions.graphml\")"
   ],
   "metadata": {
    "collapsed": false
   },
   "id": "78f0b4f2c89854b8"
  },
  {
   "cell_type": "code",
   "execution_count": null,
   "outputs": [],
   "source": [
    "ic.draw_network(dfins_en, \"urls\", \"C:/Users/I6240624/Documents/BISS/Master Thesis/Code/Gephi/Instagram_English_Real_Agnostic_URL.graphml\")\n",
    "ic.draw_network(dftt_en, \"urls\", \"C:/Users/I6240624/Documents/BISS/Master Thesis/Code/Gephi/TikTok_English_Real_Agnostic_URL.graphml\")\n",
    "ic.draw_network(dfyt_en, \"urls\", \"C:/Users/I6240624/Documents/BISS/Master Thesis/Code/Gephi/YouTube_English_Real_Agnostic_URL.graphml\")\n",
    "ic.draw_network(insen, \"urls\", \"C:/Users/I6240624/Documents/BISS/Master Thesis/Code/Gephi/Instagram_English_AI_Agnostic_URL.graphml\")\n",
    "ic.draw_network(tten, \"urls\", \"C:/Users/I6240624/Documents/BISS/Master Thesis/Code/Gephi/TikTok_English_AI_Agnostic_URL.graphml\")\n",
    "ic.draw_network(yten, \"urls\", \"C:/Users/I6240624/Documents/BISS/Master Thesis/Code/Gephi/YouTube_English_AI_Agnostic_URL.graphml\")"
   ],
   "metadata": {
    "collapsed": false
   },
   "id": "8a28557c2ead29dc"
  },
  {
   "cell_type": "code",
   "execution_count": null,
   "outputs": [],
   "source": [
    "ic.draw_network(dfins_en, \"emojis\", \"C:/Users/I6240624/Documents/BISS/Master Thesis/Code/Gephi/Instagram_English_Real_Agnostic_Emojis.graphml\")\n",
    "ic.draw_network(dftt_en, \"emojis\", \"C:/Users/I6240624/Documents/BISS/Master Thesis/Code/Gephi/TikTok_English_Real_Agnostic_Emojis.graphml\")\n",
    "ic.draw_network(dfyt_en, \"emojis\", \"C:/Users/I6240624/Documents/BISS/Master Thesis/Code/Gephi/YouTube_English_Real_Agnostic_Emojis.graphml\")\n",
    "ic.draw_network(insen, \"emojis\", \"C:/Users/I6240624/Documents/BISS/Master Thesis/Code/Gephi/Instagram_English_AI_Agnostic_Emojis.graphml\")\n",
    "ic.draw_network(tten, \"emojis\", \"C:/Users/I6240624/Documents/BISS/Master Thesis/Code/Gephi/TikTok_English_AI_Agnostic_Emojis.graphml\")\n",
    "ic.draw_network(yten, \"emojis\", \"C:/Users/I6240624/Documents/BISS/Master Thesis/Code/Gephi/YouTube_English_AI_Agnostic_Emojis.graphml\")"
   ],
   "metadata": {
    "collapsed": false
   },
   "id": "39720935de68483f"
  },
  {
   "cell_type": "code",
   "execution_count": null,
   "outputs": [],
   "source": [
    "# Save the data\n",
    "#tten.to_csv(r'C:\\Users\\I6240624\\Documents\\BISS\\Master Thesis\\Data\\ttenchar_cat1p1.csv', index=False)\n",
    "#yten.to_csv(r'C:\\Users\\I6240624\\Documents\\BISS\\Master Thesis\\Data\\ytenchar_cat1p1.csv', index=False)\n",
    "insen.to_csv(r'C:\\Users\\I6240624\\Documents\\BISS\\Master Thesis\\Data\\insenchar_cat1p1.csv', index=False, sep=';')\n"
   ],
   "metadata": {
    "collapsed": false
   },
   "id": "269d84e8683770f8"
  }
 ],
 "metadata": {
  "kernelspec": {
   "display_name": "Python 3",
   "language": "python",
   "name": "python3"
  },
  "language_info": {
   "codemirror_mode": {
    "name": "ipython",
    "version": 2
   },
   "file_extension": ".py",
   "mimetype": "text/x-python",
   "name": "python",
   "nbconvert_exporter": "python",
   "pygments_lexer": "ipython2",
   "version": "2.7.6"
  }
 },
 "nbformat": 4,
 "nbformat_minor": 5
}
