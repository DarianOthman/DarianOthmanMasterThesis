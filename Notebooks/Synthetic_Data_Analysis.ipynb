{
 "cells": [
  {
   "cell_type": "code",
   "execution_count": 218,
   "id": "initial_id",
   "metadata": {
    "collapsed": true,
    "ExecuteTime": {
     "end_time": "2024-03-12T17:53:00.050614700Z",
     "start_time": "2024-03-12T17:52:59.987447400Z"
    }
   },
   "outputs": [],
   "source": [
    "import pandas as pd\n",
    "import sys\n",
    "import csv\n",
    "import matplotlib.pyplot as plt\n",
    "sys.path.append(r'C:\\Users\\I6240624\\Documents\\BISS\\Master Thesis\\Code\\DarianOthmanMasterThesis\\Functions')\n",
    "import Influencer_Characteristics as ic\n",
    "import File_Opening as fo"
   ]
  },
  {
   "cell_type": "code",
   "execution_count": 219,
   "outputs": [],
   "source": [
    "import emoji\n",
    "\n",
    "def read_data(file_path):\n",
    "    # Read in Instagram data\n",
    "    with open(file_path, 'r', encoding='utf-8') as f:\n",
    "        reader = csv.reader(f, delimiter=',')\n",
    "        rows = list(reader)\n",
    "        df = pd.DataFrame(rows)\n",
    "        \n",
    "    return df\n",
    "\n",
    "# Function to extract mentions starting with '@'\n",
    "def extract_mentions(parts):\n",
    "    at_mentions = [word for word in str(parts).split() if str(word).startswith('@')]\n",
    "    return ' '.join(at_mentions)\n",
    "\n",
    "# Function to extract URLs starting with 'http'\n",
    "def extract_urls(raw_text):\n",
    "    url = [word for word in raw_text.split() if str(word).startswith('http')]\n",
    "    return ' '.join(url)\n",
    "\n",
    "# Function to extract hashtags starting with '#'\n",
    "def extract_hashtags(raw_text):\n",
    "    hashTags = [word for word in raw_text.split() if str(word).startswith('#')]\n",
    "    return ' '.join(hashTags)\n",
    "\n",
    "# Function to extract emojis\n",
    "def extract_emojis(raw_text):\n",
    "    spaced_sentence = ' '.join(raw_text)\n",
    "    emojis = [word for word in spaced_sentence.split() if emoji.is_emoji(word)]\n",
    "    emojis = list(set(emojis))\n",
    "    return ' '.join(emojis)\n",
    "\n",
    "def split_columns(df, columns):\n",
    "    for col in columns:\n",
    "        df[col] = df[col].apply(lambda x: x.split() if isinstance(x, str) else x)\n",
    "    return df"
   ],
   "metadata": {
    "collapsed": false,
    "ExecuteTime": {
     "end_time": "2024-03-12T17:53:00.097478600Z",
     "start_time": "2024-03-12T17:53:00.018699100Z"
    }
   },
   "id": "c79d75541b29e8d8"
  },
  {
   "cell_type": "code",
   "execution_count": 220,
   "outputs": [],
   "source": [
    "dfins_en = fo.read_data(r'C:\\Users\\I6240624\\Documents\\BISS\\Master Thesis\\Data\\icwsm_dutch_data\\Ins_lingua_en_disclosed_ad.csv')\n",
    "dfins_en=dfins_en[['caption']]\n",
    "dfins_nl = fo.read_data(r'C:\\Users\\I6240624\\Documents\\BISS\\Master Thesis\\Data\\icwsm_dutch_data\\Ins_lingua_nl_disclosed_ad.csv')\n",
    "dfins_nl=dfins_nl[['caption']]\n",
    "dftt_en = fo.read_data(r'C:\\Users\\I6240624\\Documents\\BISS\\Master Thesis\\Data\\icwsm_dutch_data\\TikTok_lingua_en_disclosed_ad.csv')\n",
    "dftt_en=dftt_en[['video_description']]\n",
    "dftt_nl = fo.read_data(r'C:\\Users\\I6240624\\Documents\\BISS\\Master Thesis\\Data\\icwsm_dutch_data\\TikTok_lingua_nl_disclosed_ad.csv')\n",
    "dftt_nl=dftt_nl[['video_description']]\n",
    "dfyt_en = fo.read_data(r'C:\\Users\\I6240624\\Documents\\BISS\\Master Thesis\\Data\\icwsm_dutch_data\\Youtube_lingua_en_disclosed_ad.csv')\n",
    "dfyt_en=dfyt_en[['description_video']]\n",
    "dfyt_nl = fo.read_data(r'C:\\Users\\I6240624\\Documents\\BISS\\Master Thesis\\Data\\icwsm_dutch_data\\Youtube_lingua_nl_disclosed_ad.csv')\n",
    "dfyt_nl=dfyt_nl[['description_video']]"
   ],
   "metadata": {
    "collapsed": false,
    "ExecuteTime": {
     "end_time": "2024-03-12T17:53:17.212146400Z",
     "start_time": "2024-03-12T17:53:00.034993200Z"
    }
   },
   "id": "f1a2a838e4455247"
  },
  {
   "cell_type": "code",
   "execution_count": 220,
   "outputs": [],
   "source": [],
   "metadata": {
    "collapsed": false,
    "ExecuteTime": {
     "end_time": "2024-03-12T17:53:17.227742200Z",
     "start_time": "2024-03-12T17:53:17.212146400Z"
    }
   },
   "id": "5d3c0aa3053ae799"
  },
  {
   "cell_type": "code",
   "execution_count": 221,
   "outputs": [],
   "source": [
    "# Open the data\n",
    "yten= read_data('C:/Users/I6240624/Documents/BISS/Master Thesis/Code/DarianOthmanMasterThesis/yt_en_datagen_500.csv')\n",
    "ytnl= read_data('C:/Users/I6240624/Documents/BISS/Master Thesis/Code/DarianOthmanMasterThesis/yt_nl_datagen_500.csv')\n",
    "insen= read_data('C:/Users/I6240624/Documents/BISS/Master Thesis/Code/DarianOthmanMasterThesis/ins_en_datagen_500.csv')\n",
    "insnl= read_data('C:/Users/I6240624/Documents/BISS/Master Thesis/Code/DarianOthmanMasterThesis/ins_nl_datagen_500.csv')\n",
    "tten= read_data('C:/Users/I6240624/Documents/BISS/Master Thesis/Code/DarianOthmanMasterThesis/tt_en_datagen_500.csv')\n",
    "ttnl= read_data('C:/Users/I6240624/Documents/BISS/Master Thesis/Code/DarianOthmanMasterThesis/tt_nl_datagen_500.csv')"
   ],
   "metadata": {
    "collapsed": false,
    "ExecuteTime": {
     "end_time": "2024-03-12T17:53:17.275018600Z",
     "start_time": "2024-03-12T17:53:17.227742200Z"
    }
   },
   "id": "815635a67921f688"
  },
  {
   "cell_type": "code",
   "execution_count": 222,
   "outputs": [],
   "source": [
    "# Applying the functions to the first column of the 'tten' dataset\n",
    "tten['mentions'] = tten[0].apply(lambda x: extract_mentions(x))\n",
    "tten['urls'] = tten[0].apply(lambda x: extract_urls(x))\n",
    "tten['hashtags'] = tten[0].apply(lambda x: extract_hashtags(x))\n",
    "tten['emojis'] = tten[0].apply(lambda x: extract_emojis(x))\n",
    "\n",
    "\n",
    "ttnl['mentions'] = ttnl[0].apply(lambda x: extract_mentions(x))\n",
    "ttnl['urls'] = ttnl[0].apply(lambda x: extract_urls(x))\n",
    "ttnl['hashtags'] = ttnl[0].apply(lambda x: extract_hashtags(x))\n",
    "ttnl['emojis'] = ttnl[0].apply(lambda x: extract_emojis(x))\n",
    "\n",
    "insen['mentions'] = insen[0].apply(lambda x: extract_mentions(x))\n",
    "insen['urls'] = insen[0].apply(lambda x: extract_urls(x))\n",
    "insen['hashtags'] = insen[0].apply(lambda x: extract_hashtags(x))\n",
    "insen['emojis'] = insen[0].apply(lambda x: extract_emojis(x))\n",
    "\n",
    "insnl['mentions'] = insnl[0].apply(lambda x: extract_mentions(x))\n",
    "insnl['urls'] = insnl[0].apply(lambda x: extract_urls(x))\n",
    "insnl['hashtags'] = insnl[0].apply(lambda x: extract_hashtags(x))\n",
    "insnl['emojis'] = insnl[0].apply(lambda x: extract_emojis(x))\n",
    "\n",
    "yten['mentions'] = yten[0].apply(lambda x: extract_mentions(x))\n",
    "yten['urls'] = yten[0].apply(lambda x: extract_urls(x))\n",
    "yten['hashtags'] = yten[0].apply(lambda x: extract_hashtags(x))\n",
    "yten['emojis'] = yten[0].apply(lambda x: extract_emojis(x))\n",
    "\n",
    "ytnl['mentions'] = ytnl[0].apply(lambda x: extract_mentions(x))\n",
    "ytnl['urls'] = ytnl[0].apply(lambda x: extract_urls(x))\n",
    "ytnl['hashtags'] = ytnl[0].apply(lambda x: extract_hashtags(x))\n",
    "ytnl['emojis'] = ytnl[0].apply(lambda x: extract_emojis(x))"
   ],
   "metadata": {
    "collapsed": false,
    "ExecuteTime": {
     "end_time": "2024-03-12T17:53:17.530166Z",
     "start_time": "2024-03-12T17:53:17.275018600Z"
    }
   },
   "id": "d1e7b48b649b5d29"
  },
  {
   "cell_type": "code",
   "execution_count": 223,
   "outputs": [],
   "source": [
    "columns_to_split = ['mentions', 'hashtags', 'urls', 'emojis']\n",
    "tten=split_columns(tten, columns_to_split)\n",
    "ttnl=split_columns(ttnl, columns_to_split)\n",
    "yten=split_columns(yten, columns_to_split)\n",
    "ytnl=split_columns(ytnl, columns_to_split)\n",
    "insen=split_columns(insen, columns_to_split)\n",
    "insnl=split_columns(insnl, columns_to_split)"
   ],
   "metadata": {
    "collapsed": false,
    "ExecuteTime": {
     "end_time": "2024-03-12T17:53:17.561370800Z",
     "start_time": "2024-03-12T17:53:17.530166Z"
    }
   },
   "id": "3a9de4a4231091d"
  },
  {
   "cell_type": "code",
   "execution_count": 225,
   "outputs": [],
   "source": [
    "dfins_en['mentions'] = dfins_en[\"caption\"].apply(lambda x: extract_mentions(x))\n",
    "dfins_en['urls'] = dfins_en[\"caption\"].apply(lambda x: extract_urls(x))\n",
    "dfins_en['hashtags'] = dfins_en[\"caption\"].apply(lambda x: extract_hashtags(x))\n",
    "dfins_en['emojis'] = dfins_en[\"caption\"].apply(lambda x: extract_emojis(x))\n",
    "\n",
    "dfins_nl['mentions'] = dfins_nl[\"caption\"].apply(lambda x: extract_mentions(x))\n",
    "dfins_nl['urls'] = dfins_nl[\"caption\"].apply(lambda x: extract_urls(x))\n",
    "dfins_nl['hashtags'] = dfins_nl[\"caption\"].apply(lambda x: extract_hashtags(x))\n",
    "dfins_nl['emojis'] = dfins_nl[\"caption\"].apply(lambda x: extract_emojis(x))\n",
    "\n",
    "dftt_en['mentions'] = dftt_en[\"video_description\"].apply(lambda x: extract_mentions(x))\n",
    "dftt_en['urls'] = dftt_en[\"video_description\"].apply(lambda x: extract_urls(x))\n",
    "dftt_en['hashtags'] = dftt_en[\"video_description\"].apply(lambda x: extract_hashtags(x))\n",
    "dftt_en['emojis'] = dftt_en[\"video_description\"].apply(lambda x: extract_emojis(x))\n",
    "\n",
    "dftt_nl['mentions'] = dftt_nl[\"video_description\"].apply(lambda x: extract_mentions(x))\n",
    "dftt_nl['urls'] = dftt_nl[\"video_description\"].apply(lambda x: extract_urls(x))\n",
    "dftt_nl['hashtags'] = dftt_nl[\"video_description\"].apply(lambda x: extract_hashtags(x))\n",
    "dftt_nl['emojis'] = dftt_nl[\"video_description\"].apply(lambda x: extract_emojis(x))\n",
    "\n",
    "dfyt_en['mentions'] = dfyt_en[\"description_video\"].apply(lambda x: extract_mentions(x))\n",
    "dfyt_en['urls'] = dfyt_en[\"description_video\"].apply(lambda x: extract_urls(x))\n",
    "dfyt_en['hashtags'] = dfyt_en[\"description_video\"].apply(lambda x: extract_hashtags(x))\n",
    "dfyt_en['emojis'] = dfyt_en[\"description_video\"].apply(lambda x: extract_emojis(x))\n",
    "\n",
    "dfyt_nl['mentions'] = dfyt_nl[\"description_video\"].apply(lambda x: extract_mentions(x))\n",
    "dfyt_nl['urls'] = dfyt_nl[\"description_video\"].apply(lambda x: extract_urls(x))\n",
    "dfyt_nl['hashtags'] = dfyt_nl[\"description_video\"].apply(lambda x: extract_hashtags(x))\n",
    "dfyt_nl['emojis'] = dfyt_nl[\"description_video\"].apply(lambda x: extract_emojis(x))"
   ],
   "metadata": {
    "collapsed": false,
    "ExecuteTime": {
     "end_time": "2024-03-12T17:54:19.682741Z",
     "start_time": "2024-03-12T17:53:17.592631600Z"
    }
   },
   "id": "13d541b2ff3658c6"
  },
  {
   "cell_type": "code",
   "execution_count": 226,
   "outputs": [],
   "source": [
    "columns_to_split = ['mentions', 'hashtags', 'urls', 'emojis']\n",
    "dfins_en=split_columns(dfins_en, columns_to_split)\n",
    "dfins_nl=split_columns(dfins_nl, columns_to_split)\n",
    "dftt_en=split_columns(dftt_en, columns_to_split)\n",
    "dftt_nl=split_columns(dftt_nl, columns_to_split)\n",
    "dfyt_en=split_columns(dfyt_en, columns_to_split)\n",
    "dfyt_nl=split_columns(dfyt_nl, columns_to_split)"
   ],
   "metadata": {
    "collapsed": false,
    "ExecuteTime": {
     "end_time": "2024-03-12T17:54:21.604471200Z",
     "start_time": "2024-03-12T17:54:19.682741Z"
    }
   },
   "id": "a4310bc1a347b5cf"
  },
  {
   "cell_type": "code",
   "execution_count": 228,
   "outputs": [
    {
     "data": {
      "text/plain": "0                                                caption            mentions  \\\n1                    Loving my new H&M skull leggings <3                  []   \n2      My look for a birthday party I'm attending ton...                  []   \n3          Eye of the Day: Graphic Eyeliner! #makeuptalk                  []   \n4      Sushi lunch date with my dearest @jcxmakeupart...  [@jcxmakeupartist]   \n5      My prop for a tutorial I'm filming tomorrow! #...                  []   \n...                                                  ...                 ...   \n56744                               Youtube rocks!!!!!!!                  []   \n56745                                       Lalallala :D                  []   \n56746                                 Before fohn cursus                  []   \n56747            Sneak peak goodiebag party - tot nu toe                  []   \n56748                            It's a wrap! Preview ;)                  []   \n\n0     urls                hashtags emojis  \n1       []                      []     []  \n2       []         [#LookOfTheDay]     []  \n3       []           [#makeuptalk]     []  \n4       []                      []     []  \n5       []  [#preview, #sneakpeek]     []  \n...    ...                     ...    ...  \n56744   []                      []     []  \n56745   []                      []     []  \n56746   []                      []     []  \n56747   []                      []     []  \n56748   []                      []     []  \n\n[56748 rows x 5 columns]",
      "text/html": "<div>\n<style scoped>\n    .dataframe tbody tr th:only-of-type {\n        vertical-align: middle;\n    }\n\n    .dataframe tbody tr th {\n        vertical-align: top;\n    }\n\n    .dataframe thead th {\n        text-align: right;\n    }\n</style>\n<table border=\"1\" class=\"dataframe\">\n  <thead>\n    <tr style=\"text-align: right;\">\n      <th></th>\n      <th>caption</th>\n      <th>mentions</th>\n      <th>urls</th>\n      <th>hashtags</th>\n      <th>emojis</th>\n    </tr>\n  </thead>\n  <tbody>\n    <tr>\n      <th>1</th>\n      <td>Loving my new H&amp;M skull leggings &lt;3</td>\n      <td>[]</td>\n      <td>[]</td>\n      <td>[]</td>\n      <td>[]</td>\n    </tr>\n    <tr>\n      <th>2</th>\n      <td>My look for a birthday party I'm attending ton...</td>\n      <td>[]</td>\n      <td>[]</td>\n      <td>[#LookOfTheDay]</td>\n      <td>[]</td>\n    </tr>\n    <tr>\n      <th>3</th>\n      <td>Eye of the Day: Graphic Eyeliner! #makeuptalk</td>\n      <td>[]</td>\n      <td>[]</td>\n      <td>[#makeuptalk]</td>\n      <td>[]</td>\n    </tr>\n    <tr>\n      <th>4</th>\n      <td>Sushi lunch date with my dearest @jcxmakeupart...</td>\n      <td>[@jcxmakeupartist]</td>\n      <td>[]</td>\n      <td>[]</td>\n      <td>[]</td>\n    </tr>\n    <tr>\n      <th>5</th>\n      <td>My prop for a tutorial I'm filming tomorrow! #...</td>\n      <td>[]</td>\n      <td>[]</td>\n      <td>[#preview, #sneakpeek]</td>\n      <td>[]</td>\n    </tr>\n    <tr>\n      <th>...</th>\n      <td>...</td>\n      <td>...</td>\n      <td>...</td>\n      <td>...</td>\n      <td>...</td>\n    </tr>\n    <tr>\n      <th>56744</th>\n      <td>Youtube rocks!!!!!!!</td>\n      <td>[]</td>\n      <td>[]</td>\n      <td>[]</td>\n      <td>[]</td>\n    </tr>\n    <tr>\n      <th>56745</th>\n      <td>Lalallala :D</td>\n      <td>[]</td>\n      <td>[]</td>\n      <td>[]</td>\n      <td>[]</td>\n    </tr>\n    <tr>\n      <th>56746</th>\n      <td>Before fohn cursus</td>\n      <td>[]</td>\n      <td>[]</td>\n      <td>[]</td>\n      <td>[]</td>\n    </tr>\n    <tr>\n      <th>56747</th>\n      <td>Sneak peak goodiebag party - tot nu toe</td>\n      <td>[]</td>\n      <td>[]</td>\n      <td>[]</td>\n      <td>[]</td>\n    </tr>\n    <tr>\n      <th>56748</th>\n      <td>It's a wrap! Preview ;)</td>\n      <td>[]</td>\n      <td>[]</td>\n      <td>[]</td>\n      <td>[]</td>\n    </tr>\n  </tbody>\n</table>\n<p>56748 rows × 5 columns</p>\n</div>"
     },
     "execution_count": 228,
     "metadata": {},
     "output_type": "execute_result"
    }
   ],
   "source": [
    "dfins_en"
   ],
   "metadata": {
    "collapsed": false,
    "ExecuteTime": {
     "end_time": "2024-03-12T17:55:19.652357200Z",
     "start_time": "2024-03-12T17:55:19.574717400Z"
    }
   },
   "id": "1aefdb396b069310"
  }
 ],
 "metadata": {
  "kernelspec": {
   "display_name": "Python 3",
   "language": "python",
   "name": "python3"
  },
  "language_info": {
   "codemirror_mode": {
    "name": "ipython",
    "version": 2
   },
   "file_extension": ".py",
   "mimetype": "text/x-python",
   "name": "python",
   "nbconvert_exporter": "python",
   "pygments_lexer": "ipython2",
   "version": "2.7.6"
  }
 },
 "nbformat": 4,
 "nbformat_minor": 5
}
