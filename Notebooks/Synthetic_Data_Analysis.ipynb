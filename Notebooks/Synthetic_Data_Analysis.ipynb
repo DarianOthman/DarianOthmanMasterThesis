{
 "cells": [
  {
   "cell_type": "code",
   "execution_count": 1,
   "id": "initial_id",
   "metadata": {
    "collapsed": true,
    "ExecuteTime": {
     "end_time": "2024-03-12T18:32:02.487769700Z",
     "start_time": "2024-03-12T18:31:59.929371500Z"
    }
   },
   "outputs": [
    {
     "name": "stderr",
     "output_type": "stream",
     "text": [
      "C:\\Users\\I6240624\\AppData\\Local\\Temp\\ipykernel_1352\\643418908.py:1: DeprecationWarning: \n",
      "Pyarrow will become a required dependency of pandas in the next major release of pandas (pandas 3.0),\n",
      "(to allow more performant data types, such as the Arrow string type, and better interoperability with other libraries)\n",
      "but was not found to be installed on your system.\n",
      "If this would cause problems for you,\n",
      "please provide us feedback at https://github.com/pandas-dev/pandas/issues/54466\n",
      "        \n",
      "  import pandas as pd\n"
     ]
    }
   ],
   "source": [
    "import pandas as pd\n",
    "import sys\n",
    "import csv\n",
    "import matplotlib.pyplot as plt\n",
    "sys.path.append(r'C:\\Users\\I6240624\\Documents\\BISS\\Master Thesis\\Code\\DarianOthmanMasterThesis\\Functions')\n",
    "import Influencer_Characteristics as ic\n",
    "import File_Opening as fo"
   ]
  },
  {
   "cell_type": "code",
   "execution_count": 2,
   "outputs": [],
   "source": [
    "dfins_en = fo.read_data(r'C:\\Users\\I6240624\\Documents\\BISS\\Master Thesis\\Data\\icwsm_dutch_data\\Ins_lingua_en_disclosed_ad.csv')\n",
    "dfins_en=dfins_en[['caption']]\n",
    "dfins_nl = fo.read_data(r'C:\\Users\\I6240624\\Documents\\BISS\\Master Thesis\\Data\\icwsm_dutch_data\\Ins_lingua_nl_disclosed_ad.csv')\n",
    "dfins_nl=dfins_nl[['caption']]\n",
    "dftt_en = fo.read_data(r'C:\\Users\\I6240624\\Documents\\BISS\\Master Thesis\\Data\\icwsm_dutch_data\\TikTok_lingua_en_disclosed_ad.csv')\n",
    "dftt_en=dftt_en[['video_description']]\n",
    "dftt_nl = fo.read_data(r'C:\\Users\\I6240624\\Documents\\BISS\\Master Thesis\\Data\\icwsm_dutch_data\\TikTok_lingua_nl_disclosed_ad.csv')\n",
    "dftt_nl=dftt_nl[['video_description']]\n",
    "dfyt_en = fo.read_data(r'C:\\Users\\I6240624\\Documents\\BISS\\Master Thesis\\Data\\icwsm_dutch_data\\Youtube_lingua_en_disclosed_ad.csv')\n",
    "dfyt_en=dfyt_en[['description_video']]\n",
    "dfyt_nl = fo.read_data(r'C:\\Users\\I6240624\\Documents\\BISS\\Master Thesis\\Data\\icwsm_dutch_data\\Youtube_lingua_nl_disclosed_ad.csv')\n",
    "dfyt_nl=dfyt_nl[['description_video']]"
   ],
   "metadata": {
    "collapsed": false,
    "ExecuteTime": {
     "end_time": "2024-03-12T18:32:17.358098100Z",
     "start_time": "2024-03-12T18:32:02.487769700Z"
    }
   },
   "id": "f1a2a838e4455247"
  },
  {
   "cell_type": "code",
   "execution_count": 3,
   "outputs": [],
   "source": [
    "# Open the data\n",
    "yten= fo.read_data_ai('C:/Users/I6240624/Documents/BISS/Master Thesis/Code/DarianOthmanMasterThesis/yt_en_datagen_500.csv')\n",
    "ytnl= fo.read_data_ai('C:/Users/I6240624/Documents/BISS/Master Thesis/Code/DarianOthmanMasterThesis/yt_nl_datagen_500.csv')\n",
    "insen= fo.read_data_ai('C:/Users/I6240624/Documents/BISS/Master Thesis/Code/DarianOthmanMasterThesis/ins_en_datagen_500.csv')\n",
    "insnl= fo.read_data_ai('C:/Users/I6240624/Documents/BISS/Master Thesis/Code/DarianOthmanMasterThesis/ins_nl_datagen_500.csv')\n",
    "tten= fo.read_data_ai('C:/Users/I6240624/Documents/BISS/Master Thesis/Code/DarianOthmanMasterThesis/tt_en_datagen_500.csv')\n",
    "ttnl= fo.read_data_ai('C:/Users/I6240624/Documents/BISS/Master Thesis/Code/DarianOthmanMasterThesis/tt_nl_datagen_500.csv')"
   ],
   "metadata": {
    "collapsed": false,
    "ExecuteTime": {
     "end_time": "2024-03-12T18:32:17.420411800Z",
     "start_time": "2024-03-12T18:32:17.358098100Z"
    }
   },
   "id": "815635a67921f688"
  },
  {
   "cell_type": "code",
   "execution_count": 4,
   "outputs": [],
   "source": [
    "# Applying the functions to the first column of the 'tten' dataset\n",
    "tten['mentions'] = tten[0].apply(lambda x: ic.extract_mentions(x))\n",
    "tten['urls'] = tten[0].apply(lambda x: ic.extract_urls(x))\n",
    "tten['hashtags'] = tten[0].apply(lambda x: ic.extract_hashtags(x))\n",
    "tten['emojis'] = tten[0].apply(lambda x: ic.extract_emojis(x))\n",
    "\n",
    "\n",
    "ttnl['mentions'] = ttnl[0].apply(lambda x: ic.extract_mentions(x))\n",
    "ttnl['urls'] = ttnl[0].apply(lambda x: ic.extract_urls(x))\n",
    "ttnl['hashtags'] = ttnl[0].apply(lambda x: ic.extract_hashtags(x))\n",
    "ttnl['emojis'] = ttnl[0].apply(lambda x: ic.extract_emojis(x))\n",
    "\n",
    "insen['mentions'] = insen[0].apply(lambda x: ic.extract_mentions(x))\n",
    "insen['urls'] = insen[0].apply(lambda x: ic.extract_urls(x))\n",
    "insen['hashtags'] = insen[0].apply(lambda x: ic.extract_hashtags(x))\n",
    "insen['emojis'] = insen[0].apply(lambda x: ic.extract_emojis(x))\n",
    "\n",
    "insnl['mentions'] = insnl[0].apply(lambda x: ic.extract_mentions(x))\n",
    "insnl['urls'] = insnl[0].apply(lambda x: ic.extract_urls(x))\n",
    "insnl['hashtags'] = insnl[0].apply(lambda x: ic.extract_hashtags(x))\n",
    "insnl['emojis'] = insnl[0].apply(lambda x: ic.extract_emojis(x))\n",
    "\n",
    "yten['mentions'] = yten[0].apply(lambda x: ic.extract_mentions(x))\n",
    "yten['urls'] = yten[0].apply(lambda x: ic.extract_urls(x))\n",
    "yten['hashtags'] = yten[0].apply(lambda x: ic.extract_hashtags(x))\n",
    "yten['emojis'] = yten[0].apply(lambda x: ic.extract_emojis(x))\n",
    "\n",
    "ytnl['mentions'] = ytnl[0].apply(lambda x: ic.extract_mentions(x))\n",
    "ytnl['urls'] = ytnl[0].apply(lambda x: ic.extract_urls(x))\n",
    "ytnl['hashtags'] = ytnl[0].apply(lambda x: ic.extract_hashtags(x))\n",
    "ytnl['emojis'] = ytnl[0].apply(lambda x: ic.extract_emojis(x))"
   ],
   "metadata": {
    "collapsed": false,
    "ExecuteTime": {
     "end_time": "2024-03-12T18:32:17.789454500Z",
     "start_time": "2024-03-12T18:32:17.420411800Z"
    }
   },
   "id": "d1e7b48b649b5d29"
  },
  {
   "cell_type": "code",
   "execution_count": 5,
   "outputs": [],
   "source": [
    "columns_to_split = ['mentions', 'hashtags', 'urls', 'emojis']\n",
    "tten=ic.split_columns(tten, columns_to_split)\n",
    "ttnl=ic.split_columns(ttnl, columns_to_split)\n",
    "yten=ic.split_columns(yten, columns_to_split)\n",
    "ytnl=ic.split_columns(ytnl, columns_to_split)\n",
    "insen=ic.split_columns(insen, columns_to_split)\n",
    "insnl=ic.split_columns(insnl, columns_to_split)"
   ],
   "metadata": {
    "collapsed": false,
    "ExecuteTime": {
     "end_time": "2024-03-12T18:32:17.867561700Z",
     "start_time": "2024-03-12T18:32:17.789454500Z"
    }
   },
   "id": "3a9de4a4231091d"
  },
  {
   "cell_type": "code",
   "execution_count": 6,
   "outputs": [],
   "source": [
    "dfins_en['mentions'] = dfins_en[\"caption\"].apply(lambda x: ic.extract_mentions(x))\n",
    "dfins_en['urls'] = dfins_en[\"caption\"].apply(lambda x: ic.extract_urls(x))\n",
    "dfins_en['hashtags'] = dfins_en[\"caption\"].apply(lambda x: ic.extract_hashtags(x))\n",
    "dfins_en['emojis'] = dfins_en[\"caption\"].apply(lambda x: ic.extract_emojis(x))\n",
    "\n",
    "dfins_nl['mentions'] = dfins_nl[\"caption\"].apply(lambda x: ic.extract_mentions(x))\n",
    "dfins_nl['urls'] = dfins_nl[\"caption\"].apply(lambda x: ic.extract_urls(x))\n",
    "dfins_nl['hashtags'] = dfins_nl[\"caption\"].apply(lambda x: ic.extract_hashtags(x))\n",
    "dfins_nl['emojis'] = dfins_nl[\"caption\"].apply(lambda x: ic.extract_emojis(x))\n",
    "\n",
    "dftt_en['mentions'] = dftt_en[\"video_description\"].apply(lambda x: ic.extract_mentions(x))\n",
    "dftt_en['urls'] = dftt_en[\"video_description\"].apply(lambda x: ic.extract_urls(x))\n",
    "dftt_en['hashtags'] = dftt_en[\"video_description\"].apply(lambda x: ic.extract_hashtags(x))\n",
    "dftt_en['emojis'] = dftt_en[\"video_description\"].apply(lambda x: ic.extract_emojis(x))\n",
    "\n",
    "dftt_nl['mentions'] = dftt_nl[\"video_description\"].apply(lambda x: ic.extract_mentions(x))\n",
    "dftt_nl['urls'] = dftt_nl[\"video_description\"].apply(lambda x: ic.extract_urls(x))\n",
    "dftt_nl['hashtags'] = dftt_nl[\"video_description\"].apply(lambda x: ic.extract_hashtags(x))\n",
    "dftt_nl['emojis'] = dftt_nl[\"video_description\"].apply(lambda x: ic.extract_emojis(x))\n",
    "\n",
    "dfyt_en['mentions'] = dfyt_en[\"description_video\"].apply(lambda x: ic.extract_mentions(x))\n",
    "dfyt_en['urls'] = dfyt_en[\"description_video\"].apply(lambda x: ic.extract_urls(x))\n",
    "dfyt_en['hashtags'] = dfyt_en[\"description_video\"].apply(lambda x: ic.extract_hashtags(x))\n",
    "dfyt_en['emojis'] = dfyt_en[\"description_video\"].apply(lambda x: ic.extract_emojis(x))\n",
    "\n",
    "dfyt_nl['mentions'] = dfyt_nl[\"description_video\"].apply(lambda x: ic.extract_mentions(x))\n",
    "dfyt_nl['urls'] = dfyt_nl[\"description_video\"].apply(lambda x: ic.extract_urls(x))\n",
    "dfyt_nl['hashtags'] = dfyt_nl[\"description_video\"].apply(lambda x: ic.extract_hashtags(x))\n",
    "dfyt_nl['emojis'] = dfyt_nl[\"description_video\"].apply(lambda x: ic.extract_emojis(x))"
   ],
   "metadata": {
    "collapsed": false,
    "ExecuteTime": {
     "end_time": "2024-03-12T18:33:19.252504400Z",
     "start_time": "2024-03-12T18:32:17.851953700Z"
    }
   },
   "id": "13d541b2ff3658c6"
  },
  {
   "cell_type": "code",
   "execution_count": 7,
   "outputs": [],
   "source": [
    "columns_to_split = ['mentions', 'hashtags', 'urls', 'emojis']\n",
    "dfins_en=ic.split_columns(dfins_en, columns_to_split)\n",
    "dfins_nl=ic.split_columns(dfins_nl, columns_to_split)\n",
    "dftt_en=ic.split_columns(dftt_en, columns_to_split)\n",
    "dftt_nl=ic.split_columns(dftt_nl, columns_to_split)\n",
    "dfyt_en=ic.split_columns(dfyt_en, columns_to_split)\n",
    "dfyt_nl=ic.split_columns(dfyt_nl, columns_to_split)"
   ],
   "metadata": {
    "collapsed": false,
    "ExecuteTime": {
     "end_time": "2024-03-12T18:33:20.870684800Z",
     "start_time": "2024-03-12T18:33:19.252504400Z"
    }
   },
   "id": "a4310bc1a347b5cf"
  },
  {
   "cell_type": "code",
   "execution_count": 10,
   "outputs": [],
   "source": [
    "dfyt_en=dfyt_en.rename(columns={'description_video': 'caption'})\n",
    "dfyt_nl = dfyt_nl.rename(columns={'description_video': 'caption'})\n",
    "dftt_en=dftt_en.rename(columns={'video_description': 'caption'})\n",
    "dftt_nl = dftt_nl.rename(columns={'video_description': 'caption'})\n",
    "insen=insen.rename(columns={0: 'caption'})\n",
    "insnl = insnl.rename(columns={0: 'caption'})\n",
    "yten=yten.rename(columns={0: 'caption'})\n",
    "ytnl = ytnl.rename(columns={0: 'caption'})\n",
    "tten=tten.rename(columns={0: 'caption'})\n",
    "ttnl = ttnl.rename(columns={0: 'caption'})"
   ],
   "metadata": {
    "collapsed": false,
    "ExecuteTime": {
     "end_time": "2024-03-12T18:34:43.247240900Z",
     "start_time": "2024-03-12T18:34:43.184756400Z"
    }
   },
   "id": "3fff0136f52b9ca3"
  },
  {
   "cell_type": "code",
   "execution_count": 19,
   "outputs": [],
   "source": [
    "dfins_en['mentions_count'] = dfins_en['mentions'].apply(lambda x: len(x))\n",
    "dfins_en['hashtags_count'] = dfins_en['hashtags'].apply(lambda x: len(x))\n",
    "dfins_en['urls_count'] = dfins_en['urls'].apply(lambda x: len(x))\n",
    "dfins_en['emojis_count'] = dfins_en['emojis'].apply(lambda x: len(x))\n",
    "dfins_en['caption_length'] = dfins_en['caption'].apply(lambda x: len(x))\n",
    "\n",
    "dfins_nl['mentions_count'] = dfins_nl['mentions'].apply(lambda x: len(x))\n",
    "dfins_nl['hashtags_count'] = dfins_nl['hashtags'].apply(lambda x: len(x))\n",
    "dfins_nl['urls_count'] = dfins_nl['urls'].apply(lambda x: len(x))\n",
    "dfins_nl['emojis_count'] = dfins_nl['emojis'].apply(lambda x: len(x))\n",
    "dfins_nl['caption_length'] = dfins_nl['caption'].apply(lambda x: len(x))\n",
    "\n",
    "dftt_en['mentions_count'] = dftt_en['mentions'].apply(lambda x: len(x))\n",
    "dftt_en['hashtags_count'] = dftt_en['hashtags'].apply(lambda x: len(x))\n",
    "dftt_en['urls_count'] = dftt_en['urls'].apply(lambda x: len(x))\n",
    "dftt_en['emojis_count'] = dftt_en['emojis'].apply(lambda x: len(x))\n",
    "dftt_en['caption_length'] = dftt_en['caption'].apply(lambda x: len(x))\n",
    "\n",
    "dftt_nl['mentions_count'] = dftt_nl['mentions'].apply(lambda x: len(x))\n",
    "dftt_nl['hashtags_count'] = dftt_nl['hashtags'].apply(lambda x: len(x))\n",
    "dftt_nl['urls_count'] = dftt_nl['urls'].apply(lambda x: len(x))\n",
    "dftt_nl['emojis_count'] = dftt_nl['emojis'].apply(lambda x: len(x))\n",
    "dftt_nl['caption_length'] = dftt_nl['caption'].apply(lambda x: len(x))\n",
    "\n",
    "dfyt_en['mentions_count'] = dfyt_en['mentions'].apply(lambda x: len(x))\n",
    "dfyt_en['hashtags_count'] = dfyt_en['hashtags'].apply(lambda x: len(x))\n",
    "dfyt_en['urls_count'] = dfyt_en['urls'].apply(lambda x: len(x))\n",
    "dfyt_en['emojis_count'] = dfyt_en['emojis'].apply(lambda x: len(x))\n",
    "dfyt_en['caption_length'] = dfyt_en['caption'].apply(lambda x: len(x))\n",
    "\n",
    "dfyt_nl['mentions_count'] = dfyt_nl['mentions'].apply(lambda x: len(x))\n",
    "dfyt_nl['hashtags_count'] = dfyt_nl['hashtags'].apply(lambda x: len(x))\n",
    "dfyt_nl['urls_count'] = dfyt_nl['urls'].apply(lambda x: len(x))\n",
    "dfyt_nl['emojis_count'] = dfyt_nl['emojis'].apply(lambda x: len(x))\n",
    "dfyt_nl['caption_length'] = dfyt_nl['caption'].apply(lambda x: len(x))\n",
    "\n",
    "tten['mentions_count'] = tten['mentions'].apply(lambda x: len(x))\n",
    "tten['hashtags_count'] = tten['hashtags'].apply(lambda x: len(x))\n",
    "tten['urls_count'] = tten['urls'].apply(lambda x: len(x))\n",
    "tten['emojis_count'] = tten['emojis'].apply(lambda x: len(x))\n",
    "tten['caption_length'] = tten['caption'].apply(lambda x: len(x))\n",
    "\n",
    "ttnl['mentions_count'] = ttnl['mentions'].apply(lambda x: len(x))\n",
    "ttnl['hashtags_count'] = ttnl['hashtags'].apply(lambda x: len(x))\n",
    "ttnl['urls_count'] = ttnl['urls'].apply(lambda x: len(x))\n",
    "ttnl['emojis_count'] = ttnl['emojis'].apply(lambda x: len(x))\n",
    "ttnl['caption_length'] = ttnl['caption'].apply(lambda x: len(x))\n",
    "\n",
    "yten['mentions_count'] = yten['mentions'].apply(lambda x: len(x))\n",
    "yten['hashtags_count'] = yten['hashtags'].apply(lambda x: len(x))\n",
    "yten['urls_count'] = yten['urls'].apply(lambda x: len(x))\n",
    "yten['emojis_count'] = yten['emojis'].apply(lambda x: len(x))\n",
    "yten['caption_length'] = yten['caption'].apply(lambda x: len(x))\n",
    "\n",
    "ytnl['mentions_count'] = ytnl['mentions'].apply(lambda x: len(x))\n",
    "ytnl['hashtags_count'] = ytnl['hashtags'].apply(lambda x: len(x))\n",
    "ytnl['urls_count'] = ytnl['urls'].apply(lambda x: len(x))\n",
    "ytnl['emojis_count'] = ytnl['emojis'].apply(lambda x: len(x))\n",
    "ytnl['caption_length'] = ytnl['caption'].apply(lambda x: len(x))\n",
    "\n",
    "insen['mentions_count'] = insen['mentions'].apply(lambda x: len(x))\n",
    "insen['hashtags_count'] = insen['hashtags'].apply(lambda x: len(x))\n",
    "insen['urls_count'] = insen['urls'].apply(lambda x: len(x))\n",
    "insen['emojis_count'] = insen['emojis'].apply(lambda x: len(x))\n",
    "insen['caption_length'] = insen['caption'].apply(lambda x: len(x))\n",
    "\n",
    "insnl['mentions_count'] = insnl['mentions'].apply(lambda x: len(x))\n",
    "insnl['hashtags_count'] = insnl['hashtags'].apply(lambda x: len(x))\n",
    "insnl['urls_count'] = insnl['urls'].apply(lambda x: len(x))\n",
    "insnl['emojis_count'] = insnl['emojis'].apply(lambda x: len(x))\n",
    "insnl['caption_length'] = insnl['caption'].apply(lambda x: len(x))"
   ],
   "metadata": {
    "collapsed": false,
    "ExecuteTime": {
     "end_time": "2024-03-12T19:24:42.383491400Z",
     "start_time": "2024-03-12T19:24:40.801330400Z"
    }
   },
   "id": "5d786330bee08e78"
  },
  {
   "cell_type": "code",
   "execution_count": 20,
   "outputs": [],
   "source": [
    "# Save the data\n",
    "dfins_en.to_csv(r'C:\\Users\\I6240624\\Documents\\BISS\\Master Thesis\\Data\\dfinsenchar.csv', index=False)\n",
    "dfins_nl.to_csv(r'C:\\Users\\I6240624\\Documents\\BISS\\Master Thesis\\Data\\dfinsnlchar.csv', index=False)\n",
    "dftt_en.to_csv(r'C:\\Users\\I6240624\\Documents\\BISS\\Master Thesis\\Data\\dfttenchar.csv', index=False)\n",
    "dftt_nl.to_csv(r'C:\\Users\\I6240624\\Documents\\BISS\\Master Thesis\\Data\\dfttnlchar.csv', index=False)\n",
    "dfyt_en.to_csv(r'C:\\Users\\I6240624\\Documents\\BISS\\Master Thesis\\Data\\dfytenchar.csv', index=False)\n",
    "dfyt_nl.to_csv(r'C:\\Users\\I6240624\\Documents\\BISS\\Master Thesis\\Data\\dfytnlchar.csv', index=False)\n",
    "tten.to_csv(r'C:\\Users\\I6240624\\Documents\\BISS\\Master Thesis\\Data\\ttenchar.csv', index=False)\n",
    "ttnl.to_csv(r'C:\\Users\\I6240624\\Documents\\BISS\\Master Thesis\\Data\\ttnlchar.csv', index=False)\n",
    "yten.to_csv(r'C:\\Users\\I6240624\\Documents\\BISS\\Master Thesis\\Data\\ytenchar.csv', index=False)\n",
    "ytnl.to_csv(r'C:\\Users\\I6240624\\Documents\\BISS\\Master Thesis\\Data\\ytnlchar.csv', index=False)\n",
    "insen.to_csv(r'C:\\Users\\I6240624\\Documents\\BISS\\Master Thesis\\Data\\insenchar.csv', index=False)\n",
    "insnl.to_csv(r'C:\\Users\\I6240624\\Documents\\BISS\\Master Thesis\\Data\\insnlchar.csv', index=False)"
   ],
   "metadata": {
    "collapsed": false,
    "ExecuteTime": {
     "end_time": "2024-03-12T19:24:57.870054200Z",
     "start_time": "2024-03-12T19:24:45.008776200Z"
    }
   },
   "id": "77943baaefdacc82"
  }
 ],
 "metadata": {
  "kernelspec": {
   "display_name": "Python 3",
   "language": "python",
   "name": "python3"
  },
  "language_info": {
   "codemirror_mode": {
    "name": "ipython",
    "version": 2
   },
   "file_extension": ".py",
   "mimetype": "text/x-python",
   "name": "python",
   "nbconvert_exporter": "python",
   "pygments_lexer": "ipython2",
   "version": "2.7.6"
  }
 },
 "nbformat": 4,
 "nbformat_minor": 5
}
