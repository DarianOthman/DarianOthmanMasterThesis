{
 "cells": [
  {
   "cell_type": "code",
   "execution_count": 218,
   "id": "initial_id",
   "metadata": {
    "collapsed": true,
    "ExecuteTime": {
     "end_time": "2024-03-12T17:53:00.050614700Z",
     "start_time": "2024-03-12T17:52:59.987447400Z"
    }
   },
   "outputs": [],
   "source": [
    "import pandas as pd\n",
    "import sys\n",
    "import csv\n",
    "import matplotlib.pyplot as plt\n",
    "sys.path.append(r'C:\\Users\\I6240624\\Documents\\BISS\\Master Thesis\\Code\\DarianOthmanMasterThesis\\Functions')\n",
    "import Influencer_Characteristics as ic\n",
    "import File_Opening as fo"
   ]
  },
  {
   "cell_type": "code",
   "execution_count": 220,
   "outputs": [],
   "source": [
    "dfins_en = fo.read_data(r'C:\\Users\\I6240624\\Documents\\BISS\\Master Thesis\\Data\\icwsm_dutch_data\\Ins_lingua_en_disclosed_ad.csv')\n",
    "dfins_en=dfins_en[['caption']]\n",
    "dfins_nl = fo.read_data(r'C:\\Users\\I6240624\\Documents\\BISS\\Master Thesis\\Data\\icwsm_dutch_data\\Ins_lingua_nl_disclosed_ad.csv')\n",
    "dfins_nl=dfins_nl[['caption']]\n",
    "dftt_en = fo.read_data(r'C:\\Users\\I6240624\\Documents\\BISS\\Master Thesis\\Data\\icwsm_dutch_data\\TikTok_lingua_en_disclosed_ad.csv')\n",
    "dftt_en=dftt_en[['video_description']]\n",
    "dftt_nl = fo.read_data(r'C:\\Users\\I6240624\\Documents\\BISS\\Master Thesis\\Data\\icwsm_dutch_data\\TikTok_lingua_nl_disclosed_ad.csv')\n",
    "dftt_nl=dftt_nl[['video_description']]\n",
    "dfyt_en = fo.read_data(r'C:\\Users\\I6240624\\Documents\\BISS\\Master Thesis\\Data\\icwsm_dutch_data\\Youtube_lingua_en_disclosed_ad.csv')\n",
    "dfyt_en=dfyt_en[['description_video']]\n",
    "dfyt_nl = fo.read_data(r'C:\\Users\\I6240624\\Documents\\BISS\\Master Thesis\\Data\\icwsm_dutch_data\\Youtube_lingua_nl_disclosed_ad.csv')\n",
    "dfyt_nl=dfyt_nl[['description_video']]"
   ],
   "metadata": {
    "collapsed": false,
    "ExecuteTime": {
     "end_time": "2024-03-12T17:53:17.212146400Z",
     "start_time": "2024-03-12T17:53:00.034993200Z"
    }
   },
   "id": "f1a2a838e4455247"
  },
  {
   "cell_type": "code",
   "execution_count": 221,
   "outputs": [],
   "source": [
    "# Open the data\n",
    "yten= fo.read_data_ai('C:/Users/I6240624/Documents/BISS/Master Thesis/Code/DarianOthmanMasterThesis/yt_en_datagen_500.csv')\n",
    "ytnl= fo.read_data_ai('C:/Users/I6240624/Documents/BISS/Master Thesis/Code/DarianOthmanMasterThesis/yt_nl_datagen_500.csv')\n",
    "insen= fo.read_data_ai('C:/Users/I6240624/Documents/BISS/Master Thesis/Code/DarianOthmanMasterThesis/ins_en_datagen_500.csv')\n",
    "insnl= fo.read_data_ai('C:/Users/I6240624/Documents/BISS/Master Thesis/Code/DarianOthmanMasterThesis/ins_nl_datagen_500.csv')\n",
    "tten= fo.read_data_ai('C:/Users/I6240624/Documents/BISS/Master Thesis/Code/DarianOthmanMasterThesis/tt_en_datagen_500.csv')\n",
    "ttnl= fo.read_data_ai('C:/Users/I6240624/Documents/BISS/Master Thesis/Code/DarianOthmanMasterThesis/tt_nl_datagen_500.csv')"
   ],
   "metadata": {
    "collapsed": false,
    "ExecuteTime": {
     "end_time": "2024-03-12T17:53:17.275018600Z",
     "start_time": "2024-03-12T17:53:17.227742200Z"
    }
   },
   "id": "815635a67921f688"
  },
  {
   "cell_type": "code",
   "execution_count": 222,
   "outputs": [],
   "source": [
    "# Applying the functions to the first column of the 'tten' dataset\n",
    "tten['mentions'] = tten[0].apply(lambda x: ic.extract_mentions(x))\n",
    "tten['urls'] = tten[0].apply(lambda x: ic.extract_urls(x))\n",
    "tten['hashtags'] = tten[0].apply(lambda x: ic.extract_hashtags(x))\n",
    "tten['emojis'] = tten[0].apply(lambda x: ic.extract_emojis(x))\n",
    "\n",
    "\n",
    "ttnl['mentions'] = ttnl[0].apply(lambda x: ic.extract_mentions(x))\n",
    "ttnl['urls'] = ttnl[0].apply(lambda x: ic.extract_urls(x))\n",
    "ttnl['hashtags'] = ttnl[0].apply(lambda x: ic.extract_hashtags(x))\n",
    "ttnl['emojis'] = ttnl[0].apply(lambda x: ic.extract_emojis(x))\n",
    "\n",
    "insen['mentions'] = insen[0].apply(lambda x: ic.extract_mentions(x))\n",
    "insen['urls'] = insen[0].apply(lambda x: ic.extract_urls(x))\n",
    "insen['hashtags'] = insen[0].apply(lambda x: ic.extract_hashtags(x))\n",
    "insen['emojis'] = insen[0].apply(lambda x: ic.extract_emojis(x))\n",
    "\n",
    "insnl['mentions'] = insnl[0].apply(lambda x: ic.extract_mentions(x))\n",
    "insnl['urls'] = insnl[0].apply(lambda x: ic.extract_urls(x))\n",
    "insnl['hashtags'] = insnl[0].apply(lambda x: ic.extract_hashtags(x))\n",
    "insnl['emojis'] = insnl[0].apply(lambda x: ic.extract_emojis(x))\n",
    "\n",
    "yten['mentions'] = yten[0].apply(lambda x: ic.extract_mentions(x))\n",
    "yten['urls'] = yten[0].apply(lambda x: ic.extract_urls(x))\n",
    "yten['hashtags'] = yten[0].apply(lambda x: ic.extract_hashtags(x))\n",
    "yten['emojis'] = yten[0].apply(lambda x: ic.extract_emojis(x))\n",
    "\n",
    "ytnl['mentions'] = ytnl[0].apply(lambda x: ic.extract_mentions(x))\n",
    "ytnl['urls'] = ytnl[0].apply(lambda x: ic.extract_urls(x))\n",
    "ytnl['hashtags'] = ytnl[0].apply(lambda x: ic.extract_hashtags(x))\n",
    "ytnl['emojis'] = ytnl[0].apply(lambda x: ic.extract_emojis(x))"
   ],
   "metadata": {
    "collapsed": false,
    "ExecuteTime": {
     "end_time": "2024-03-12T17:53:17.530166Z",
     "start_time": "2024-03-12T17:53:17.275018600Z"
    }
   },
   "id": "d1e7b48b649b5d29"
  },
  {
   "cell_type": "code",
   "execution_count": 223,
   "outputs": [],
   "source": [
    "columns_to_split = ['mentions', 'hashtags', 'urls', 'emojis']\n",
    "tten=ic.split_columns(tten, columns_to_split)\n",
    "ttnl=ic.split_columns(ttnl, columns_to_split)\n",
    "yten=ic.split_columns(yten, columns_to_split)\n",
    "ytnl=ic.split_columns(ytnl, columns_to_split)\n",
    "insen=ic.split_columns(insen, columns_to_split)\n",
    "insnl=ic.split_columns(insnl, columns_to_split)"
   ],
   "metadata": {
    "collapsed": false,
    "ExecuteTime": {
     "end_time": "2024-03-12T17:53:17.561370800Z",
     "start_time": "2024-03-12T17:53:17.530166Z"
    }
   },
   "id": "3a9de4a4231091d"
  },
  {
   "cell_type": "code",
   "execution_count": 225,
   "outputs": [],
   "source": [
    "dfins_en['mentions'] = dfins_en[\"caption\"].apply(lambda x: ic.extract_mentions(x))\n",
    "dfins_en['urls'] = dfins_en[\"caption\"].apply(lambda x: ic.extract_urls(x))\n",
    "dfins_en['hashtags'] = dfins_en[\"caption\"].apply(lambda x: ic.extract_hashtags(x))\n",
    "dfins_en['emojis'] = dfins_en[\"caption\"].apply(lambda x: ic.extract_emojis(x))\n",
    "\n",
    "dfins_nl['mentions'] = dfins_nl[\"caption\"].apply(lambda x: ic.extract_mentions(x))\n",
    "dfins_nl['urls'] = dfins_nl[\"caption\"].apply(lambda x: ic.extract_urls(x))\n",
    "dfins_nl['hashtags'] = dfins_nl[\"caption\"].apply(lambda x: ic.extract_hashtags(x))\n",
    "dfins_nl['emojis'] = dfins_nl[\"caption\"].apply(lambda x: ic.extract_emojis(x))\n",
    "\n",
    "dftt_en['mentions'] = dftt_en[\"video_description\"].apply(lambda x: ic.extract_mentions(x))\n",
    "dftt_en['urls'] = dftt_en[\"video_description\"].apply(lambda x: ic.extract_urls(x))\n",
    "dftt_en['hashtags'] = dftt_en[\"video_description\"].apply(lambda x: ic.extract_hashtags(x))\n",
    "dftt_en['emojis'] = dftt_en[\"video_description\"].apply(lambda x: ic.extract_emojis(x))\n",
    "\n",
    "dftt_nl['mentions'] = dftt_nl[\"video_description\"].apply(lambda x: ic.extract_mentions(x))\n",
    "dftt_nl['urls'] = dftt_nl[\"video_description\"].apply(lambda x: ic.extract_urls(x))\n",
    "dftt_nl['hashtags'] = dftt_nl[\"video_description\"].apply(lambda x: ic.extract_hashtags(x))\n",
    "dftt_nl['emojis'] = dftt_nl[\"video_description\"].apply(lambda x: ic.extract_emojis(x))\n",
    "\n",
    "dfyt_en['mentions'] = dfyt_en[\"description_video\"].apply(lambda x: ic.extract_mentions(x))\n",
    "dfyt_en['urls'] = dfyt_en[\"description_video\"].apply(lambda x: ic.extract_urls(x))\n",
    "dfyt_en['hashtags'] = dfyt_en[\"description_video\"].apply(lambda x: ic.extract_hashtags(x))\n",
    "dfyt_en['emojis'] = dfyt_en[\"description_video\"].apply(lambda x: ic.extract_emojis(x))\n",
    "\n",
    "dfyt_nl['mentions'] = dfyt_nl[\"description_video\"].apply(lambda x: ic.extract_mentions(x))\n",
    "dfyt_nl['urls'] = dfyt_nl[\"description_video\"].apply(lambda x: ic.extract_urls(x))\n",
    "dfyt_nl['hashtags'] = dfyt_nl[\"description_video\"].apply(lambda x: ic.extract_hashtags(x))\n",
    "dfyt_nl['emojis'] = dfyt_nl[\"description_video\"].apply(lambda x: ic.extract_emojis(x))"
   ],
   "metadata": {
    "collapsed": false,
    "ExecuteTime": {
     "end_time": "2024-03-12T17:54:19.682741Z",
     "start_time": "2024-03-12T17:53:17.592631600Z"
    }
   },
   "id": "13d541b2ff3658c6"
  },
  {
   "cell_type": "code",
   "execution_count": 226,
   "outputs": [],
   "source": [
    "columns_to_split = ['mentions', 'hashtags', 'urls', 'emojis']\n",
    "dfins_en=ic.split_columns(dfins_en, columns_to_split)\n",
    "dfins_nl=ic.split_columns(dfins_nl, columns_to_split)\n",
    "dftt_en=ic.split_columns(dftt_en, columns_to_split)\n",
    "dftt_nl=ic.split_columns(dftt_nl, columns_to_split)\n",
    "dfyt_en=ic.split_columns(dfyt_en, columns_to_split)\n",
    "dfyt_nl=ic.split_columns(dfyt_nl, columns_to_split)"
   ],
   "metadata": {
    "collapsed": false,
    "ExecuteTime": {
     "end_time": "2024-03-12T17:54:21.604471200Z",
     "start_time": "2024-03-12T17:54:19.682741Z"
    }
   },
   "id": "a4310bc1a347b5cf"
  }
 ],
 "metadata": {
  "kernelspec": {
   "display_name": "Python 3",
   "language": "python",
   "name": "python3"
  },
  "language_info": {
   "codemirror_mode": {
    "name": "ipython",
    "version": 2
   },
   "file_extension": ".py",
   "mimetype": "text/x-python",
   "name": "python",
   "nbconvert_exporter": "python",
   "pygments_lexer": "ipython2",
   "version": "2.7.6"
  }
 },
 "nbformat": 4,
 "nbformat_minor": 5
}
