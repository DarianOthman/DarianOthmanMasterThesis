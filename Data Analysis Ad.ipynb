{
 "cells": [
  {
   "cell_type": "code",
   "execution_count": 3,
   "id": "initial_id",
   "metadata": {
    "collapsed": true,
    "ExecuteTime": {
     "end_time": "2024-01-25T16:11:12.999862100Z",
     "start_time": "2024-01-25T16:11:09.304054700Z"
    }
   },
   "outputs": [
    {
     "name": "stderr",
     "output_type": "stream",
     "text": [
      "C:\\Users\\I6240624\\AppData\\Local\\Temp\\ipykernel_8752\\3537453158.py:4: DeprecationWarning: \n",
      "Pyarrow will become a required dependency of pandas in the next major release of pandas (pandas 3.0),\n",
      "(to allow more performant data types, such as the Arrow string type, and better interoperability with other libraries)\n",
      "but was not found to be installed on your system.\n",
      "If this would cause problems for you,\n",
      "please provide us feedback at https://github.com/pandas-dev/pandas/issues/54466\n",
      "        \n",
      "  import pandas as pd\n"
     ]
    }
   ],
   "source": [
    "import csv\n",
    "\n",
    "import numpy as np\n",
    "import pandas as pd\n",
    "import matplotlib.pyplot as plt\n",
    "from matplotlib_venn import venn3\n",
    "import networkx as nx\n",
    "import ast"
   ]
  },
  {
   "cell_type": "code",
   "execution_count": null,
   "outputs": [],
   "source": [
    "#read in Instagram data\n",
    "with open(r'C:\\Users\\I6240624\\Documents\\BISS\\Master Thesis\\Data\\icwsm_dutch_data\\Ins_lingua_en_disclosed_ad.csv', 'r',\n",
    "          encoding='utf-8') as f:\n",
    "    reader_ins = csv.reader(f, delimiter=',')\n",
    "    rows_ins_en = list(reader_ins)\n",
    "    #read in Instagram data\n",
    "with open(r'C:\\Users\\I6240624\\Documents\\BISS\\Master Thesis\\Data\\icwsm_dutch_data\\Ins_lingua_nl_disclosed_ad.csv', 'r',\n",
    "          encoding='utf-8') as f:\n",
    "    reader_ins = csv.reader(f, delimiter=',')\n",
    "    rows_ins_nl = list(reader_ins)"
   ],
   "metadata": {
    "collapsed": false
   },
   "id": "754a6249a8b01f26"
  },
  {
   "cell_type": "code",
   "execution_count": 21,
   "outputs": [],
   "source": [
    " #read in TikTok data ENGLISH\n",
    "with open(r'C:\\Users\\I6240624\\Documents\\BISS\\Master Thesis\\Data\\icwsm_dutch_data\\TikTok_lingua_en_disclosed_ad.csv', 'r',\n",
    "          encoding='utf-8') as f:\n",
    "    reader_tt = csv.reader(f, delimiter=',')\n",
    "    rows_tt_en = list(reader_tt)\n",
    "    #read in TikTok data DUTCH\n",
    "with open(r'C:\\Users\\I6240624\\Documents\\BISS\\Master Thesis\\Data\\icwsm_dutch_data\\TikTok_lingua_nl_disclosed_ad.csv', 'r',\n",
    "          encoding='utf-8') as f:\n",
    "    reader_tt = csv.reader(f, delimiter=',')\n",
    "    rows_tt_nl = list(reader_tt)"
   ],
   "metadata": {
    "collapsed": false,
    "ExecuteTime": {
     "end_time": "2024-01-25T16:34:09.612947Z",
     "start_time": "2024-01-25T16:34:08.616139200Z"
    }
   },
   "id": "f5c4052602e187a0"
  },
  {
   "cell_type": "code",
   "execution_count": 18,
   "outputs": [
    {
     "data": {
      "text/plain": "0     Unnamed: 0       username  \\\n302        96780   quintymirjam   \n303        96781   quintymirjam   \n305        96784   quintymirjam   \n306        96785   quintymirjam   \n309        96790   quintymirjam   \n...          ...            ...   \n58471      25159    clonnygames   \n58519      25210    clonnygames   \n58987      67911  melanielatooy   \n59053      67999  melanielatooy   \n59067      68026  melanielatooy   \n\n0                                                caption  \\\n302    There is no place like bed 💙💤⁣\\n⁣\\nAfgelopen w...   \n303    Wat is jou fave sport? 🎾 ⁣\\n⁣\\nDe mijne kun je...   \n305    Lounge w/ me 🤍💭🕊⁣\\n⁣\\nOntvang nu 10% korting o...   \n306    Ik leeef in dit pak 🧸⁣\\n⁣\\n@loungeunderwear @l...   \n309    Soms acrobaat 🤸⁣\\n⁣\\nEindelijk heb ik een merk...   \n...                                                  ...   \n58471  De vrolijke film Trolls Wereldtour draait vana...   \n58519  De @NERF Elite 2.0 Motoblitz is echt één van m...   \n58987  Joehoeeee!😏 Onze eigen party collectie in same...   \n59053  Helaas zijn voor veel van jullie de scholen we...   \n59067  Zo blij omdat mijn haar de gehele fotoshoot go...   \n\n0                                       caption_hashtags  \\\n302    ['emmamatras', 'dontworrysleephappy', 'hetbest...   \n303                                        ['icaniwill']   \n305                                                   []   \n306                                                   []   \n309                   ['linkinstory', 'ad', 'icaniwill']   \n...                                                  ...   \n58471  ['trollswereldtour', 'trollsworldtour', 'clonn...   \n58519                                     ['NERF', 'ad']   \n58987                                 ['coolcatxlatooy']   \n59053                         ['danielwellington', 'ad']   \n59067                             ['aussiehair', 'spon']   \n\n0                              tagged_users subscriber_count  \\\n302                         ['emma_matras']           177590   \n303                           ['icaniwill']           177365   \n305                     ['loungeunderwear']           177984   \n306    ['loungeunderwear', 'loungeapparel']           177240   \n309                           ['icaniwill']           176513   \n...                                     ...              ...   \n58471                      ['universal_nl']            93644   \n58519                              ['NERF']            83821   \n58987                  ['coolcat_official']           353902   \n59053                  ['danielwellington']           407228   \n59067                                    []           370134   \n\n0                ct_score counts_disabled  likes likes_expected  ...  \\\n302    -2.121752880054213           False   4412           9344  ...   \n303     1.450494429841031           False  10889           7928  ...   \n305    -1.076974925856026           False   7369           7928  ...   \n306     1.162848917261234           False   9220           7928  ...   \n309     1.010859150431172           False   9436           9344  ...   \n...                   ...             ...    ...            ...  ...   \n58471   1.160683760683761           False   1937           1701  ...   \n58519  -6.737160120845921           False    658           4315  ...   \n58987   -1.14264904521016           False  37509          42985  ...   \n59053   1.387344099275075           False  66043          47652  ...   \n59067   1.019804876010613           False  48529          47652  ...   \n\n0     absolute_position_1st_disclosure relative_position_1st_disclosure  \\\n302                                                                       \n303                                                                       \n305                                                                       \n306                                                                       \n309                               47.0               0.9791666666666666   \n...                                ...                              ...   \n58471                             73.0               0.9733333333333334   \n58519                             65.0                              1.0   \n58987                                                                     \n59053                             60.0                              1.0   \n59067                             35.0                              1.0   \n\n0     Green_disclosure Yellow_disclosure     Affliated_marketing  \\\n302                                       korting, korting, code   \n303                                                korting, code   \n305                                                korting, code   \n306                                                                \n309                #ad                       korting, shop, code   \n...                ...               ...                     ...   \n58471              #ad                                             \n58519              #ad                                             \n58987                                                              \n59053              #ad                    korting, korting, code   \n59067            #spon                                             \n\n0                Affliated_marketing_pairs Giveaway Giveaway_pairs  \\\n302                     ('code' 'korting')                           \n303                     ('code' 'korting')                           \n305                     ('code' 'korting')                           \n306                                                                  \n309    ('code' 'korting'), ('code' 'shop')                           \n...                                    ...      ...            ...   \n58471                                                                \n58519                                                                \n58987                                                                \n59053                   ('code' 'korting')                           \n59067                                                                \n\n0     Green_disclosure_absolute Green_disclosure_relative  \n302                         0.0                       0.0  \n303                         0.0                       0.0  \n305                         0.0                       0.0  \n306                         0.0                       0.0  \n309                        47.0        0.9791666666666666  \n...                         ...                       ...  \n58471                      73.0        0.9733333333333334  \n58519                      65.0                       1.0  \n58987                       0.0                       0.0  \n59053                      60.0                       1.0  \n59067                      35.0                       1.0  \n\n[406 rows x 38 columns]",
      "text/html": "<div>\n<style scoped>\n    .dataframe tbody tr th:only-of-type {\n        vertical-align: middle;\n    }\n\n    .dataframe tbody tr th {\n        vertical-align: top;\n    }\n\n    .dataframe thead th {\n        text-align: right;\n    }\n</style>\n<table border=\"1\" class=\"dataframe\">\n  <thead>\n    <tr style=\"text-align: right;\">\n      <th></th>\n      <th>Unnamed: 0</th>\n      <th>username</th>\n      <th>caption</th>\n      <th>caption_hashtags</th>\n      <th>tagged_users</th>\n      <th>subscriber_count</th>\n      <th>ct_score</th>\n      <th>counts_disabled</th>\n      <th>likes</th>\n      <th>likes_expected</th>\n      <th>...</th>\n      <th>absolute_position_1st_disclosure</th>\n      <th>relative_position_1st_disclosure</th>\n      <th>Green_disclosure</th>\n      <th>Yellow_disclosure</th>\n      <th>Affliated_marketing</th>\n      <th>Affliated_marketing_pairs</th>\n      <th>Giveaway</th>\n      <th>Giveaway_pairs</th>\n      <th>Green_disclosure_absolute</th>\n      <th>Green_disclosure_relative</th>\n    </tr>\n  </thead>\n  <tbody>\n    <tr>\n      <th>302</th>\n      <td>96780</td>\n      <td>quintymirjam</td>\n      <td>There is no place like bed 💙💤⁣\\n⁣\\nAfgelopen w...</td>\n      <td>['emmamatras', 'dontworrysleephappy', 'hetbest...</td>\n      <td>['emma_matras']</td>\n      <td>177590</td>\n      <td>-2.121752880054213</td>\n      <td>False</td>\n      <td>4412</td>\n      <td>9344</td>\n      <td>...</td>\n      <td></td>\n      <td></td>\n      <td></td>\n      <td></td>\n      <td>korting, korting, code</td>\n      <td>('code' 'korting')</td>\n      <td></td>\n      <td></td>\n      <td>0.0</td>\n      <td>0.0</td>\n    </tr>\n    <tr>\n      <th>303</th>\n      <td>96781</td>\n      <td>quintymirjam</td>\n      <td>Wat is jou fave sport? 🎾 ⁣\\n⁣\\nDe mijne kun je...</td>\n      <td>['icaniwill']</td>\n      <td>['icaniwill']</td>\n      <td>177365</td>\n      <td>1.450494429841031</td>\n      <td>False</td>\n      <td>10889</td>\n      <td>7928</td>\n      <td>...</td>\n      <td></td>\n      <td></td>\n      <td></td>\n      <td></td>\n      <td>korting, code</td>\n      <td>('code' 'korting')</td>\n      <td></td>\n      <td></td>\n      <td>0.0</td>\n      <td>0.0</td>\n    </tr>\n    <tr>\n      <th>305</th>\n      <td>96784</td>\n      <td>quintymirjam</td>\n      <td>Lounge w/ me 🤍💭🕊⁣\\n⁣\\nOntvang nu 10% korting o...</td>\n      <td>[]</td>\n      <td>['loungeunderwear']</td>\n      <td>177984</td>\n      <td>-1.076974925856026</td>\n      <td>False</td>\n      <td>7369</td>\n      <td>7928</td>\n      <td>...</td>\n      <td></td>\n      <td></td>\n      <td></td>\n      <td></td>\n      <td>korting, code</td>\n      <td>('code' 'korting')</td>\n      <td></td>\n      <td></td>\n      <td>0.0</td>\n      <td>0.0</td>\n    </tr>\n    <tr>\n      <th>306</th>\n      <td>96785</td>\n      <td>quintymirjam</td>\n      <td>Ik leeef in dit pak 🧸⁣\\n⁣\\n@loungeunderwear @l...</td>\n      <td>[]</td>\n      <td>['loungeunderwear', 'loungeapparel']</td>\n      <td>177240</td>\n      <td>1.162848917261234</td>\n      <td>False</td>\n      <td>9220</td>\n      <td>7928</td>\n      <td>...</td>\n      <td></td>\n      <td></td>\n      <td></td>\n      <td></td>\n      <td></td>\n      <td></td>\n      <td></td>\n      <td></td>\n      <td>0.0</td>\n      <td>0.0</td>\n    </tr>\n    <tr>\n      <th>309</th>\n      <td>96790</td>\n      <td>quintymirjam</td>\n      <td>Soms acrobaat 🤸⁣\\n⁣\\nEindelijk heb ik een merk...</td>\n      <td>['linkinstory', 'ad', 'icaniwill']</td>\n      <td>['icaniwill']</td>\n      <td>176513</td>\n      <td>1.010859150431172</td>\n      <td>False</td>\n      <td>9436</td>\n      <td>9344</td>\n      <td>...</td>\n      <td>47.0</td>\n      <td>0.9791666666666666</td>\n      <td>#ad</td>\n      <td></td>\n      <td>korting, shop, code</td>\n      <td>('code' 'korting'), ('code' 'shop')</td>\n      <td></td>\n      <td></td>\n      <td>47.0</td>\n      <td>0.9791666666666666</td>\n    </tr>\n    <tr>\n      <th>...</th>\n      <td>...</td>\n      <td>...</td>\n      <td>...</td>\n      <td>...</td>\n      <td>...</td>\n      <td>...</td>\n      <td>...</td>\n      <td>...</td>\n      <td>...</td>\n      <td>...</td>\n      <td>...</td>\n      <td>...</td>\n      <td>...</td>\n      <td>...</td>\n      <td>...</td>\n      <td>...</td>\n      <td>...</td>\n      <td>...</td>\n      <td>...</td>\n      <td>...</td>\n      <td>...</td>\n    </tr>\n    <tr>\n      <th>58471</th>\n      <td>25159</td>\n      <td>clonnygames</td>\n      <td>De vrolijke film Trolls Wereldtour draait vana...</td>\n      <td>['trollswereldtour', 'trollsworldtour', 'clonn...</td>\n      <td>['universal_nl']</td>\n      <td>93644</td>\n      <td>1.160683760683761</td>\n      <td>False</td>\n      <td>1937</td>\n      <td>1701</td>\n      <td>...</td>\n      <td>73.0</td>\n      <td>0.9733333333333334</td>\n      <td>#ad</td>\n      <td></td>\n      <td></td>\n      <td></td>\n      <td></td>\n      <td></td>\n      <td>73.0</td>\n      <td>0.9733333333333334</td>\n    </tr>\n    <tr>\n      <th>58519</th>\n      <td>25210</td>\n      <td>clonnygames</td>\n      <td>De @NERF Elite 2.0 Motoblitz is echt één van m...</td>\n      <td>['NERF', 'ad']</td>\n      <td>['NERF']</td>\n      <td>83821</td>\n      <td>-6.737160120845921</td>\n      <td>False</td>\n      <td>658</td>\n      <td>4315</td>\n      <td>...</td>\n      <td>65.0</td>\n      <td>1.0</td>\n      <td>#ad</td>\n      <td></td>\n      <td></td>\n      <td></td>\n      <td></td>\n      <td></td>\n      <td>65.0</td>\n      <td>1.0</td>\n    </tr>\n    <tr>\n      <th>58987</th>\n      <td>67911</td>\n      <td>melanielatooy</td>\n      <td>Joehoeeee!😏 Onze eigen party collectie in same...</td>\n      <td>['coolcatxlatooy']</td>\n      <td>['coolcat_official']</td>\n      <td>353902</td>\n      <td>-1.14264904521016</td>\n      <td>False</td>\n      <td>37509</td>\n      <td>42985</td>\n      <td>...</td>\n      <td></td>\n      <td></td>\n      <td></td>\n      <td></td>\n      <td></td>\n      <td></td>\n      <td></td>\n      <td></td>\n      <td>0.0</td>\n      <td>0.0</td>\n    </tr>\n    <tr>\n      <th>59053</th>\n      <td>67999</td>\n      <td>melanielatooy</td>\n      <td>Helaas zijn voor veel van jullie de scholen we...</td>\n      <td>['danielwellington', 'ad']</td>\n      <td>['danielwellington']</td>\n      <td>407228</td>\n      <td>1.387344099275075</td>\n      <td>False</td>\n      <td>66043</td>\n      <td>47652</td>\n      <td>...</td>\n      <td>60.0</td>\n      <td>1.0</td>\n      <td>#ad</td>\n      <td></td>\n      <td>korting, korting, code</td>\n      <td>('code' 'korting')</td>\n      <td></td>\n      <td></td>\n      <td>60.0</td>\n      <td>1.0</td>\n    </tr>\n    <tr>\n      <th>59067</th>\n      <td>68026</td>\n      <td>melanielatooy</td>\n      <td>Zo blij omdat mijn haar de gehele fotoshoot go...</td>\n      <td>['aussiehair', 'spon']</td>\n      <td>[]</td>\n      <td>370134</td>\n      <td>1.019804876010613</td>\n      <td>False</td>\n      <td>48529</td>\n      <td>47652</td>\n      <td>...</td>\n      <td>35.0</td>\n      <td>1.0</td>\n      <td>#spon</td>\n      <td></td>\n      <td></td>\n      <td></td>\n      <td></td>\n      <td></td>\n      <td>35.0</td>\n      <td>1.0</td>\n    </tr>\n  </tbody>\n</table>\n<p>406 rows × 38 columns</p>\n</div>"
     },
     "execution_count": 18,
     "metadata": {},
     "output_type": "execute_result"
    }
   ],
   "source": [
    "# Making the Instagram dataframe DUTCH\n",
    "dfins_nl = pd.DataFrame(rows_ins_nl)\n",
    "# Making the first row the header\n",
    "new_header = dfins_nl.iloc[0] \n",
    "dfins_nl = dfins_nl[1:]\n",
    "dfins_nl.columns = new_header \n",
    "dfins_nl = dfins_nl.loc[dfins_nl[\"is_ad\"]==\"True\"]\n",
    "\n",
    "# Making the Instagram dataframe ENGLISH\n",
    "dfins_en = pd.DataFrame(rows_ins_en)\n",
    "# Making the first row the header\n",
    "new_header = dfins_en.iloc[0] \n",
    "dfins_en = dfins_en[1:]\n",
    "dfins_en.columns = new_header \n",
    "dfins_en = dfins_en.loc[dfins_en[\"is_ad\"]==\"True\"]"
   ],
   "metadata": {
    "collapsed": false,
    "ExecuteTime": {
     "end_time": "2024-01-25T16:28:49.432384200Z",
     "start_time": "2024-01-25T16:28:49.085313700Z"
    }
   },
   "id": "7b089ce0f09297a7"
  },
  {
   "cell_type": "code",
   "execution_count": 25,
   "outputs": [],
   "source": [
    "# Making the TikTok dataframe DUTCH\n",
    "dftt_nl = pd.DataFrame(rows_tt_nl)\n",
    "# Making the first row the header\n",
    "new_header = dftt_nl.iloc[0] \n",
    "dftt_nl = dftt_nl[1:]\n",
    "dftt_nl.columns = new_header \n",
    "#dftt_nl = dftt_nl.loc[dftt_nl[\"is_ad\"]==\"True\"]\n",
    "\n",
    "# Making the TikTok dataframe ENGLISH\n",
    "dftt_en = pd.DataFrame(rows_tt_en)\n",
    "# Making the first row the header\n",
    "new_header = dftt_en.iloc[0] \n",
    "dftt_en = dftt_en[1:]\n",
    "dftt_en.columns = new_header \n",
    "#dftt_en = dftt_en.loc[dftt_en[\"is_ad\"]==\"True\"]"
   ],
   "metadata": {
    "collapsed": false,
    "ExecuteTime": {
     "end_time": "2024-01-25T16:36:20.766563300Z",
     "start_time": "2024-01-25T16:36:20.568629800Z"
    }
   },
   "id": "9645ba125abcd678"
  },
  {
   "cell_type": "code",
   "execution_count": 27,
   "outputs": [
    {
     "data": {
      "text/plain": "0     Unnamed: 0.1 Unnamed: 0              username                   id  \\\n1                2          2        addoveldhuizen  6822215629127306240   \n2                4          4        addoveldhuizen  6821105591361047552   \n3                6          6        addoveldhuizen  6820674722108312576   \n4                7          7        addoveldhuizen  6817044819982945280   \n5                8          8        addoveldhuizen  6815950044450114560   \n...            ...        ...                   ...                  ...   \n25366       138143     138143  zoetezusjes_official  7179253622855732224   \n25367       138144     138144  zoetezusjes_official  7179173848657447936   \n25368       138145     138145  zoetezusjes_official  7195707723042868224   \n25369       138146     138146  zoetezusjes_official  7192139431254428672   \n25370       138147     138147  zoetezusjes_official  7205558762369715200   \n\n0                                      video_description          create_time  \\\n1      Wie heeft er ook een hond?🐕 #honden #uitgaan #...  2020-05-02 12:00:57   \n2      Ziekenhuis verschillende talen! 🏥#ziekenhuis #...  2020-04-29 12:13:26   \n3                   Wow....!😍 #vork #onmogelijk #tekenen  2020-04-28 08:21:27   \n4      Wie heeft er vroeger ook zo vaak in de hoek ge...  2020-04-18 13:35:35   \n5      Ben je lekker aan het puzzelen.... #puzzelen #...  2020-04-15 14:47:18   \n...                                                  ...                  ...   \n25366  Wij gingen onze eigen squishies maken met doct...  2022-12-20 15:30:46   \n25367  Wij gingen kijken wie Janna het beste kent! He...  2022-12-20 10:21:13   \n25368  Wij bouwden een kermis in ons eigen huis, het ...  2023-02-02 23:41:04   \n25369  Wij deden de Kies Niet De Verkeerde Cadeau Cha...  2023-01-24 08:54:22   \n25370  Onze nieuwe moppenboek 2 is nu uit! Ga jij het...  2023-03-01 12:48:09   \n\n0     region_code share_count view_count like_count  ...  \\\n1              NL       227.0   256247.0    25302.0  ...   \n2              NL       141.0    39222.0     3299.0  ...   \n3              NL      1306.0   655156.0    33583.0  ...   \n4              NL         8.0    25213.0     2625.0  ...   \n5              NL        59.0    61495.0     6143.0  ...   \n...           ...         ...        ...        ...  ...   \n25366          NL         2.0     3266.0      140.0  ...   \n25367          NL         1.0     4064.0      144.0  ...   \n25368          NL         5.0    15075.0      224.0  ...   \n25369          NL         2.0    10171.0      188.0  ...   \n25370          NL         5.0    24912.0      422.0  ...   \n\n0     absolute_position_1st_disclosure relative_position_1st_disclosure  \\\n1                                                                         \n2                                                                         \n3                                                                         \n4                                                                         \n5                                                                         \n...                                ...                              ...   \n25366                                                                     \n25367                                                                     \n25368                                                                     \n25369                                                                     \n25370                                                                     \n\n0     Green_disclosure Yellow_disclosure Affliated_marketing  \\\n1                                                              \n2                                                              \n3                                                              \n4                                                              \n5                                                              \n...                ...               ...                 ...   \n25366                                                          \n25367                                                          \n25368                                                          \n25369                                                          \n25370                                                          \n\n0     Affliated_marketing_pairs Giveaway Giveaway_pairs  \\\n1                                                         \n2                                                         \n3                                                         \n4                                                         \n5                                                         \n...                         ...      ...            ...   \n25366                                                     \n25367                                                     \n25368                                                     \n25369                                                     \n25370                                                     \n\n0     Green_disclosure_absolute Green_disclosure_relative  \n1                           0.0                       0.0  \n2                           0.0                       0.0  \n3                           0.0                       0.0  \n4                           0.0                       0.0  \n5                           0.0                       0.0  \n...                         ...                       ...  \n25366                       0.0                       0.0  \n25367                       0.0                       0.0  \n25368                       0.0                       0.0  \n25369                       0.0                       0.0  \n25370                       0.0                       0.0  \n\n[25370 rows x 30 columns]",
      "text/html": "<div>\n<style scoped>\n    .dataframe tbody tr th:only-of-type {\n        vertical-align: middle;\n    }\n\n    .dataframe tbody tr th {\n        vertical-align: top;\n    }\n\n    .dataframe thead th {\n        text-align: right;\n    }\n</style>\n<table border=\"1\" class=\"dataframe\">\n  <thead>\n    <tr style=\"text-align: right;\">\n      <th></th>\n      <th>Unnamed: 0.1</th>\n      <th>Unnamed: 0</th>\n      <th>username</th>\n      <th>id</th>\n      <th>video_description</th>\n      <th>create_time</th>\n      <th>region_code</th>\n      <th>share_count</th>\n      <th>view_count</th>\n      <th>like_count</th>\n      <th>...</th>\n      <th>absolute_position_1st_disclosure</th>\n      <th>relative_position_1st_disclosure</th>\n      <th>Green_disclosure</th>\n      <th>Yellow_disclosure</th>\n      <th>Affliated_marketing</th>\n      <th>Affliated_marketing_pairs</th>\n      <th>Giveaway</th>\n      <th>Giveaway_pairs</th>\n      <th>Green_disclosure_absolute</th>\n      <th>Green_disclosure_relative</th>\n    </tr>\n  </thead>\n  <tbody>\n    <tr>\n      <th>1</th>\n      <td>2</td>\n      <td>2</td>\n      <td>addoveldhuizen</td>\n      <td>6822215629127306240</td>\n      <td>Wie heeft er ook een hond?🐕 #honden #uitgaan #...</td>\n      <td>2020-05-02 12:00:57</td>\n      <td>NL</td>\n      <td>227.0</td>\n      <td>256247.0</td>\n      <td>25302.0</td>\n      <td>...</td>\n      <td></td>\n      <td></td>\n      <td></td>\n      <td></td>\n      <td></td>\n      <td></td>\n      <td></td>\n      <td></td>\n      <td>0.0</td>\n      <td>0.0</td>\n    </tr>\n    <tr>\n      <th>2</th>\n      <td>4</td>\n      <td>4</td>\n      <td>addoveldhuizen</td>\n      <td>6821105591361047552</td>\n      <td>Ziekenhuis verschillende talen! 🏥#ziekenhuis #...</td>\n      <td>2020-04-29 12:13:26</td>\n      <td>NL</td>\n      <td>141.0</td>\n      <td>39222.0</td>\n      <td>3299.0</td>\n      <td>...</td>\n      <td></td>\n      <td></td>\n      <td></td>\n      <td></td>\n      <td></td>\n      <td></td>\n      <td></td>\n      <td></td>\n      <td>0.0</td>\n      <td>0.0</td>\n    </tr>\n    <tr>\n      <th>3</th>\n      <td>6</td>\n      <td>6</td>\n      <td>addoveldhuizen</td>\n      <td>6820674722108312576</td>\n      <td>Wow....!😍 #vork #onmogelijk #tekenen</td>\n      <td>2020-04-28 08:21:27</td>\n      <td>NL</td>\n      <td>1306.0</td>\n      <td>655156.0</td>\n      <td>33583.0</td>\n      <td>...</td>\n      <td></td>\n      <td></td>\n      <td></td>\n      <td></td>\n      <td></td>\n      <td></td>\n      <td></td>\n      <td></td>\n      <td>0.0</td>\n      <td>0.0</td>\n    </tr>\n    <tr>\n      <th>4</th>\n      <td>7</td>\n      <td>7</td>\n      <td>addoveldhuizen</td>\n      <td>6817044819982945280</td>\n      <td>Wie heeft er vroeger ook zo vaak in de hoek ge...</td>\n      <td>2020-04-18 13:35:35</td>\n      <td>NL</td>\n      <td>8.0</td>\n      <td>25213.0</td>\n      <td>2625.0</td>\n      <td>...</td>\n      <td></td>\n      <td></td>\n      <td></td>\n      <td></td>\n      <td></td>\n      <td></td>\n      <td></td>\n      <td></td>\n      <td>0.0</td>\n      <td>0.0</td>\n    </tr>\n    <tr>\n      <th>5</th>\n      <td>8</td>\n      <td>8</td>\n      <td>addoveldhuizen</td>\n      <td>6815950044450114560</td>\n      <td>Ben je lekker aan het puzzelen.... #puzzelen #...</td>\n      <td>2020-04-15 14:47:18</td>\n      <td>NL</td>\n      <td>59.0</td>\n      <td>61495.0</td>\n      <td>6143.0</td>\n      <td>...</td>\n      <td></td>\n      <td></td>\n      <td></td>\n      <td></td>\n      <td></td>\n      <td></td>\n      <td></td>\n      <td></td>\n      <td>0.0</td>\n      <td>0.0</td>\n    </tr>\n    <tr>\n      <th>...</th>\n      <td>...</td>\n      <td>...</td>\n      <td>...</td>\n      <td>...</td>\n      <td>...</td>\n      <td>...</td>\n      <td>...</td>\n      <td>...</td>\n      <td>...</td>\n      <td>...</td>\n      <td>...</td>\n      <td>...</td>\n      <td>...</td>\n      <td>...</td>\n      <td>...</td>\n      <td>...</td>\n      <td>...</td>\n      <td>...</td>\n      <td>...</td>\n      <td>...</td>\n      <td>...</td>\n    </tr>\n    <tr>\n      <th>25366</th>\n      <td>138143</td>\n      <td>138143</td>\n      <td>zoetezusjes_official</td>\n      <td>7179253622855732224</td>\n      <td>Wij gingen onze eigen squishies maken met doct...</td>\n      <td>2022-12-20 15:30:46</td>\n      <td>NL</td>\n      <td>2.0</td>\n      <td>3266.0</td>\n      <td>140.0</td>\n      <td>...</td>\n      <td></td>\n      <td></td>\n      <td></td>\n      <td></td>\n      <td></td>\n      <td></td>\n      <td></td>\n      <td></td>\n      <td>0.0</td>\n      <td>0.0</td>\n    </tr>\n    <tr>\n      <th>25367</th>\n      <td>138144</td>\n      <td>138144</td>\n      <td>zoetezusjes_official</td>\n      <td>7179173848657447936</td>\n      <td>Wij gingen kijken wie Janna het beste kent! He...</td>\n      <td>2022-12-20 10:21:13</td>\n      <td>NL</td>\n      <td>1.0</td>\n      <td>4064.0</td>\n      <td>144.0</td>\n      <td>...</td>\n      <td></td>\n      <td></td>\n      <td></td>\n      <td></td>\n      <td></td>\n      <td></td>\n      <td></td>\n      <td></td>\n      <td>0.0</td>\n      <td>0.0</td>\n    </tr>\n    <tr>\n      <th>25368</th>\n      <td>138145</td>\n      <td>138145</td>\n      <td>zoetezusjes_official</td>\n      <td>7195707723042868224</td>\n      <td>Wij bouwden een kermis in ons eigen huis, het ...</td>\n      <td>2023-02-02 23:41:04</td>\n      <td>NL</td>\n      <td>5.0</td>\n      <td>15075.0</td>\n      <td>224.0</td>\n      <td>...</td>\n      <td></td>\n      <td></td>\n      <td></td>\n      <td></td>\n      <td></td>\n      <td></td>\n      <td></td>\n      <td></td>\n      <td>0.0</td>\n      <td>0.0</td>\n    </tr>\n    <tr>\n      <th>25369</th>\n      <td>138146</td>\n      <td>138146</td>\n      <td>zoetezusjes_official</td>\n      <td>7192139431254428672</td>\n      <td>Wij deden de Kies Niet De Verkeerde Cadeau Cha...</td>\n      <td>2023-01-24 08:54:22</td>\n      <td>NL</td>\n      <td>2.0</td>\n      <td>10171.0</td>\n      <td>188.0</td>\n      <td>...</td>\n      <td></td>\n      <td></td>\n      <td></td>\n      <td></td>\n      <td></td>\n      <td></td>\n      <td></td>\n      <td></td>\n      <td>0.0</td>\n      <td>0.0</td>\n    </tr>\n    <tr>\n      <th>25370</th>\n      <td>138147</td>\n      <td>138147</td>\n      <td>zoetezusjes_official</td>\n      <td>7205558762369715200</td>\n      <td>Onze nieuwe moppenboek 2 is nu uit! Ga jij het...</td>\n      <td>2023-03-01 12:48:09</td>\n      <td>NL</td>\n      <td>5.0</td>\n      <td>24912.0</td>\n      <td>422.0</td>\n      <td>...</td>\n      <td></td>\n      <td></td>\n      <td></td>\n      <td></td>\n      <td></td>\n      <td></td>\n      <td></td>\n      <td></td>\n      <td>0.0</td>\n      <td>0.0</td>\n    </tr>\n  </tbody>\n</table>\n<p>25370 rows × 30 columns</p>\n</div>"
     },
     "execution_count": 27,
     "metadata": {},
     "output_type": "execute_result"
    }
   ],
   "source": [
    "dftt_nl"
   ],
   "metadata": {
    "collapsed": false,
    "ExecuteTime": {
     "end_time": "2024-01-25T16:37:12.729862300Z",
     "start_time": "2024-01-25T16:37:12.634894500Z"
    }
   },
   "id": "d5a65127afc9d7bc"
  }
 ],
 "metadata": {
  "kernelspec": {
   "display_name": "Python 3",
   "language": "python",
   "name": "python3"
  },
  "language_info": {
   "codemirror_mode": {
    "name": "ipython",
    "version": 2
   },
   "file_extension": ".py",
   "mimetype": "text/x-python",
   "name": "python",
   "nbconvert_exporter": "python",
   "pygments_lexer": "ipython2",
   "version": "2.7.6"
  }
 },
 "nbformat": 4,
 "nbformat_minor": 5
}
