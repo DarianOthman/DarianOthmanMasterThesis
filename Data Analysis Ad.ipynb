{
 "cells": [
  {
   "cell_type": "code",
   "execution_count": null,
   "id": "initial_id",
   "metadata": {
    "collapsed": true
   },
   "outputs": [],
   "source": [
    "import csv\n",
    "import pandas as pd\n",
    "import matplotlib.pyplot as plt\n",
    "from matplotlib_venn import venn3\n",
    "import networkx as nx\n",
    "import ast\n",
    "import Influencer_Characteristics as ic\n",
    "import File_Opening as fo"
   ]
  },
  {
   "cell_type": "code",
   "execution_count": null,
   "outputs": [],
   "source": [
    "dfins_en = fo.read_data(r'C:\\Users\\I6240624\\Documents\\BISS\\Master Thesis\\Data\\icwsm_dutch_data\\Ins_lingua_en_disclosed_ad.csv')\n",
    "dfins_nl = fo.read_data(r'C:\\Users\\I6240624\\Documents\\BISS\\Master Thesis\\Data\\icwsm_dutch_data\\Ins_lingua_nl_disclosed_ad.csv')\n",
    "dftt_en = fo.read_data(r'C:\\Users\\I6240624\\Documents\\BISS\\Master Thesis\\Data\\icwsm_dutch_data\\TikTok_lingua_en_disclosed_ad.csv')\n",
    "dftt_nl = fo.read_data(r'C:\\Users\\I6240624\\Documents\\BISS\\Master Thesis\\Data\\icwsm_dutch_data\\TikTok_lingua_nl_disclosed_ad.csv')\n",
    "dfyt_en = fo.read_data(r'C:\\Users\\I6240624\\Documents\\BISS\\Master Thesis\\Data\\icwsm_dutch_data\\Youtube_lingua_en_disclosed_ad.csv')\n",
    "dfyt_nl = fo.read_data(r'C:\\Users\\I6240624\\Documents\\BISS\\Master Thesis\\Data\\icwsm_dutch_data\\Youtube_lingua_nl_disclosed_ad.csv')"
   ],
   "metadata": {
    "collapsed": false
   },
   "id": "ab5dbb8995ae530d"
  },
  {
   "cell_type": "code",
   "execution_count": null,
   "outputs": [],
   "source": [
    "insinf_en = fo.get_unique_values(dfins_en, \"username\")\n",
    "insinf_nl = fo.get_unique_values(dfins_nl, \"username\")\n",
    "ttinf_en = fo.get_unique_values(dftt_en, \"username\")\n",
    "ttinf_nl = fo.get_unique_values(dftt_nl, \"username\")\n",
    "ytinf_en = fo.get_unique_values(dfyt_en, \"channel_title\")\n",
    "ytinf_nl = fo.get_unique_values(dfyt_nl, \"channel_title\")"
   ],
   "metadata": {
    "collapsed": false
   },
   "id": "73df47f3d4774d5b"
  },
  {
   "cell_type": "code",
   "execution_count": null,
   "outputs": [],
   "source": [
    "dfyt_en[\"video_id\"].to_csv('dfyt_en_index_ad.csv', index=False)\n",
    "dfyt_nl[\"video_id\"].to_csv('dfyt_nl_index_ad.csv', index=False)\n",
    "dftt_en[\"id\"].to_csv('dftt_en_index_ad.csv', index=False)\n",
    "dftt_nl[\"id\"].to_csv('dftt_nl_index_ad.csv', index=False)\n",
    "dfins_en[\"ct_id\"].to_csv('dfins_en_index_ad.csv', index=False)\n",
    "dfins_nl[\"ct_id\"].to_csv('dfins_nl_index_ad.csv', index=False)"
   ],
   "metadata": {
    "collapsed": false
   },
   "id": "80e7787548653ad7"
  },
  {
   "cell_type": "code",
   "execution_count": null,
   "outputs": [],
   "source": [
    "fo.find_common_elements_and_plot(insinf_en, ttinf_en, ytinf_en, \"Instagram\", \"TikTok\", \"YouTube\",\"Intersectionality of English Influencers\")\n",
    "fo.find_common_elements_and_plot(insinf_nl, ttinf_nl, ytinf_nl, \"Instagram\", \"TikTok\", \"YouTube\",\"Intersectionality of Dutch Influencers\")"
   ],
   "metadata": {
    "collapsed": false
   },
   "id": "4a7872648b328dfa"
  },
  {
   "cell_type": "code",
   "execution_count": null,
   "outputs": [],
   "source": [
    "fo.plot_instances_by_week(dfins_en,\"date\", \"Instagram Posting English\")\n",
    "fo.plot_instances_by_week(dfins_nl,\"date\", \"Instagram Posting Dutch\")\n",
    "fo.plot_instances_by_week(dftt_en,\"create_time\", \"TikTok Posting English\")\n",
    "fo.plot_instances_by_week(dftt_nl,\"create_time\", \"TikTok Posting Dutch\")\n",
    "fo.plot_instances_by_week(dfyt_en,\"published_at_video\", \"YouTube Posting English\")\n",
    "fo.plot_instances_by_week(dfyt_nl,\"published_at_video\", \"YouTube Posting Dutch\")"
   ],
   "metadata": {
    "collapsed": false
   },
   "id": "75c8dc5b4a77ea8c"
  },
  {
   "cell_type": "code",
   "execution_count": null,
   "outputs": [],
   "source": [
    "fo.plot_instances_together(dfins_en,dftt_en,dfyt_en,\"date\",\"create_time\",\"published_at_video\",\"Instagram\",\"TikTok\",\"YouTube\",\"Evolution of Posting per Week English\")\n",
    "fo.plot_instances_together(dfins_nl,dftt_nl,dfyt_nl,\"date\",\"create_time\",\"published_at_video\",\"Instagram\",\"TikTok\",\"YouTube\",\"Evolution of Posting per Week Dutch\")"
   ],
   "metadata": {
    "collapsed": false
   },
   "id": "6af0dfbe694dad68"
  },
  {
   "cell_type": "code",
   "execution_count": null,
   "outputs": [],
   "source": [
    "timediffins_en = fo.calculate_time_between_posts(dfins_en, \"username\", \"date\")\n",
    "timediffins_nl = fo.calculate_time_between_posts(dfins_nl, \"username\", \"date\")\n",
    "timedifftt_en = fo.calculate_time_between_posts(dftt_en, \"username\", \"create_time\")\n",
    "timedifftt_nl = fo.calculate_time_between_posts(dftt_nl, \"username\", \"create_time\")\n",
    "timediffyt_en = fo.calculate_time_between_posts(dfyt_en, \"channel_title\", \"published_at_video\")\n",
    "timediffyt_nl = fo.calculate_time_between_posts(dfyt_nl, \"channel_title\", \"published_at_video\")"
   ],
   "metadata": {
    "collapsed": false
   },
   "id": "357725b4a4d9d7e0"
  },
  {
   "cell_type": "code",
   "execution_count": null,
   "outputs": [],
   "source": [
    "# Calculate the time between posts for influencers\n",
    "timediffins_en = pd.DataFrame({\n",
    "    \"Username\": list(insinf_en),\n",
    "    'Time Difference': [dfins_en[dfins_en['username'] == username]['date'].sort_values().diff().mean() for username in insinf_en]\n",
    "})\n",
    "\n",
    "timedifftt_en= pd.DataFrame({\n",
    "    \"Username\": list(ttinf_en),\n",
    "    'Time Difference': [dftt_en[dftt_en['username'] == username]['create_time'].sort_values().diff().mean() for username in ttinf_en]\n",
    "})\n",
    "\n",
    "timediffyt_en = pd.DataFrame({\n",
    "    \"Username\": list(ytinf_en),\n",
    "    'Time Difference': [dfyt_en[dfyt_en['channel_title'] == username]['published_at_video'].sort_values().diff().mean() for username in ytinf_en]\n",
    "})"
   ],
   "metadata": {
    "collapsed": false
   },
   "id": "1c014f4249dabf60"
  },
  {
   "cell_type": "code",
   "execution_count": null,
   "outputs": [],
   "source": [
    "fo.plot_time_between_posts(timediffyt_en, timedifftt_en, timediffins_en, \"YouTube\", \"TikTok\", \"Instagram\", \"Time Between Posts English\")\n",
    "fo.plot_time_between_posts(timediffyt_nl, timedifftt_nl, timediffins_nl, \"YouTube\", \"TikTok\", \"Instagram\", \"Time Between Posts Dutch\")"
   ],
   "metadata": {
    "collapsed": false
   },
   "id": "cf24f2bd3a6cb1b5"
  },
  {
   "cell_type": "code",
   "execution_count": null,
   "outputs": [],
   "source": [
    "\n",
    "# Combine the data into a list of arrays\n",
    "data_to_plot = [\n",
    "    timediffyt_en[\"Time Difference\"].dt.total_seconds().dropna() / (60 * 60 * 24),\n",
    "    timedifftt_en[\"Time Difference\"].dt.total_seconds().dropna() / (60 * 60 * 24),\n",
    "    timediffins_en[\"Time Difference\"].dt.total_seconds().dropna() / (60 * 60 * 24)\n",
    "]\n",
    "\n",
    "# Create a boxplot for all the data\n",
    "plt.figure(figsize=(10, 6))\n",
    "plt.boxplot(data_to_plot, labels=['YouTube', 'TikTok', 'Instagram'])\n",
    "\n",
    "# Customize the plot\n",
    "plt.title('Time Between Postings')\n",
    "plt.xlabel('Data Source')\n",
    "plt.ylabel('Days')\n",
    "plt.ylim(0, 1000)\n",
    "plt.xticks(rotation=45)\n",
    "\n",
    "# Show the plot\n",
    "plt.show()"
   ],
   "metadata": {
    "collapsed": false
   },
   "id": "74149a4a54d80e72"
  },
  {
   "cell_type": "code",
   "execution_count": null,
   "outputs": [],
   "source": [
    "# Calculate the time between posts for influencers\n",
    "timediffins_nl = pd.DataFrame({\n",
    "    \"Username\": list(insinf_nl),\n",
    "    'Time Difference': [dfins_nl[dfins_nl['username'] == username]['date'].sort_values().diff().mean() for username in insinf_nl]\n",
    "})\n",
    "\n",
    "timedifftt_nl= pd.DataFrame({\n",
    "    \"Username\": list(ttinf_nl),\n",
    "    'Time Difference': [dftt_nl[dftt_nl['username'] == username]['create_time'].sort_values().diff().mean() for username in ttinf_nl]\n",
    "})\n",
    "\n",
    "timediffyt_nl = pd.DataFrame({\n",
    "    \"Username\": list(ytinf_nl),\n",
    "    'Time Difference': [dfyt_nl[dfyt_nl['channel_title'] == username]['published_at_video'].sort_values().diff().mean() for username in ytinf_nl]\n",
    "})"
   ],
   "metadata": {
    "collapsed": false
   },
   "id": "1b54aa13af450653"
  },
  {
   "cell_type": "code",
   "execution_count": null,
   "outputs": [],
   "source": [
    "\n",
    "# Combine the data into a list of arrays\n",
    "data_to_plot = [\n",
    "    timediffyt_nl[\"Time Difference\"].dt.total_seconds().dropna() / (60 * 60 * 24),\n",
    "    timedifftt_nl[\"Time Difference\"].dt.total_seconds().dropna() / (60 * 60 * 24),\n",
    "    timediffins_nl[\"Time Difference\"].dt.total_seconds().dropna() / (60 * 60 * 24)\n",
    "]\n",
    "\n",
    "# Create a boxplot for all the data\n",
    "plt.figure(figsize=(10, 6))\n",
    "plt.boxplot(data_to_plot, labels=['YouTube', 'TikTok', 'Instagram'])\n",
    "\n",
    "# Customize the plot\n",
    "plt.title('Time Between Postings')\n",
    "plt.xlabel('Data Source')\n",
    "plt.ylabel('Days')\n",
    "plt.ylim(0, 1000)\n",
    "plt.xticks(rotation=45)\n",
    "\n",
    "# Show the plot\n",
    "plt.show()"
   ],
   "metadata": {
    "collapsed": false
   },
   "id": "5f595a40a0f948d5"
  },
  {
   "cell_type": "markdown",
   "source": [
    "### Network for English Instagram"
   ],
   "metadata": {
    "collapsed": false
   },
   "id": "7acff3403faf8e25"
  },
  {
   "cell_type": "code",
   "execution_count": null,
   "outputs": [],
   "source": [
    "dfins_en[\"caption_hashtags\"] = dfins_en[\"caption_hashtags\"].apply(lambda x: ast.literal_eval(x) if x else \"\")\n",
    "dfinshas_en = dfins_en[dfins_en[\"caption_hashtags\"].apply(lambda x: bool(x))].reset_index(drop=True)"
   ],
   "metadata": {
    "collapsed": false
   },
   "id": "2cacf6852448e97b"
  },
  {
   "cell_type": "code",
   "execution_count": null,
   "outputs": [],
   "source": [
    "G_en = nx.Graph()\n",
    "for words_list in dfinshas_en['caption_hashtags']:\n",
    "    G_en.add_edges_from([(word1, word2) for i, word1 in enumerate(words_list) for j, word2 in enumerate(words_list) if i < j])"
   ],
   "metadata": {
    "collapsed": false
   },
   "id": "983e081771057025"
  },
  {
   "cell_type": "code",
   "execution_count": null,
   "outputs": [],
   "source": [
    "k_value = 0.2  # You can adjust this value to control the repulsion\n",
    "pos = nx.spring_layout(G_en, k=k_value)\n",
    "\n",
    "# Draw the graph with specified layout\n",
    "nx.draw(G_en,pos, with_labels=False, node_size=2, edge_color='grey', width=0.1, alpha=0.7)"
   ],
   "metadata": {
    "collapsed": false
   },
   "id": "6521783212c1cb7e"
  },
  {
   "cell_type": "markdown",
   "source": [
    "### Network for Dutch Instagram"
   ],
   "metadata": {
    "collapsed": false
   },
   "id": "1cc0e51e00d5982e"
  },
  {
   "cell_type": "code",
   "execution_count": null,
   "outputs": [],
   "source": [
    "dfins_nl[\"caption_hashtags\"] = dfins_nl[\"caption_hashtags\"].apply(lambda x: ast.literal_eval(x) if x else \"\")\n",
    "dfinshas_nl = dfins_nl[dfins_nl[\"caption_hashtags\"].apply(lambda x: bool(x))].reset_index(drop=True)"
   ],
   "metadata": {
    "collapsed": false
   },
   "id": "75250439394715ff"
  },
  {
   "cell_type": "code",
   "execution_count": null,
   "outputs": [],
   "source": [
    "G_nl = nx.Graph()\n",
    "for words_list in dfinshas_nl['caption_hashtags']:\n",
    "    G_nl.add_edges_from([(word1, word2) for i, word1 in enumerate(words_list) for j, word2 in enumerate(words_list) if i < j])"
   ],
   "metadata": {
    "collapsed": false
   },
   "id": "42c15fef8e9d3f73"
  },
  {
   "cell_type": "code",
   "execution_count": null,
   "outputs": [],
   "source": [
    "k_value = 0.2  # You can adjust this value to control the repulsion\n",
    "pos = nx.spring_layout(G_nl, k=k_value)\n",
    "\n",
    "# Draw the graph with specified layout\n",
    "nx.draw(G_nl,pos, with_labels=False, node_size=2, edge_color='grey', width=0.1, alpha=0.7)"
   ],
   "metadata": {
    "collapsed": false
   },
   "id": "ca8dda5f76a16398"
  },
  {
   "cell_type": "markdown",
   "source": [
    "### Network for English TikTok"
   ],
   "metadata": {
    "collapsed": false
   },
   "id": "f21904cf2a698ffd"
  },
  {
   "cell_type": "code",
   "execution_count": null,
   "outputs": [],
   "source": [
    "dftt_en[\"hashtag_names\"] = dftt_en[\"hashtag_names\"].apply(lambda x: ast.literal_eval(x) if x else \"\")\n",
    "dftthas_en = dftt_en[dftt_en[\"hashtag_names\"].apply(lambda x: bool(x))].reset_index(drop=True)"
   ],
   "metadata": {
    "collapsed": false
   },
   "id": "a8a8b662829684d6"
  },
  {
   "cell_type": "code",
   "execution_count": null,
   "outputs": [],
   "source": [
    "G_en = nx.Graph()\n",
    "for words_list in dftthas_en['hashtag_names']:\n",
    "    G_en.add_edges_from([(word1, word2) for i, word1 in enumerate(words_list) for j, word2 in enumerate(words_list) if i < j])"
   ],
   "metadata": {
    "collapsed": false
   },
   "id": "b253880d535c448e"
  },
  {
   "cell_type": "code",
   "execution_count": null,
   "outputs": [],
   "source": [
    "k_value = 0.2  # You can adjust this value to control the repulsion\n",
    "pos = nx.spring_layout(G_en, k=k_value)\n",
    "\n",
    "# Draw the graph with specified layout\n",
    "nx.draw(G_en,pos, with_labels=False, node_size=2, edge_color='grey', width=0.1, alpha=0.7)"
   ],
   "metadata": {
    "collapsed": false
   },
   "id": "7c5538c616dc3abe"
  },
  {
   "cell_type": "markdown",
   "source": [
    "### Network for Dutch TikTok"
   ],
   "metadata": {
    "collapsed": false
   },
   "id": "75021fe5b68b60f4"
  },
  {
   "cell_type": "code",
   "execution_count": null,
   "outputs": [],
   "source": [
    "dftt_nl[\"hashtag_names\"] = dftt_nl[\"hashtag_names\"].apply(lambda x: ast.literal_eval(x) if x else \"\")\n",
    "dftthas_nl = dftt_nl[dftt_nl[\"hashtag_names\"].apply(lambda x: bool(x))].reset_index(drop=True)"
   ],
   "metadata": {
    "collapsed": false
   },
   "id": "6e59d5b2e971b23a"
  },
  {
   "cell_type": "code",
   "execution_count": null,
   "outputs": [],
   "source": [
    "G_nl = nx.Graph()\n",
    "for words_list in dftthas_nl['hashtag_names']:\n",
    "    G_nl.add_edges_from([(word1, word2) for i, word1 in enumerate(words_list) for j, word2 in enumerate(words_list) if i < j])"
   ],
   "metadata": {
    "collapsed": false
   },
   "id": "3c9b1b9da8e535b9"
  },
  {
   "cell_type": "code",
   "execution_count": null,
   "outputs": [],
   "source": [
    "len(G_nl.nodes())"
   ],
   "metadata": {
    "collapsed": false
   },
   "id": "b2cde2ce66331734"
  },
  {
   "cell_type": "code",
   "execution_count": null,
   "outputs": [],
   "source": [
    "k_value = 0.2  # You can adjust this value to control the repulsion\n",
    "pos = nx.spring_layout(G_nl, k=k_value)\n",
    "\n",
    "# Draw the graph with specified layout\n",
    "nx.draw(G_nl,pos, with_labels=False, node_size=2, edge_color='grey', width=0.1, alpha=0.7)"
   ],
   "metadata": {
    "collapsed": false
   },
   "id": "a92015c781a3b508"
  },
  {
   "cell_type": "markdown",
   "source": [
    "### Network for English YouTube"
   ],
   "metadata": {
    "collapsed": false
   },
   "id": "c270e45181f5050a"
  },
  {
   "cell_type": "code",
   "execution_count": null,
   "outputs": [],
   "source": [
    "# Convert string representations of tags into lists\n",
    "dfyt_en[\"tags\"] = dfyt_en[\"tags\"].apply(lambda x: [tag.strip() for tag in x.split(\",\")] if x else [])\n",
    "\n",
    "# Filter out rows where the \"tags\" column is empty\n",
    "dfythas_en = dfyt_en[dfyt_en[\"tags\"].apply(lambda x: bool(x))].reset_index(drop=True)"
   ],
   "metadata": {
    "collapsed": false
   },
   "id": "2acca196a17ce13b"
  },
  {
   "cell_type": "code",
   "execution_count": null,
   "outputs": [],
   "source": [
    "sample_size = 200\n",
    "random_sample = dfythas_en.sample(n=sample_size, random_state=42)"
   ],
   "metadata": {
    "collapsed": false
   },
   "id": "7fe02f67d22b1229"
  },
  {
   "cell_type": "code",
   "execution_count": null,
   "outputs": [],
   "source": [
    "G_en = nx.Graph()\n",
    "for words_list in random_sample['tags']:\n",
    "    G_en.add_edges_from([(word1, word2) for i, word1 in enumerate(words_list) for j, word2 in enumerate(words_list) if i < j])"
   ],
   "metadata": {
    "collapsed": false
   },
   "id": "b1e2ccf10d72c2e1"
  },
  {
   "cell_type": "code",
   "execution_count": null,
   "outputs": [],
   "source": [
    "k_value = 0.2  # You can adjust this value to control the repulsion\n",
    "pos = nx.spring_layout(G_en, k=k_value)\n",
    "\n",
    "# Draw the graph with specified layout\n",
    "nx.draw(G_en,pos, with_labels=False, node_size=2, edge_color='grey', width=0.1, alpha=0.7)"
   ],
   "metadata": {
    "collapsed": false
   },
   "id": "6465809651864851"
  },
  {
   "cell_type": "markdown",
   "source": [
    "### Network for Dutch YouTube"
   ],
   "metadata": {
    "collapsed": false
   },
   "id": "d6fde243462a4155"
  },
  {
   "cell_type": "code",
   "execution_count": null,
   "outputs": [],
   "source": [
    "# Convert string representations of tags into lists\n",
    "dfyt_nl[\"tags\"] = dfyt_nl[\"tags\"].apply(lambda x: [tag.strip() for tag in x.split(\",\")] if x else [])\n",
    "\n",
    "# Filter out rows where the \"tags\" column is empty\n",
    "dfythas_nl = dfyt_nl[dfyt_nl[\"tags\"].apply(lambda x: bool(x))].reset_index(drop=True)"
   ],
   "metadata": {
    "collapsed": false
   },
   "id": "38811b9bc6e94561"
  },
  {
   "cell_type": "code",
   "execution_count": null,
   "outputs": [],
   "source": [
    "sample_size = 500\n",
    "random_sample = dfythas_nl.sample(n=sample_size, random_state=42)"
   ],
   "metadata": {
    "collapsed": false
   },
   "id": "b3717e7737b79893"
  },
  {
   "cell_type": "code",
   "execution_count": null,
   "outputs": [],
   "source": [
    "G_nl = nx.Graph()\n",
    "for words_list in random_sample['tags']:\n",
    "    G_nl.add_edges_from([(word1, word2) for i, word1 in enumerate(words_list) for j, word2 in enumerate(words_list) if i < j])"
   ],
   "metadata": {
    "collapsed": false
   },
   "id": "7f13cdf63b2f6631"
  },
  {
   "cell_type": "code",
   "execution_count": null,
   "outputs": [],
   "source": [
    "k_value = 0.2  # You can adjust this value to control the repulsion\n",
    "pos = nx.spring_layout(G_nl, k=k_value)\n",
    "\n",
    "# Draw the graph with specified layout\n",
    "nx.draw(G_nl,pos, with_labels=False, node_size=2, edge_color='grey', width=0.1, alpha=0.7)"
   ],
   "metadata": {
    "collapsed": false
   },
   "id": "f6895e8d8c5028f0"
  },
  {
   "cell_type": "markdown",
   "source": [
    "## English Instagram Tags Network"
   ],
   "metadata": {
    "collapsed": false
   },
   "id": "6287601fc67f3f63"
  },
  {
   "cell_type": "code",
   "execution_count": null,
   "outputs": [],
   "source": [
    "dfins_en[\"tagged_users\"] = dfins_en[\"tagged_users\"].apply(lambda x: ast.literal_eval(x) if x else \"\")\n",
    "dfinshas_en = dfins_en[dfins_en[\"tagged_users\"].apply(lambda x: bool(x))].reset_index(drop=True)"
   ],
   "metadata": {
    "collapsed": false
   },
   "id": "c4ed9a8cdceff40c"
  },
  {
   "cell_type": "code",
   "execution_count": null,
   "outputs": [],
   "source": [
    "G_en = nx.Graph()\n",
    "\n",
    "# Assuming 'tagged_users' is a DataFrame column containing lists of words in each row\n",
    "for i, row1 in dfinshas_en.iterrows():\n",
    "    for j, row2 in dfinshas_en.iterrows():\n",
    "        if i < j:\n",
    "            # Check if there is any common word between the two rows\n",
    "            common_words = set(row1['tagged_users']) & set(row2['tagged_users'])\n",
    "            if common_words:\n",
    "                G_en.add_edge(i, j, common_words=list(common_words))"
   ],
   "metadata": {
    "collapsed": false
   },
   "id": "41c3024ce1224899"
  },
  {
   "cell_type": "code",
   "execution_count": null,
   "outputs": [],
   "source": [
    "k_value = 0.5  # You can adjust this value to control the repulsion\n",
    "pos = nx.spring_layout(G_en, k=k_value)\n",
    "\n",
    "# Draw the graph with specified layout\n",
    "nx.draw(G_en,pos, with_labels=False, node_size=2, edge_color='grey', width=0.1, alpha=0.7)"
   ],
   "metadata": {
    "collapsed": false
   },
   "id": "eb7e0f44d17e5c27"
  },
  {
   "cell_type": "markdown",
   "source": [
    "## Dutch Instagram Tags Network"
   ],
   "metadata": {
    "collapsed": false
   },
   "id": "8ac71f65d201e93f"
  },
  {
   "cell_type": "code",
   "execution_count": null,
   "outputs": [],
   "source": [
    "dfins_nl[\"tagged_users\"] = dfins_nl[\"tagged_users\"].apply(lambda x: ast.literal_eval(x) if x else \"\")\n",
    "dfinshas_nl = dfins_nl[dfins_nl[\"tagged_users\"].apply(lambda x: bool(x))].reset_index(drop=True)"
   ],
   "metadata": {
    "collapsed": false
   },
   "id": "21421b8be7228ec9"
  },
  {
   "cell_type": "code",
   "execution_count": null,
   "outputs": [],
   "source": [
    "G_nl = nx.Graph()\n",
    "\n",
    "# Assuming 'tagged_users' is a DataFrame column containing lists of words in each row\n",
    "for i, row1 in dfinshas_nl.iterrows():\n",
    "    for j, row2 in dfinshas_nl.iterrows():\n",
    "        if i < j:\n",
    "            # Check if there is any common word betwenl the two rows\n",
    "            common_words = set(row1['tagged_users']) & set(row2['tagged_users'])\n",
    "            if common_words:\n",
    "                G_nl.add_edge(i, j, common_words=list(common_words))"
   ],
   "metadata": {
    "collapsed": false
   },
   "id": "b5ef82aec3fa8d9d"
  },
  {
   "cell_type": "code",
   "execution_count": null,
   "outputs": [],
   "source": [
    "k_value = 0.5  # You can adjust this value to control the repulsion\n",
    "pos = nx.spring_layout(G_nl, k=k_value)\n",
    "\n",
    "# Draw the graph with specified layout\n",
    "nx.draw(G_nl,pos, with_labels=False, node_size=2, edge_color='grey', width=0.1, alpha=0.7)"
   ],
   "metadata": {
    "collapsed": false
   },
   "id": "6d0068c3385c2bb6"
  },
  {
   "cell_type": "markdown",
   "source": [
    "## English TikTok Tags Network"
   ],
   "metadata": {
    "collapsed": false
   },
   "id": "e1620ecd71f0c514"
  },
  {
   "cell_type": "code",
   "execution_count": null,
   "outputs": [],
   "source": [
    "# Convert string representations of tags into lists\n",
    "dftt_en[\"tagged_user\"] = dftt_en[\"tagged_user\"].apply(lambda x: [tag.strip() for tag in x.split(\",\")] if x else [])\n",
    "\n",
    "# Filter out rows where the \"tags\" column is empty\n",
    "dftttag_en = dftt_en[dftt_en[\"tagged_user\"].apply(lambda x: bool(x))].reset_index(drop=True)"
   ],
   "metadata": {
    "collapsed": false
   },
   "id": "dd00b812b4a154a1"
  },
  {
   "cell_type": "code",
   "execution_count": null,
   "outputs": [],
   "source": [
    "G_en = nx.Graph()\n",
    "\n",
    "# Assuming 'tagged_users' is a DataFrame column containing lists of words in each row\n",
    "for i, row1 in dftttag_en.iterrows():\n",
    "    for j, row2 in dftttag_en.iterrows():\n",
    "        if i < j:\n",
    "            # Check if there is any common word between the two rows\n",
    "            common_words = set(row1['tagged_user']) & set(row2['tagged_user'])\n",
    "            if common_words:\n",
    "                G_en.add_edge(i, j, common_words=list(common_words))"
   ],
   "metadata": {
    "collapsed": false
   },
   "id": "added99b440dc62a"
  },
  {
   "cell_type": "code",
   "execution_count": null,
   "outputs": [],
   "source": [
    "k_value = 0.5  # You can adjust this value to control the repulsion\n",
    "pos = nx.spring_layout(G_en, k=k_value)\n",
    "\n",
    "# Draw the graph with specified layout\n",
    "nx.draw(G_en,pos, with_labels=False, node_size=2, edge_color='grey', width=0.1, alpha=0.7)"
   ],
   "metadata": {
    "collapsed": false
   },
   "id": "d9d4d0cef7e0c666"
  },
  {
   "cell_type": "markdown",
   "source": [
    "## Dutch TikTok Tags Network"
   ],
   "metadata": {
    "collapsed": false
   },
   "id": "f260e07b05f8f4d0"
  },
  {
   "cell_type": "code",
   "execution_count": null,
   "outputs": [],
   "source": [
    "# Convert string represnlltations of tags into lists\n",
    "dftt_nl[\"tagged_user\"] = dftt_nl[\"tagged_user\"].apply(lambda x: [tag.strip() for tag in x.split(\",\")] if x else [])\n",
    "\n",
    "# Filter out rows where the \"tags\" column is empty\n",
    "dftttag_nl = dftt_nl[dftt_nl[\"tagged_user\"].apply(lambda x: bool(x))].reset_index(drop=True)"
   ],
   "metadata": {
    "collapsed": false
   },
   "id": "38966d00f41ea8e6"
  },
  {
   "cell_type": "code",
   "execution_count": null,
   "outputs": [],
   "source": [
    "G_nl = nx.Graph()\n",
    "\n",
    "# Assuming 'tagged_users' is a DataFrame column containing lists of words in each row\n",
    "for i, row1 in dftttag_nl.iterrows():\n",
    "    for j, row2 in dftttag_nl.iterrows():\n",
    "        if i < j:\n",
    "            # Check if there is any common word betwenl the two rows\n",
    "            common_words = set(row1['tagged_user']) & set(row2['tagged_user'])\n",
    "            if common_words:\n",
    "                G_nl.add_edge(i, j, common_words=list(common_words))"
   ],
   "metadata": {
    "collapsed": false
   },
   "id": "c2a4e6536d28bd64"
  },
  {
   "cell_type": "code",
   "execution_count": null,
   "outputs": [],
   "source": [
    "k_value = 0.5  # You can adjust this value to control the repulsion\n",
    "pos = nx.spring_layout(G_nl, k=k_value)\n",
    "\n",
    "# Draw the graph with specified layout\n",
    "nx.draw(G_nl,pos, with_labels=False, node_size=2, edge_color='grey', width=0.1, alpha=0.7)"
   ],
   "metadata": {
    "collapsed": false
   },
   "id": "76210eedde387140"
  },
  {
   "cell_type": "markdown",
   "source": [
    "## English YouTube Tags Network"
   ],
   "metadata": {
    "collapsed": false
   },
   "id": "d34c9776440b878d"
  },
  {
   "cell_type": "code",
   "execution_count": null,
   "outputs": [],
   "source": [
    "# Convert string representations of tags into lists\n",
    "dfyt_en[\"tagged_user\"] = dfyt_en[\"tagged_user\"].apply(lambda x: [tag.strip() for tag in x.split(\",\")] if x else [])\n",
    "\n",
    "# Filter out rows where the \"tags\" column is empty\n",
    "dfyttag_en = dfyt_en[dfyt_en[\"tagged_user\"].apply(lambda x: bool(x))].reset_index(drop=True)"
   ],
   "metadata": {
    "collapsed": false
   },
   "id": "d6fde67450919635"
  },
  {
   "cell_type": "code",
   "execution_count": null,
   "outputs": [],
   "source": [
    "G_en = nx.Graph()\n",
    "\n",
    "# Assuming 'tagged_users' is a DataFrame column containing lists of words in each row\n",
    "for i, row1 in dfyttag_en.iterrows():\n",
    "    for j, row2 in dfyttag_en.iterrows():\n",
    "        if i < j:\n",
    "            # Check if there is any common word between the two rows\n",
    "            common_words = set(row1['tagged_user']) & set(row2['tagged_user'])\n",
    "            if common_words:\n",
    "                G_en.add_edge(i, j, common_words=list(common_words))"
   ],
   "metadata": {
    "collapsed": false
   },
   "id": "2bc2580d1fbbf0ee"
  },
  {
   "cell_type": "code",
   "execution_count": null,
   "outputs": [],
   "source": [
    "k_value = 0.5  # You can adjust this value to control the repulsion\n",
    "pos = nx.spring_layout(G_en, k=k_value)\n",
    "\n",
    "# Draw the graph with specified layout\n",
    "nx.draw(G_en,pos, with_labels=False, node_size=2, edge_color='grey', width=0.1, alpha=0.7)"
   ],
   "metadata": {
    "collapsed": false
   },
   "id": "87727e3de24f0a34"
  },
  {
   "cell_type": "markdown",
   "source": [
    "## Dutch YouTube Tags Network"
   ],
   "metadata": {
    "collapsed": false
   },
   "id": "6f1d869b0eadb280"
  },
  {
   "cell_type": "code",
   "execution_count": null,
   "outputs": [],
   "source": [
    "# Convert string represnltations of tags into lists\n",
    "dfyt_nl[\"tagged_user\"] = dfyt_nl[\"tagged_user\"].apply(lambda x: [tag.strip() for tag in x.split(\",\")] if x else [])\n",
    "\n",
    "# Filter out rows where the \"tags\" column is empty\n",
    "dfyttag_nl = dfyt_nl[dfyt_nl[\"tagged_user\"].apply(lambda x: bool(x))].reset_index(drop=True)"
   ],
   "metadata": {
    "collapsed": false
   },
   "id": "ee2be9129ab1b9b7"
  },
  {
   "cell_type": "code",
   "execution_count": null,
   "outputs": [],
   "source": [
    "G_nl = nx.Graph()\n",
    "\n",
    "# Assuming 'tagged_users' is a DataFrame column containing lists of words in each row\n",
    "for i, row1 in dfyttag_nl.iterrows():\n",
    "    for j, row2 in dfyttag_nl.iterrows():\n",
    "        if i < j:\n",
    "            # Check if there is any common word betwenl the two rows\n",
    "            common_words = set(row1['tagged_user']) & set(row2['tagged_user'])\n",
    "            if common_words:\n",
    "                G_nl.add_edge(i, j, common_words=list(common_words))"
   ],
   "metadata": {
    "collapsed": false
   },
   "id": "5475d52a225c18e4"
  },
  {
   "cell_type": "code",
   "execution_count": null,
   "outputs": [],
   "source": [
    "k_value = 0.5  # You can adjust this value to control the repulsion\n",
    "pos = nx.spring_layout(G_nl, k=k_value)\n",
    "\n",
    "# Draw the graph with specified layout\n",
    "nx.draw(G_nl,pos, with_labels=False, node_size=2, edge_color='grey', width=0.1, alpha=0.7)"
   ],
   "metadata": {
    "collapsed": false
   },
   "id": "4bb45076148d10e9"
  },
  {
   "cell_type": "code",
   "execution_count": null,
   "outputs": [],
   "source": [
    "# English Instagram\n",
    "infcharins_en = pd.DataFrame()\n",
    "infcharins_en[\"username\"] = dfins_en[\"username\"].unique()\n",
    "ic.calculate_post_count(dfins_en, infcharins_en, \"username\")\n",
    "ic.calculate_avg_hashtag_per_post(dfins_en, infcharins_en, \"username\", \"caption_hashtags\")\n",
    "ic.calculate_sd_hashtag_per_post(dfins_en, infcharins_en, \"username\", \"caption_hashtags\")\n",
    "ic.calculate_avg_tag_per_post(dfins_en, infcharins_en, \"username\", \"tagged_users\")\n",
    "ic.calculate_sd_tag_per_post(dfins_en, infcharins_en, \"username\", \"tagged_users\")\n",
    "ic.calculate_avg_caption_length_per_user(dfins_en, infcharins_en, \"username\", \"caption\")\n",
    "ic.calculate_sd_caption_length_per_user(dfins_en, infcharins_en, \"username\", \"caption\")\n",
    "\n",
    "# Dutch Instagram\n",
    "infcharins_nl = pd.DataFrame()\n",
    "infcharins_nl[\"username\"] = dfins_nl[\"username\"].unique()\n",
    "ic.calculate_post_count(dfins_nl, infcharins_nl, \"username\")\n",
    "ic.calculate_avg_hashtag_per_post(dfins_nl, infcharins_nl, \"username\", \"caption_hashtags\")\n",
    "ic.calculate_sd_hashtag_per_post(dfins_nl, infcharins_nl, \"username\", \"caption_hashtags\")\n",
    "ic.calculate_avg_tag_per_post(dfins_nl, infcharins_nl, \"username\", \"tagged_users\")\n",
    "ic.calculate_sd_tag_per_post(dfins_nl, infcharins_nl, \"username\", \"tagged_users\")\n",
    "ic.calculate_avg_caption_length_per_user(dfins_nl, infcharins_nl, \"username\", \"caption\")\n",
    "ic.calculate_sd_caption_length_per_user(dfins_nl, infcharins_nl, \"username\", \"caption\")\n",
    "\n",
    "# English TikTok\n",
    "infchartt_en = pd.DataFrame()\n",
    "infchartt_en[\"username\"] = dftt_en[\"username\"].unique()\n",
    "ic.calculate_post_count(dftt_en, infchartt_en, \"username\")\n",
    "ic.calculate_avg_hashtag_per_post(dftt_en, infchartt_en, \"username\", \"hashtag_names\")\n",
    "ic.calculate_sd_hashtag_per_post(dftt_en, infchartt_en, \"username\", \"hashtag_names\")\n",
    "ic.calculate_avg_tag_per_post(dftt_en, infchartt_en, \"username\", \"tagged_user\")\n",
    "ic.calculate_sd_tag_per_post(dftt_en, infchartt_en, \"username\", \"tagged_user\")\n",
    "ic.calculate_avg_caption_length_per_user(dftt_en, infchartt_en, \"username\", \"video_description\")\n",
    "ic.calculate_sd_caption_length_per_user(dftt_en, infchartt_en, \"username\", \"video_description\")\n",
    "\n",
    "# Dutch TikTok\n",
    "infchartt_nl = pd.DataFrame()\n",
    "infchartt_nl[\"username\"] = dftt_nl[\"username\"].unique()\n",
    "ic.calculate_post_count(dftt_nl, infchartt_nl, \"username\")\n",
    "ic.calculate_avg_hashtag_per_post(dftt_nl, infchartt_nl, \"username\", \"hashtag_names\")\n",
    "ic.calculate_sd_hashtag_per_post(dftt_nl, infchartt_nl, \"username\", \"hashtag_names\")\n",
    "ic.calculate_avg_tag_per_post(dftt_nl, infchartt_nl, \"username\", \"tagged_user\")\n",
    "ic.calculate_sd_tag_per_post(dftt_nl, infchartt_nl, \"username\", \"tagged_user\")\n",
    "ic.calculate_avg_caption_length_per_user(dftt_nl, infchartt_nl, \"username\", \"video_description\")\n",
    "ic.calculate_sd_caption_length_per_user(dftt_nl, infchartt_nl, \"username\", \"video_description\")\n",
    "\n",
    "# English YouTube\n",
    "infcharyt_en = pd.DataFrame()\n",
    "infcharyt_en[\"username\"] = dfyt_en[\"channel_title\"].unique()\n",
    "ic.calculate_post_count(dfyt_en, infcharyt_en, \"channel_title\")\n",
    "ic.calculate_avg_hashtag_per_post(dfyt_en, infcharyt_en, \"channel_title\", \"tags\")\n",
    "ic.calculate_sd_hashtag_per_post(dfyt_en, infcharyt_en, \"channel_title\", \"tags\")\n",
    "ic.calculate_avg_tag_per_post(dfyt_en, infcharyt_en, \"channel_title\", \"tagged_user\")\n",
    "ic.calculate_sd_tag_per_post(dfyt_en, infcharyt_en, \"channel_title\", \"tagged_user\")\n",
    "ic.calculate_avg_caption_length_per_user(dfyt_en, infcharyt_en, \"channel_title\", \"description_video\")\n",
    "ic.calculate_sd_caption_length_per_user(dfyt_en, infcharyt_en, \"channel_title\", \"description_video\")\n",
    "\n",
    "# Dutch YouTube\n",
    "infcharyt_nl = pd.DataFrame()\n",
    "infcharyt_nl[\"username\"] = dfyt_nl[\"channel_title\"].unique()\n",
    "ic.calculate_post_count(dfyt_nl, infcharyt_nl, \"channel_title\")\n",
    "ic.calculate_avg_hashtag_per_post(dfyt_nl, infcharyt_nl, \"channel_title\", \"tags\")\n",
    "ic.calculate_sd_hashtag_per_post(dfyt_nl, infcharyt_nl, \"channel_title\", \"tags\")\n",
    "ic.calculate_avg_tag_per_post(dfyt_nl, infcharyt_nl, \"channel_title\", \"tagged_user\")\n",
    "ic.calculate_sd_tag_per_post(dfyt_nl, infcharyt_nl, \"channel_title\", \"tagged_user\")\n",
    "ic.calculate_avg_caption_length_per_user(dfyt_nl, infcharyt_nl, \"channel_title\", \"description_video\")\n",
    "ic.calculate_sd_caption_length_per_user(dfyt_nl, infcharyt_nl, \"channel_title\", \"description_video\")"
   ],
   "metadata": {
    "collapsed": false
   },
   "id": "ba6218b8fc2eff81"
  }
 ],
 "metadata": {
  "kernelspec": {
   "display_name": "Python 3",
   "language": "python",
   "name": "python3"
  },
  "language_info": {
   "codemirror_mode": {
    "name": "ipython",
    "version": 2
   },
   "file_extension": ".py",
   "mimetype": "text/x-python",
   "name": "python",
   "nbconvert_exporter": "python",
   "pygments_lexer": "ipython2",
   "version": "2.7.6"
  }
 },
 "nbformat": 4,
 "nbformat_minor": 5
}
