{
 "cells": [
  {
   "cell_type": "code",
   "execution_count": 2,
   "id": "initial_id",
   "metadata": {
    "collapsed": true,
    "ExecuteTime": {
     "end_time": "2024-01-26T12:31:57.631250700Z",
     "start_time": "2024-01-26T12:31:53.364662100Z"
    }
   },
   "outputs": [
    {
     "name": "stderr",
     "output_type": "stream",
     "text": [
      "C:\\Users\\I6240624\\AppData\\Local\\Temp\\ipykernel_14360\\3537453158.py:4: DeprecationWarning: \n",
      "Pyarrow will become a required dependency of pandas in the next major release of pandas (pandas 3.0),\n",
      "(to allow more performant data types, such as the Arrow string type, and better interoperability with other libraries)\n",
      "but was not found to be installed on your system.\n",
      "If this would cause problems for you,\n",
      "please provide us feedback at https://github.com/pandas-dev/pandas/issues/54466\n",
      "        \n",
      "  import pandas as pd\n"
     ]
    }
   ],
   "source": [
    "import csv\n",
    "\n",
    "import numpy as np\n",
    "import pandas as pd\n",
    "import matplotlib.pyplot as plt\n",
    "from matplotlib_venn import venn3\n",
    "import networkx as nx\n",
    "import ast"
   ]
  },
  {
   "cell_type": "code",
   "execution_count": 3,
   "outputs": [],
   "source": [
    "#read in Instagram data\n",
    "with open(r'C:\\Users\\I6240624\\Documents\\BISS\\Master Thesis\\Data\\icwsm_dutch_data\\Ins_lingua_en_disclosed_ad.csv', 'r',\n",
    "          encoding='utf-8') as f:\n",
    "    reader_ins = csv.reader(f, delimiter=',')\n",
    "    rows_ins_en = list(reader_ins)\n",
    "    #read in Instagram data\n",
    "with open(r'C:\\Users\\I6240624\\Documents\\BISS\\Master Thesis\\Data\\icwsm_dutch_data\\Ins_lingua_nl_disclosed_ad.csv', 'r',\n",
    "          encoding='utf-8') as f:\n",
    "    reader_ins = csv.reader(f, delimiter=',')\n",
    "    rows_ins_nl = list(reader_ins)"
   ],
   "metadata": {
    "collapsed": false,
    "ExecuteTime": {
     "end_time": "2024-01-26T12:32:00.111130Z",
     "start_time": "2024-01-26T12:31:57.628263400Z"
    }
   },
   "id": "754a6249a8b01f26"
  },
  {
   "cell_type": "code",
   "execution_count": 4,
   "outputs": [],
   "source": [
    " #read in TikTok data ENGLISH\n",
    "with open(r'C:\\Users\\I6240624\\Documents\\BISS\\Master Thesis\\Data\\icwsm_dutch_data\\TikTok_lingua_en_disclosed_ad.csv', 'r',\n",
    "          encoding='utf-8') as f:\n",
    "    reader_tt = csv.reader(f, delimiter=',')\n",
    "    rows_tt_en = list(reader_tt)\n",
    "    #read in TikTok data DUTCH\n",
    "with open(r'C:\\Users\\I6240624\\Documents\\BISS\\Master Thesis\\Data\\icwsm_dutch_data\\TikTok_lingua_nl_disclosed_ad.csv', 'r',\n",
    "          encoding='utf-8') as f:\n",
    "    reader_tt = csv.reader(f, delimiter=',')\n",
    "    rows_tt_nl = list(reader_tt)"
   ],
   "metadata": {
    "collapsed": false,
    "ExecuteTime": {
     "end_time": "2024-01-26T12:32:00.739286600Z",
     "start_time": "2024-01-26T12:32:00.113124Z"
    }
   },
   "id": "f5c4052602e187a0"
  },
  {
   "cell_type": "code",
   "execution_count": 10,
   "outputs": [],
   "source": [
    " #read in TikTok data ENGLISH\n",
    "with open(r'C:\\Users\\I6240624\\Documents\\BISS\\Master Thesis\\Data\\icwsm_dutch_data\\TikTok_lingua_en_disclosed_ad.csv', 'r',\n",
    "          encoding='utf-8') as f:\n",
    "    reader_yt = csv.reader(f, delimiter=',')\n",
    "    rows_yt_en = list(reader_yt)\n",
    "    #read in TikTok data DUTCH\n",
    "with open(r'C:\\Users\\I6240624\\Documents\\BISS\\Master Thesis\\Data\\icwsm_dutch_data\\TikTok_lingua_nl_disclosed_ad.csv', 'r',\n",
    "          encoding='utf-8') as f:\n",
    "    reader_yt = csv.reader(f, delimiter=',')\n",
    "    rows_yt_nl = list(reader_yt)"
   ],
   "metadata": {
    "collapsed": false,
    "ExecuteTime": {
     "end_time": "2024-01-26T12:35:46.988658200Z",
     "start_time": "2024-01-26T12:35:44.774581600Z"
    }
   },
   "id": "ebb9c679623508b6"
  },
  {
   "cell_type": "code",
   "execution_count": 11,
   "outputs": [],
   "source": [
    "# Making the Instagram dataframe DUTCH\n",
    "dfins_nl = pd.DataFrame(rows_ins_nl)\n",
    "# Making the first row the header\n",
    "new_header = dfins_nl.iloc[0] \n",
    "dfins_nl = dfins_nl[1:]\n",
    "dfins_nl.columns = new_header \n",
    "\n",
    "# Making the Instagram dataframe ENGLISH\n",
    "dfins_en = pd.DataFrame(rows_ins_en)\n",
    "# Making the first row the header\n",
    "new_header = dfins_en.iloc[0] \n",
    "dfins_en = dfins_en[1:]\n",
    "dfins_en.columns = new_header "
   ],
   "metadata": {
    "collapsed": false,
    "ExecuteTime": {
     "end_time": "2024-01-26T12:35:48.926503900Z",
     "start_time": "2024-01-26T12:35:46.989656200Z"
    }
   },
   "id": "7b089ce0f09297a7"
  },
  {
   "cell_type": "code",
   "execution_count": 12,
   "outputs": [],
   "source": [
    "# Making the TikTok dataframe DUTCH\n",
    "dftt_nl = pd.DataFrame(rows_tt_nl)\n",
    "# Making the first row the header\n",
    "new_header = dftt_nl.iloc[0] \n",
    "dftt_nl = dftt_nl[1:]\n",
    "dftt_nl.columns = new_header \n",
    "\n",
    "\n",
    "# Making the TikTok dataframe ENGLISH\n",
    "dftt_en = pd.DataFrame(rows_tt_en)\n",
    "# Making the first row the header\n",
    "new_header = dftt_en.iloc[0] \n",
    "dftt_en = dftt_en[1:]\n",
    "dftt_en.columns = new_header "
   ],
   "metadata": {
    "collapsed": false,
    "ExecuteTime": {
     "end_time": "2024-01-26T12:35:50.062472Z",
     "start_time": "2024-01-26T12:35:49.869989400Z"
    }
   },
   "id": "9645ba125abcd678"
  },
  {
   "cell_type": "code",
   "execution_count": 13,
   "outputs": [],
   "source": [
    "# Making the YouTube dataframe DUTCH\n",
    "dfyt_nl = pd.DataFrame(rows_yt_nl)\n",
    "# Making the first row the header\n",
    "new_header = dfyt_nl.iloc[0] \n",
    "dfyt_nl = dfyt_nl[1:]\n",
    "dfyt_nl.columns = new_header \n",
    "\n",
    "\n",
    "# Making the YouTube dataframe ENGLISH\n",
    "dfyt_en = pd.DataFrame(rows_yt_en)\n",
    "# Making the first row the header\n",
    "new_header = dfyt_en.iloc[0] \n",
    "dfyt_en = dfyt_en[1:]\n",
    "dfyt_en.columns = new_header "
   ],
   "metadata": {
    "collapsed": false,
    "ExecuteTime": {
     "end_time": "2024-01-26T12:35:52.627142800Z",
     "start_time": "2024-01-26T12:35:52.436653200Z"
    }
   },
   "id": "5963723be7745584"
  },
  {
   "cell_type": "code",
   "execution_count": 14,
   "outputs": [],
   "source": [
    "# Listing all the username for the Instagram Dataset ENGLISH\n",
    "dfins_en['username'] = dfins_en['username'].apply(lambda x: x.replace(\" \", \"\").upper())\n",
    "# Create a set with unique usernames\n",
    "insinf_en = set(dfins_en['username'].unique())\n",
    "\n",
    "# Listing all the username for the Instagram Dataset DUTCH\n",
    "dfins_nl['username'] = dfins_nl['username'].apply(lambda x: x.replace(\" \", \"\").upper())\n",
    "# Create a set with unique usernames\n",
    "insinf_nl = set(dfins_nl['username'].unique())\n",
    "\n",
    "# Listing all the username for the TikTok Dataset ENGLISH\n",
    "dftt_en['username'] = dftt_en['username'].apply(lambda x: x.replace(\" \", \"\").upper())\n",
    "# Create a set with unique usernames\n",
    "ttinf_en = set(dftt_en['username'].unique())\n",
    "\n",
    "# Listing all the username for the TikTok Dataset DUTCH\n",
    "dftt_nl['username'] = dftt_nl['username'].apply(lambda x: x.replace(\" \", \"\").upper())\n",
    "# Create a set with unique usernames\n",
    "ttinf_nl = set(dftt_nl['username'].unique())\n",
    "\n",
    "# Listing all the username for the Instagram Dataset ENGLISH\n",
    "dfyt_en['username'] = dfyt_en['username'].apply(lambda x: x.replace(\" \", \"\").upper())\n",
    "# Create a set with unique usernames\n",
    "ytinf_en = set(dfyt_en['username'].unique())\n",
    "\n",
    "# Listing all the username for the Instagram Dataset DUTCH\n",
    "dfyt_nl['username'] = dfyt_nl['username'].apply(lambda x: x.replace(\" \", \"\").upper())\n",
    "# Create a set with unique usernames\n",
    "ytinf_nl = set(dfyt_nl['username'].unique())"
   ],
   "metadata": {
    "collapsed": false,
    "ExecuteTime": {
     "end_time": "2024-01-26T12:35:56.493800700Z",
     "start_time": "2024-01-26T12:35:56.321262400Z"
    }
   },
   "id": "71b82b02677102c6"
  },
  {
   "cell_type": "code",
   "execution_count": 16,
   "outputs": [
    {
     "data": {
      "text/plain": "<Figure size 640x480 with 1 Axes>",
      "image/png": "[encoded data removed]"
     },
     "metadata": {},
     "output_type": "display_data"
    }
   ],
   "source": [
    "# Find common elements between lists\n",
    "common_in_1_and_2 = insinf_en.intersection(ttinf_en)\n",
    "common_in_1_and_3 = insinf_en.intersection(ytinf_en)\n",
    "common_in_2_and_3 = ttinf_en.intersection(ytinf_en)\n",
    "\n",
    "# Merge all common elements\n",
    "all_common_elements = common_in_1_and_2.union(common_in_1_and_3, common_in_2_and_3)\n",
    "\n",
    "# Create a dictionary to store the count of lists in which each name is present\n",
    "name_presence_count = {}\n",
    "\n",
    "# Check for each common element in the lists and update the count\n",
    "for name in all_common_elements:\n",
    "    count = 0\n",
    "    if name in insinf_en:\n",
    "        count += 1\n",
    "    if name in ttinf_en:\n",
    "        count += 1\n",
    "    if name in ytinf_en:\n",
    "        count += 1\n",
    "    name_presence_count[name] = count\n",
    "    \n",
    "# Create a Dataframe for the names and counts\n",
    "dfrep = pd.DataFrame(list(name_presence_count.items()), columns=['Name', 'Count'])\n",
    "\n",
    "# Plot using a Venn Diagram\n",
    "venn3([insinf_en, ttinf_en, ytinf_en], ('Instagram', 'TikTok', 'YouTube'))\n",
    "plt.show()"
   ],
   "metadata": {
    "collapsed": false,
    "ExecuteTime": {
     "end_time": "2024-01-26T12:36:35.709775400Z",
     "start_time": "2024-01-26T12:36:35.517289600Z"
    }
   },
   "id": "447891bdb839891"
  },
  {
   "cell_type": "code",
   "execution_count": 17,
   "outputs": [
    {
     "data": {
      "text/plain": "<Figure size 640x480 with 1 Axes>",
      "image/png": "[encoded data removed]"
     },
     "metadata": {},
     "output_type": "display_data"
    }
   ],
   "source": [
    "# Find common elements between lists\n",
    "common_in_1_and_2 = insinf_nl.intersection(ttinf_nl)\n",
    "common_in_1_and_3 = insinf_nl.intersection(ytinf_nl)\n",
    "common_in_2_and_3 = ttinf_nl.intersection(ytinf_nl)\n",
    "\n",
    "# Merge all common elements\n",
    "all_common_elements = common_in_1_and_2.union(common_in_1_and_3, common_in_2_and_3)\n",
    "\n",
    "# Create a dictionary to store the count of lists in which each name is present\n",
    "name_presence_count = {}\n",
    "\n",
    "# Check for each common element in the lists and update the count\n",
    "for name in all_common_elements:\n",
    "    count = 0\n",
    "    if name in insinf_nl:\n",
    "        count += 1\n",
    "    if name in ttinf_nl:\n",
    "        count += 1\n",
    "    if name in ytinf_nl:\n",
    "        count += 1\n",
    "    name_presence_count[name] = count\n",
    "    \n",
    "# Create a Dataframe for the names and counts\n",
    "dfrep = pd.DataFrame(list(name_presence_count.items()), columns=['Name', 'Count'])\n",
    "\n",
    "# Plot using a Venn Diagram\n",
    "venn3([insinf_nl, ttinf_nl, ytinf_nl], ('Instagram', 'TikTok', 'YouTube'))\n",
    "plt.show()"
   ],
   "metadata": {
    "collapsed": false,
    "ExecuteTime": {
     "end_time": "2024-01-26T12:37:15.568291300Z",
     "start_time": "2024-01-26T12:37:15.437641200Z"
    }
   },
   "id": "14f488791a32ff5e"
  }
 ],
 "metadata": {
  "kernelspec": {
   "display_name": "Python 3",
   "language": "python",
   "name": "python3"
  },
  "language_info": {
   "codemirror_mode": {
    "name": "ipython",
    "version": 2
   },
   "file_extension": ".py",
   "mimetype": "text/x-python",
   "name": "python",
   "nbconvert_exporter": "python",
   "pygments_lexer": "ipython2",
   "version": "2.7.6"
  }
 },
 "nbformat": 4,
 "nbformat_minor": 5
}
