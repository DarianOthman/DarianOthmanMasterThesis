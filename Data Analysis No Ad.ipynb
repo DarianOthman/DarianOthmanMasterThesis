{
 "cells": [
  {
   "cell_type": "code",
   "execution_count": 1,
   "outputs": [
    {
     "name": "stderr",
     "output_type": "stream",
     "text": [
      "C:\\Users\\I6240624\\AppData\\Local\\Temp\\ipykernel_9184\\3537453158.py:4: DeprecationWarning: \n",
      "Pyarrow will become a required dependency of pandas in the next major release of pandas (pandas 3.0),\n",
      "(to allow more performant data types, such as the Arrow string type, and better interoperability with other libraries)\n",
      "but was not found to be installed on your system.\n",
      "If this would cause problems for you,\n",
      "please provide us feedback at https://github.com/pandas-dev/pandas/issues/54466\n",
      "        \n",
      "  import pandas as pd\n"
     ]
    }
   ],
   "source": [
    "import csv\n",
    "\n",
    "import numpy as np\n",
    "import pandas as pd\n",
    "import matplotlib.pyplot as plt\n",
    "from matplotlib_venn import venn3\n",
    "import networkx as nx\n",
    "import ast"
   ],
   "metadata": {
    "collapsed": false,
    "ExecuteTime": {
     "end_time": "2024-01-27T11:09:57.198722800Z",
     "start_time": "2024-01-27T11:09:55.690633400Z"
    }
   },
   "id": "d33a3dd2cbf44df0"
  },
  {
   "cell_type": "code",
   "execution_count": 2,
   "outputs": [],
   "source": [
    "#read in Instagram data\n",
    "with open(r'C:\\Users\\I6240624\\Documents\\BISS\\Master Thesis\\Data\\icwsm_dutch_data\\Ins_lingua_en.csv', 'r',\n",
    "          encoding='utf-8') as f:\n",
    "    reader_ins = csv.reader(f, delimiter=',')\n",
    "    rows_ins_en = list(reader_ins)\n",
    "    #read in Instagram data\n",
    "with open(r'C:\\Users\\I6240624\\Documents\\BISS\\Master Thesis\\Data\\icwsm_dutch_data\\Ins_lingua_nl.csv', 'r',\n",
    "          encoding='utf-8') as f:\n",
    "    reader_ins = csv.reader(f, delimiter=',')\n",
    "    rows_ins_nl = list(reader_ins)"
   ],
   "metadata": {
    "collapsed": false,
    "ExecuteTime": {
     "end_time": "2024-01-27T11:09:59.021539600Z",
     "start_time": "2024-01-27T11:09:57.208696600Z"
    }
   },
   "id": "8cfa83d36124cf0d"
  },
  {
   "cell_type": "code",
   "execution_count": 3,
   "outputs": [],
   "source": [
    " #read in TikTok data ENGLISH\n",
    "with open(r'C:\\Users\\I6240624\\Documents\\BISS\\Master Thesis\\Data\\icwsm_dutch_data\\TikTok_lingua_en.csv', 'r',\n",
    "          encoding='utf-8') as f:\n",
    "    reader_tt = csv.reader(f, delimiter=',')\n",
    "    rows_tt_en = list(reader_tt)\n",
    "    #read in TikTok data DUTCH\n",
    "with open(r'C:\\Users\\I6240624\\Documents\\BISS\\Master Thesis\\Data\\icwsm_dutch_data\\TikTok_lingua_nl.csv', 'r',\n",
    "          encoding='utf-8') as f:\n",
    "    reader_tt = csv.reader(f, delimiter=',')\n",
    "    rows_tt_nl = list(reader_tt)"
   ],
   "metadata": {
    "collapsed": false,
    "ExecuteTime": {
     "end_time": "2024-01-27T11:10:00.752925500Z",
     "start_time": "2024-01-27T11:09:59.017550600Z"
    }
   },
   "id": "40dbcce718cf1670"
  },
  {
   "cell_type": "code",
   "execution_count": 4,
   "outputs": [],
   "source": [
    " #read in TikTok data ENGLISH\n",
    "with open(r'C:\\Users\\I6240624\\Documents\\BISS\\Master Thesis\\Data\\icwsm_dutch_data\\Youtube_lingua_en.csv', 'r',\n",
    "          encoding='utf-8') as f:\n",
    "    reader_yt = csv.reader(f, delimiter=',')\n",
    "    rows_yt_en = list(reader_yt)\n",
    "    #read in TikTok data DUTCH\n",
    "with open(r'C:\\Users\\I6240624\\Documents\\BISS\\Master Thesis\\Data\\icwsm_dutch_data\\Youtube_lingua_nl.csv', 'r',\n",
    "          encoding='utf-8') as f:\n",
    "    reader_yt = csv.reader(f, delimiter=',')\n",
    "    rows_yt_nl = list(reader_yt)"
   ],
   "metadata": {
    "collapsed": false,
    "ExecuteTime": {
     "end_time": "2024-01-27T11:10:14.576750100Z",
     "start_time": "2024-01-27T11:10:00.766886700Z"
    }
   },
   "id": "58ca97d2292d83ee"
  },
  {
   "cell_type": "code",
   "execution_count": 5,
   "outputs": [],
   "source": [
    "# Making the Instagram dataframe DUTCH\n",
    "dfins_nl = pd.DataFrame(rows_ins_nl)\n",
    "# Making the first row the header\n",
    "new_header = dfins_nl.iloc[0] \n",
    "dfins_nl = dfins_nl[1:]\n",
    "dfins_nl.columns = new_header \n",
    "\n",
    "# Making the Instagram dataframe ENGLISH\n",
    "dfins_en = pd.DataFrame(rows_ins_en)\n",
    "# Making the first row the header\n",
    "new_header = dfins_en.iloc[0] \n",
    "dfins_en = dfins_en[1:]\n",
    "dfins_en.columns = new_header "
   ],
   "metadata": {
    "collapsed": false,
    "ExecuteTime": {
     "end_time": "2024-01-27T11:10:15.110473100Z",
     "start_time": "2024-01-27T11:10:14.578751100Z"
    }
   },
   "id": "49473387d71c7ba9"
  },
  {
   "cell_type": "code",
   "execution_count": 6,
   "outputs": [],
   "source": [
    "# Making the TikTok dataframe DUTCH\n",
    "dftt_nl = pd.DataFrame(rows_tt_nl)\n",
    "# Making the first row the header\n",
    "new_header = dftt_nl.iloc[0] \n",
    "dftt_nl = dftt_nl[1:]\n",
    "dftt_nl.columns = new_header \n",
    "\n",
    "\n",
    "# Making the TikTok dataframe ENGLISH\n",
    "dftt_en = pd.DataFrame(rows_tt_en)\n",
    "# Making the first row the header\n",
    "new_header = dftt_en.iloc[0] \n",
    "dftt_en = dftt_en[1:]\n",
    "dftt_en.columns = new_header "
   ],
   "metadata": {
    "collapsed": false,
    "ExecuteTime": {
     "end_time": "2024-01-27T11:10:15.279791900Z",
     "start_time": "2024-01-27T11:10:15.112467800Z"
    }
   },
   "id": "bf0b6f1c4b2f882c"
  },
  {
   "cell_type": "code",
   "execution_count": 7,
   "outputs": [],
   "source": [
    "# Making the YouTube dataframe DUTCH\n",
    "dfyt_nl = pd.DataFrame(rows_yt_nl)\n",
    "# Making the first row the header\n",
    "new_header = dfyt_nl.iloc[0] \n",
    "dfyt_nl = dfyt_nl[1:]\n",
    "dfyt_nl.columns = new_header \n",
    "\n",
    "\n",
    "# Making the YouTube dataframe ENGLISH\n",
    "dfyt_en = pd.DataFrame(rows_yt_en)\n",
    "# Making the first row the header\n",
    "new_header = dfyt_en.iloc[0] \n",
    "dfyt_en = dfyt_en[1:]\n",
    "dfyt_en.columns = new_header "
   ],
   "metadata": {
    "collapsed": false,
    "ExecuteTime": {
     "end_time": "2024-01-27T11:10:16.017591500Z",
     "start_time": "2024-01-27T11:10:15.281786400Z"
    }
   },
   "id": "80f5fc73a440f303"
  },
  {
   "cell_type": "code",
   "execution_count": 8,
   "outputs": [
    {
     "data": {
      "text/plain": "0     Unnamed: 0     video_id  \\\n1            528  igrnw-twOkU   \n2            533  0EH_MRgY1Dc   \n3            539  8M76_mkUve0   \n4           1987  6vyMbfjmqHM   \n5             25  tYLrQ9UC7tA   \n...          ...          ...   \n46667       1049  sLSjXGGpH0k   \n46668       1050  cOKyq7WPwx4   \n46669       1051  UkMx9QmtcKw   \n46670          7  hTgTEpAY2II   \n46671        192  Ayk355ozUo8   \n\n0                                                  title  \\\n1                        BIZARRE TNT TROLL In MINECRAFT!   \n2                  HOPPER TROLL GAAT TE VER! (Minecraft)   \n3                             Minecraft MAAR GRAS is OP!   \n4                              IK HEB EEN DUBBELGANGER?!   \n5                  First date! Expectations vs Reality 🫣   \n...                                                  ...   \n46667  Posture Analysis (updated version in description)   \n46668  Anatomy: Planes & Axes (NEW VERSION IN DESCRIP...   \n46669                         Patient History & RPS-Form   \n46670                           Personal growth🦋 #tattoo   \n46671                             Live stream La Melanie   \n\n0                                      description_video  \\\n1              #shorts \\nBIZARRE TNT TROLL In MINECRAFT!   \n2         HOPPER TROLL GAAT TE VER! (Minecraft)\\n#shorts   \n3                   #shorts \\nMinecraft MAAR GRAS is OP!   \n4      ●Vorige video: https://www.youtube.com/watch?v...   \n5                                                          \n...                                                  ...   \n46667  Enroll in our online course: http://bit.ly/PTM...   \n46668  Enroll in our online course: http://bit.ly/PTM...   \n46669  Enroll in our online course: http://bit.ly/PTM...   \n46670                                                      \n46671                                                      \n\n0                                                   tags category_id  \\\n1      Giel,giel reageren,gielekuhh,giel mick,fortnit...          24   \n2      Giel,giel reageren,gielekuhh,giel mick,fortnit...          24   \n3      Giel,giel reageren,gielekuhh,giel mick,fortnit...          24   \n4      dubbelganger,praat video,praten,playbuzz,look ...          24   \n5                                                                  1   \n...                                                  ...         ...   \n46667  Physio,therapy,assessment,tutorial,student,ESP...          27   \n46668  Physio,therapy,assessment,tutorial,student,ESP...          27   \n46669  patient,history,taking,rps,form,assessment,phy...          27   \n46670                                                             24   \n46671                                                             22   \n\n0        published_at_video duration made_for_kids_video   channel_title  ...  \\\n1      2022-07-05T15:00:34Z    PT19S               False            GIEL  ...   \n2      2022-07-02T15:00:00Z    PT16S               False            GIEL  ...   \n3      2022-06-28T15:00:04Z    PT31S               False            GIEL  ...   \n4      2017-01-19T17:00:05Z   PT4M3S               False             Don  ...   \n5      2022-10-06T13:52:42Z    PT18S               False      Jade Konal  ...   \n...                     ...      ...                 ...             ...  ...   \n46667  2013-09-21T17:53:44Z  PT3M55S               False    Physiotutors  ...   \n46668  2013-09-11T20:42:54Z  PT5M25S               False    Physiotutors  ...   \n46669  2013-09-10T20:39:06Z  PT4M19S               False    Physiotutors  ...   \n46670  2023-03-10T17:38:51Z    PT21S               False  Melanie Latooy  ...   \n46671  2015-10-01T11:06:00Z      P0D               False  Melanie Latooy  ...   \n\n0     absolute_position_1st_disclosure relative_position_1st_disclosure  \\\n1                                                                         \n2                                                                         \n3                                                                         \n4                                                                         \n5                                                                         \n...                                ...                              ...   \n46667                                                                     \n46668                                                                     \n46669                                                                     \n46670                                                                     \n46671                                                                     \n\n0     Green_disclosure Yellow_disclosure Affliated_marketing  \\\n1                                                              \n2                                                              \n3                                                              \n4                                                              \n5                                                              \n...                ...               ...                 ...   \n46667                                                          \n46668                                                          \n46669                                                          \n46670                                                          \n46671                                                          \n\n0     Affliated_marketing_pairs                  Giveaway  \\\n1                                                           \n2                                                           \n3                                                           \n4                                                           \n5                                                           \n...                         ...                       ...   \n46667                            comment, free, subscribe   \n46668                            comment, free, subscribe   \n46669                                                       \n46670                                                       \n46671                                                       \n\n0                                Giveaway_pairs Green_disclosure_absolute  \\\n1                                                                     0.0   \n2                                                                     0.0   \n3                                                                     0.0   \n4                                                                     0.0   \n5                                                                           \n...                                         ...                       ...   \n46667  ('free' 'comment'), ('free' 'subscribe')                       0.0   \n46668  ('free' 'comment'), ('free' 'subscribe')                       0.0   \n46669                                                                 0.0   \n46670                                                                       \n46671                                                                       \n\n0     Green_disclosure_relative  \n1                           0.0  \n2                           0.0  \n3                           0.0  \n4                           0.0  \n5                                \n...                         ...  \n46667                       0.0  \n46668                       0.0  \n46669                       0.0  \n46670                            \n46671                            \n\n[46671 rows x 43 columns]",
      "text/html": "<div>\n<style scoped>\n    .dataframe tbody tr th:only-of-type {\n        vertical-align: middle;\n    }\n\n    .dataframe tbody tr th {\n        vertical-align: top;\n    }\n\n    .dataframe thead th {\n        text-align: right;\n    }\n</style>\n<table border=\"1\" class=\"dataframe\">\n  <thead>\n    <tr style=\"text-align: right;\">\n      <th></th>\n      <th>Unnamed: 0</th>\n      <th>video_id</th>\n      <th>title</th>\n      <th>description_video</th>\n      <th>tags</th>\n      <th>category_id</th>\n      <th>published_at_video</th>\n      <th>duration</th>\n      <th>made_for_kids_video</th>\n      <th>channel_title</th>\n      <th>...</th>\n      <th>absolute_position_1st_disclosure</th>\n      <th>relative_position_1st_disclosure</th>\n      <th>Green_disclosure</th>\n      <th>Yellow_disclosure</th>\n      <th>Affliated_marketing</th>\n      <th>Affliated_marketing_pairs</th>\n      <th>Giveaway</th>\n      <th>Giveaway_pairs</th>\n      <th>Green_disclosure_absolute</th>\n      <th>Green_disclosure_relative</th>\n    </tr>\n  </thead>\n  <tbody>\n    <tr>\n      <th>1</th>\n      <td>528</td>\n      <td>igrnw-twOkU</td>\n      <td>BIZARRE TNT TROLL In MINECRAFT!</td>\n      <td>#shorts \\nBIZARRE TNT TROLL In MINECRAFT!</td>\n      <td>Giel,giel reageren,gielekuhh,giel mick,fortnit...</td>\n      <td>24</td>\n      <td>2022-07-05T15:00:34Z</td>\n      <td>PT19S</td>\n      <td>False</td>\n      <td>GIEL</td>\n      <td>...</td>\n      <td></td>\n      <td></td>\n      <td></td>\n      <td></td>\n      <td></td>\n      <td></td>\n      <td></td>\n      <td></td>\n      <td>0.0</td>\n      <td>0.0</td>\n    </tr>\n    <tr>\n      <th>2</th>\n      <td>533</td>\n      <td>0EH_MRgY1Dc</td>\n      <td>HOPPER TROLL GAAT TE VER! (Minecraft)</td>\n      <td>HOPPER TROLL GAAT TE VER! (Minecraft)\\n#shorts</td>\n      <td>Giel,giel reageren,gielekuhh,giel mick,fortnit...</td>\n      <td>24</td>\n      <td>2022-07-02T15:00:00Z</td>\n      <td>PT16S</td>\n      <td>False</td>\n      <td>GIEL</td>\n      <td>...</td>\n      <td></td>\n      <td></td>\n      <td></td>\n      <td></td>\n      <td></td>\n      <td></td>\n      <td></td>\n      <td></td>\n      <td>0.0</td>\n      <td>0.0</td>\n    </tr>\n    <tr>\n      <th>3</th>\n      <td>539</td>\n      <td>8M76_mkUve0</td>\n      <td>Minecraft MAAR GRAS is OP!</td>\n      <td>#shorts \\nMinecraft MAAR GRAS is OP!</td>\n      <td>Giel,giel reageren,gielekuhh,giel mick,fortnit...</td>\n      <td>24</td>\n      <td>2022-06-28T15:00:04Z</td>\n      <td>PT31S</td>\n      <td>False</td>\n      <td>GIEL</td>\n      <td>...</td>\n      <td></td>\n      <td></td>\n      <td></td>\n      <td></td>\n      <td></td>\n      <td></td>\n      <td></td>\n      <td></td>\n      <td>0.0</td>\n      <td>0.0</td>\n    </tr>\n    <tr>\n      <th>4</th>\n      <td>1987</td>\n      <td>6vyMbfjmqHM</td>\n      <td>IK HEB EEN DUBBELGANGER?!</td>\n      <td>●Vorige video: https://www.youtube.com/watch?v...</td>\n      <td>dubbelganger,praat video,praten,playbuzz,look ...</td>\n      <td>24</td>\n      <td>2017-01-19T17:00:05Z</td>\n      <td>PT4M3S</td>\n      <td>False</td>\n      <td>Don</td>\n      <td>...</td>\n      <td></td>\n      <td></td>\n      <td></td>\n      <td></td>\n      <td></td>\n      <td></td>\n      <td></td>\n      <td></td>\n      <td>0.0</td>\n      <td>0.0</td>\n    </tr>\n    <tr>\n      <th>5</th>\n      <td>25</td>\n      <td>tYLrQ9UC7tA</td>\n      <td>First date! Expectations vs Reality 🫣</td>\n      <td></td>\n      <td></td>\n      <td>1</td>\n      <td>2022-10-06T13:52:42Z</td>\n      <td>PT18S</td>\n      <td>False</td>\n      <td>Jade Konal</td>\n      <td>...</td>\n      <td></td>\n      <td></td>\n      <td></td>\n      <td></td>\n      <td></td>\n      <td></td>\n      <td></td>\n      <td></td>\n      <td></td>\n      <td></td>\n    </tr>\n    <tr>\n      <th>...</th>\n      <td>...</td>\n      <td>...</td>\n      <td>...</td>\n      <td>...</td>\n      <td>...</td>\n      <td>...</td>\n      <td>...</td>\n      <td>...</td>\n      <td>...</td>\n      <td>...</td>\n      <td>...</td>\n      <td>...</td>\n      <td>...</td>\n      <td>...</td>\n      <td>...</td>\n      <td>...</td>\n      <td>...</td>\n      <td>...</td>\n      <td>...</td>\n      <td>...</td>\n      <td>...</td>\n    </tr>\n    <tr>\n      <th>46667</th>\n      <td>1049</td>\n      <td>sLSjXGGpH0k</td>\n      <td>Posture Analysis (updated version in description)</td>\n      <td>Enroll in our online course: http://bit.ly/PTM...</td>\n      <td>Physio,therapy,assessment,tutorial,student,ESP...</td>\n      <td>27</td>\n      <td>2013-09-21T17:53:44Z</td>\n      <td>PT3M55S</td>\n      <td>False</td>\n      <td>Physiotutors</td>\n      <td>...</td>\n      <td></td>\n      <td></td>\n      <td></td>\n      <td></td>\n      <td></td>\n      <td></td>\n      <td>comment, free, subscribe</td>\n      <td>('free' 'comment'), ('free' 'subscribe')</td>\n      <td>0.0</td>\n      <td>0.0</td>\n    </tr>\n    <tr>\n      <th>46668</th>\n      <td>1050</td>\n      <td>cOKyq7WPwx4</td>\n      <td>Anatomy: Planes &amp; Axes (NEW VERSION IN DESCRIP...</td>\n      <td>Enroll in our online course: http://bit.ly/PTM...</td>\n      <td>Physio,therapy,assessment,tutorial,student,ESP...</td>\n      <td>27</td>\n      <td>2013-09-11T20:42:54Z</td>\n      <td>PT5M25S</td>\n      <td>False</td>\n      <td>Physiotutors</td>\n      <td>...</td>\n      <td></td>\n      <td></td>\n      <td></td>\n      <td></td>\n      <td></td>\n      <td></td>\n      <td>comment, free, subscribe</td>\n      <td>('free' 'comment'), ('free' 'subscribe')</td>\n      <td>0.0</td>\n      <td>0.0</td>\n    </tr>\n    <tr>\n      <th>46669</th>\n      <td>1051</td>\n      <td>UkMx9QmtcKw</td>\n      <td>Patient History &amp; RPS-Form</td>\n      <td>Enroll in our online course: http://bit.ly/PTM...</td>\n      <td>patient,history,taking,rps,form,assessment,phy...</td>\n      <td>27</td>\n      <td>2013-09-10T20:39:06Z</td>\n      <td>PT4M19S</td>\n      <td>False</td>\n      <td>Physiotutors</td>\n      <td>...</td>\n      <td></td>\n      <td></td>\n      <td></td>\n      <td></td>\n      <td></td>\n      <td></td>\n      <td></td>\n      <td></td>\n      <td>0.0</td>\n      <td>0.0</td>\n    </tr>\n    <tr>\n      <th>46670</th>\n      <td>7</td>\n      <td>hTgTEpAY2II</td>\n      <td>Personal growth🦋 #tattoo</td>\n      <td></td>\n      <td></td>\n      <td>24</td>\n      <td>2023-03-10T17:38:51Z</td>\n      <td>PT21S</td>\n      <td>False</td>\n      <td>Melanie Latooy</td>\n      <td>...</td>\n      <td></td>\n      <td></td>\n      <td></td>\n      <td></td>\n      <td></td>\n      <td></td>\n      <td></td>\n      <td></td>\n      <td></td>\n      <td></td>\n    </tr>\n    <tr>\n      <th>46671</th>\n      <td>192</td>\n      <td>Ayk355ozUo8</td>\n      <td>Live stream La Melanie</td>\n      <td></td>\n      <td></td>\n      <td>22</td>\n      <td>2015-10-01T11:06:00Z</td>\n      <td>P0D</td>\n      <td>False</td>\n      <td>Melanie Latooy</td>\n      <td>...</td>\n      <td></td>\n      <td></td>\n      <td></td>\n      <td></td>\n      <td></td>\n      <td></td>\n      <td></td>\n      <td></td>\n      <td></td>\n      <td></td>\n    </tr>\n  </tbody>\n</table>\n<p>46671 rows × 43 columns</p>\n</div>"
     },
     "execution_count": 8,
     "metadata": {},
     "output_type": "execute_result"
    }
   ],
   "source": [
    "dfyt_en"
   ],
   "metadata": {
    "collapsed": false,
    "ExecuteTime": {
     "end_time": "2024-01-27T11:10:16.113827400Z",
     "start_time": "2024-01-27T11:10:16.020582200Z"
    }
   },
   "id": "7480d6cc48a1830"
  },
  {
   "cell_type": "code",
   "execution_count": 14,
   "outputs": [],
   "source": [
    "#read in Instagram data\n",
    "with open(r'C:\\Users\\I6240624\\Documents\\BISS\\Master Thesis\\Code\\DarianOthmanMasterThesis\\dftt_en_index_ad.csv', 'r',\n",
    "          encoding='utf-8') as f:\n",
    "    reader_tt = csv.reader(f, delimiter=',')\n",
    "    rows_tt_en_ad = list(reader_tt)\n",
    "    #read in Instagram data\n",
    "with open(r'C:\\Users\\I6240624\\Documents\\BISS\\Master Thesis\\Code\\DarianOthmanMasterThesis\\dftt_nl_index_ad.csv', 'r',\n",
    "          encoding='utf-8') as f:\n",
    "    reader_tt = csv.reader(f, delimiter=',')\n",
    "    rows_tt_nl_ad = list(reader_tt)"
   ],
   "metadata": {
    "collapsed": false,
    "ExecuteTime": {
     "end_time": "2024-01-27T11:31:20.320258200Z",
     "start_time": "2024-01-27T11:31:20.249234900Z"
    }
   },
   "id": "7133c2f16309f900"
  },
  {
   "cell_type": "code",
   "execution_count": 15,
   "outputs": [],
   "source": [
    "#read in Instagram data\n",
    "with open(r'C:\\Users\\I6240624\\Documents\\BISS\\Master Thesis\\Code\\DarianOthmanMasterThesis\\dfins_en_index_ad.csv', 'r',\n",
    "          encoding='utf-8') as f:\n",
    "    reader_ins = csv.reader(f, delimiter=',')\n",
    "    rows_ins_en_ad = list(reader_ins)\n",
    "    #read in Instagram data\n",
    "with open(r'C:\\Users\\I6240624\\Documents\\BISS\\Master Thesis\\Code\\DarianOthmanMasterThesis\\dfins_nl_index_ad.csv', 'r',\n",
    "          encoding='utf-8') as f:\n",
    "    reader_ins = csv.reader(f, delimiter=',')\n",
    "    rows_ins_nl_ad = list(reader_ins)"
   ],
   "metadata": {
    "collapsed": false,
    "ExecuteTime": {
     "end_time": "2024-01-27T11:31:22.646395300Z",
     "start_time": "2024-01-27T11:31:21.518413Z"
    }
   },
   "id": "c3670efdf8f0da51"
  },
  {
   "cell_type": "code",
   "execution_count": 16,
   "outputs": [],
   "source": [
    "#read in Instagram data\n",
    "with open(r'C:\\Users\\I6240624\\Documents\\BISS\\Master Thesis\\Code\\DarianOthmanMasterThesis\\dfyt_en_index_ad.csv', 'r',\n",
    "          encoding='utf-8') as f:\n",
    "    reader_yt = csv.reader(f, delimiter=',')\n",
    "    rows_yt_en_ad = list(reader_yt)\n",
    "    #read in Instagram data\n",
    "with open(r'C:\\Users\\I6240624\\Documents\\BISS\\Master Thesis\\Code\\DarianOthmanMasterThesis\\dfyt_nl_index_ad.csv', 'r',\n",
    "          encoding='utf-8') as f:\n",
    "    reader_yt = csv.reader(f, delimiter=',')\n",
    "    rows_yt_nl_ad = list(reader_yt)"
   ],
   "metadata": {
    "collapsed": false,
    "ExecuteTime": {
     "end_time": "2024-01-27T11:31:23.827257100Z",
     "start_time": "2024-01-27T11:31:23.330586400Z"
    }
   },
   "id": "5f17afd86fe6f2"
  },
  {
   "cell_type": "code",
   "execution_count": 17,
   "outputs": [],
   "source": [
    "# Making the Instagram dataframe DUTCH\n",
    "dfins_nl_ad = pd.DataFrame(rows_ins_nl_ad)\n",
    "# Making the first row the header\n",
    "new_header = dfins_nl_ad.iloc[0] \n",
    "dfins_nl_ad = dfins_nl_ad[1:]\n",
    "dfins_nl_ad.columns = new_header \n",
    "\n",
    "# Making the Instagram dataframe ENGLISH\n",
    "dfins_en_ad = pd.DataFrame(rows_ins_en_ad)\n",
    "# Making the first row the header\n",
    "new_header = dfins_en_ad.iloc[0] \n",
    "dfins_en_ad = dfins_en_ad[1:]\n",
    "dfins_en_ad.columns = new_header "
   ],
   "metadata": {
    "collapsed": false,
    "ExecuteTime": {
     "end_time": "2024-01-27T11:31:25.889201600Z",
     "start_time": "2024-01-27T11:31:25.859225900Z"
    }
   },
   "id": "1eba7273ae0e193a"
  },
  {
   "cell_type": "code",
   "execution_count": 18,
   "outputs": [],
   "source": [
    "# Making the Instagram dataframe DUTCH\n",
    "dftt_nl_ad = pd.DataFrame(rows_tt_nl_ad)\n",
    "# Making the first row the header\n",
    "new_header = dftt_nl_ad.iloc[0] \n",
    "dftt_nl_ad = dftt_nl_ad[1:]\n",
    "dftt_nl_ad.columns = new_header \n",
    "\n",
    "# Making the Instagram dataframe ENGLISH\n",
    "dftt_en_ad = pd.DataFrame(rows_tt_en_ad)\n",
    "# Making the first row the header\n",
    "new_header = dftt_en_ad.iloc[0] \n",
    "dftt_en_ad = dftt_en_ad[1:]\n",
    "dftt_en_ad.columns = new_header "
   ],
   "metadata": {
    "collapsed": false,
    "ExecuteTime": {
     "end_time": "2024-01-27T11:31:27.868517200Z",
     "start_time": "2024-01-27T11:31:27.847575100Z"
    }
   },
   "id": "e482e5377fd52a3f"
  },
  {
   "cell_type": "code",
   "execution_count": 19,
   "outputs": [],
   "source": [
    "# Making the Instagram dataframe DUTCH\n",
    "dfyt_nl_ad = pd.DataFrame(rows_yt_nl_ad)\n",
    "# Making the first row the header\n",
    "new_header = dfyt_nl_ad.iloc[0] \n",
    "dfyt_nl_ad = dfyt_nl_ad[1:]\n",
    "dfyt_nl_ad.columns = new_header \n",
    "\n",
    "# Making the Instagram dataframe ENGLISH\n",
    "dfyt_en_ad = pd.DataFrame(rows_yt_en_ad)\n",
    "# Making the first row the header\n",
    "new_header = dfyt_en_ad.iloc[0] \n",
    "dfyt_en_ad = dfyt_en_ad[1:]\n",
    "dfyt_en_ad.columns = new_header "
   ],
   "metadata": {
    "collapsed": false,
    "ExecuteTime": {
     "end_time": "2024-01-27T11:31:30.963976900Z",
     "start_time": "2024-01-27T11:31:30.912116500Z"
    }
   },
   "id": "a4b7aadce77004c4"
  },
  {
   "cell_type": "code",
   "execution_count": 21,
   "outputs": [
    {
     "data": {
      "text/plain": "0         video_id\n1      igrnw-twOkU\n2      0EH_MRgY1Dc\n3      8M76_mkUve0\n4      6vyMbfjmqHM\n5      HXNFnnUb5H0\n...            ...\n44019  mspxpap3_gs\n44020  KOEU4bQaI8A\n44021  sLSjXGGpH0k\n44022  cOKyq7WPwx4\n44023  UkMx9QmtcKw\n\n[44023 rows x 1 columns]",
      "text/html": "<div>\n<style scoped>\n    .dataframe tbody tr th:only-of-type {\n        vertical-align: middle;\n    }\n\n    .dataframe tbody tr th {\n        vertical-align: top;\n    }\n\n    .dataframe thead th {\n        text-align: right;\n    }\n</style>\n<table border=\"1\" class=\"dataframe\">\n  <thead>\n    <tr style=\"text-align: right;\">\n      <th></th>\n      <th>video_id</th>\n    </tr>\n  </thead>\n  <tbody>\n    <tr>\n      <th>1</th>\n      <td>igrnw-twOkU</td>\n    </tr>\n    <tr>\n      <th>2</th>\n      <td>0EH_MRgY1Dc</td>\n    </tr>\n    <tr>\n      <th>3</th>\n      <td>8M76_mkUve0</td>\n    </tr>\n    <tr>\n      <th>4</th>\n      <td>6vyMbfjmqHM</td>\n    </tr>\n    <tr>\n      <th>5</th>\n      <td>HXNFnnUb5H0</td>\n    </tr>\n    <tr>\n      <th>...</th>\n      <td>...</td>\n    </tr>\n    <tr>\n      <th>44019</th>\n      <td>mspxpap3_gs</td>\n    </tr>\n    <tr>\n      <th>44020</th>\n      <td>KOEU4bQaI8A</td>\n    </tr>\n    <tr>\n      <th>44021</th>\n      <td>sLSjXGGpH0k</td>\n    </tr>\n    <tr>\n      <th>44022</th>\n      <td>cOKyq7WPwx4</td>\n    </tr>\n    <tr>\n      <th>44023</th>\n      <td>UkMx9QmtcKw</td>\n    </tr>\n  </tbody>\n</table>\n<p>44023 rows × 1 columns</p>\n</div>"
     },
     "execution_count": 21,
     "metadata": {},
     "output_type": "execute_result"
    }
   ],
   "source": [
    "dfyt_en_ad"
   ],
   "metadata": {
    "collapsed": false,
    "ExecuteTime": {
     "end_time": "2024-01-27T11:34:44.126281500Z",
     "start_time": "2024-01-27T11:34:44.082398300Z"
    }
   },
   "id": "4a6de493e418ce0"
  },
  {
   "cell_type": "code",
   "execution_count": 22,
   "outputs": [],
   "source": [
    "# Merge the two DataFrames on the 'ID' column\n",
    "merged_df = pd.merge(dfyt_en, dfyt_en_ad, on='video_id', how='left', indicator=True)\n",
    "\n",
    "# Drop rows where the ID is present in df1\n",
    "result_df = merged_df[merged_df['_merge'] == 'left_only'].drop('_merge', axis=1)"
   ],
   "metadata": {
    "collapsed": false,
    "ExecuteTime": {
     "end_time": "2024-01-27T11:34:54.680517600Z",
     "start_time": "2024-01-27T11:34:54.406251800Z"
    }
   },
   "id": "2d73a5850320b292"
  },
  {
   "cell_type": "code",
   "execution_count": 23,
   "outputs": [
    {
     "data": {
      "text/plain": "0     Unnamed: 0     video_id  \\\n4             25  tYLrQ9UC7tA   \n5             69  TO-r6YS9I9M   \n6             81  gO2oUiQIT9w   \n7            128  XM1bwOazWo0   \n8            375  N5fPfbE3_Fo   \n...          ...          ...   \n45730        112  MOu0LwhXUos   \n45755        138  gC8CbUtodO0   \n45819        202  WFdW0Zdj_9o   \n46669          7  hTgTEpAY2II   \n46670        192  Ayk355ozUo8   \n\n0                                                  title description_video  \\\n4                  First date! Expectations vs Reality 🫣                     \n5      Quinn's prank! 🗑️👵 Well, drama moment 😅 And no...                     \n6           POST-IT challenge 🏆✉️ with  blind woman 😅🧑‍🦯                     \n7      Zo voelt dat dus, oncomfortabel.. 📢😡 @jayden_l...                     \n8                   De shuttle run als tweeling? Easy! 😅                     \n...                                                  ...               ...   \n45730            My Ego almost kicked me out of the race                     \n45755  Our website is now available in German Spanish...                     \n45819  Gait Exercises Variations | Vestibular Rehab w...                     \n46669                           Personal growth🦋 #tattoo                     \n46670                             Live stream La Melanie                     \n\n0                                                   tags category_id  \\\n4                                                                  1   \n5                                                                 23   \n6                                                                 23   \n7                                                                 23   \n8                                                                 23   \n...                                                  ...         ...   \n45730  physiotutors,physiotherapy,physical therapy,ph...          27   \n45755                                                             27   \n45819  gait exercises vestibular rehab,gait exercises...          27   \n46669                                                             24   \n46670                                                             22   \n\n0        published_at_video duration made_for_kids_video  \\\n4      2022-10-06T13:52:42Z    PT18S               False   \n5      2023-05-29T13:06:49Z    PT12S               False   \n6      2023-05-10T12:38:55Z    PT19S               False   \n7      2023-02-27T14:04:52Z    PT25S               False   \n8      2022-03-16T14:01:57Z    PT22S               False   \n...                     ...      ...                 ...   \n45730  2022-10-25T07:25:56Z    PT33S               False   \n45755  2022-06-09T18:12:48Z    PT26S               False   \n45819  2021-09-17T14:00:16Z  PT6M41S               False   \n46669  2023-03-10T17:38:51Z    PT21S               False   \n46670  2015-10-01T11:06:00Z      P0D               False   \n\n0               channel_title  ... absolute_position_1st_disclosure  \\\n4                  Jade Konal  ...                                    \n5      Quinn en Aaron Bezemer  ...                                    \n6      Quinn en Aaron Bezemer  ...                                    \n7      Quinn en Aaron Bezemer  ...                                    \n8      Quinn en Aaron Bezemer  ...                                    \n...                       ...  ...                              ...   \n45730            Physiotutors  ...                                    \n45755            Physiotutors  ...                                    \n45819            Physiotutors  ...                                    \n46669          Melanie Latooy  ...                                    \n46670          Melanie Latooy  ...                                    \n\n0     relative_position_1st_disclosure Green_disclosure Yellow_disclosure  \\\n4                                                                           \n5                                                                           \n6                                                                           \n7                                                                           \n8                                                                           \n...                                ...              ...               ...   \n45730                                                                       \n45755                                                                       \n45819                                                                       \n46669                                                                       \n46670                                                                       \n\n0     Affliated_marketing Affliated_marketing_pairs Giveaway Giveaway_pairs  \\\n4                                                                             \n5                                                                             \n6                                                                             \n7                                                                             \n8                                                                             \n...                   ...                       ...      ...            ...   \n45730                                                                         \n45755                                                                         \n45819                                                                         \n46669                                                                         \n46670                                                                         \n\n0     Green_disclosure_absolute Green_disclosure_relative  \n4                                                          \n5                                                          \n6                                                          \n7                                                          \n8                                                          \n...                         ...                       ...  \n45730                                                      \n45755                                                      \n45819                                                      \n46669                                                      \n46670                                                      \n\n[2648 rows x 43 columns]",
      "text/html": "<div>\n<style scoped>\n    .dataframe tbody tr th:only-of-type {\n        vertical-align: middle;\n    }\n\n    .dataframe tbody tr th {\n        vertical-align: top;\n    }\n\n    .dataframe thead th {\n        text-align: right;\n    }\n</style>\n<table border=\"1\" class=\"dataframe\">\n  <thead>\n    <tr style=\"text-align: right;\">\n      <th></th>\n      <th>Unnamed: 0</th>\n      <th>video_id</th>\n      <th>title</th>\n      <th>description_video</th>\n      <th>tags</th>\n      <th>category_id</th>\n      <th>published_at_video</th>\n      <th>duration</th>\n      <th>made_for_kids_video</th>\n      <th>channel_title</th>\n      <th>...</th>\n      <th>absolute_position_1st_disclosure</th>\n      <th>relative_position_1st_disclosure</th>\n      <th>Green_disclosure</th>\n      <th>Yellow_disclosure</th>\n      <th>Affliated_marketing</th>\n      <th>Affliated_marketing_pairs</th>\n      <th>Giveaway</th>\n      <th>Giveaway_pairs</th>\n      <th>Green_disclosure_absolute</th>\n      <th>Green_disclosure_relative</th>\n    </tr>\n  </thead>\n  <tbody>\n    <tr>\n      <th>4</th>\n      <td>25</td>\n      <td>tYLrQ9UC7tA</td>\n      <td>First date! Expectations vs Reality 🫣</td>\n      <td></td>\n      <td></td>\n      <td>1</td>\n      <td>2022-10-06T13:52:42Z</td>\n      <td>PT18S</td>\n      <td>False</td>\n      <td>Jade Konal</td>\n      <td>...</td>\n      <td></td>\n      <td></td>\n      <td></td>\n      <td></td>\n      <td></td>\n      <td></td>\n      <td></td>\n      <td></td>\n      <td></td>\n      <td></td>\n    </tr>\n    <tr>\n      <th>5</th>\n      <td>69</td>\n      <td>TO-r6YS9I9M</td>\n      <td>Quinn's prank! 🗑️👵 Well, drama moment 😅 And no...</td>\n      <td></td>\n      <td></td>\n      <td>23</td>\n      <td>2023-05-29T13:06:49Z</td>\n      <td>PT12S</td>\n      <td>False</td>\n      <td>Quinn en Aaron Bezemer</td>\n      <td>...</td>\n      <td></td>\n      <td></td>\n      <td></td>\n      <td></td>\n      <td></td>\n      <td></td>\n      <td></td>\n      <td></td>\n      <td></td>\n      <td></td>\n    </tr>\n    <tr>\n      <th>6</th>\n      <td>81</td>\n      <td>gO2oUiQIT9w</td>\n      <td>POST-IT challenge 🏆✉️ with  blind woman 😅🧑‍🦯</td>\n      <td></td>\n      <td></td>\n      <td>23</td>\n      <td>2023-05-10T12:38:55Z</td>\n      <td>PT19S</td>\n      <td>False</td>\n      <td>Quinn en Aaron Bezemer</td>\n      <td>...</td>\n      <td></td>\n      <td></td>\n      <td></td>\n      <td></td>\n      <td></td>\n      <td></td>\n      <td></td>\n      <td></td>\n      <td></td>\n      <td></td>\n    </tr>\n    <tr>\n      <th>7</th>\n      <td>128</td>\n      <td>XM1bwOazWo0</td>\n      <td>Zo voelt dat dus, oncomfortabel.. 📢😡 @jayden_l...</td>\n      <td></td>\n      <td></td>\n      <td>23</td>\n      <td>2023-02-27T14:04:52Z</td>\n      <td>PT25S</td>\n      <td>False</td>\n      <td>Quinn en Aaron Bezemer</td>\n      <td>...</td>\n      <td></td>\n      <td></td>\n      <td></td>\n      <td></td>\n      <td></td>\n      <td></td>\n      <td></td>\n      <td></td>\n      <td></td>\n      <td></td>\n    </tr>\n    <tr>\n      <th>8</th>\n      <td>375</td>\n      <td>N5fPfbE3_Fo</td>\n      <td>De shuttle run als tweeling? Easy! 😅</td>\n      <td></td>\n      <td></td>\n      <td>23</td>\n      <td>2022-03-16T14:01:57Z</td>\n      <td>PT22S</td>\n      <td>False</td>\n      <td>Quinn en Aaron Bezemer</td>\n      <td>...</td>\n      <td></td>\n      <td></td>\n      <td></td>\n      <td></td>\n      <td></td>\n      <td></td>\n      <td></td>\n      <td></td>\n      <td></td>\n      <td></td>\n    </tr>\n    <tr>\n      <th>...</th>\n      <td>...</td>\n      <td>...</td>\n      <td>...</td>\n      <td>...</td>\n      <td>...</td>\n      <td>...</td>\n      <td>...</td>\n      <td>...</td>\n      <td>...</td>\n      <td>...</td>\n      <td>...</td>\n      <td>...</td>\n      <td>...</td>\n      <td>...</td>\n      <td>...</td>\n      <td>...</td>\n      <td>...</td>\n      <td>...</td>\n      <td>...</td>\n      <td>...</td>\n      <td>...</td>\n    </tr>\n    <tr>\n      <th>45730</th>\n      <td>112</td>\n      <td>MOu0LwhXUos</td>\n      <td>My Ego almost kicked me out of the race</td>\n      <td></td>\n      <td>physiotutors,physiotherapy,physical therapy,ph...</td>\n      <td>27</td>\n      <td>2022-10-25T07:25:56Z</td>\n      <td>PT33S</td>\n      <td>False</td>\n      <td>Physiotutors</td>\n      <td>...</td>\n      <td></td>\n      <td></td>\n      <td></td>\n      <td></td>\n      <td></td>\n      <td></td>\n      <td></td>\n      <td></td>\n      <td></td>\n      <td></td>\n    </tr>\n    <tr>\n      <th>45755</th>\n      <td>138</td>\n      <td>gC8CbUtodO0</td>\n      <td>Our website is now available in German Spanish...</td>\n      <td></td>\n      <td></td>\n      <td>27</td>\n      <td>2022-06-09T18:12:48Z</td>\n      <td>PT26S</td>\n      <td>False</td>\n      <td>Physiotutors</td>\n      <td>...</td>\n      <td></td>\n      <td></td>\n      <td></td>\n      <td></td>\n      <td></td>\n      <td></td>\n      <td></td>\n      <td></td>\n      <td></td>\n      <td></td>\n    </tr>\n    <tr>\n      <th>45819</th>\n      <td>202</td>\n      <td>WFdW0Zdj_9o</td>\n      <td>Gait Exercises Variations | Vestibular Rehab w...</td>\n      <td></td>\n      <td>gait exercises vestibular rehab,gait exercises...</td>\n      <td>27</td>\n      <td>2021-09-17T14:00:16Z</td>\n      <td>PT6M41S</td>\n      <td>False</td>\n      <td>Physiotutors</td>\n      <td>...</td>\n      <td></td>\n      <td></td>\n      <td></td>\n      <td></td>\n      <td></td>\n      <td></td>\n      <td></td>\n      <td></td>\n      <td></td>\n      <td></td>\n    </tr>\n    <tr>\n      <th>46669</th>\n      <td>7</td>\n      <td>hTgTEpAY2II</td>\n      <td>Personal growth🦋 #tattoo</td>\n      <td></td>\n      <td></td>\n      <td>24</td>\n      <td>2023-03-10T17:38:51Z</td>\n      <td>PT21S</td>\n      <td>False</td>\n      <td>Melanie Latooy</td>\n      <td>...</td>\n      <td></td>\n      <td></td>\n      <td></td>\n      <td></td>\n      <td></td>\n      <td></td>\n      <td></td>\n      <td></td>\n      <td></td>\n      <td></td>\n    </tr>\n    <tr>\n      <th>46670</th>\n      <td>192</td>\n      <td>Ayk355ozUo8</td>\n      <td>Live stream La Melanie</td>\n      <td></td>\n      <td></td>\n      <td>22</td>\n      <td>2015-10-01T11:06:00Z</td>\n      <td>P0D</td>\n      <td>False</td>\n      <td>Melanie Latooy</td>\n      <td>...</td>\n      <td></td>\n      <td></td>\n      <td></td>\n      <td></td>\n      <td></td>\n      <td></td>\n      <td></td>\n      <td></td>\n      <td></td>\n      <td></td>\n    </tr>\n  </tbody>\n</table>\n<p>2648 rows × 43 columns</p>\n</div>"
     },
     "execution_count": 23,
     "metadata": {},
     "output_type": "execute_result"
    }
   ],
   "source": [
    "result_df"
   ],
   "metadata": {
    "collapsed": false,
    "ExecuteTime": {
     "end_time": "2024-01-27T11:34:58.357438800Z",
     "start_time": "2024-01-27T11:34:58.303415500Z"
    }
   },
   "id": "3e0818a5c37643df"
  }
 ],
 "metadata": {
  "kernelspec": {
   "display_name": "Python 3",
   "language": "python",
   "name": "python3"
  },
  "language_info": {
   "codemirror_mode": {
    "name": "ipython",
    "version": 2
   },
   "file_extension": ".py",
   "mimetype": "text/x-python",
   "name": "python",
   "nbconvert_exporter": "python",
   "pygments_lexer": "ipython2",
   "version": "2.7.6"
  }
 },
 "nbformat": 4,
 "nbformat_minor": 5
}
