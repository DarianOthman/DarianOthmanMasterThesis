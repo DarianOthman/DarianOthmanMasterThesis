{
 "cells": [
  {
   "cell_type": "code",
   "execution_count": 16,
   "id": "initial_id",
   "metadata": {
    "collapsed": true,
    "ExecuteTime": {
     "end_time": "2024-01-24T14:57:59.859197100Z",
     "start_time": "2024-01-24T14:57:59.781090500Z"
    }
   },
   "outputs": [],
   "source": [
    "import csv\n",
    "import pandas as pd\n",
    "import numpy as np"
   ]
  },
  {
   "cell_type": "code",
   "execution_count": 17,
   "outputs": [],
   "source": [
    "#read in Instagram data\n",
    "with open(r'C:\\Users\\I6240624\\Documents\\BISS\\Master Thesis\\Data\\icwsm_dutch_data\\Ins_lingua.csv', 'r',\n",
    "          encoding='utf-8') as f:\n",
    "    reader_ins = csv.reader(f, delimiter=',')\n",
    "    rows_ins = list(reader_ins)"
   ],
   "metadata": {
    "collapsed": false,
    "ExecuteTime": {
     "end_time": "2024-01-24T14:58:02.928191700Z",
     "start_time": "2024-01-24T14:57:59.796711400Z"
    }
   },
   "id": "14f99f5cbc60fb89"
  },
  {
   "cell_type": "code",
   "execution_count": 18,
   "outputs": [],
   "source": [
    "#read in TikTok data\n",
    "with open(r'C:\\Users\\I6240624\\Documents\\BISS\\Master Thesis\\Data\\icwsm_dutch_data\\TikTok_lingua.csv', 'r',\n",
    "          encoding='utf-8') as f:\n",
    "    reader_tt = csv.reader(f, delimiter=',')\n",
    "    rows_tt = list(reader_tt)"
   ],
   "metadata": {
    "collapsed": false,
    "ExecuteTime": {
     "end_time": "2024-01-24T14:58:03.707851400Z",
     "start_time": "2024-01-24T14:58:02.928191700Z"
    }
   },
   "id": "68f9d3984f65febc"
  },
  {
   "cell_type": "code",
   "execution_count": 19,
   "outputs": [],
   "source": [
    "#read in YouTube data\n",
    "with open(r'C:\\Users\\I6240624\\Documents\\BISS\\Master Thesis\\Data\\icwsm_dutch_data\\Youtube_lingua_en.csv', 'r',\n",
    "          encoding='utf-8') as f:\n",
    "    reader_yt = csv.reader(f, delimiter=',')\n",
    "    rows_yt = list(reader_yt)"
   ],
   "metadata": {
    "collapsed": false,
    "ExecuteTime": {
     "end_time": "2024-01-24T14:58:08.051805100Z",
     "start_time": "2024-01-24T14:58:03.707851400Z"
    }
   },
   "id": "70d616b36a97ec4d"
  },
  {
   "cell_type": "code",
   "execution_count": 20,
   "outputs": [],
   "source": [
    "# Making the Instagram dataframe\n",
    "dfins = pd.DataFrame(rows_ins)\n",
    "# Making the first row the header\n",
    "new_header = dfins.iloc[0] \n",
    "dfins = dfins[1:]\n",
    "dfins.columns = new_header \n",
    "#dfins"
   ],
   "metadata": {
    "collapsed": false,
    "ExecuteTime": {
     "end_time": "2024-01-24T14:58:08.397363800Z",
     "start_time": "2024-01-24T14:58:08.051805100Z"
    }
   },
   "id": "e1227638d2c1c9b5"
  },
  {
   "cell_type": "code",
   "execution_count": 21,
   "outputs": [],
   "source": [
    "# Making the TikTok dataframe\n",
    "dftt = pd.DataFrame(rows_tt)\n",
    "# Making the first row the header\n",
    "new_header = dftt.iloc[0] \n",
    "dftt = dftt[1:]\n",
    "dftt.columns = new_header \n",
    "#dftt"
   ],
   "metadata": {
    "collapsed": false,
    "ExecuteTime": {
     "end_time": "2024-01-24T14:58:08.515818600Z",
     "start_time": "2024-01-24T14:58:08.397363800Z"
    }
   },
   "id": "fbd6fe1aebed4a49"
  },
  {
   "cell_type": "code",
   "execution_count": 22,
   "outputs": [],
   "source": [
    "# Making the You dataframe\n",
    "dfyt = pd.DataFrame(rows_yt)\n",
    "# Making the first row the header\n",
    "new_header = dfyt.iloc[0] \n",
    "dfyt = dfyt[1:]\n",
    "dfyt.columns = new_header \n",
    "#dfyt"
   ],
   "metadata": {
    "collapsed": false,
    "ExecuteTime": {
     "end_time": "2024-01-24T14:58:08.797128300Z",
     "start_time": "2024-01-24T14:58:08.515818600Z"
    }
   },
   "id": "8b1830e7ce997a2c"
  },
  {
   "cell_type": "code",
   "execution_count": null,
   "outputs": [],
   "source": [],
   "metadata": {
    "collapsed": false
   },
   "id": "bb4cf155be0e40c2"
  }
 ],
 "metadata": {
  "kernelspec": {
   "display_name": "Python 3",
   "language": "python",
   "name": "python3"
  },
  "language_info": {
   "codemirror_mode": {
    "name": "ipython",
    "version": 2
   },
   "file_extension": ".py",
   "mimetype": "text/x-python",
   "name": "python",
   "nbconvert_exporter": "python",
   "pygments_lexer": "ipython2",
   "version": "2.7.6"
  }
 },
 "nbformat": 4,
 "nbformat_minor": 5
}
