{
 "cells": [
  {
   "cell_type": "code",
   "execution_count": null,
   "id": "initial_id",
   "metadata": {
    "collapsed": true
   },
   "outputs": [],
   "source": [
    "import csv\n",
    "\n",
    "import numpy as np\n",
    "import pandas as pd\n",
    "import matplotlib.pyplot as plt\n",
    "from matplotlib_venn import venn3\n",
    "import networkx as nx\n",
    "import ast\n",
    "import plotly.graph_objects as go"
   ]
  },
  {
   "cell_type": "code",
   "execution_count": null,
   "outputs": [],
   "source": [
    "#read in Instagram data\n",
    "with open(r'C:\\Users\\I6240624\\Documents\\BISS\\Master Thesis\\Data\\icwsm_dutch_data\\Ins_lingua.csv', 'r',\n",
    "          encoding='utf-8') as f:\n",
    "    reader_ins = csv.reader(f, delimiter=',')\n",
    "    rows_ins = list(reader_ins)"
   ],
   "metadata": {
    "collapsed": false
   },
   "id": "14f99f5cbc60fb89"
  },
  {
   "cell_type": "code",
   "execution_count": null,
   "outputs": [],
   "source": [
    "#read in TikTok data\n",
    "with open(r'C:\\Users\\I6240624\\Documents\\BISS\\Master Thesis\\Data\\icwsm_dutch_data\\TikTok_lingua.csv', 'r',\n",
    "          encoding='utf-8') as f:\n",
    "    reader_tt = csv.reader(f, delimiter=',')\n",
    "    rows_tt = list(reader_tt)"
   ],
   "metadata": {
    "collapsed": false
   },
   "id": "68f9d3984f65febc"
  },
  {
   "cell_type": "code",
   "execution_count": null,
   "outputs": [],
   "source": [
    "# Read in the first YouTube data file\n",
    "file_path_en = r'C:\\Users\\I6240624\\Documents\\BISS\\Master Thesis\\Data\\icwsm_dutch_data\\Youtube_lingua_en.csv'\n",
    "with open(file_path_en, 'r', encoding='utf-8') as f_en:\n",
    "    reader_en = csv.reader(f_en, delimiter=',')\n",
    "    rows_en = list(reader_en)\n",
    "\n",
    "# Read in the second YouTube data file\n",
    "file_path_nl = r'C:\\Users\\I6240624\\Documents\\BISS\\Master Thesis\\Data\\icwsm_dutch_data\\Youtube_lingua_nl.csv'\n",
    "with open(file_path_nl, 'r', encoding='utf-8') as f_nl:\n",
    "    reader_nl = csv.reader(f_nl, delimiter=',')\n",
    "    rows_nl = list(reader_nl)\n",
    "\n",
    "# Combine the rows from both files\n",
    "rows_yt = rows_en + rows_nl"
   ],
   "metadata": {
    "collapsed": false
   },
   "id": "70d616b36a97ec4d"
  },
  {
   "cell_type": "code",
   "execution_count": null,
   "outputs": [],
   "source": [
    "# Making the TikTok dataframe\n",
    "dfins = pd.DataFrame(rows_ins)\n",
    "# Making the first row the header\n",
    "new_header = dfins.iloc[0] \n",
    "dfins = dfins[1:]\n",
    "dfins.columns = new_header \n",
    "#dfins"
   ],
   "metadata": {
    "collapsed": false
   },
   "id": "4ebba9bb6d9ba7c4"
  },
  {
   "cell_type": "code",
   "execution_count": null,
   "outputs": [],
   "source": [
    "# Making the TikTok dataframe\n",
    "dftt = pd.DataFrame(rows_tt)\n",
    "# Making the first row the header\n",
    "new_header = dftt.iloc[0] \n",
    "dftt = dftt[1:]\n",
    "dftt.columns = new_header \n",
    "#dftt"
   ],
   "metadata": {
    "collapsed": false
   },
   "id": "fbd6fe1aebed4a49"
  },
  {
   "cell_type": "code",
   "execution_count": null,
   "outputs": [],
   "source": [
    "# Making the YouTube dataframe\n",
    "dfyt = pd.DataFrame(rows_yt)\n",
    "# Making the first row the header\n",
    "new_header = dfyt.iloc[0] \n",
    "dfyt = dfyt[1:]\n",
    "dfyt.columns = new_header \n",
    "#dfyt"
   ],
   "metadata": {
    "collapsed": false
   },
   "id": "8b1830e7ce997a2c"
  },
  {
   "cell_type": "code",
   "execution_count": null,
   "outputs": [],
   "source": [
    "# Listing all the username for the Instagram Dataset\n",
    "dfins['username'] = dfins['username'].apply(lambda x: x.replace(\" \", \"\").upper())\n",
    "# Create a set with unique usernames\n",
    "insinf = set(dfins['username'].unique())\n",
    "\n",
    "dftt['username'] = dftt['username'].apply(lambda x: x.replace(\" \", \"\").upper())\n",
    "# Create a set with unique usernames\n",
    "ttinf = set(dftt['username'].unique())\n",
    "\n",
    "dfyt['channel_title'] = dfyt['channel_title'].apply(lambda x: x.replace(\" \", \"\").upper())\n",
    "# Create a set with unique usernames\n",
    "ytinf = set(dfyt['channel_title'].unique())"
   ],
   "metadata": {
    "collapsed": false
   },
   "id": "54dff6141b11e909"
  },
  {
   "cell_type": "code",
   "execution_count": null,
   "outputs": [],
   "source": [
    "# Find common elements between lists\n",
    "common_in_1_and_2 = insinf.intersection(ttinf)\n",
    "common_in_1_and_3 = insinf.intersection(ytinf)\n",
    "common_in_2_and_3 = ttinf.intersection(ytinf)\n",
    "\n",
    "# Merge all common elements\n",
    "all_common_elements = common_in_1_and_2.union(common_in_1_and_3, common_in_2_and_3)\n",
    "\n",
    "# Create a dictionary to store the count of lists in which each name is present\n",
    "name_presence_count = {}\n",
    "\n",
    "# Check for each common element in the lists and update the count\n",
    "for name in all_common_elements:\n",
    "    count = 0\n",
    "    if name in insinf:\n",
    "        count += 1\n",
    "    if name in ttinf:\n",
    "        count += 1\n",
    "    if name in ytinf:\n",
    "        count += 1\n",
    "    name_presence_count[name] = count\n",
    "    \n",
    "# Create a Dataframe for the names and counts\n",
    "dfrep = pd.DataFrame(list(name_presence_count.items()), columns=['Name', 'Count'])\n",
    "\n",
    "# Plot using a Venn Diagram\n",
    "venn3([insinf, ttinf, ytinf], ('Instagram', 'TikTok', 'YouTube'))\n",
    "plt.show()"
   ],
   "metadata": {
    "collapsed": false
   },
   "id": "cfdec5ceb6e05293"
  },
  {
   "cell_type": "code",
   "execution_count": null,
   "outputs": [],
   "source": [
    "# Convert to datetime format\n",
    "dfins['date'] = pd.to_datetime(dfins['date'])\n",
    "\n",
    "# Group by the day and count instances for each week\n",
    "count_by_week = dfins.resample('W-Mon', on='date').size().reset_index(name='count')\n",
    "\n",
    "# Plot the data\n",
    "plt.plot(count_by_week['date'], count_by_week['count'], marker='', linestyle='-', linewidth=1)\n",
    "\n",
    "# Customize the plot if needed\n",
    "plt.title('Evolution of Instances by week')\n",
    "plt.xlabel('Date')\n",
    "plt.ylabel('Number of Instances')\n",
    "plt.xticks(rotation=45)\n",
    "\n",
    "# Show the plot\n",
    "plt.show()"
   ],
   "metadata": {
    "collapsed": false
   },
   "id": "252cf5e96a707658"
  },
  {
   "cell_type": "code",
   "execution_count": null,
   "outputs": [],
   "source": [
    "# Convert to datetime format\n",
    "dftt['create_time'] = pd.to_datetime(dftt['create_time'])\n",
    "\n",
    "# Group by the day and count instances for each week\n",
    "count_by_week = dftt.resample('W-Mon', on='create_time').size().reset_index(name='count')\n",
    "\n",
    "# Plot the data\n",
    "plt.plot(count_by_week['create_time'], count_by_week['count'], marker='', linestyle='-', linewidth=1)\n",
    "\n",
    "# Customize the plot if needed\n",
    "plt.title('Evolution of Instances by week')\n",
    "plt.xlabel('Date')\n",
    "plt.ylabel('Number of Instances')\n",
    "plt.xticks(rotation=45)\n",
    "\n",
    "# Show the plot\n",
    "plt.show()"
   ],
   "metadata": {
    "collapsed": false
   },
   "id": "26b0b20a6591318"
  },
  {
   "cell_type": "code",
   "execution_count": null,
   "outputs": [],
   "source": [
    "# Convert to datetime format\n",
    "dfyt['published_at_video'] = pd.to_datetime(dfyt['published_at_video'], errors='coerce')\n",
    "\n",
    "# Group by the day and count instances for each week\n",
    "count_by_week = dfyt.resample('W-Mon', on='published_at_video').size().reset_index(name='count')\n",
    "\n",
    "# Plot the data\n",
    "plt.plot(count_by_week['published_at_video'], count_by_week['count'], marker='', linestyle='-', linewidth=1)\n",
    "\n",
    "# Customize the plot if needed\n",
    "plt.title('Evolution of Instances by week')\n",
    "plt.xlabel('Date')\n",
    "plt.ylabel('Number of Instances')\n",
    "plt.xticks(rotation=45)\n",
    "\n",
    "# Show the plot\n",
    "plt.show()"
   ],
   "metadata": {
    "collapsed": false
   },
   "id": "e78b2de46b7849ee"
  },
  {
   "cell_type": "code",
   "execution_count": null,
   "outputs": [],
   "source": [
    "# Convert to datetime format for each DataFrame\n",
    "dfins['date'] = pd.to_datetime(dfins['date'])\n",
    "dftt['create_time'] = pd.to_datetime(dftt['create_time'])\n",
    "dfyt['published_at_video'] = pd.to_datetime(dfyt['published_at_video'])\n",
    "\n",
    "# Group by the week and count instances for each week for each DataFrame\n",
    "count_by_week1 = dfins.resample('W-Mon', on='date').size().reset_index(name='count1')\n",
    "count_by_week2 = dftt.resample('W-Mon', on='create_time').size().reset_index(name='count2')\n",
    "count_by_week3 = dfyt.resample('W-Mon', on='published_at_video').size().reset_index(name='count3')\n",
    "\n",
    "# Plot each DataFrame separately\n",
    "plt.plot(count_by_week1['date'], count_by_week1['count1'], label='Instagram', linestyle='-', linewidth=1)\n",
    "plt.plot(count_by_week2['create_time'], count_by_week2['count2'], label='TikTok', linestyle='-', linewidth=1)\n",
    "plt.plot(count_by_week3['published_at_video'], count_by_week3['count3'], label='YouTube', linestyle='-', linewidth=1)\n",
    "\n",
    "# Customize the plot if needed\n",
    "plt.title('Evolution of Instances per Week')\n",
    "plt.xlabel('Date')\n",
    "plt.ylabel('Number of Instances')\n",
    "plt.xticks(rotation=45)\n",
    "\n",
    "# Add legend\n",
    "plt.legend()\n",
    "\n",
    "# Show the plot\n",
    "plt.show()\n"
   ],
   "metadata": {
    "collapsed": false
   },
   "id": "7e3a120353c68a94"
  },
  {
   "cell_type": "code",
   "execution_count": null,
   "outputs": [],
   "source": [
    "insall = dfins[dfins['username'].isin(all_common_elements)]\n",
    "ins12 = dfins[dfins['username'].isin(common_in_1_and_2)]\n",
    "ins13 = dfins[dfins['username'].isin(common_in_1_and_3)]\n",
    "\n",
    "ttall = dftt[dftt['username'].isin(all_common_elements)]\n",
    "tt21 = dftt[dftt['username'].isin(common_in_1_and_2)]\n",
    "tt23 = dftt[dftt['username'].isin(common_in_2_and_3)]\n",
    "\n",
    "ytall = dfyt[dfyt['channel_title'].isin(all_common_elements)]\n",
    "yt31 = dfyt[dfyt['channel_title'].isin(common_in_1_and_3)]\n",
    "yt32 = dfyt[dfyt['channel_title'].isin(common_in_2_and_3)]"
   ],
   "metadata": {
    "collapsed": false
   },
   "id": "5079318e0815c72e"
  },
  {
   "cell_type": "code",
   "execution_count": null,
   "outputs": [],
   "source": [
    "# Calculate the proportions of each language\n",
    "insall = insall.replace('', pd.NA).dropna(subset=['language_detect'], how='all')\n",
    "language_counts = insall['language_detect'].value_counts()\n",
    "\n",
    "# Create a bar plot\n",
    "plt.figure(figsize=(10, 6))\n",
    "language_counts.plot(kind='bar', color = ('skyblue','orange'))\n",
    "plt.title('Language Distribution')\n",
    "plt.xlabel('Language')\n",
    "plt.ylabel('Count')\n",
    "plt.show()"
   ],
   "metadata": {
    "collapsed": false
   },
   "id": "ececc16f0908fabc"
  },
  {
   "cell_type": "code",
   "execution_count": null,
   "outputs": [],
   "source": [
    "# Calculate the proportions of each language\n",
    "dfins = dfins.replace('', pd.NA).dropna(subset=['language_detect'], how='all')\n",
    "language_counts = dfins['language_detect'].value_counts()\n",
    "\n",
    "# Create a bar plot\n",
    "plt.figure(figsize=(10, 6))\n",
    "language_counts.plot(kind='bar', color = ('skyblue','orange'))\n",
    "plt.title('Language Distribution')\n",
    "plt.xlabel('Language')\n",
    "plt.ylabel('Count')\n",
    "plt.show()"
   ],
   "metadata": {
    "collapsed": false
   },
   "id": "1ed62835836242c"
  },
  {
   "cell_type": "code",
   "execution_count": null,
   "outputs": [],
   "source": [
    "# Calculate the proportions of each language\n",
    "ins12 = ins12.replace('', pd.NA).dropna(subset=['language_detect'], how='all')\n",
    "language_counts = ins12['language_detect'].value_counts()\n",
    "\n",
    "# Create a bar plot\n",
    "plt.figure(figsize=(10, 6))\n",
    "language_counts.plot(kind='bar', color = ('skyblue','orange'))\n",
    "plt.title('Language Distribution')\n",
    "plt.xlabel('Language')\n",
    "plt.ylabel('Count')\n",
    "plt.show()"
   ],
   "metadata": {
    "collapsed": false
   },
   "id": "21c7bc9a300abc77"
  },
  {
   "cell_type": "code",
   "execution_count": null,
   "outputs": [],
   "source": [
    "# Calculate the proportions of each language\n",
    "ins13 = ins13.replace('', pd.NA).dropna(subset=['language_detect'], how='all')\n",
    "language_counts = ins13['language_detect'].value_counts()\n",
    "\n",
    "# Create a bar plot\n",
    "plt.figure(figsize=(10, 6))\n",
    "language_counts.plot(kind='bar', color = ('skyblue','orange'))\n",
    "plt.title('Language Distribution')\n",
    "plt.xlabel('Language')\n",
    "plt.ylabel('Count')\n",
    "plt.show()"
   ],
   "metadata": {
    "collapsed": false
   },
   "id": "1bc7c470c4b47b28"
  },
  {
   "cell_type": "code",
   "execution_count": null,
   "outputs": [],
   "source": [
    "# Calculate the proportions of each language\n",
    "ttall = ttall.replace('', pd.NA).dropna(subset=['language_detect'], how='all')\n",
    "language_counts = ttall['language_detect'].value_counts()\n",
    "\n",
    "# Create a bar plot\n",
    "plt.figure(figsize=(10, 6))\n",
    "language_counts.plot(kind='bar', color = ('skyblue','orange'))\n",
    "plt.title('Language Distribution')\n",
    "plt.xlabel('Language')\n",
    "plt.ylabel('Count')\n",
    "plt.show()"
   ],
   "metadata": {
    "collapsed": false
   },
   "id": "f0307b87a32058d7"
  },
  {
   "cell_type": "code",
   "execution_count": null,
   "outputs": [],
   "source": [
    "# Calculate the proportions of each language\n",
    "dftt = dftt.replace('', pd.NA).dropna(subset=['language_detect'], how='all')\n",
    "language_counts = dftt['language_detect'].value_counts()\n",
    "\n",
    "# Create a bar plot\n",
    "plt.figure(figsize=(10, 6))\n",
    "language_counts.plot(kind='bar', color = ('skyblue','orange'))\n",
    "plt.title('Language Distribution')\n",
    "plt.xlabel('Language')\n",
    "plt.ylabel('Count')\n",
    "plt.show()"
   ],
   "metadata": {
    "collapsed": false
   },
   "id": "a9192f0a74edbbae"
  },
  {
   "cell_type": "code",
   "execution_count": null,
   "outputs": [],
   "source": [
    "# Calculate the proportions of each language\n",
    "tt23 = tt23.replace('', pd.NA).dropna(subset=['language_detect'], how='all')\n",
    "language_counts = tt23['language_detect'].value_counts()\n",
    "\n",
    "# Create a bar plot\n",
    "plt.figure(figsize=(10, 6))\n",
    "language_counts.plot(kind='bar', color=('skyblue','orange'))\n",
    "plt.title('Language Distribution')\n",
    "plt.xlabel('Language')\n",
    "plt.ylabel('Count')\n",
    "plt.show()"
   ],
   "metadata": {
    "collapsed": false
   },
   "id": "e1ad8b4f80ff67f5"
  },
  {
   "cell_type": "code",
   "execution_count": null,
   "outputs": [],
   "source": [
    "# Calculate the proportions of each language\n",
    "tt21 = tt21.replace('', pd.NA).dropna(subset=['language_detect'], how='all')\n",
    "language_counts = tt21['language_detect'].value_counts()\n",
    "\n",
    "# Create a bar plot\n",
    "plt.figure(figsize=(10, 6))\n",
    "language_counts.plot(kind='bar', color = ('skyblue','orange'))\n",
    "plt.title('Language Distribution')\n",
    "plt.xlabel('Language')\n",
    "plt.ylabel('Count')\n",
    "plt.show()"
   ],
   "metadata": {
    "collapsed": false
   },
   "id": "f0bdad99364c0503"
  },
  {
   "cell_type": "code",
   "execution_count": null,
   "outputs": [],
   "source": [
    "# Calculate the proportions of each language\n",
    "dfyt = dfyt.replace('', pd.NA).dropna(subset=['language_detect'], how='all')\n",
    "language_counts = dfyt['language_detect'].value_counts()\n",
    "\n",
    "# Create a bar plot\n",
    "plt.figure(figsize=(10, 6))\n",
    "language_counts.plot(kind='bar', color = ('skyblue','orange'))\n",
    "plt.title('Language Distribution')\n",
    "plt.xlabel('Language')\n",
    "plt.ylabel('Count')\n",
    "plt.show()"
   ],
   "metadata": {
    "collapsed": false
   },
   "id": "72152b9d26176a9"
  },
  {
   "cell_type": "code",
   "execution_count": null,
   "outputs": [],
   "source": [
    "# Calculate the proportions of each language\n",
    "ytall = ytall.replace('', pd.NA).dropna(subset=['language_detect'], how='all')\n",
    "language_counts = ytall['language_detect'].value_counts()\n",
    "\n",
    "# Create a bar plot\n",
    "plt.figure(figsize=(10, 6))\n",
    "language_counts.plot(kind='bar', color = ('skyblue','orange'))\n",
    "plt.title('Language Distribution')\n",
    "plt.xlabel('Language')\n",
    "plt.ylabel('Count')\n",
    "plt.show()"
   ],
   "metadata": {
    "collapsed": false
   },
   "id": "95e7b0d6d21d9822"
  },
  {
   "cell_type": "code",
   "execution_count": null,
   "outputs": [],
   "source": [
    "# Calculate the proportions of each language\n",
    "yt31 = yt31.replace('', pd.NA).dropna(subset=['language_detect'], how='all')\n",
    "language_counts = yt31['language_detect'].value_counts()\n",
    "\n",
    "# Create a bar plot\n",
    "plt.figure(figsize=(10, 6))\n",
    "language_counts.plot(kind='bar', color = ('skyblue','orange'))\n",
    "plt.title('Language Distribution')\n",
    "plt.xlabel('Language')\n",
    "plt.ylabel('Count')\n",
    "plt.show()"
   ],
   "metadata": {
    "collapsed": false
   },
   "id": "c97f36a15634a281"
  },
  {
   "cell_type": "code",
   "execution_count": null,
   "outputs": [],
   "source": [
    "# Calculate the proportions of each language\n",
    "yt32 = yt32.replace('', pd.NA).dropna(subset=['language_detect'], how='all')\n",
    "language_counts = yt32['language_detect'].value_counts()\n",
    "\n",
    "# Create a bar plot\n",
    "plt.figure(figsize=(10, 6))\n",
    "language_counts.plot(kind='bar', color = ('skyblue','orange'))\n",
    "plt.title('Language Distribution')\n",
    "plt.xlabel('Language')\n",
    "plt.ylabel('Count')\n",
    "plt.show()"
   ],
   "metadata": {
    "collapsed": false
   },
   "id": "77fe40d5ff30c1a9"
  },
  {
   "cell_type": "code",
   "execution_count": null,
   "outputs": [],
   "source": [
    "# Calculate the time between posts for influencers\n",
    "timediffins = pd.DataFrame({\n",
    "    \"Username\": list(insinf),\n",
    "    'Time Difference': [dfins[dfins['username'] == username]['date'].sort_values().diff().mean() for username in insinf]\n",
    "})\n",
    "\n",
    "timedifftt = pd.DataFrame({\n",
    "    \"Username\": list(ttinf),\n",
    "    'Time Difference': [dftt[dftt['username'] == username]['create_time'].sort_values().diff().mean() for username in ttinf]\n",
    "})\n",
    "\n",
    "timediffyt = pd.DataFrame({\n",
    "    \"Username\": list(ytinf),\n",
    "    'Time Difference': [dfyt[dfyt['channel_title'] == username]['published_at_video'].sort_values().diff().mean() for username in ytinf]\n",
    "})"
   ],
   "metadata": {
    "collapsed": false
   },
   "id": "634aa5c5cd3f66ba"
  },
  {
   "cell_type": "code",
   "execution_count": null,
   "outputs": [],
   "source": [
    "\n",
    "# Combine the data into a list of arrays\n",
    "data_to_plot = [\n",
    "    timediffyt[\"Time Difference\"].dt.total_seconds().dropna() / (60 * 60 * 24),\n",
    "    timedifftt[\"Time Difference\"].dt.total_seconds().dropna() / (60 * 60 * 24),\n",
    "    timediffins[\"Time Difference\"].dt.total_seconds().dropna() / (60 * 60 * 24)\n",
    "]\n",
    "\n",
    "# Create a boxplot for all the data\n",
    "plt.figure(figsize=(10, 6))\n",
    "plt.boxplot(data_to_plot, labels=['YouTube', 'TikTok', 'Instagram'])\n",
    "\n",
    "# Customize the plot\n",
    "plt.title('Time Between Postings')\n",
    "plt.xlabel('Data Source')\n",
    "plt.ylabel('Days')\n",
    "plt.ylim(0, 200)\n",
    "plt.xticks(rotation=45)\n",
    "\n",
    "# Show the plot\n",
    "plt.show()"
   ],
   "metadata": {
    "collapsed": false
   },
   "id": "d1285f4846931264"
  },
  {
   "cell_type": "code",
   "execution_count": null,
   "outputs": [],
   "source": [
    "timediffinsEN = pd.DataFrame({\n",
    "    \"Username\": list(insinf),\n",
    "    'Time Difference': [\n",
    "        dfins[(dfins['username'] == username) & (dfins['language_detect'] == 'Language.ENGLISH')]['date']\n",
    "        .sort_values()\n",
    "        .diff()\n",
    "        .mean()\n",
    "        for username in insinf\n",
    "    ]\n",
    "})\n",
    "timediffinsDU = pd.DataFrame({\n",
    "    \"Username\": list(insinf),\n",
    "    'Time Difference': [\n",
    "        dfins[(dfins['username'] == username) & (dfins['language_detect'] == 'Language.DUTCH')]['date']\n",
    "        .sort_values()\n",
    "        .diff()\n",
    "        .mean()\n",
    "        for username in insinf\n",
    "    ]\n",
    "})\n",
    "\n",
    "\n",
    "timediffttEN = pd.DataFrame({\n",
    "    \"Username\": list(ttinf),\n",
    "    'Time Difference': [\n",
    "        dftt[(dfins['username'] == username) & (dftt['language_detect'] == 'Language.ENGLISH')]['create_time']\n",
    "        .sort_values()\n",
    "        .diff()\n",
    "        .mean()\n",
    "        for username in ttinf\n",
    "    ]\n",
    "})\n",
    "timediffttDU = pd.DataFrame({\n",
    "    \"Username\": list(ttinf),\n",
    "    'Time Difference': [\n",
    "        dftt[(dftt['username'] == username) & (dftt['language_detect'] == 'Language.DUTCH')]['create_time']\n",
    "        .sort_values()\n",
    "        .diff()\n",
    "        .mean()\n",
    "        for username in ttinf\n",
    "    ]\n",
    "})\n",
    "\n",
    "\n",
    "timediffytEN = pd.DataFrame({\n",
    "    \"Username\": list(ytinf),\n",
    "    'Time Difference': [\n",
    "        dfyt[(dfyt['channel_title'] == username) & (dfyt['language_detect'] == 'Language.ENGLISH')]['published_at_video']\n",
    "        .sort_values()\n",
    "        .diff()\n",
    "        .mean()\n",
    "        for username in ytinf\n",
    "    ]\n",
    "})\n",
    "timediffytDU = pd.DataFrame({\n",
    "    \"Username\": list(ytinf),\n",
    "    'Time Difference': [\n",
    "        dfyt[(dfyt['channel_title'] == username) & (dfyt['language_detect'] == 'Language.DUTCH')]['published_at_video']\n",
    "        .sort_values()\n",
    "        .diff()\n",
    "        .mean()\n",
    "        for username in ytinf\n",
    "    ]\n",
    "})"
   ],
   "metadata": {
    "collapsed": false
   },
   "id": "f845f2988b149c65"
  },
  {
   "cell_type": "code",
   "execution_count": null,
   "outputs": [],
   "source": [
    "\n",
    "# Combine the data into a list of arrays\n",
    "data_to_plot = [\n",
    "    timediffinsEN[\"Time Difference\"].dt.total_seconds().dropna() / (60 * 60 * 24),\n",
    "    timediffinsDU[\"Time Difference\"].dt.total_seconds().dropna() / (60 * 60 * 24),\n",
    "]\n",
    "\n",
    "# Create a boxplot for all the data\n",
    "plt.figure(figsize=(10, 6))\n",
    "plt.boxplot(data_to_plot, labels=['English', 'Dutch'])\n",
    "\n",
    "# Customize the plot\n",
    "plt.title('Time Between Postings')\n",
    "plt.xlabel('Data Source')\n",
    "plt.ylabel('Days')\n",
    "plt.ylim(0, 200)\n",
    "plt.xticks(rotation=45)\n",
    "\n",
    "# Show the plot\n",
    "plt.show()"
   ],
   "metadata": {
    "collapsed": false
   },
   "id": "107ea3ccf09a18eb"
  },
  {
   "cell_type": "code",
   "execution_count": null,
   "outputs": [],
   "source": [
    "# Combine the data into a list of arrays\n",
    "data_to_plot = [\n",
    "    timediffttEN[\"Time Difference\"].dt.total_seconds().dropna() / (60 * 60 * 24),\n",
    "    timediffttDU[\"Time Difference\"].dt.total_seconds().dropna() / (60 * 60 * 24),\n",
    "]\n",
    "\n",
    "# Create a boxplot for all the data\n",
    "plt.figure(figsize=(10, 6))\n",
    "plt.boxplot(data_to_plot, labels=['English', 'Dutch'])\n",
    "\n",
    "# Customize the plot\n",
    "plt.title('Time Between Postings')\n",
    "plt.xlabel('Data Source')\n",
    "plt.ylabel('Days')\n",
    "plt.ylim(0, 200)\n",
    "plt.xticks(rotation=45)\n",
    "\n",
    "# Show the plot\n",
    "plt.show()"
   ],
   "metadata": {
    "collapsed": false
   },
   "id": "b3b59285bda8ffb0"
  },
  {
   "cell_type": "code",
   "execution_count": null,
   "outputs": [],
   "source": [
    "dfins_en = dfins[dfins['language_detect'] == 'Language.ENGLISH']\n",
    "dfins_nl = dfins[dfins['language_detect'] == 'Language.DUTCH']\n",
    "dfyt_nl = dfyt[dfyt['language_detect'] == 'Language.DUTCH']\n",
    "dfyt_en = dfyt[dfyt['language_detect'] == 'Language.ENGLISH']\n",
    "dftt_en = dftt[dftt['language_detect'] == 'Language.ENGLISH']\n",
    "dftt_nl = dftt[dftt['language_detect'] == 'Language.DUTCH']"
   ],
   "metadata": {
    "collapsed": false
   },
   "id": "abe7737d49f9df6d"
  },
  {
   "cell_type": "markdown",
   "source": [],
   "metadata": {
    "collapsed": false
   },
   "id": "14eb7fcc9f665fc1"
  },
  {
   "cell_type": "markdown",
   "source": [
    "### Network for English Instagram"
   ],
   "metadata": {
    "collapsed": false
   },
   "id": "357d200b43327329"
  },
  {
   "cell_type": "code",
   "execution_count": null,
   "outputs": [],
   "source": [
    "dfins_en[\"caption_hashtags\"] = dfins_en[\"caption_hashtags\"].apply(lambda x: ast.literal_eval(x) if x else \"\")\n",
    "dfinshas_en = dfins_en[dfins_en[\"caption_hashtags\"].apply(lambda x: bool(x))].reset_index(drop=True)"
   ],
   "metadata": {
    "collapsed": false
   },
   "id": "f34990d924ba2f2b"
  },
  {
   "cell_type": "code",
   "execution_count": null,
   "outputs": [],
   "source": [
    "G_en = nx.Graph()\n",
    "for words_list in dfinshas_en['caption_hashtags']:\n",
    "    G_en.add_edges_from([(word1, word2) for i, word1 in enumerate(words_list) for j, word2 in enumerate(words_list) if i < j])"
   ],
   "metadata": {
    "collapsed": false
   },
   "id": "4057ecee680af017"
  },
  {
   "cell_type": "code",
   "execution_count": null,
   "outputs": [],
   "source": [
    "k_value = 0.2  # You can adjust this value to control the repulsion\n",
    "pos = nx.spring_layout(G_en, k=k_value)\n",
    "\n",
    "# Draw the graph with specified layout\n",
    "nx.draw(G_en,pos, with_labels=False, node_size=2, edge_color='grey', width=0.1, alpha=0.7)"
   ],
   "metadata": {
    "collapsed": false
   },
   "id": "d401d5a3c4ccfc64"
  },
  {
   "cell_type": "markdown",
   "source": [
    "### Network for Dutch Instagram"
   ],
   "metadata": {
    "collapsed": false
   },
   "id": "788be2b34c1614a8"
  },
  {
   "cell_type": "code",
   "execution_count": null,
   "outputs": [],
   "source": [
    "dfins_nl[\"caption_hashtags\"] = dfins_nl[\"caption_hashtags\"].apply(lambda x: ast.literal_eval(x) if x else \"\")\n",
    "dfinshas_nl = dfins_nl[dfins_nl[\"caption_hashtags\"].apply(lambda x: bool(x))].reset_index(drop=True)"
   ],
   "metadata": {
    "collapsed": false
   },
   "id": "859ce882aab82016"
  },
  {
   "cell_type": "code",
   "execution_count": null,
   "outputs": [],
   "source": [
    "G_nl = nx.Graph()\n",
    "for words_list in dfinshas_nl['caption_hashtags']:\n",
    "    G_nl.add_edges_from([(word1, word2) for i, word1 in enumerate(words_list) for j, word2 in enumerate(words_list) if i < j])"
   ],
   "metadata": {
    "collapsed": false
   },
   "id": "738099b5cc4c091b"
  },
  {
   "cell_type": "code",
   "execution_count": null,
   "outputs": [],
   "source": [
    "k_value = 0.2  # You can adjust this value to control the repulsion\n",
    "pos = nx.spring_layout(G_nl, k=k_value)\n",
    "\n",
    "# Draw the graph with specified layout\n",
    "nx.draw(G_nl,pos, with_labels=False, node_size=2, edge_color='grey', width=0.1, alpha=0.7)"
   ],
   "metadata": {
    "collapsed": false
   },
   "id": "e79b677554daddc2"
  },
  {
   "cell_type": "markdown",
   "source": [
    "### Network for English TikTok"
   ],
   "metadata": {
    "collapsed": false
   },
   "id": "628e3f1bc5641235"
  },
  {
   "cell_type": "code",
   "execution_count": null,
   "outputs": [],
   "source": [
    "dftt_en[\"hashtag_names\"] = dftt_en[\"hashtag_names\"].apply(lambda x: ast.literal_eval(x) if x else \"\")\n",
    "dftthas_en = dftt_en[dftt_en[\"hashtag_names\"].apply(lambda x: bool(x))].reset_index(drop=True)"
   ],
   "metadata": {
    "collapsed": false
   },
   "id": "fb950d151dda9f07"
  },
  {
   "cell_type": "code",
   "execution_count": null,
   "outputs": [],
   "source": [
    "G_en = nx.Graph()\n",
    "for words_list in dftthas_en['hashtag_names']:\n",
    "    G_en.add_edges_from([(word1, word2) for i, word1 in enumerate(words_list) for j, word2 in enumerate(words_list) if i < j])"
   ],
   "metadata": {
    "collapsed": false
   },
   "id": "3858d0a407d10207"
  },
  {
   "cell_type": "code",
   "execution_count": null,
   "outputs": [],
   "source": [
    "k_value = 0.2  # You can adjust this value to control the repulsion\n",
    "pos = nx.spring_layout(G_en, k=k_value)\n",
    "\n",
    "# Draw the graph with specified layout\n",
    "nx.draw(G_en,pos, with_labels=False, node_size=2, edge_color='grey', width=0.1, alpha=0.7)"
   ],
   "metadata": {
    "collapsed": false
   },
   "id": "17a1eb8e9e5c54b9"
  },
  {
   "cell_type": "markdown",
   "source": [
    "### Network for Dutch TikTok"
   ],
   "metadata": {
    "collapsed": false
   },
   "id": "aed66ef108d0dd34"
  },
  {
   "cell_type": "code",
   "execution_count": null,
   "outputs": [],
   "source": [
    "dftt_nl[\"hashtag_names\"] = dftt_nl[\"hashtag_names\"].apply(lambda x: ast.literal_eval(x) if x else \"\")\n",
    "dftthas_nl = dftt_nl[dftt_nl[\"hashtag_names\"].apply(lambda x: bool(x))].reset_index(drop=True)"
   ],
   "metadata": {
    "collapsed": false
   },
   "id": "fc5798fa3932de28"
  },
  {
   "cell_type": "code",
   "execution_count": null,
   "outputs": [],
   "source": [
    "G_nl = nx.Graph()\n",
    "for words_list in dftthas_nl['hashtag_names']:\n",
    "    G_nl.add_edges_from([(word1, word2) for i, word1 in enumerate(words_list) for j, word2 in enumerate(words_list) if i < j])"
   ],
   "metadata": {
    "collapsed": false
   },
   "id": "e78de4220e199685"
  },
  {
   "cell_type": "code",
   "execution_count": null,
   "outputs": [],
   "source": [
    "k_value = 0.2  # You can adjust this value to control the repulsion\n",
    "pos = nx.spring_layout(G_nl, k=k_value)\n",
    "\n",
    "# Draw the graph with specified layout\n",
    "nx.draw(G_nl,pos, with_labels=False, node_size=2, edge_color='grey', width=0.1, alpha=0.7)"
   ],
   "metadata": {
    "collapsed": false
   },
   "id": "b64890bc8e5f00bf"
  },
  {
   "cell_type": "markdown",
   "source": [
    "### Network for English YouTube"
   ],
   "metadata": {
    "collapsed": false
   },
   "id": "86c3b2aeff6b808a"
  },
  {
   "cell_type": "code",
   "execution_count": null,
   "outputs": [],
   "source": [
    "# Convert string representations of tags into lists\n",
    "dfyt_en[\"tags\"] = dfyt_en[\"tags\"].apply(lambda x: [tag.strip() for tag in x.split(\",\")] if x else [])\n",
    "\n",
    "# Filter out rows where the \"tags\" column is empty\n",
    "dfythas_en = dfyt_en[dfyt_en[\"tags\"].apply(lambda x: bool(x))].reset_index(drop=True)"
   ],
   "metadata": {
    "collapsed": false
   },
   "id": "e000946f7b563c66"
  },
  {
   "cell_type": "code",
   "execution_count": null,
   "outputs": [],
   "source": [
    "G_en = nx.Graph()\n",
    "for words_list in dfythas_en['tags']:\n",
    "    G_en.add_edges_from([(word1, word2) for i, word1 in enumerate(words_list) for j, word2 in enumerate(words_list) if i < j])"
   ],
   "metadata": {
    "collapsed": false
   },
   "id": "7d56d03c4342e028"
  },
  {
   "cell_type": "code",
   "execution_count": null,
   "outputs": [],
   "source": [
    "k_value = 0.2  # You can adjust this value to control the repulsion\n",
    "pos = nx.spring_layout(G_en, k=k_value)\n",
    "\n",
    "# Draw the graph with specified layout\n",
    "nx.draw(G_en,pos, with_labels=False, node_size=2, edge_color='grey', width=0.1, alpha=0.7)"
   ],
   "metadata": {
    "collapsed": false
   },
   "id": "3328016029cc02e8"
  },
  {
   "cell_type": "markdown",
   "source": [
    "### Network for Dutch YouTube"
   ],
   "metadata": {
    "collapsed": false
   },
   "id": "af9ade2cf30a2737"
  },
  {
   "cell_type": "code",
   "execution_count": null,
   "outputs": [],
   "source": [
    "# Convert string representations of tags into lists\n",
    "dfyt_nl[\"tags\"] = dfyt_nl[\"tags\"].apply(lambda x: [tag.strip() for tag in x.split(\",\")] if x else [])\n",
    "\n",
    "# Filter out rows where the \"tags\" column is empty\n",
    "dfythas_nl = dfyt_nl[dfyt_nl[\"tags\"].apply(lambda x: bool(x))].reset_index(drop=True)"
   ],
   "metadata": {
    "collapsed": false
   },
   "id": "3015492a1606426d"
  },
  {
   "cell_type": "code",
   "execution_count": null,
   "outputs": [],
   "source": [
    "G_nl = nx.Graph()\n",
    "for words_list in dfythas_nl['tags']:\n",
    "    G_nl.add_edges_from([(word1, word2) for i, word1 in enumerate(words_list) for j, word2 in enumerate(words_list) if i < j])"
   ],
   "metadata": {
    "collapsed": false
   },
   "id": "61ff3c3dc8df1a2e"
  },
  {
   "cell_type": "code",
   "execution_count": null,
   "outputs": [],
   "source": [
    "k_value = 0.2  # You can adjust this value to control the repulsion\n",
    "pos = nx.spring_layout(G_nl, k=k_value)\n",
    "\n",
    "# Draw the graph with specified layout\n",
    "nx.draw(G_nl,pos, with_labels=False, node_size=2, edge_color='grey', width=0.1, alpha=0.7)"
   ],
   "metadata": {
    "collapsed": false
   },
   "id": "21a59046b3bc69af"
  }
 ],
 "metadata": {
  "kernelspec": {
   "display_name": "Python 3",
   "language": "python",
   "name": "python3"
  },
  "language_info": {
   "codemirror_mode": {
    "name": "ipython",
    "version": 2
   },
   "file_extension": ".py",
   "mimetype": "text/x-python",
   "name": "python",
   "nbconvert_exporter": "python",
   "pygments_lexer": "ipython2",
   "version": "2.7.6"
  }
 },
 "nbformat": 4,
 "nbformat_minor": 5
}
